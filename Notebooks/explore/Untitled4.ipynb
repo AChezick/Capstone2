{
 "cells": [
  {
   "cell_type": "code",
   "execution_count": 1,
   "metadata": {},
   "outputs": [],
   "source": [
    "import pandas as pd \n",
    "import numpy as np \n",
    "import matplotlib.pyplot as plt\n",
    "\n",
    "pd.set_option('display.max_columns', None) "
   ]
  },
  {
   "cell_type": "code",
   "execution_count": 4,
   "metadata": {},
   "outputs": [],
   "source": [
    "hc = pd.read_csv('/home/allen/Galva/capstones/capstone2/data/Train/Health_Camp_Detail.csv')\n"
   ]
  },
  {
   "cell_type": "code",
   "execution_count": 5,
   "metadata": {},
   "outputs": [
    {
     "data": {
      "text/html": [
       "<div>\n",
       "<style scoped>\n",
       "    .dataframe tbody tr th:only-of-type {\n",
       "        vertical-align: middle;\n",
       "    }\n",
       "\n",
       "    .dataframe tbody tr th {\n",
       "        vertical-align: top;\n",
       "    }\n",
       "\n",
       "    .dataframe thead th {\n",
       "        text-align: right;\n",
       "    }\n",
       "</style>\n",
       "<table border=\"1\" class=\"dataframe\">\n",
       "  <thead>\n",
       "    <tr style=\"text-align: right;\">\n",
       "      <th></th>\n",
       "      <th>Health_Camp_ID</th>\n",
       "      <th>Camp_Start_Date</th>\n",
       "      <th>Camp_End_Date</th>\n",
       "      <th>Category1</th>\n",
       "      <th>Category2</th>\n",
       "      <th>Category3</th>\n",
       "    </tr>\n",
       "  </thead>\n",
       "  <tbody>\n",
       "    <tr>\n",
       "      <th>0</th>\n",
       "      <td>6560</td>\n",
       "      <td>16-Aug-03</td>\n",
       "      <td>20-Aug-03</td>\n",
       "      <td>First</td>\n",
       "      <td>B</td>\n",
       "      <td>2</td>\n",
       "    </tr>\n",
       "    <tr>\n",
       "      <th>1</th>\n",
       "      <td>6530</td>\n",
       "      <td>16-Aug-03</td>\n",
       "      <td>28-Oct-03</td>\n",
       "      <td>First</td>\n",
       "      <td>C</td>\n",
       "      <td>2</td>\n",
       "    </tr>\n",
       "    <tr>\n",
       "      <th>2</th>\n",
       "      <td>6544</td>\n",
       "      <td>03-Nov-03</td>\n",
       "      <td>15-Nov-03</td>\n",
       "      <td>First</td>\n",
       "      <td>F</td>\n",
       "      <td>1</td>\n",
       "    </tr>\n",
       "    <tr>\n",
       "      <th>3</th>\n",
       "      <td>6585</td>\n",
       "      <td>22-Nov-03</td>\n",
       "      <td>05-Dec-03</td>\n",
       "      <td>First</td>\n",
       "      <td>E</td>\n",
       "      <td>2</td>\n",
       "    </tr>\n",
       "    <tr>\n",
       "      <th>4</th>\n",
       "      <td>6561</td>\n",
       "      <td>30-Nov-03</td>\n",
       "      <td>18-Dec-03</td>\n",
       "      <td>First</td>\n",
       "      <td>E</td>\n",
       "      <td>1</td>\n",
       "    </tr>\n",
       "    <tr>\n",
       "      <th>...</th>\n",
       "      <td>...</td>\n",
       "      <td>...</td>\n",
       "      <td>...</td>\n",
       "      <td>...</td>\n",
       "      <td>...</td>\n",
       "      <td>...</td>\n",
       "    </tr>\n",
       "    <tr>\n",
       "      <th>60</th>\n",
       "      <td>6556</td>\n",
       "      <td>09-Nov-06</td>\n",
       "      <td>15-Dec-06</td>\n",
       "      <td>First</td>\n",
       "      <td>E</td>\n",
       "      <td>2</td>\n",
       "    </tr>\n",
       "    <tr>\n",
       "      <th>61</th>\n",
       "      <td>6551</td>\n",
       "      <td>13-Nov-06</td>\n",
       "      <td>18-Nov-06</td>\n",
       "      <td>Second</td>\n",
       "      <td>D</td>\n",
       "      <td>2</td>\n",
       "    </tr>\n",
       "    <tr>\n",
       "      <th>62</th>\n",
       "      <td>6559</td>\n",
       "      <td>11-Dec-06</td>\n",
       "      <td>12-Mar-07</td>\n",
       "      <td>First</td>\n",
       "      <td>F</td>\n",
       "      <td>2</td>\n",
       "    </tr>\n",
       "    <tr>\n",
       "      <th>63</th>\n",
       "      <td>6567</td>\n",
       "      <td>30-Jan-07</td>\n",
       "      <td>04-Feb-07</td>\n",
       "      <td>Second</td>\n",
       "      <td>D</td>\n",
       "      <td>2</td>\n",
       "    </tr>\n",
       "    <tr>\n",
       "      <th>64</th>\n",
       "      <td>6577</td>\n",
       "      <td>30-Jan-07</td>\n",
       "      <td>08-Mar-07</td>\n",
       "      <td>Third</td>\n",
       "      <td>G</td>\n",
       "      <td>2</td>\n",
       "    </tr>\n",
       "  </tbody>\n",
       "</table>\n",
       "<p>65 rows × 6 columns</p>\n",
       "</div>"
      ],
      "text/plain": [
       "    Health_Camp_ID Camp_Start_Date Camp_End_Date Category1 Category2  \\\n",
       "0             6560       16-Aug-03     20-Aug-03     First         B   \n",
       "1             6530       16-Aug-03     28-Oct-03     First         C   \n",
       "2             6544       03-Nov-03     15-Nov-03     First         F   \n",
       "3             6585       22-Nov-03     05-Dec-03     First         E   \n",
       "4             6561       30-Nov-03     18-Dec-03     First         E   \n",
       "..             ...             ...           ...       ...       ...   \n",
       "60            6556       09-Nov-06     15-Dec-06     First         E   \n",
       "61            6551       13-Nov-06     18-Nov-06    Second         D   \n",
       "62            6559       11-Dec-06     12-Mar-07     First         F   \n",
       "63            6567       30-Jan-07     04-Feb-07    Second         D   \n",
       "64            6577       30-Jan-07     08-Mar-07     Third         G   \n",
       "\n",
       "    Category3  \n",
       "0           2  \n",
       "1           2  \n",
       "2           1  \n",
       "3           2  \n",
       "4           1  \n",
       "..        ...  \n",
       "60          2  \n",
       "61          2  \n",
       "62          2  \n",
       "63          2  \n",
       "64          2  \n",
       "\n",
       "[65 rows x 6 columns]"
      ]
     },
     "execution_count": 5,
     "metadata": {},
     "output_type": "execute_result"
    }
   ],
   "source": [
    "hc"
   ]
  },
  {
   "cell_type": "code",
   "execution_count": 8,
   "metadata": {},
   "outputs": [
    {
     "data": {
      "text/plain": [
       "array(['First', 'First', 'First', 'First', 'First', 'First', 'First',\n",
       "       'First', 'First', 'First', 'First', 'First', 'First', 'First',\n",
       "       'First', 'First', 'First', 'First', 'First', 'First', 'First',\n",
       "       'First', 'First', 'First', 'Second', 'First', 'First', 'Second',\n",
       "       'First', 'Third', 'First', 'Second', 'First', 'First', 'Third',\n",
       "       'Second', 'First', 'First', 'First', 'First', 'Second', 'Third',\n",
       "       'Third', 'Second', 'First', 'First', 'First', 'First', 'Third',\n",
       "       'Third', 'First', 'Second', 'Second', 'First', 'Third', 'First',\n",
       "       'First', 'Second', 'Third', 'Third', 'First', 'Second', 'First',\n",
       "       'Second', 'Third'], dtype=object)"
      ]
     },
     "execution_count": 8,
     "metadata": {},
     "output_type": "execute_result"
    }
   ],
   "source": [
    "hc['Category1'].values"
   ]
  },
  {
   "cell_type": "code",
   "execution_count": 9,
   "metadata": {},
   "outputs": [
    {
     "data": {
      "text/plain": [
       "array(['B', 'C', 'F', 'E', 'E', 'F', 'C', 'C', 'F', 'E', 'E', 'C', 'C',\n",
       "       'C', 'F', 'C', 'C', 'C', 'E', 'E', 'F', 'C', 'E', 'E', 'D', 'F',\n",
       "       'F', 'D', 'C', 'G', 'B', 'A', 'E', 'E', 'G', 'A', 'F', 'F', 'E',\n",
       "       'C', 'A', 'G', 'G', 'A', 'C', 'F', 'C', 'E', 'G', 'G', 'C', 'A',\n",
       "       'A', 'E', 'G', 'E', 'C', 'A', 'G', 'G', 'E', 'D', 'F', 'D', 'G'],\n",
       "      dtype=object)"
      ]
     },
     "execution_count": 9,
     "metadata": {},
     "output_type": "execute_result"
    }
   ],
   "source": [
    "hc['Category2'].values"
   ]
  },
  {
   "cell_type": "code",
   "execution_count": 10,
   "metadata": {},
   "outputs": [
    {
     "data": {
      "text/plain": [
       "array([2, 2, 1, 2, 1, 2, 2, 2, 2, 2, 2, 2, 2, 2, 2, 2, 2, 2, 2, 2, 2, 2,\n",
       "       2, 2, 2, 2, 2, 2, 2, 2, 2, 2, 2, 1, 2, 2, 2, 2, 2, 2, 2, 2, 2, 2,\n",
       "       2, 2, 2, 2, 2, 2, 2, 2, 2, 2, 2, 2, 2, 2, 2, 2, 2, 2, 2, 2, 2])"
      ]
     },
     "execution_count": 10,
     "metadata": {},
     "output_type": "execute_result"
    }
   ],
   "source": [
    "hc['Category3'].values"
   ]
  },
  {
   "cell_type": "code",
   "execution_count": null,
   "metadata": {},
   "outputs": [],
   "source": []
  }
 ],
 "metadata": {
  "kernelspec": {
   "display_name": "Python 3",
   "language": "python",
   "name": "python3"
  },
  "language_info": {
   "codemirror_mode": {
    "name": "ipython",
    "version": 3
   },
   "file_extension": ".py",
   "mimetype": "text/x-python",
   "name": "python",
   "nbconvert_exporter": "python",
   "pygments_lexer": "ipython3",
   "version": "3.8.2"
  }
 },
 "nbformat": 4,
 "nbformat_minor": 4
}
