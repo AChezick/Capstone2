{
 "cells": [
  {
   "cell_type": "code",
   "execution_count": 1,
   "id": "09ebf6b2",
   "metadata": {},
   "outputs": [],
   "source": [
    "import sqlite3\n",
    "import pandas as pd\n",
    "# from pathlib import Path\n",
    "# Path('linkd.db').touch()"
   ]
  },
  {
   "cell_type": "code",
   "execution_count": 2,
   "id": "5bd60961",
   "metadata": {},
   "outputs": [],
   "source": [
    "conn = sqlite3.connect('/home/allen/Downloads/SQL/sql_data_for_assessments/world.db')\n",
    "c = conn.cursor()"
   ]
  },
  {
   "cell_type": "code",
   "execution_count": 3,
   "id": "a17cffdc",
   "metadata": {
    "scrolled": true
   },
   "outputs": [],
   "source": [
    "#c.execute(\"SELECT * FROM customers \").fetchall()"
   ]
  },
  {
   "cell_type": "code",
   "execution_count": 5,
   "id": "c331d6e0",
   "metadata": {},
   "outputs": [
    {
     "data": {
      "text/plain": [
       "[]"
      ]
     },
     "execution_count": 5,
     "metadata": {},
     "output_type": "execute_result"
    }
   ],
   "source": [
    "c.execute(\"SELECT name FROM sqlite_master WHERE type = 'table'\").fetchall()"
   ]
  },
  {
   "cell_type": "code",
   "execution_count": null,
   "id": "30b8a750",
   "metadata": {},
   "outputs": [],
   "source": [
    " "
   ]
  },
  {
   "cell_type": "code",
   "execution_count": 7,
   "id": "6859575a",
   "metadata": {},
   "outputs": [],
   "source": [
    "conn2 = sqlite3.connect(\"/home/allen/Downloads/SQL/Ex_Files_SQL_Code_Challenges/Exercise Files/Ch01/resturant.db\")\n",
    "c2 = conn2.cursor()"
   ]
  },
  {
   "cell_type": "code",
   "execution_count": null,
   "id": "7ba5ef3c",
   "metadata": {},
   "outputs": [],
   "source": [
    "c2.ex"
   ]
  }
 ],
 "metadata": {
  "kernelspec": {
   "display_name": "Python 3",
   "language": "python",
   "name": "python3"
  },
  "language_info": {
   "codemirror_mode": {
    "name": "ipython",
    "version": 3
   },
   "file_extension": ".py",
   "mimetype": "text/x-python",
   "name": "python",
   "nbconvert_exporter": "python",
   "pygments_lexer": "ipython3",
   "version": "3.8.2"
  }
 },
 "nbformat": 4,
 "nbformat_minor": 5
}
