{
 "cells": [
  {
   "cell_type": "code",
   "execution_count": 1,
   "metadata": {},
   "outputs": [],
   "source": [
    "import pandas as pd \n",
    "import numpy as np \n",
    "pd.set_option('display.max_columns', None) \n",
    "import matplotlib.pyplot as plt \n",
    "import seaborn as sns \n",
    "%matplotlib inline\n",
    "plt.rcParams['figure.dpi'] = 200"
   ]
  },
  {
   "cell_type": "code",
   "execution_count": 39,
   "metadata": {},
   "outputs": [],
   "source": [
    "df1 = pd.read_csv('/home/allen/Galva/capstones/capstone2/src/explore/ready12_24_train.csv')"
   ]
  },
  {
   "cell_type": "code",
   "execution_count": null,
   "metadata": {},
   "outputs": [],
   "source": []
  },
  {
   "cell_type": "code",
   "execution_count": 40,
   "metadata": {},
   "outputs": [
    {
     "data": {
      "text/html": [
       "<div>\n",
       "<style scoped>\n",
       "    .dataframe tbody tr th:only-of-type {\n",
       "        vertical-align: middle;\n",
       "    }\n",
       "\n",
       "    .dataframe tbody tr th {\n",
       "        vertical-align: top;\n",
       "    }\n",
       "\n",
       "    .dataframe thead th {\n",
       "        text-align: right;\n",
       "    }\n",
       "</style>\n",
       "<table border=\"1\" class=\"dataframe\">\n",
       "  <thead>\n",
       "    <tr style=\"text-align: right;\">\n",
       "      <th></th>\n",
       "      <th>Patient_ID_x</th>\n",
       "      <th>Health_Camp_ID</th>\n",
       "      <th>Registration_Date</th>\n",
       "      <th>Var1</th>\n",
       "      <th>Var2</th>\n",
       "      <th>Var3</th>\n",
       "      <th>Var4</th>\n",
       "      <th>Var5</th>\n",
       "      <th>Category1_x</th>\n",
       "      <th>Category2</th>\n",
       "      <th>Category3</th>\n",
       "      <th>Camp_Start_Date2</th>\n",
       "      <th>Camp_End_Date2</th>\n",
       "      <th>patient_event</th>\n",
       "      <th>Unnamed: 0_x</th>\n",
       "      <th>Unnamed: 0.1_x</th>\n",
       "      <th>Online_Follower_x</th>\n",
       "      <th>First_Interaction</th>\n",
       "      <th>City_Type</th>\n",
       "      <th>Employer_Category</th>\n",
       "      <th>Job_Type</th>\n",
       "      <th>Event1_or_2_x</th>\n",
       "      <th>online_score</th>\n",
       "      <th>Category1_y</th>\n",
       "      <th>Unnamed: 0_y</th>\n",
       "      <th>Unnamed: 0.1_y</th>\n",
       "      <th>Patient_ID_y</th>\n",
       "      <th>Online_Follower_y</th>\n",
       "      <th>Event1_or_2_y</th>\n",
       "      <th>y_target</th>\n",
       "      <th>Health Score</th>\n",
       "      <th>Number_of_stall_visited</th>\n",
       "      <th>Last_Stall_Visited_Number</th>\n",
       "      <th>Camp_length</th>\n",
       "      <th>delta_first_reg</th>\n",
       "      <th>interaction_regreister_delta</th>\n",
       "      <th>delta_first_start</th>\n",
       "      <th>delta_reg_end</th>\n",
       "      <th>Camp_Length</th>\n",
       "    </tr>\n",
       "  </thead>\n",
       "  <tbody>\n",
       "    <tr>\n",
       "      <th>0</th>\n",
       "      <td>489652</td>\n",
       "      <td>6578</td>\n",
       "      <td>2005-09-10</td>\n",
       "      <td>4.0</td>\n",
       "      <td>0.0</td>\n",
       "      <td>0.0</td>\n",
       "      <td>0.0</td>\n",
       "      <td>2.0</td>\n",
       "      <td>Third</td>\n",
       "      <td>G</td>\n",
       "      <td>2100</td>\n",
       "      <td>2005-08-16</td>\n",
       "      <td>2005-10-14</td>\n",
       "      <td>4896526578</td>\n",
       "      <td>6898</td>\n",
       "      <td>6898</td>\n",
       "      <td>0</td>\n",
       "      <td>2004-12-06</td>\n",
       "      <td>23384</td>\n",
       "      <td>NaN</td>\n",
       "      <td>9999.0</td>\n",
       "      <td>1</td>\n",
       "      <td>0</td>\n",
       "      <td>Third</td>\n",
       "      <td>6898.0</td>\n",
       "      <td>6898.0</td>\n",
       "      <td>489652.0</td>\n",
       "      <td>0.0</td>\n",
       "      <td>1.0</td>\n",
       "      <td>1.0</td>\n",
       "      <td>NaN</td>\n",
       "      <td>2.0</td>\n",
       "      <td>1.0</td>\n",
       "      <td>59 days</td>\n",
       "      <td>-25.0</td>\n",
       "      <td>278</td>\n",
       "      <td>253</td>\n",
       "      <td>34</td>\n",
       "      <td>59</td>\n",
       "    </tr>\n",
       "    <tr>\n",
       "      <th>1</th>\n",
       "      <td>489652</td>\n",
       "      <td>6532</td>\n",
       "      <td>2005-03-15</td>\n",
       "      <td>0.0</td>\n",
       "      <td>0.0</td>\n",
       "      <td>0.0</td>\n",
       "      <td>0.0</td>\n",
       "      <td>0.0</td>\n",
       "      <td>First</td>\n",
       "      <td>F</td>\n",
       "      <td>2100</td>\n",
       "      <td>2005-02-19</td>\n",
       "      <td>2005-08-23</td>\n",
       "      <td>4896526532</td>\n",
       "      <td>6898</td>\n",
       "      <td>6898</td>\n",
       "      <td>0</td>\n",
       "      <td>2004-12-06</td>\n",
       "      <td>23384</td>\n",
       "      <td>NaN</td>\n",
       "      <td>9999.0</td>\n",
       "      <td>1</td>\n",
       "      <td>0</td>\n",
       "      <td>NaN</td>\n",
       "      <td>NaN</td>\n",
       "      <td>NaN</td>\n",
       "      <td>NaN</td>\n",
       "      <td>NaN</td>\n",
       "      <td>NaN</td>\n",
       "      <td>0.0</td>\n",
       "      <td>NaN</td>\n",
       "      <td>NaN</td>\n",
       "      <td>NaN</td>\n",
       "      <td>NaN</td>\n",
       "      <td>-24.0</td>\n",
       "      <td>99</td>\n",
       "      <td>75</td>\n",
       "      <td>161</td>\n",
       "      <td>185</td>\n",
       "    </tr>\n",
       "    <tr>\n",
       "      <th>2</th>\n",
       "      <td>489652</td>\n",
       "      <td>6543</td>\n",
       "      <td>2005-11-26</td>\n",
       "      <td>4.0</td>\n",
       "      <td>0.0</td>\n",
       "      <td>0.0</td>\n",
       "      <td>0.0</td>\n",
       "      <td>2.0</td>\n",
       "      <td>First</td>\n",
       "      <td>F</td>\n",
       "      <td>2100</td>\n",
       "      <td>2005-09-27</td>\n",
       "      <td>2007-11-07</td>\n",
       "      <td>4896526543</td>\n",
       "      <td>6898</td>\n",
       "      <td>6898</td>\n",
       "      <td>0</td>\n",
       "      <td>2004-12-06</td>\n",
       "      <td>23384</td>\n",
       "      <td>NaN</td>\n",
       "      <td>9999.0</td>\n",
       "      <td>1</td>\n",
       "      <td>0</td>\n",
       "      <td>NaN</td>\n",
       "      <td>NaN</td>\n",
       "      <td>NaN</td>\n",
       "      <td>NaN</td>\n",
       "      <td>NaN</td>\n",
       "      <td>NaN</td>\n",
       "      <td>0.0</td>\n",
       "      <td>NaN</td>\n",
       "      <td>NaN</td>\n",
       "      <td>NaN</td>\n",
       "      <td>NaN</td>\n",
       "      <td>-60.0</td>\n",
       "      <td>355</td>\n",
       "      <td>295</td>\n",
       "      <td>711</td>\n",
       "      <td>771</td>\n",
       "    </tr>\n",
       "    <tr>\n",
       "      <th>3</th>\n",
       "      <td>489652</td>\n",
       "      <td>6580</td>\n",
       "      <td>2004-12-18</td>\n",
       "      <td>0.0</td>\n",
       "      <td>0.0</td>\n",
       "      <td>0.0</td>\n",
       "      <td>0.0</td>\n",
       "      <td>0.0</td>\n",
       "      <td>First</td>\n",
       "      <td>E</td>\n",
       "      <td>2100</td>\n",
       "      <td>2004-12-22</td>\n",
       "      <td>2005-01-06</td>\n",
       "      <td>4896526580</td>\n",
       "      <td>6898</td>\n",
       "      <td>6898</td>\n",
       "      <td>0</td>\n",
       "      <td>2004-12-06</td>\n",
       "      <td>23384</td>\n",
       "      <td>NaN</td>\n",
       "      <td>9999.0</td>\n",
       "      <td>1</td>\n",
       "      <td>0</td>\n",
       "      <td>NaN</td>\n",
       "      <td>NaN</td>\n",
       "      <td>NaN</td>\n",
       "      <td>NaN</td>\n",
       "      <td>NaN</td>\n",
       "      <td>NaN</td>\n",
       "      <td>0.0</td>\n",
       "      <td>NaN</td>\n",
       "      <td>NaN</td>\n",
       "      <td>NaN</td>\n",
       "      <td>NaN</td>\n",
       "      <td>4.0</td>\n",
       "      <td>12</td>\n",
       "      <td>16</td>\n",
       "      <td>19</td>\n",
       "      <td>15</td>\n",
       "    </tr>\n",
       "    <tr>\n",
       "      <th>4</th>\n",
       "      <td>489652</td>\n",
       "      <td>6570</td>\n",
       "      <td>2005-05-01</td>\n",
       "      <td>0.0</td>\n",
       "      <td>0.0</td>\n",
       "      <td>0.0</td>\n",
       "      <td>0.0</td>\n",
       "      <td>0.0</td>\n",
       "      <td>First</td>\n",
       "      <td>E</td>\n",
       "      <td>2100</td>\n",
       "      <td>2005-07-09</td>\n",
       "      <td>2005-07-22</td>\n",
       "      <td>4896526570</td>\n",
       "      <td>6898</td>\n",
       "      <td>6898</td>\n",
       "      <td>0</td>\n",
       "      <td>2004-12-06</td>\n",
       "      <td>23384</td>\n",
       "      <td>NaN</td>\n",
       "      <td>9999.0</td>\n",
       "      <td>1</td>\n",
       "      <td>0</td>\n",
       "      <td>NaN</td>\n",
       "      <td>NaN</td>\n",
       "      <td>NaN</td>\n",
       "      <td>NaN</td>\n",
       "      <td>NaN</td>\n",
       "      <td>NaN</td>\n",
       "      <td>0.0</td>\n",
       "      <td>NaN</td>\n",
       "      <td>NaN</td>\n",
       "      <td>NaN</td>\n",
       "      <td>NaN</td>\n",
       "      <td>69.0</td>\n",
       "      <td>146</td>\n",
       "      <td>215</td>\n",
       "      <td>82</td>\n",
       "      <td>13</td>\n",
       "    </tr>\n",
       "  </tbody>\n",
       "</table>\n",
       "</div>"
      ],
      "text/plain": [
       "   Patient_ID_x  Health_Camp_ID Registration_Date  Var1  Var2  Var3  Var4  \\\n",
       "0        489652            6578        2005-09-10   4.0   0.0   0.0   0.0   \n",
       "1        489652            6532        2005-03-15   0.0   0.0   0.0   0.0   \n",
       "2        489652            6543        2005-11-26   4.0   0.0   0.0   0.0   \n",
       "3        489652            6580        2004-12-18   0.0   0.0   0.0   0.0   \n",
       "4        489652            6570        2005-05-01   0.0   0.0   0.0   0.0   \n",
       "\n",
       "   Var5 Category1_x Category2  Category3 Camp_Start_Date2 Camp_End_Date2  \\\n",
       "0   2.0       Third         G       2100       2005-08-16     2005-10-14   \n",
       "1   0.0       First         F       2100       2005-02-19     2005-08-23   \n",
       "2   2.0       First         F       2100       2005-09-27     2007-11-07   \n",
       "3   0.0       First         E       2100       2004-12-22     2005-01-06   \n",
       "4   0.0       First         E       2100       2005-07-09     2005-07-22   \n",
       "\n",
       "   patient_event  Unnamed: 0_x  Unnamed: 0.1_x  Online_Follower_x  \\\n",
       "0     4896526578          6898            6898                  0   \n",
       "1     4896526532          6898            6898                  0   \n",
       "2     4896526543          6898            6898                  0   \n",
       "3     4896526580          6898            6898                  0   \n",
       "4     4896526570          6898            6898                  0   \n",
       "\n",
       "  First_Interaction  City_Type Employer_Category  Job_Type  Event1_or_2_x  \\\n",
       "0        2004-12-06      23384               NaN    9999.0              1   \n",
       "1        2004-12-06      23384               NaN    9999.0              1   \n",
       "2        2004-12-06      23384               NaN    9999.0              1   \n",
       "3        2004-12-06      23384               NaN    9999.0              1   \n",
       "4        2004-12-06      23384               NaN    9999.0              1   \n",
       "\n",
       "   online_score Category1_y  Unnamed: 0_y  Unnamed: 0.1_y  Patient_ID_y  \\\n",
       "0             0       Third        6898.0          6898.0      489652.0   \n",
       "1             0         NaN           NaN             NaN           NaN   \n",
       "2             0         NaN           NaN             NaN           NaN   \n",
       "3             0         NaN           NaN             NaN           NaN   \n",
       "4             0         NaN           NaN             NaN           NaN   \n",
       "\n",
       "   Online_Follower_y  Event1_or_2_y  y_target  Health Score  \\\n",
       "0                0.0            1.0       1.0           NaN   \n",
       "1                NaN            NaN       0.0           NaN   \n",
       "2                NaN            NaN       0.0           NaN   \n",
       "3                NaN            NaN       0.0           NaN   \n",
       "4                NaN            NaN       0.0           NaN   \n",
       "\n",
       "   Number_of_stall_visited  Last_Stall_Visited_Number Camp_length  \\\n",
       "0                      2.0                        1.0     59 days   \n",
       "1                      NaN                        NaN         NaN   \n",
       "2                      NaN                        NaN         NaN   \n",
       "3                      NaN                        NaN         NaN   \n",
       "4                      NaN                        NaN         NaN   \n",
       "\n",
       "   delta_first_reg  interaction_regreister_delta  delta_first_start  \\\n",
       "0            -25.0                           278                253   \n",
       "1            -24.0                            99                 75   \n",
       "2            -60.0                           355                295   \n",
       "3              4.0                            12                 16   \n",
       "4             69.0                           146                215   \n",
       "\n",
       "   delta_reg_end  Camp_Length  \n",
       "0             34           59  \n",
       "1            161          185  \n",
       "2            711          771  \n",
       "3             19           15  \n",
       "4             82           13  "
      ]
     },
     "execution_count": 40,
     "metadata": {},
     "output_type": "execute_result"
    }
   ],
   "source": [
    "df1.head()"
   ]
  },
  {
   "cell_type": "code",
   "execution_count": 41,
   "metadata": {},
   "outputs": [],
   "source": [
    "df['Attendance'] = df1['y_target']"
   ]
  },
  {
   "cell_type": "code",
   "execution_count": null,
   "metadata": {},
   "outputs": [],
   "source": []
  },
  {
   "cell_type": "code",
   "execution_count": 6,
   "metadata": {},
   "outputs": [],
   "source": []
  },
  {
   "cell_type": "code",
   "execution_count": null,
   "metadata": {},
   "outputs": [],
   "source": []
  },
  {
   "cell_type": "code",
   "execution_count": null,
   "metadata": {},
   "outputs": [],
   "source": []
  },
  {
   "cell_type": "code",
   "execution_count": 70,
   "metadata": {},
   "outputs": [
    {
     "name": "stdout",
     "output_type": "stream",
     "text": [
      "30\n"
     ]
    }
   ],
   "source": [
    "vals = df['Var5'].values\n",
    "d_vals = {}\n",
    "for i in vals:\n",
    "    if i not in d_vals:\n",
    "        d_vals[i]=1\n",
    "    else:\n",
    "        d_vals[i]+=1\n",
    "print(len(d_vals))"
   ]
  },
  {
   "cell_type": "code",
   "execution_count": 71,
   "metadata": {},
   "outputs": [
    {
     "data": {
      "text/plain": [
       "{2.0: 1136,\n",
       " 0.0: 69321,\n",
       " 7.0: 204,\n",
       " 5.0: 324,\n",
       " 6.0: 235,\n",
       " 3.0: 925,\n",
       " 1.0: 2161,\n",
       " 4.0: 559,\n",
       " 8.0: 140,\n",
       " 9.0: 57,\n",
       " 10.0: 56,\n",
       " 20.0: 14,\n",
       " 27.0: 3,\n",
       " 18.0: 4,\n",
       " 24.0: 4,\n",
       " 21.0: 3,\n",
       " 26.0: 1,\n",
       " 25.0: 1,\n",
       " 29.0: 4,\n",
       " 16.0: 14,\n",
       " 13.0: 8,\n",
       " 12.0: 12,\n",
       " 17.0: 11,\n",
       " 22.0: 9,\n",
       " 19.0: 5,\n",
       " 11.0: 29,\n",
       " 31.0: 1,\n",
       " 14.0: 21,\n",
       " 15.0: 15,\n",
       " 23.0: 1}"
      ]
     },
     "execution_count": 71,
     "metadata": {},
     "output_type": "execute_result"
    }
   ],
   "source": [
    "d_vals"
   ]
  },
  {
   "cell_type": "code",
   "execution_count": 37,
   "metadata": {},
   "outputs": [
    {
     "data": {
      "text/plain": [
       "(array([10., 10.,  9., 10.,  9.,  3.,  2.,  3.,  7.,  2.,  1.,  4.,  3.,\n",
       "         6.,  6.,  6.,  4.,  6.,  1.,  4.,  3.,  3.,  2.,  4.,  2.,  1.,\n",
       "         2.,  0.,  2.,  2.]),\n",
       " array([  0. ,   9.6,  19.2,  28.8,  38.4,  48. ,  57.6,  67.2,  76.8,\n",
       "         86.4,  96. , 105.6, 115.2, 124.8, 134.4, 144. , 153.6, 163.2,\n",
       "        172.8, 182.4, 192. , 201.6, 211.2, 220.8, 230.4, 240. , 249.6,\n",
       "        259.2, 268.8, 278.4, 288. ]),\n",
       " <BarContainer object of 30 artists>)"
      ]
     },
     "execution_count": 37,
     "metadata": {},
     "output_type": "execute_result"
    },
    {
     "data": {
      "image/png": "[encoded data removed]",
      "text/plain": [
       "<Figure size 1200x800 with 1 Axes>"
      ]
     },
     "metadata": {
      "needs_background": "light"
     },
     "output_type": "display_data"
    }
   ],
   "source": [
    "plt.hist(d_vals, bins = 30)"
   ]
  },
  {
   "cell_type": "code",
   "execution_count": null,
   "metadata": {},
   "outputs": [],
   "source": []
  },
  {
   "cell_type": "code",
   "execution_count": 10,
   "metadata": {},
   "outputs": [],
   "source": [
    "df2_['Column 9999']= df2_['9999.0'].apply(lambda x: 1 if x ==1 else 0)"
   ]
  },
  {
   "cell_type": "code",
   "execution_count": 11,
   "metadata": {},
   "outputs": [],
   "source": [
    "df2_['Column 23384']=df2_['23384'].apply(lambda x: 1 if x==1 else 0)"
   ]
  },
  {
   "cell_type": "code",
   "execution_count": null,
   "metadata": {},
   "outputs": [],
   "source": []
  },
  {
   "cell_type": "code",
   "execution_count": 12,
   "metadata": {},
   "outputs": [],
   "source": [
    "# Var1={0,300,20} Var5 = {0,35,6}"
   ]
  },
  {
   "cell_type": "code",
   "execution_count": 13,
   "metadata": {},
   "outputs": [],
   "source": [
    "Var1={0,300,20}, "
   ]
  },
  {
   "cell_type": "code",
   "execution_count": 72,
   "metadata": {},
   "outputs": [
    {
     "name": "stdout",
     "output_type": "stream",
     "text": [
      "Index(['Patient_ID_x', 'Health_Camp_ID', 'Registration_Date', 'Var1', 'Var2',\n",
      "       'Var3', 'Var4', 'Var5', 'Category1_x', 'Category2', 'Category3',\n",
      "       'Camp_Start_Date2', 'Camp_End_Date2', 'patient_event', 'Unnamed: 0_x',\n",
      "       'Unnamed: 0.1_x', 'Online_Follower_x', 'First_Interaction', 'City_Type',\n",
      "       'Employer_Category', 'Job_Type', 'Event1_or_2_x', 'online_score',\n",
      "       'Category1_y', 'Unnamed: 0_y', 'Unnamed: 0.1_y', 'Patient_ID_y',\n",
      "       'Online_Follower_y', 'Event1_or_2_y', 'y_target', 'Health Score',\n",
      "       'Number_of_stall_visited', 'Last_Stall_Visited_Number', 'Camp_length',\n",
      "       'delta_first_reg', 'interaction_regreister_delta', 'delta_first_start',\n",
      "       'delta_reg_end', 'Camp_Length', 'Attendance', '0 to 1 Var1', '2 Var1',\n",
      "       '3 Var1', '4 Var1', '5 Var1', '10 to 19 Var1', '20 to 39 Var1',\n",
      "       '40 to 59 Var1', '60 to 79 Var1', '80 to 99 Var1', '100 to 119 Var1',\n",
      "       '120 to 139 Var1', '140 to 159 Var1', '160 to 179 Var1',\n",
      "       '180 to 199 Var1', '200 to 219 Var1', '220 to 239 Var1',\n",
      "       '240 to 259 Var1', '260 to 279 Var1', '280 to 299 Var1', '0 ', '2 ',\n",
      "       '3 ', '4 ', '5 ', '10 to 19 ', '20 to 39 ', '40 to 59 ', '60 to 79 ',\n",
      "       '80 to 99 ', '100 to 119 ', '120 to 139 ', '140 to 159 ', '180 to 199 ',\n",
      "       '200 to 219 ', '220 to 239 ', '240 to 259 ', '260 to 279 ',\n",
      "       '280 to 299 ', '0 to 1', '0 Var5', '1 Var5', '2 Var5'],\n",
      "      dtype='object')\n"
     ]
    }
   ],
   "source": [
    "df['0 Var5'] =  df['Var5'].apply( lambda x: 1 if x ==0 else 0)\n",
    "df['1 Var5'] =  df['Var5'].apply( lambda x: 1 if x ==1 else 0)\n",
    "df['2 Var5'] =  df['Var5'].apply( lambda x: 1 if x ==2  else 0)\n",
    "print(df.columns)\n",
    "df['3 Var5'] =  df['Var5'].apply( lambda x: 1 if x ==3  else 0)\n",
    "df['4 Var5'] =  df['Var5'].apply( lambda x: 1 if x ==4 else 0)\n",
    "df['5 Var5'] =  df['Var5'].apply( lambda x: 1 if x ==5 else 0)\n",
    "df['6 Var5'] =  df['Var5'].apply( lambda x: 1 if x ==6  else 0)\n",
    "df['7 Var5'] =  df['Var5'].apply( lambda x: 1 if x ==7 else 0)\n",
    "df['8 Var5'] =  df['Var5'].apply( lambda x: 1 if x ==8 else 0)"
   ]
  },
  {
   "cell_type": "code",
   "execution_count": null,
   "metadata": {},
   "outputs": [],
   "source": []
  },
  {
   "cell_type": "code",
   "execution_count": 15,
   "metadata": {},
   "outputs": [
    {
     "name": "stdout",
     "output_type": "stream",
     "text": [
      "[  0  20  40  60  80 100 120 140 160 180 200 220 240 260 280 300]\n"
     ]
    }
   ],
   "source": [
    "print(np.arange(0,320,20))"
   ]
  },
  {
   "cell_type": "code",
   "execution_count": 85,
   "metadata": {},
   "outputs": [],
   "source": [
    "df['0 Var1 '] =  df['Var1'].apply( lambda x: 1 if x == 0 else 0)\n",
    "df['1 '] =  df['Var1'].apply( lambda x: 1 if x == 1 else 0)\n",
    "df['2 '] =  df['Var1'].apply( lambda x: 1 if x ==2 else 0)\n",
    "df['3 '] =  df['Var1'].apply( lambda x: 1 if x ==3 else 0)\n",
    "df['4 '] =  df['Var1'].apply( lambda x: 1 if x == 4 else 0)\n",
    "df['5 '] =  df['Var1'].apply( lambda x: 1 if x ==5  else 0)\n",
    "df['10 to 19 '] =  df['Var1'].apply( lambda x: 1 if x <19 and x>= 10 else 0)\n",
    "df['20 to 39 '] =  df['Var1'].apply( lambda x: 1 if x <39 and x>= 20 else 0)\n",
    "df['40 to 59 '] =  df['Var1'].apply( lambda x: 1 if x <59 and x>= 40 else 0)\n",
    "df['60 to 79 '] =  df['Var1'].apply( lambda x: 1 if x <79 and x>=60 else 0)\n",
    "df['80 to 99 '] =  df['Var1'].apply( lambda x: 1 if x <99 and x>=80 else 0)\n",
    "df['100 to 119 '] =  df['Var1'].apply( lambda x: 1 if x <119 and x>=100 else 0)\n",
    "df['120 to 139 '] =  df['Var1'].apply( lambda x: 1 if x <139 and x>= 120 else 0)\n",
    "df['140 to 159 '] =  df['Var1'].apply( lambda x: 1 if x <159 and x>= 140 else 0)\n",
    "df['180 to 199 '] =  df['Var1'].apply( lambda x: 1 if x <199 and x>=180 else 0)\n",
    "df['200 to 219 '] =  df['Var1'].apply( lambda x: 1 if x <219 and x>=200 else 0)\n",
    "df['220 to 239 '] =  df['Var1'].apply( lambda x: 1 if x <239 and x>=220 else 0)\n",
    "df['240 to 259 '] =  df['Var1'].apply( lambda x: 1 if x <259 and x>= 240 else 0)\n",
    "df['260 to 279 '] =  df['Var1'].apply( lambda x: 1 if x <279 and x>=260else 0)\n",
    "df['280 to 299 '] =  df['Var1'].apply( lambda x: 1 if x <299 and x>= 280 else 0)\n"
   ]
  },
  {
   "cell_type": "code",
   "execution_count": null,
   "metadata": {},
   "outputs": [],
   "source": []
  },
  {
   "cell_type": "code",
   "execution_count": null,
   "metadata": {},
   "outputs": [],
   "source": []
  },
  {
   "cell_type": "code",
   "execution_count": 81,
   "metadata": {},
   "outputs": [],
   "source": [
    "o= df[df['y_target']==1]"
   ]
  },
  {
   "cell_type": "code",
   "execution_count": 84,
   "metadata": {},
   "outputs": [
    {
     "data": {
      "text/plain": [
       "<bound method IndexOpsMixin.nunique of 0        489652\n",
       "7        489652\n",
       "11       507246\n",
       "13       507246\n",
       "14       507246\n",
       "          ...  \n",
       "75260    500780\n",
       "75265    500967\n",
       "75268    523944\n",
       "75274    514807\n",
       "75275    522897\n",
       "Name: Patient_ID_x, Length: 20534, dtype: int64>"
      ]
     },
     "execution_count": 84,
     "metadata": {},
     "output_type": "execute_result"
    }
   ],
   "source": [
    "o['Patient_ID_x'].nunique"
   ]
  },
  {
   "cell_type": "code",
   "execution_count": null,
   "metadata": {},
   "outputs": [],
   "source": []
  },
  {
   "cell_type": "code",
   "execution_count": null,
   "metadata": {},
   "outputs": [],
   "source": []
  },
  {
   "cell_type": "code",
   "execution_count": null,
   "metadata": {},
   "outputs": [],
   "source": []
  },
  {
   "cell_type": "code",
   "execution_count": 86,
   "metadata": {},
   "outputs": [
    {
     "data": {
      "text/plain": [
       "Index(['Patient_ID_x', 'Health_Camp_ID', 'Registration_Date', 'Var1', 'Var2',\n",
       "       'Var3', 'Var4', 'Var5', 'Category1_x', 'Category2', 'Category3',\n",
       "       'Camp_Start_Date2', 'Camp_End_Date2', 'patient_event', 'Unnamed: 0_x',\n",
       "       'Unnamed: 0.1_x', 'Online_Follower_x', 'First_Interaction', 'City_Type',\n",
       "       'Employer_Category', 'Job_Type', 'Event1_or_2_x', 'online_score',\n",
       "       'Category1_y', 'Unnamed: 0_y', 'Unnamed: 0.1_y', 'Patient_ID_y',\n",
       "       'Online_Follower_y', 'Event1_or_2_y', 'y_target', 'Health Score',\n",
       "       'Number_of_stall_visited', 'Last_Stall_Visited_Number', 'Camp_length',\n",
       "       'delta_first_reg', 'interaction_regreister_delta', 'delta_first_start',\n",
       "       'delta_reg_end', 'Camp_Length', 'Attendance', '0 to 1 Var1', '2 Var1',\n",
       "       '3 Var1', '4 Var1', '5 Var1', '10 to 19 Var1', '20 to 39 Var1',\n",
       "       '40 to 59 Var1', '60 to 79 Var1', '80 to 99 Var1', '100 to 119 Var1',\n",
       "       '120 to 139 Var1', '140 to 159 Var1', '160 to 179 Var1',\n",
       "       '180 to 199 Var1', '200 to 219 Var1', '220 to 239 Var1',\n",
       "       '240 to 259 Var1', '260 to 279 Var1', '280 to 299 Var1', '0 ', '2 ',\n",
       "       '3 ', '4 ', '5 ', '10 to 19 ', '20 to 39 ', '40 to 59 ', '60 to 79 ',\n",
       "       '80 to 99 ', '100 to 119 ', '120 to 139 ', '140 to 159 ', '180 to 199 ',\n",
       "       '200 to 219 ', '220 to 239 ', '240 to 259 ', '260 to 279 ',\n",
       "       '280 to 299 ', '0 to 1', '0 Var5', '1 Var5', '2 Var5', '3 Var5',\n",
       "       '4 Var5', '5 Var5', '6 Var5', '7 Var5', '8 Var5', '0 Var1 ', '1 '],\n",
       "      dtype='object')"
      ]
     },
     "execution_count": 86,
     "metadata": {},
     "output_type": "execute_result"
    }
   ],
   "source": [
    "df.columns"
   ]
  },
  {
   "cell_type": "code",
   "execution_count": 18,
   "metadata": {},
   "outputs": [],
   "source": [
    "'1036',\n",
    "#        '1216', '1217', '1352', '1704', '1729', '2517', '2662',\n",
    "#        '2.0', '3.0', '4.0', '5.0', '6.0', '7.0', '8.0', '9.0', '10.0', '11.0',\n",
    "#        '12.0', '13.0', '14.0', '6 to 11 Var5', '12 to 17 Var5', '18 to 23 Var5'"
   ]
  },
  {
   "cell_type": "code",
   "execution_count": 74,
   "metadata": {},
   "outputs": [
    {
     "name": "stdout",
     "output_type": "stream",
     "text": [
      "[('0 Var5', (50965, 18356)), ('1 Var5', (1435, 726)), ('2 Var5', (763, 373)), ('3 Var5', (582, 343)), ('4 Var5', (341, 218)), ('5 Var5', (213, 111)), ('6 Var5', (115, 120)), ('7 Var5', (121, 83)), ('8 Var5', (74, 66))]\n"
     ]
    }
   ],
   "source": [
    "#  '24 to 29 Var5', '30 to 35 Var5', \n",
    "lst=['0 Var5', '1 Var5', '2 Var5', '3 Var5',\n",
    "       '4 Var5', '5 Var5', '6 Var5', '7 Var5', '8 Var5'\n",
    "      ]\n",
    "#     #need number of y_target = 1 , y_target = 0 , count = sum(1)\n",
    "def dfgh():\n",
    "    nums = []\n",
    "    for i in lst:\n",
    "        get_0 = df.loc[(df2_['y_target'] == 0) & (df[i] == 1 ) ] \n",
    "        get_1 = df.loc[ (df2_['y_target'] == 1) & (df[i] == 1 ) ] \n",
    "        ap = (i,( len(get_0), len(get_1)) )\n",
    "        nums.append(ap)\n",
    "    return nums\n",
    "shows = dfgh() \n",
    "print(shows)"
   ]
  },
  {
   "cell_type": "code",
   "execution_count": 75,
   "metadata": {},
   "outputs": [
    {
     "name": "stdout",
     "output_type": "stream",
     "text": [
      "9\n"
     ]
    }
   ],
   "source": [
    "bars1 = [x[1][1] for x in shows ]  #counts of y_not == 1 for each grouping \n",
    "bars2 = [x[1][0] for x in shows ] \n",
    " \n",
    "print(len(bars1))"
   ]
  },
  {
   "cell_type": "code",
   "execution_count": 78,
   "metadata": {},
   "outputs": [
    {
     "name": "stdout",
     "output_type": "stream",
     "text": [
      "[18356, 726, 373, 343, 218, 111, 120, 83, 66] [50965, 1435, 763, 582, 341, 213, 115, 121, 74]\n"
     ]
    },
    {
     "data": {
      "image/png": "[encoded data removed]",
      "text/plain": [
       "<Figure size 1200x800 with 1 Axes>"
      ]
     },
     "metadata": {
      "needs_background": "light"
     },
     "output_type": "display_data"
    }
   ],
   "source": [
    "# for each time column make additional columns for below \n",
    "\n",
    "from matplotlib import rc\n",
    "import pandas as pd\n",
    " \n",
    "# y-axis in bold\n",
    "rc('font')\n",
    " \n",
    "# Values of each group\n",
    "bars1 = [x[1][1] for x in shows ]  #counts of y_not == 1 for each grouping \n",
    "bars2 = [x[1][0] for x in shows ] #counts of y_not == 0 for each grouping \n",
    "print(bars1,bars2)\n",
    "# Heights of bars1 + bars2\n",
    "bars = np.add(bars1, bars2).tolist()\n",
    "#,10,11,12,13,14,15,16,17,18,19,20,21,22,23,24,25,26,27,28,29,30,31,32,33,34,35,36,37,38,39,40\n",
    "# The position of the bars on the x-axis\n",
    "r = [1,2,3,4,5,6,7,8,9]  #len(number of grouppings)\n",
    " \n",
    "# Names of group and bar width\n",
    "names = [x[0] for x in shows] # The names for each group \n",
    "barWidth = 1\n",
    " \n",
    "# Create brown bars\n",
    "plt.bar(r, bars1, color= '#dd6101', edgecolor='white', width=barWidth)\n",
    "# Create green bars (middle), on top of the firs ones\n",
    "plt.bar(r, bars2, bottom=bars1, color='#557f2d', edgecolor='white', width=barWidth)\n",
    " \n",
    "# Custom X axis\n",
    "plt.title(label = 'Attendance Counts - Var5 Values')\n",
    "plt.xticks(r, names)\n",
    "plt.xlabel(\"Feature\")\n",
    "plt.ylabel(\"Number of Patients\")\n",
    "plt.xticks(rotation=65) \n",
    "plt.legend( ('Did Attend', 'Did NOT Attend')) \n",
    "# Show graphic\n",
    "plt.show()"
   ]
  },
  {
   "cell_type": "code",
   "execution_count": null,
   "metadata": {},
   "outputs": [],
   "source": [
    "# could do column 9999 column 22384 and two others in one plot . ANother set of o/1 plots for the range Var 1 \n",
    "# maybe just put the biggest cols with 9999 and 22384,  ie 0 to 5 , 0 to 19, 0 to 19 Var1"
   ]
  },
  {
   "cell_type": "code",
   "execution_count": null,
   "metadata": {},
   "outputs": [],
   "source": [
    "As the number of days "
   ]
  }
 ],
 "metadata": {
  "kernelspec": {
   "display_name": "Python 3",
   "language": "python",
   "name": "python3"
  },
  "language_info": {
   "codemirror_mode": {
    "name": "ipython",
    "version": 3
   },
   "file_extension": ".py",
   "mimetype": "text/x-python",
   "name": "python",
   "nbconvert_exporter": "python",
   "pygments_lexer": "ipython3",
   "version": "3.8.2"
  }
 },
 "nbformat": 4,
 "nbformat_minor": 4
}
