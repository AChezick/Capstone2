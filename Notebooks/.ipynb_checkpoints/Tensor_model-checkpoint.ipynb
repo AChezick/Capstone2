{
 "cells": [
  {
   "cell_type": "code",
   "execution_count": 1,
   "metadata": {},
   "outputs": [],
   "source": [
    "import tensorflow\n",
    "from tensorflow.keras.models import Sequential\n",
    "from tensorflow.keras.layers import Dense\n",
    "import numpy as np\n",
    "import pandas as pd \n",
    "pd.set_option('display.max_columns', None) \n",
    "import matplotlib.pyplot as plt \n",
    "%matplotlib inline\n",
    "plt.rcParams['figure.dpi'] = 200"
   ]
  },
  {
   "cell_type": "code",
   "execution_count": 2,
   "metadata": {},
   "outputs": [],
   "source": [
    "dataset = np.genfromtxt('/home/allen/Galva/capstones/capstone2/src/explore/train_4_model.csv',delimiter=',' ,skip_header=True)"
   ]
  },
  {
   "cell_type": "code",
   "execution_count": null,
   "metadata": {},
   "outputs": [],
   "source": []
  },
  {
   "cell_type": "code",
   "execution_count": 3,
   "metadata": {},
   "outputs": [],
   "source": [
    "gpus = tensorflow.config.experimental.list_physical_devices('GPU')\n",
    "if gpus:\n",
    "    try: \n",
    "        for gpu in gpus:\n",
    "            tensorflow.config.experimental.set_memory_growth(gpu, True)\n",
    "    except RuntimeError as e:\n",
    "        print(e, 'BTW ***********************************************')"
   ]
  },
  {
   "cell_type": "code",
   "execution_count": 4,
   "metadata": {},
   "outputs": [],
   "source": [
    "selector = [x for x in range(dataset.shape[1]) if x !=5]\n",
    "selector2 = [x for x in range(dataset.shape[1]) if x ==5]\n",
    "\n",
    "X = dataset[:,selector]\n",
    "Y = dataset[:,selector2]"
   ]
  },
  {
   "cell_type": "code",
   "execution_count": 5,
   "metadata": {},
   "outputs": [],
   "source": [
    "model = Sequential()\n",
    "model.add(Dense(1,input_dim = 46, activation='sigmoid'))"
   ]
  },
  {
   "cell_type": "code",
   "execution_count": 6,
   "metadata": {},
   "outputs": [],
   "source": [
    "model.compile(loss = 'binary_crossentropy',optimizer = 'rmsprop', metrics=['accuracy'])"
   ]
  },
  {
   "cell_type": "code",
   "execution_count": 7,
   "metadata": {},
   "outputs": [
    {
     "name": "stdout",
     "output_type": "stream",
     "text": [
      "Epoch 1/20\n",
      "2353/2353 [==============================] - 2s 862us/step - loss: 0.5037 - accuracy: 0.7508\n",
      "Epoch 2/20\n",
      "2353/2353 [==============================] - 2s 860us/step - loss: 0.4597 - accuracy: 0.7926\n",
      "Epoch 3/20\n",
      "2353/2353 [==============================] - 2s 863us/step - loss: 0.4582 - accuracy: 0.7928\n",
      "Epoch 4/20\n",
      "2353/2353 [==============================] - 2s 861us/step - loss: 0.4573 - accuracy: 0.7933\n",
      "Epoch 5/20\n",
      "2353/2353 [==============================] - 2s 869us/step - loss: 0.4565 - accuracy: 0.7921\n",
      "Epoch 6/20\n",
      "2353/2353 [==============================] - 2s 871us/step - loss: 0.4559 - accuracy: 0.7930\n",
      "Epoch 7/20\n",
      "2353/2353 [==============================] - 2s 875us/step - loss: 0.4556 - accuracy: 0.7929\n",
      "Epoch 8/20\n",
      "2353/2353 [==============================] - 2s 872us/step - loss: 0.4555 - accuracy: 0.7928\n",
      "Epoch 9/20\n",
      "2353/2353 [==============================] - 2s 873us/step - loss: 0.4553 - accuracy: 0.7925\n",
      "Epoch 10/20\n",
      "2353/2353 [==============================] - 2s 874us/step - loss: 0.4554 - accuracy: 0.7932\n",
      "Epoch 11/20\n",
      "2353/2353 [==============================] - 2s 874us/step - loss: 0.4554 - accuracy: 0.7931\n",
      "Epoch 12/20\n",
      "2353/2353 [==============================] - 2s 878us/step - loss: 0.4554 - accuracy: 0.7931\n",
      "Epoch 13/20\n",
      "2353/2353 [==============================] - 2s 873us/step - loss: 0.4555 - accuracy: 0.7929\n",
      "Epoch 14/20\n",
      "2353/2353 [==============================] - 2s 878us/step - loss: 0.4556 - accuracy: 0.7930\n",
      "Epoch 15/20\n",
      "2353/2353 [==============================] - 2s 875us/step - loss: 0.4558 - accuracy: 0.7930\n",
      "Epoch 16/20\n",
      "2353/2353 [==============================] - 2s 874us/step - loss: 0.4558 - accuracy: 0.7926\n",
      "Epoch 17/20\n",
      "2353/2353 [==============================] - 2s 868us/step - loss: 0.4558 - accuracy: 0.7923\n",
      "Epoch 18/20\n",
      "2353/2353 [==============================] - 2s 876us/step - loss: 0.4559 - accuracy: 0.7931\n",
      "Epoch 19/20\n",
      "2353/2353 [==============================] - 2s 874us/step - loss: 0.4559 - accuracy: 0.7926\n",
      "Epoch 20/20\n",
      "2353/2353 [==============================] - 2s 873us/step - loss: 0.4559 - accuracy: 0.7922\n"
     ]
    },
    {
     "data": {
      "text/plain": [
       "<tensorflow.python.keras.callbacks.History at 0x7f94227b3d30>"
      ]
     },
     "execution_count": 7,
     "metadata": {},
     "output_type": "execute_result"
    }
   ],
   "source": [
    "model.fit(x=X,y=Y, epochs=20, verbose=1)"
   ]
  },
  {
   "cell_type": "code",
   "execution_count": 8,
   "metadata": {},
   "outputs": [
    {
     "name": "stdout",
     "output_type": "stream",
     "text": [
      "[[1.]\n",
      " [0.]\n",
      " [0.]\n",
      " [0.]\n",
      " [0.]\n",
      " [0.]\n",
      " [0.]\n",
      " [1.]\n",
      " [0.]\n",
      " [0.]]\n"
     ]
    }
   ],
   "source": [
    "ahman = Y[:10]\n",
    "print(ahman)"
   ]
  },
  {
   "cell_type": "code",
   "execution_count": 9,
   "metadata": {},
   "outputs": [
    {
     "name": "stdout",
     "output_type": "stream",
     "text": [
      "[[0.62307173 0.05801989 0.15718399 0.06225452 0.06235192 0.05714407\n",
      "  0.08201125 0.54498416 0.06493677 0.05746874]]\n"
     ]
    }
   ],
   "source": [
    "predictions2 = model.predict(X)\n",
    "aham2 = predictions2[:10].T\n",
    "print(aham2)"
   ]
  },
  {
   "cell_type": "code",
   "execution_count": 10,
   "metadata": {},
   "outputs": [],
   "source": [
    "l1 = list(zip(ahman,aham2))"
   ]
  },
  {
   "cell_type": "code",
   "execution_count": 11,
   "metadata": {},
   "outputs": [
    {
     "name": "stdout",
     "output_type": "stream",
     "text": [
      "[(array([1.]), array([0.62307173, 0.05801989, 0.15718399, 0.06225452, 0.06235192,\n",
      "       0.05714407, 0.08201125, 0.54498416, 0.06493677, 0.05746874],\n",
      "      dtype=float32))]\n"
     ]
    }
   ],
   "source": [
    "print(l1)"
   ]
  },
  {
   "cell_type": "markdown",
   "metadata": {},
   "source": [
    "# Next Model "
   ]
  },
  {
   "cell_type": "code",
   "execution_count": 12,
   "metadata": {},
   "outputs": [],
   "source": [
    "import numpy as np\n",
    "import pandas as pd\n",
    "dataset = pd.read_csv('/home/allen/Galva/capstones/capstone2/src/explore/train_4_model.csv') "
   ]
  },
  {
   "cell_type": "code",
   "execution_count": 13,
   "metadata": {},
   "outputs": [
    {
     "data": {
      "text/plain": [
       "Index(['Var1', 'Var2', 'Var3', 'Var4', 'Var5', 'y_target', 'delta_first_reg',\n",
       "       'interaction_regreister_delta', 'delta_first_start', 'delta_reg_end',\n",
       "       'Camp_Length', 'Second', 'Third', '1036', '1216', '1217', '1352',\n",
       "       '1704', '1729', '2517', '2662', '23384', 'B', 'C', 'D', 'E', 'F', 'G',\n",
       "       '2100', '2.0', '3.0', '4.0', '5.0', '6.0', '7.0', '8.0', '9.0', '10.0',\n",
       "       '11.0', '12.0', '13.0', '14.0', '9999.0', '1', '2', '3', '4'],\n",
       "      dtype='object')"
      ]
     },
     "execution_count": 13,
     "metadata": {},
     "output_type": "execute_result"
    }
   ],
   "source": [
    "dataset.columns"
   ]
  },
  {
   "cell_type": "code",
   "execution_count": 14,
   "metadata": {},
   "outputs": [],
   "source": [
    "colz=[ 'Second', 'Third', '1036', '1216', '1217', '1352',\n",
    "       '1704', '1729', '2517', '2662', '23384', 'B', 'C', 'D', 'E', 'F', 'G',\n",
    "       '2100', '2.0', '3.0', '4.0', '5.0', '6.0', '7.0', '8.0', '9.0', '10.0',\n",
    "       '11.0', '12.0', '13.0', '14.0', '9999.0', '1', '2', '3', '4'] \n",
    "dataset2 = dataset.drop(colz, axis=1)"
   ]
  },
  {
   "cell_type": "code",
   "execution_count": 15,
   "metadata": {},
   "outputs": [],
   "source": [
    "from sklearn.model_selection import train_test_split "
   ]
  },
  {
   "cell_type": "code",
   "execution_count": 16,
   "metadata": {},
   "outputs": [],
   "source": [
    "y = dataset2.pop('y_target')\n",
    "X = dataset2 \n",
    "X_train, X_test, y_train, y_test = train_test_split(X, y, test_size=0.3, random_state= 42)"
   ]
  },
  {
   "cell_type": "code",
   "execution_count": 17,
   "metadata": {},
   "outputs": [],
   "source": [
    "from tensorflow import keras\n",
    "from tensorflow.keras import layers\n",
    "def build_model(train_data, metrics=[\"accuracy\"]):\n",
    "\n",
    "    model = keras.Sequential([\n",
    "\n",
    "        keras.layers.Dense(\n",
    "        units=46,\n",
    "        activation='relu',\n",
    "        input_shape=(train_data.shape[-1],)\n",
    "        ),\n",
    "\n",
    "        keras.layers.BatchNormalization(),\n",
    "        keras.layers.Dropout(0.25),\n",
    "        keras.layers.Dense(units=1, activation='sigmoid'),\n",
    "\n",
    "    ])\n",
    "\n",
    "    model.compile(\n",
    "        optimizer=keras.optimizers.Adam(lr=0.001),\n",
    "        loss=keras.losses.BinaryCrossentropy(),\n",
    "        metrics=metrics\n",
    "\n",
    "    )\n",
    "\n",
    "    return model"
   ]
  },
  {
   "cell_type": "code",
   "execution_count": null,
   "metadata": {},
   "outputs": [],
   "source": []
  },
  {
   "cell_type": "code",
   "execution_count": 18,
   "metadata": {},
   "outputs": [],
   "source": [
    "BATCH_SIZE = 2048\n",
    "\n",
    "model = build_model(X_train)\n",
    "\n",
    "history = model.fit(\n",
    "    X_train,\n",
    "    y_train,\n",
    "    batch_size=BATCH_SIZE,\n",
    "    epochs=80,\n",
    "    validation_split=0.3,\n",
    "    shuffle=True,\n",
    "    verbose=0)"
   ]
  },
  {
   "cell_type": "code",
   "execution_count": 19,
   "metadata": {},
   "outputs": [
    {
     "name": "stdout",
     "output_type": "stream",
     "text": [
      "12/12 [==============================] - 0s 884us/step - loss: 0.5742 - accuracy: 0.7229\n"
     ]
    },
    {
     "data": {
      "text/plain": [
       "[0.5741692781448364, 0.7229011654853821]"
      ]
     },
     "execution_count": 19,
     "metadata": {},
     "output_type": "execute_result"
    }
   ],
   "source": [
    "model.evaluate(X_test, y_test, batch_size=BATCH_SIZE)"
   ]
  },
  {
   "cell_type": "code",
   "execution_count": 20,
   "metadata": {},
   "outputs": [],
   "source": [
    "def awesome_model_predict(features):\n",
    "\n",
    "    return np.full((features.shape[0], ), 0)\n",
    "\n",
    "y_pred = awesome_model_predict(X_test)"
   ]
  },
  {
   "cell_type": "code",
   "execution_count": 21,
   "metadata": {},
   "outputs": [
    {
     "name": "stdout",
     "output_type": "stream",
     "text": [
      "22584\n"
     ]
    }
   ],
   "source": [
    "from sklearn.metrics import accuracy_score\n",
    "\n",
    "accuracy_score(y_pred, y_test)\n",
    "print(len(y_test))"
   ]
  },
  {
   "cell_type": "code",
   "execution_count": 22,
   "metadata": {},
   "outputs": [],
   "source": [
    "METRICS = [\n",
    "      keras.metrics.TruePositives(name='tp'),\n",
    "      keras.metrics.FalsePositives(name='fp'),\n",
    "      keras.metrics.TrueNegatives(name='tn'),\n",
    "      keras.metrics.FalseNegatives(name='fn'),\n",
    "      keras.metrics.BinaryAccuracy(name='accuracy'),\n",
    "      keras.metrics.Precision(name='precision'),\n",
    "      keras.metrics.Recall(name='recall'),\n",
    "      keras.metrics.AUC(name='auc')]"
   ]
  },
  {
   "cell_type": "code",
   "execution_count": 23,
   "metadata": {},
   "outputs": [
    {
     "name": "stdout",
     "output_type": "stream",
     "text": [
      "<tensorflow.python.keras.metrics.TruePositives object at 0x7f9453361670>\n"
     ]
    }
   ],
   "source": [
    "print(keras.metrics.TruePositives(name='tp'))"
   ]
  },
  {
   "cell_type": "code",
   "execution_count": null,
   "metadata": {},
   "outputs": [],
   "source": []
  }
 ],
 "metadata": {
  "kernelspec": {
   "display_name": "Python 3",
   "language": "python",
   "name": "python3"
  },
  "language_info": {
   "codemirror_mode": {
    "name": "ipython",
    "version": 3
   },
   "file_extension": ".py",
   "mimetype": "text/x-python",
   "name": "python",
   "nbconvert_exporter": "python",
   "pygments_lexer": "ipython3",
   "version": "3.8.2"
  }
 },
 "nbformat": 4,
 "nbformat_minor": 4
}
