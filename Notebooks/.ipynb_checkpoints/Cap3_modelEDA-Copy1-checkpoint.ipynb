{
 "cells": [
  {
   "cell_type": "code",
   "execution_count": 1,
   "metadata": {},
   "outputs": [],
   "source": [
    "import pandas as pd \n",
    "import numpy as np \n",
    "import matplotlib.pyplot as plt \n",
    "#import seaborn as sns \n",
    "\n",
    "from sklearn.model_selection import train_test_split\n",
    "from sklearn.naive_bayes import GaussianNB\n",
    "from sklearn.metrics import confusion_matrix, plot_roc_curve, accuracy_score\n",
    "\n",
    "pd.set_option('display.max_columns', None) \n",
    "from sklearn.metrics import roc_auc_score\n",
    "from sklearn.model_selection import KFold, train_test_split\n",
    "from sklearn.metrics import accuracy_score, precision_score, recall_score"
   ]
  },
  {
   "cell_type": "code",
   "execution_count": 2,
   "metadata": {},
   "outputs": [],
   "source": [
    "from pandas.plotting import scatter_matrix\n",
    "\n",
    "from sklearn.linear_model import LinearRegression, Ridge, Lasso, LogisticRegression\n",
    "from sklearn.model_selection import train_test_split, KFold\n",
    "from sklearn.preprocessing import StandardScaler\n",
    "from sklearn.base import clone\n",
    "\n",
    "plt.rcParams['figure.dpi'] = 200\n",
    "%matplotlib inline\n",
    "import matplotlib.pyplot as plt\n",
    "\n",
    "from utils import XyScaler\n",
    "from roc_curve2 import roc_curve"
   ]
  },
  {
   "cell_type": "code",
   "execution_count": 3,
   "metadata": {},
   "outputs": [],
   "source": [
    "checker = pd.read_csv('/home/allen/Galva/capstones/capstone2/src/explore/train_4_model.csv')\n",
    "checker_base=checker.copy() "
   ]
  },
  {
   "cell_type": "code",
   "execution_count": 4,
   "metadata": {},
   "outputs": [],
   "source": [
    "df_withID = pd.read_csv('/home/allen/Galva/capstones/capstone2/src/explore/ready12_24_train.csv')"
   ]
  },
  {
   "cell_type": "code",
   "execution_count": 5,
   "metadata": {},
   "outputs": [
    {
     "name": "stdout",
     "output_type": "stream",
     "text": [
      "<class 'pandas.core.frame.DataFrame'>\n",
      "RangeIndex: 75278 entries, 0 to 75277\n",
      "Data columns (total 54 columns):\n",
      " #   Column                                 Non-Null Count  Dtype  \n",
      "---  ------                                 --------------  -----  \n",
      " 0   Health_Camp_ID                         75278 non-null  int64  \n",
      " 1   Var1                                   75278 non-null  float64\n",
      " 2   Var2                                   75278 non-null  float64\n",
      " 3   Var3                                   75278 non-null  float64\n",
      " 4   Var4                                   75278 non-null  float64\n",
      " 5   Var5                                   75278 non-null  float64\n",
      " 6   Category1_x                            75278 non-null  object \n",
      " 7   Category2                              75278 non-null  object \n",
      " 8   Category3                              75278 non-null  int64  \n",
      " 9   City_Type                              75278 non-null  int64  \n",
      " 10  Job_Type                               75278 non-null  float64\n",
      " 11  online_score                           75278 non-null  int64  \n",
      " 12  y_target                               75278 non-null  float64\n",
      " 13  Camp Start Date - Registration Date    75278 non-null  float64\n",
      " 14  Registration Date - First Interaction  75278 non-null  int64  \n",
      " 15  Camp Start Date - First Interaction    75278 non-null  int64  \n",
      " 16  Camp End Date - Registration Date      75278 non-null  int64  \n",
      " 17  Camp Length                            75278 non-null  int64  \n",
      " 18  Second                                 75278 non-null  int64  \n",
      " 19  Third                                  75278 non-null  int64  \n",
      " 20  A                                      75278 non-null  int64  \n",
      " 21  C                                      75278 non-null  int64  \n",
      " 22  D                                      75278 non-null  int64  \n",
      " 23  E                                      75278 non-null  int64  \n",
      " 24  F                                      75278 non-null  int64  \n",
      " 25  G                                      75278 non-null  int64  \n",
      " 26  2100                                   75278 non-null  int64  \n",
      " 27  2.0                                    75278 non-null  int64  \n",
      " 28  3.0                                    75278 non-null  int64  \n",
      " 29  4.0                                    75278 non-null  int64  \n",
      " 30  5.0                                    75278 non-null  int64  \n",
      " 31  6.0                                    75278 non-null  int64  \n",
      " 32  7.0                                    75278 non-null  int64  \n",
      " 33  8.0                                    75278 non-null  int64  \n",
      " 34  9.0                                    75278 non-null  int64  \n",
      " 35  10.0                                   75278 non-null  int64  \n",
      " 36  11.0                                   75278 non-null  int64  \n",
      " 37  12.0                                   75278 non-null  int64  \n",
      " 38  13.0                                   75278 non-null  int64  \n",
      " 39  14.0                                   75278 non-null  int64  \n",
      " 40  9999.0                                 75278 non-null  int64  \n",
      " 41  1                                      75278 non-null  int64  \n",
      " 42  2                                      75278 non-null  int64  \n",
      " 43  3                                      75278 non-null  int64  \n",
      " 44  4                                      75278 non-null  int64  \n",
      " 45  1036                                   75278 non-null  int64  \n",
      " 46  1216                                   75278 non-null  int64  \n",
      " 47  1217                                   75278 non-null  int64  \n",
      " 48  1352                                   75278 non-null  int64  \n",
      " 49  1704                                   75278 non-null  int64  \n",
      " 50  1729                                   75278 non-null  int64  \n",
      " 51  2517                                   75278 non-null  int64  \n",
      " 52  2662                                   75278 non-null  int64  \n",
      " 53  23384                                  75278 non-null  int64  \n",
      "dtypes: float64(8), int64(44), object(2)\n",
      "memory usage: 31.0+ MB\n",
      "<class 'pandas.core.frame.DataFrame'>\n",
      "RangeIndex: 75278 entries, 0 to 75277\n",
      "Data columns (total 47 columns):\n",
      " #   Column                                 Non-Null Count  Dtype  \n",
      "---  ------                                 --------------  -----  \n",
      " 0   Var1                                   75278 non-null  float64\n",
      " 1   Var2                                   75278 non-null  float64\n",
      " 2   Var3                                   75278 non-null  float64\n",
      " 3   Var4                                   75278 non-null  float64\n",
      " 4   Var5                                   75278 non-null  float64\n",
      " 5   y_target                               75278 non-null  float64\n",
      " 6   Camp Start Date - Registration Date    75278 non-null  float64\n",
      " 7   Registration Date - First Interaction  75278 non-null  int64  \n",
      " 8   Camp Start Date - First Interaction    75278 non-null  int64  \n",
      " 9   Camp End Date - Registration Date      75278 non-null  int64  \n",
      " 10  Camp Length                            75278 non-null  int64  \n",
      " 11  Second                                 75278 non-null  int64  \n",
      " 12  Third                                  75278 non-null  int64  \n",
      " 13  A                                      75278 non-null  int64  \n",
      " 14  C                                      75278 non-null  int64  \n",
      " 15  D                                      75278 non-null  int64  \n",
      " 16  E                                      75278 non-null  int64  \n",
      " 17  F                                      75278 non-null  int64  \n",
      " 18  G                                      75278 non-null  int64  \n",
      " 19  2100                                   75278 non-null  int64  \n",
      " 20  2.0                                    75278 non-null  int64  \n",
      " 21  3.0                                    75278 non-null  int64  \n",
      " 22  4.0                                    75278 non-null  int64  \n",
      " 23  5.0                                    75278 non-null  int64  \n",
      " 24  6.0                                    75278 non-null  int64  \n",
      " 25  7.0                                    75278 non-null  int64  \n",
      " 26  8.0                                    75278 non-null  int64  \n",
      " 27  9.0                                    75278 non-null  int64  \n",
      " 28  10.0                                   75278 non-null  int64  \n",
      " 29  11.0                                   75278 non-null  int64  \n",
      " 30  12.0                                   75278 non-null  int64  \n",
      " 31  13.0                                   75278 non-null  int64  \n",
      " 32  14.0                                   75278 non-null  int64  \n",
      " 33  9999.0                                 75278 non-null  int64  \n",
      " 34  1                                      75278 non-null  int64  \n",
      " 35  2                                      75278 non-null  int64  \n",
      " 36  3                                      75278 non-null  int64  \n",
      " 37  4                                      75278 non-null  int64  \n",
      " 38  1036                                   75278 non-null  int64  \n",
      " 39  1216                                   75278 non-null  int64  \n",
      " 40  1217                                   75278 non-null  int64  \n",
      " 41  1352                                   75278 non-null  int64  \n",
      " 42  1704                                   75278 non-null  int64  \n",
      " 43  1729                                   75278 non-null  int64  \n",
      " 44  2517                                   75278 non-null  int64  \n",
      " 45  2662                                   75278 non-null  int64  \n",
      " 46  23384                                  75278 non-null  int64  \n",
      "dtypes: float64(7), int64(40)\n",
      "memory usage: 27.0 MB\n"
     ]
    }
   ],
   "source": [
    "df_hot = pd.read_csv('/home/allen/Galva/capstones/capstone2/src/explore/hot_code_NO_scale.csv')\n",
    "df_hot.info()\n",
    "df_hot=df_hot.drop(['Category1_x','Category2','Category3','Job_Type', 'online_score', 'City_Type','Health_Camp_ID'],axis=1)\n",
    "df_hot.info()\n",
    "df_hot['Camp Start Date - Registration Date'] = df_hot['Camp Start Date - Registration Date'].astype(int)"
   ]
  },
  {
   "cell_type": "code",
   "execution_count": 6,
   "metadata": {},
   "outputs": [],
   "source": [
    "d= ['delta_first_reg',\n",
    "       'interaction_regreister_delta', 'delta_first_start', 'delta_reg_end',\n",
    "       'Camp_Length', 'Second', 'Third', '1036', '1216', '23384', 'B', 'C',\n",
    "       'D', 'E', 'F', 'G', '2100', '2.0', '5.0', '8.0', '9.0', '10.0',\n",
    "       '9999.0', '1', '2', '3', '4']\n",
    "plain = checker.drop(d,axis=1)"
   ]
  },
  {
   "cell_type": "code",
   "execution_count": 7,
   "metadata": {},
   "outputs": [],
   "source": [
    "plain.to_csv('plain_df_to_test.csv', index=False)"
   ]
  },
  {
   "cell_type": "code",
   "execution_count": 8,
   "metadata": {},
   "outputs": [],
   "source": [
    "plt.rcParams['figure.dpi'] = 200"
   ]
  },
  {
   "cell_type": "code",
   "execution_count": 9,
   "metadata": {},
   "outputs": [],
   "source": [
    "from numpy import argmax "
   ]
  },
  {
   "cell_type": "code",
   "execution_count": 10,
   "metadata": {},
   "outputs": [
    {
     "data": {
      "text/plain": [
       "'\\n 6   delta_first_reg               75278 non-null  float64\\n 7   interaction_regreister_delta  75278 non-null  float64\\n 8   delta_first_start             75278 non-null  float64\\n 9   delta_reg_end                 75278 non-null  float64\\n\\n'"
      ]
     },
     "execution_count": 10,
     "metadata": {},
     "output_type": "execute_result"
    }
   ],
   "source": [
    "import seaborn as sns\n",
    "'''\n",
    " 6   delta_first_reg               75278 non-null  float64\n",
    " 7   interaction_regreister_delta  75278 non-null  float64\n",
    " 8   delta_first_start             75278 non-null  float64\n",
    " 9   delta_reg_end                 75278 non-null  float64\n",
    "\n",
    "'''"
   ]
  },
  {
   "cell_type": "code",
   "execution_count": 11,
   "metadata": {},
   "outputs": [
    {
     "data": {
      "text/plain": [
       "<AxesSubplot:>"
      ]
     },
     "execution_count": 11,
     "metadata": {},
     "output_type": "execute_result"
    },
    {
     "data": {
      "image/png": "[encoded data removed]",
      "text/plain": [
       "<Figure size 1200x800 with 1 Axes>"
      ]
     },
     "metadata": {},
     "output_type": "display_data"
    }
   ],
   "source": [
    "# make hist \n",
    "checker[checker['y_target'] ==1]['delta_first_reg'].hist(alpha=.6)\n",
    "checker[checker['y_target'] ==0]['delta_first_reg'].hist(alpha=.6)\n"
   ]
  },
  {
   "cell_type": "code",
   "execution_count": 12,
   "metadata": {},
   "outputs": [],
   "source": [
    "now = df_withID[(df_withID['City_Type']==23384) & (df_withID['y_target']==1)]"
   ]
  },
  {
   "cell_type": "code",
   "execution_count": null,
   "metadata": {},
   "outputs": [],
   "source": []
  },
  {
   "cell_type": "code",
   "execution_count": 13,
   "metadata": {},
   "outputs": [],
   "source": [
    "checker_base  = checker.copy() "
   ]
  },
  {
   "cell_type": "code",
   "execution_count": 14,
   "metadata": {},
   "outputs": [],
   "source": [
    "some_check = checker.dropna(axis=1)\n",
    "#print(some_check.info())"
   ]
  },
  {
   "cell_type": "code",
   "execution_count": 15,
   "metadata": {},
   "outputs": [],
   "source": [
    "l1_ratio = 0.4"
   ]
  },
  {
   "cell_type": "code",
   "execution_count": null,
   "metadata": {},
   "outputs": [],
   "source": []
  },
  {
   "cell_type": "code",
   "execution_count": null,
   "metadata": {},
   "outputs": [],
   "source": [
    "\n"
   ]
  },
  {
   "cell_type": "code",
   "execution_count": 16,
   "metadata": {},
   "outputs": [
    {
     "data": {
      "text/plain": [
       "Index(['Var1', 'Var2', 'Var3', 'Var4', 'Var5', 'y_target', 'delta_first_reg',\n",
       "       'interaction_regreister_delta', 'delta_first_start', 'delta_reg_end',\n",
       "       'Camp_Length', 'Second', 'Third', '1036', '1216', '1217', '1352',\n",
       "       '1704', '1729', '2517', '2662', '23384', 'B', 'C', 'D', 'E', 'F', 'G',\n",
       "       '2100', '2.0', '3.0', '4.0', '5.0', '6.0', '7.0', '8.0', '9.0', '10.0',\n",
       "       '11.0', '12.0', '13.0', '14.0', '9999.0', '1', '2', '3', '4'],\n",
       "      dtype='object')"
      ]
     },
     "execution_count": 16,
     "metadata": {},
     "output_type": "execute_result"
    }
   ],
   "source": [
    "checker_base.columns"
   ]
  },
  {
   "cell_type": "code",
   "execution_count": 17,
   "metadata": {},
   "outputs": [],
   "source": [
    "cb1 = checker_base.copy() \n",
    "cb2 = checker_base.copy()\n",
    "cb3 = checker_base.copy() \n",
    "cb4 = checker_base.copy() \n",
    "cb5 = checker_base.copy()  \n",
    "cb7 = checker_base.copy()  \n",
    "cb9 = checker_base.copy()  \n",
    "cb10 = checker_base.copy()  \n",
    "cb11 = checker_base.copy()  \n",
    "cb12 = checker_base.copy()  \n",
    "cb20 = checker_base.copy()  "
   ]
  },
  {
   "cell_type": "markdown",
   "metadata": {},
   "source": [
    "[[10087   817]\n",
    " [ 2007  2145]]\n"
   ]
  },
  {
   "cell_type": "code",
   "execution_count": null,
   "metadata": {},
   "outputs": [],
   "source": []
  },
  {
   "cell_type": "code",
   "execution_count": 18,
   "metadata": {},
   "outputs": [],
   "source": [
    "checkerxx = plain.copy()"
   ]
  },
  {
   "cell_type": "code",
   "execution_count": null,
   "metadata": {},
   "outputs": [],
   "source": [
    " "
   ]
  },
  {
   "cell_type": "code",
   "execution_count": null,
   "metadata": {},
   "outputs": [],
   "source": [
    " "
   ]
  },
  {
   "cell_type": "code",
   "execution_count": 19,
   "metadata": {},
   "outputs": [],
   "source": [
    "checker = checker.copy()\n",
    "checker = checker.drop(['Var4','11.0', '12.0', '13.0', '14.0','1217', '1352',\n",
    "       '1704', '1729', '2517', '2662','7.0','4.0','6.0','3.0'],axis=1)\n",
    "checker1 = checker.copy() \n",
    "\n",
    "checker3 = checker.copy() \n",
    "checker4 = checker.copy() \n",
    "checker5 = checker.copy() \n",
    "checker7 = checker.copy()  "
   ]
  },
  {
   "cell_type": "code",
   "execution_count": 20,
   "metadata": {},
   "outputs": [],
   "source": [
    "y_to_test = checkerxx['y_target']\n"
   ]
  },
  {
   "cell_type": "code",
   "execution_count": 21,
   "metadata": {},
   "outputs": [
    {
     "data": {
      "text/plain": [
       "LogisticRegression(n_jobs=1)"
      ]
     },
     "execution_count": 21,
     "metadata": {},
     "output_type": "execute_result"
    }
   ],
   "source": [
    "ynotx = y_to_test \n",
    "train_test_split(ynotx, shuffle=False) \n",
    "X_train,X_test,y_train,y_test = train_test_split(\n",
    "    checkerxx,ynotx,test_size = .5, random_state=101)\n",
    "\n",
    "\n",
    "from sklearn.linear_model import LogisticRegression\n",
    "logmodelx = LogisticRegression(penalty='l2', dual=False, tol=1e-4, C=1.0, \n",
    "        fit_intercept=True, intercept_scaling=1, class_weight=None, random_state=None, \n",
    "        solver='lbfgs', max_iter=100, multi_class='auto', verbose=0, warm_start=False, \n",
    "        n_jobs=1, l1_ratio=None ) \n",
    "logmodelx.fit(X_train, y_train)"
   ]
  },
  {
   "cell_type": "code",
   "execution_count": 22,
   "metadata": {},
   "outputs": [],
   "source": [
    "probax = logmodelx.predict_proba(X_test)[:,1]\n",
    "predx = logmodelx.predict(X_test)"
   ]
  },
  {
   "cell_type": "code",
   "execution_count": 23,
   "metadata": {},
   "outputs": [
    {
     "name": "stdout",
     "output_type": "stream",
     "text": [
      "37639\n",
      "37639\n",
      "37639\n",
      "37639\n",
      "37639\n",
      "37639\n"
     ]
    }
   ],
   "source": [
    "g = [ X_train, X_test, y_train,y_test,predx,probax]\n",
    "for i in g:\n",
    "    print(len(i))\n",
    "Xs = X_train - X_test "
   ]
  },
  {
   "cell_type": "code",
   "execution_count": 24,
   "metadata": {},
   "outputs": [
    {
     "data": {
      "text/plain": [
       "'\\nA. Take X_train - X_test that creates == TO_check <56458-18820> = 37639\\nB. Add the column from [logmodelx.predict_proba(X_test)[:,1]] to Take TO_check\\n\\ndef get_specifics(X_train, y_train,predx ):\\n\\n\\n\\n'"
      ]
     },
     "execution_count": 24,
     "metadata": {},
     "output_type": "execute_result"
    }
   ],
   "source": [
    "'''\n",
    "A. Take X_train - X_test that creates == TO_check <56458-18820> = 37639\n",
    "B. Add the column from [logmodelx.predict_proba(X_test)[:,1]] to Take TO_check\n",
    "\n",
    "def get_specifics(X_train, y_train,predx ):\n",
    "\n",
    "\n",
    "\n",
    "'''"
   ]
  },
  {
   "cell_type": "code",
   "execution_count": 25,
   "metadata": {},
   "outputs": [],
   "source": [
    "predsx, preds2x = predx >= .5 ,predx >= .7\n",
    "# for name, coef in zip(predsx[1:], logmodelx.coef_[0]):\n",
    "#     print(\"{0}: {1:0.4f}\".format(name, coef))"
   ]
  },
  {
   "cell_type": "code",
   "execution_count": 26,
   "metadata": {},
   "outputs": [
    {
     "name": "stdout",
     "output_type": "stream",
     "text": [
      "37639 37639 37639\n",
      "0\n"
     ]
    }
   ],
   "source": [
    "print(len(predsx), len(X_train), len(X_test))\n",
    "X_train_len = len(X_train)\n",
    "X_test_len = len(X_test)\n",
    "print(X_train_len - X_test_len)"
   ]
  },
  {
   "cell_type": "code",
   "execution_count": 27,
   "metadata": {},
   "outputs": [
    {
     "name": "stdout",
     "output_type": "stream",
     "text": [
      "              precision    recall  f1-score   support\n",
      "\n",
      "         0.0       1.00      1.00      1.00     27343\n",
      "         1.0       1.00      1.00      1.00     10296\n",
      "\n",
      "    accuracy                           1.00     37639\n",
      "   macro avg       1.00      1.00      1.00     37639\n",
      "weighted avg       1.00      1.00      1.00     37639\n",
      "\n"
     ]
    }
   ],
   "source": [
    "from sklearn.metrics import classification_report\n",
    "print(classification_report(y_test,preds2x) ) "
   ]
  },
  {
   "cell_type": "code",
   "execution_count": 28,
   "metadata": {},
   "outputs": [
    {
     "name": "stdout",
     "output_type": "stream",
     "text": [
      "[[27343     0]\n",
      " [    0 10296]]\n"
     ]
    }
   ],
   "source": [
    "print(confusion_matrix(y_test,preds2x)) "
   ]
  },
  {
   "cell_type": "code",
   "execution_count": 29,
   "metadata": {},
   "outputs": [
    {
     "name": "stdout",
     "output_type": "stream",
     "text": [
      "              precision    recall  f1-score   support\n",
      "\n",
      "         0.0       1.00      1.00      1.00     27343\n",
      "         1.0       1.00      1.00      1.00     10296\n",
      "\n",
      "    accuracy                           1.00     37639\n",
      "   macro avg       1.00      1.00      1.00     37639\n",
      "weighted avg       1.00      1.00      1.00     37639\n",
      "\n"
     ]
    }
   ],
   "source": [
    "print(classification_report(y_test,predsx) ) "
   ]
  },
  {
   "cell_type": "code",
   "execution_count": 30,
   "metadata": {},
   "outputs": [
    {
     "name": "stdout",
     "output_type": "stream",
     "text": [
      "[[27343     0]\n",
      " [    0 10296]]\n"
     ]
    }
   ],
   "source": [
    "to_try = confusion_matrix(y_test,predsx)\n",
    "print(to_try) "
   ]
  },
  {
   "cell_type": "code",
   "execution_count": 31,
   "metadata": {},
   "outputs": [],
   "source": [
    "from sklearn.inspection import partial_dependence\n",
    "from sklearn.inspection import plot_partial_dependence"
   ]
  },
  {
   "cell_type": "code",
   "execution_count": null,
   "metadata": {},
   "outputs": [],
   "source": []
  },
  {
   "cell_type": "code",
   "execution_count": 32,
   "metadata": {},
   "outputs": [],
   "source": [
    "# features = ['Var5'] \n",
    "\n",
    "# display = plot_partial_dependence(logmodelx, X_train, features)\n",
    "\n",
    "# display.figure_.suptitle( 'Partial dependence ' )\n",
    "# display.figure_.subplots_adjust(hspace=0.3)"
   ]
  },
  {
   "cell_type": "code",
   "execution_count": 33,
   "metadata": {},
   "outputs": [],
   "source": [
    "#ynot1 = checker1.pop('y_target') #check1 = dataframe \n",
    "ynot1 = cb1.pop('y_target')\n",
    "\n",
    "train_test_split(ynot1, shuffle=False) \n",
    "X_train,X_test,y_train,y_test = train_test_split(\n",
    "    checker1,ynot1,test_size = .5, random_state=101)"
   ]
  },
  {
   "cell_type": "code",
   "execution_count": 34,
   "metadata": {},
   "outputs": [
    {
     "data": {
      "text/plain": [
       "LogisticRegression(n_jobs=-1)"
      ]
     },
     "execution_count": 34,
     "metadata": {},
     "output_type": "execute_result"
    }
   ],
   "source": [
    "from sklearn.linear_model import LogisticRegression\n",
    "\n",
    "logmodel = LogisticRegression(penalty='l2', dual=False, tol=1e-4, C=1.0, \n",
    "        fit_intercept=True, intercept_scaling=1, class_weight=None, random_state=None, \n",
    "        solver='lbfgs', max_iter=100, multi_class='auto', verbose=0, warm_start=False, \n",
    "        n_jobs=-1, l1_ratio=None ) \n",
    "logmodel.fit(X_train, y_train)"
   ]
  },
  {
   "cell_type": "code",
   "execution_count": 35,
   "metadata": {},
   "outputs": [],
   "source": [
    "pure_probaz = logmodel.predict_proba(X_test)[:,1]\n",
    "predictionsz = logmodel.predict(X_test) "
   ]
  },
  {
   "cell_type": "code",
   "execution_count": 36,
   "metadata": {},
   "outputs": [
    {
     "name": "stdout",
     "output_type": "stream",
     "text": [
      "1.0\n"
     ]
    }
   ],
   "source": [
    "roc_auc_logmodel = roc_auc_score(y_test, logmodel.fit(X_train, y_train).predict_proba(X_test)[:, -1]) \n",
    "print(roc_auc_logmodel)"
   ]
  },
  {
   "cell_type": "code",
   "execution_count": 37,
   "metadata": {},
   "outputs": [],
   "source": [
    "# logmodel_disp = plot_roc_curve(logmodel, X_test, y_test)\n",
    "# plt.show()"
   ]
  },
  {
   "cell_type": "code",
   "execution_count": 38,
   "metadata": {},
   "outputs": [
    {
     "name": "stdout",
     "output_type": "stream",
     "text": [
      "False: 0.0086\n",
      "False: -0.0213\n",
      "False: -0.0050\n",
      "False: 0.0728\n",
      "False: 13.8320\n",
      "False: -0.0037\n",
      "False: 0.0146\n",
      "False: 0.0150\n",
      "False: 0.0780\n",
      "True: 0.0962\n",
      "True: 0.4925\n",
      "False: 0.4112\n",
      "False: -0.0051\n",
      "False: 0.0279\n",
      "True: -0.1876\n",
      "False: -0.1778\n",
      "True: 0.1762\n",
      "True: 0.1827\n",
      "True: -0.4102\n",
      "False: -0.4912\n",
      "False: 0.4112\n",
      "True: -0.0808\n",
      "True: 0.0151\n",
      "True: 0.0162\n",
      "False: -0.0112\n",
      "False: -0.0168\n",
      "False: 0.0136\n",
      "False: -0.1249\n",
      "False: 0.0885\n",
      "False: 0.1150\n",
      "False: 0.0512\n",
      "False: 0.0264\n"
     ]
    }
   ],
   "source": [
    "predsz, preds2z = predictionsz >= .4 ,predictionsz >= .5\n",
    "for name, coef in zip(preds2z[1:], logmodel.coef_[0]):\n",
    "    print(\"{0}: {1:0.4f}\".format(name, coef))"
   ]
  },
  {
   "cell_type": "code",
   "execution_count": 39,
   "metadata": {},
   "outputs": [
    {
     "name": "stdout",
     "output_type": "stream",
     "text": [
      "              precision    recall  f1-score   support\n",
      "\n",
      "         0.0       1.00      1.00      1.00     27343\n",
      "         1.0       1.00      1.00      1.00     10296\n",
      "\n",
      "    accuracy                           1.00     37639\n",
      "   macro avg       1.00      1.00      1.00     37639\n",
      "weighted avg       1.00      1.00      1.00     37639\n",
      "\n"
     ]
    }
   ],
   "source": [
    "from sklearn.metrics import classification_report\n",
    "print(classification_report(y_test,preds2z) ) "
   ]
  },
  {
   "cell_type": "code",
   "execution_count": 40,
   "metadata": {},
   "outputs": [
    {
     "name": "stdout",
     "output_type": "stream",
     "text": [
      "              precision    recall  f1-score   support\n",
      "\n",
      "         0.0       1.00      1.00      1.00     27343\n",
      "         1.0       1.00      1.00      1.00     10296\n",
      "\n",
      "    accuracy                           1.00     37639\n",
      "   macro avg       1.00      1.00      1.00     37639\n",
      "weighted avg       1.00      1.00      1.00     37639\n",
      "\n"
     ]
    }
   ],
   "source": [
    "print(classification_report(y_test,predsz) )"
   ]
  },
  {
   "cell_type": "code",
   "execution_count": 41,
   "metadata": {},
   "outputs": [
    {
     "name": "stdout",
     "output_type": "stream",
     "text": [
      "[[27343     0]\n",
      " [    0 10296]]\n"
     ]
    }
   ],
   "source": [
    "print(confusion_matrix(y_test,predsz))  "
   ]
  },
  {
   "cell_type": "code",
   "execution_count": 42,
   "metadata": {},
   "outputs": [
    {
     "name": "stdout",
     "output_type": "stream",
     "text": [
      "[[27343     0]\n",
      " [    0 10296]]\n"
     ]
    }
   ],
   "source": [
    "print(confusion_matrix(y_test,preds2z)) "
   ]
  },
  {
   "cell_type": "code",
   "execution_count": 43,
   "metadata": {},
   "outputs": [],
   "source": [
    "from statsmodels.tools import add_constant\n",
    "from statsmodels.discrete.discrete_model import Logit"
   ]
  },
  {
   "cell_type": "code",
   "execution_count": 44,
   "metadata": {},
   "outputs": [
    {
     "name": "stdout",
     "output_type": "stream",
     "text": [
      "Optimization terminated successfully.\n",
      "         Current function value: 0.454224\n",
      "         Iterations 7\n"
     ]
    }
   ],
   "source": [
    "ynot3 = checker3.pop('y_target')\n",
    "cb3y = cb3.pop('y_target')\n",
    "\n",
    "train_test_split(cb3, shuffle=False) \n",
    "X_train,X_test,y_train,y_test = train_test_split(\n",
    "    cb3,cb3y,test_size = .5, random_state=42)\n",
    "\n",
    "\n",
    "\n",
    "X = checker3\n",
    "X_const = add_constant(X, prepend=True)\n",
    "y3 = ynot3 \n",
    "logit_model = Logit(y3, X_const).fit()\n",
    "# PerfectSeparationError: Perfect separation detected, results not available#\n",
    "# Is the above from not train_test split ?! "
   ]
  },
  {
   "cell_type": "code",
   "execution_count": 45,
   "metadata": {},
   "outputs": [],
   "source": [
    "# logit_model.summary()"
   ]
  },
  {
   "cell_type": "code",
   "execution_count": 46,
   "metadata": {},
   "outputs": [
    {
     "data": {
      "text/plain": [
       "0.3000079704561758"
      ]
     },
     "execution_count": 46,
     "metadata": {},
     "output_type": "execute_result"
    }
   ],
   "source": [
    "22584/75278"
   ]
  },
  {
   "cell_type": "code",
   "execution_count": 47,
   "metadata": {},
   "outputs": [],
   "source": [
    "# 15138+ 1526 +2267+ 3653 \n"
   ]
  },
  {
   "cell_type": "code",
   "execution_count": 48,
   "metadata": {},
   "outputs": [],
   "source": [
    "#ynot1 = checker1.pop('y_target')\n",
    "ynot1 = cb12.pop('y_target')\n",
    "one_hot7 = df_hot.copy()"
   ]
  },
  {
   "cell_type": "code",
   "execution_count": 49,
   "metadata": {},
   "outputs": [
    {
     "ename": "ValueError",
     "evalue": "could not convert string to float: '2005-06-03'",
     "output_type": "error",
     "traceback": [
      "\u001b[0;31m---------------------------------------------------------------------------\u001b[0m",
      "\u001b[0;31mValueError\u001b[0m                                Traceback (most recent call last)",
      "\u001b[0;32m<ipython-input-49-3265c0eef4ed>\u001b[0m in \u001b[0;36m<module>\u001b[0;34m\u001b[0m\n\u001b[1;32m     15\u001b[0m \u001b[0;34m\u001b[0m\u001b[0m\n\u001b[1;32m     16\u001b[0m \u001b[0mrfc\u001b[0m \u001b[0;34m=\u001b[0m \u001b[0mRandomForestClassifier\u001b[0m\u001b[0;34m(\u001b[0m\u001b[0mn_estimators\u001b[0m \u001b[0;34m=\u001b[0m \u001b[0;36m200\u001b[0m\u001b[0;34m,\u001b[0m \u001b[0mmax_depth\u001b[0m \u001b[0;34m=\u001b[0m \u001b[0;36m10\u001b[0m\u001b[0;34m)\u001b[0m\u001b[0;34m\u001b[0m\u001b[0;34m\u001b[0m\u001b[0m\n\u001b[0;32m---> 17\u001b[0;31m \u001b[0mrfc\u001b[0m\u001b[0;34m.\u001b[0m\u001b[0mfit\u001b[0m\u001b[0;34m(\u001b[0m\u001b[0mX_train7\u001b[0m\u001b[0;34m,\u001b[0m\u001b[0my_train7\u001b[0m\u001b[0;34m)\u001b[0m\u001b[0;34m\u001b[0m\u001b[0;34m\u001b[0m\u001b[0m\n\u001b[0m\u001b[1;32m     18\u001b[0m \u001b[0mrfc_preds\u001b[0m \u001b[0;34m=\u001b[0m \u001b[0mrfc\u001b[0m\u001b[0;34m.\u001b[0m\u001b[0mpredict\u001b[0m\u001b[0;34m(\u001b[0m\u001b[0mX_test7\u001b[0m\u001b[0;34m)\u001b[0m\u001b[0;34m\u001b[0m\u001b[0;34m\u001b[0m\u001b[0m\n\u001b[1;32m     19\u001b[0m \u001b[0mroc_auc\u001b[0m\u001b[0;34m=\u001b[0m\u001b[0mroc_auc_score\u001b[0m\u001b[0;34m(\u001b[0m\u001b[0my_test7\u001b[0m\u001b[0;34m,\u001b[0m \u001b[0mrfc\u001b[0m\u001b[0;34m.\u001b[0m\u001b[0mpredict_proba\u001b[0m\u001b[0;34m(\u001b[0m\u001b[0mX_test7\u001b[0m\u001b[0;34m)\u001b[0m\u001b[0;34m[\u001b[0m\u001b[0;34m:\u001b[0m\u001b[0;34m,\u001b[0m \u001b[0;34m-\u001b[0m\u001b[0;36m1\u001b[0m\u001b[0;34m]\u001b[0m\u001b[0;34m)\u001b[0m\u001b[0;34m\u001b[0m\u001b[0;34m\u001b[0m\u001b[0m\n",
      "\u001b[0;32m~/anaconda3/lib/python3.8/site-packages/sklearn/ensemble/_forest.py\u001b[0m in \u001b[0;36mfit\u001b[0;34m(self, X, y, sample_weight)\u001b[0m\n\u001b[1;32m    301\u001b[0m                 \u001b[0;34m\"sparse multilabel-indicator for y is not supported.\"\u001b[0m\u001b[0;34m\u001b[0m\u001b[0;34m\u001b[0m\u001b[0m\n\u001b[1;32m    302\u001b[0m             )\n\u001b[0;32m--> 303\u001b[0;31m         X, y = self._validate_data(X, y, multi_output=True,\n\u001b[0m\u001b[1;32m    304\u001b[0m                                    accept_sparse=\"csc\", dtype=DTYPE)\n\u001b[1;32m    305\u001b[0m         \u001b[0;32mif\u001b[0m \u001b[0msample_weight\u001b[0m \u001b[0;32mis\u001b[0m \u001b[0;32mnot\u001b[0m \u001b[0;32mNone\u001b[0m\u001b[0;34m:\u001b[0m\u001b[0;34m\u001b[0m\u001b[0;34m\u001b[0m\u001b[0m\n",
      "\u001b[0;32m~/anaconda3/lib/python3.8/site-packages/sklearn/base.py\u001b[0m in \u001b[0;36m_validate_data\u001b[0;34m(self, X, y, reset, validate_separately, **check_params)\u001b[0m\n\u001b[1;32m    430\u001b[0m                 \u001b[0my\u001b[0m \u001b[0;34m=\u001b[0m \u001b[0mcheck_array\u001b[0m\u001b[0;34m(\u001b[0m\u001b[0my\u001b[0m\u001b[0;34m,\u001b[0m \u001b[0;34m**\u001b[0m\u001b[0mcheck_y_params\u001b[0m\u001b[0;34m)\u001b[0m\u001b[0;34m\u001b[0m\u001b[0;34m\u001b[0m\u001b[0m\n\u001b[1;32m    431\u001b[0m             \u001b[0;32melse\u001b[0m\u001b[0;34m:\u001b[0m\u001b[0;34m\u001b[0m\u001b[0;34m\u001b[0m\u001b[0m\n\u001b[0;32m--> 432\u001b[0;31m                 \u001b[0mX\u001b[0m\u001b[0;34m,\u001b[0m \u001b[0my\u001b[0m \u001b[0;34m=\u001b[0m \u001b[0mcheck_X_y\u001b[0m\u001b[0;34m(\u001b[0m\u001b[0mX\u001b[0m\u001b[0;34m,\u001b[0m \u001b[0my\u001b[0m\u001b[0;34m,\u001b[0m \u001b[0;34m**\u001b[0m\u001b[0mcheck_params\u001b[0m\u001b[0;34m)\u001b[0m\u001b[0;34m\u001b[0m\u001b[0;34m\u001b[0m\u001b[0m\n\u001b[0m\u001b[1;32m    433\u001b[0m             \u001b[0mout\u001b[0m \u001b[0;34m=\u001b[0m \u001b[0mX\u001b[0m\u001b[0;34m,\u001b[0m \u001b[0my\u001b[0m\u001b[0;34m\u001b[0m\u001b[0;34m\u001b[0m\u001b[0m\n\u001b[1;32m    434\u001b[0m \u001b[0;34m\u001b[0m\u001b[0m\n",
      "\u001b[0;32m~/anaconda3/lib/python3.8/site-packages/sklearn/utils/validation.py\u001b[0m in \u001b[0;36minner_f\u001b[0;34m(*args, **kwargs)\u001b[0m\n\u001b[1;32m     70\u001b[0m                           FutureWarning)\n\u001b[1;32m     71\u001b[0m         \u001b[0mkwargs\u001b[0m\u001b[0;34m.\u001b[0m\u001b[0mupdate\u001b[0m\u001b[0;34m(\u001b[0m\u001b[0;34m{\u001b[0m\u001b[0mk\u001b[0m\u001b[0;34m:\u001b[0m \u001b[0marg\u001b[0m \u001b[0;32mfor\u001b[0m \u001b[0mk\u001b[0m\u001b[0;34m,\u001b[0m \u001b[0marg\u001b[0m \u001b[0;32min\u001b[0m \u001b[0mzip\u001b[0m\u001b[0;34m(\u001b[0m\u001b[0msig\u001b[0m\u001b[0;34m.\u001b[0m\u001b[0mparameters\u001b[0m\u001b[0;34m,\u001b[0m \u001b[0margs\u001b[0m\u001b[0;34m)\u001b[0m\u001b[0;34m}\u001b[0m\u001b[0;34m)\u001b[0m\u001b[0;34m\u001b[0m\u001b[0;34m\u001b[0m\u001b[0m\n\u001b[0;32m---> 72\u001b[0;31m         \u001b[0;32mreturn\u001b[0m \u001b[0mf\u001b[0m\u001b[0;34m(\u001b[0m\u001b[0;34m**\u001b[0m\u001b[0mkwargs\u001b[0m\u001b[0;34m)\u001b[0m\u001b[0;34m\u001b[0m\u001b[0;34m\u001b[0m\u001b[0m\n\u001b[0m\u001b[1;32m     73\u001b[0m     \u001b[0;32mreturn\u001b[0m \u001b[0minner_f\u001b[0m\u001b[0;34m\u001b[0m\u001b[0;34m\u001b[0m\u001b[0m\n\u001b[1;32m     74\u001b[0m \u001b[0;34m\u001b[0m\u001b[0m\n",
      "\u001b[0;32m~/anaconda3/lib/python3.8/site-packages/sklearn/utils/validation.py\u001b[0m in \u001b[0;36mcheck_X_y\u001b[0;34m(X, y, accept_sparse, accept_large_sparse, dtype, order, copy, force_all_finite, ensure_2d, allow_nd, multi_output, ensure_min_samples, ensure_min_features, y_numeric, estimator)\u001b[0m\n\u001b[1;32m    793\u001b[0m         \u001b[0;32mraise\u001b[0m \u001b[0mValueError\u001b[0m\u001b[0;34m(\u001b[0m\u001b[0;34m\"y cannot be None\"\u001b[0m\u001b[0;34m)\u001b[0m\u001b[0;34m\u001b[0m\u001b[0;34m\u001b[0m\u001b[0m\n\u001b[1;32m    794\u001b[0m \u001b[0;34m\u001b[0m\u001b[0m\n\u001b[0;32m--> 795\u001b[0;31m     X = check_array(X, accept_sparse=accept_sparse,\n\u001b[0m\u001b[1;32m    796\u001b[0m                     \u001b[0maccept_large_sparse\u001b[0m\u001b[0;34m=\u001b[0m\u001b[0maccept_large_sparse\u001b[0m\u001b[0;34m,\u001b[0m\u001b[0;34m\u001b[0m\u001b[0;34m\u001b[0m\u001b[0m\n\u001b[1;32m    797\u001b[0m                     \u001b[0mdtype\u001b[0m\u001b[0;34m=\u001b[0m\u001b[0mdtype\u001b[0m\u001b[0;34m,\u001b[0m \u001b[0morder\u001b[0m\u001b[0;34m=\u001b[0m\u001b[0morder\u001b[0m\u001b[0;34m,\u001b[0m \u001b[0mcopy\u001b[0m\u001b[0;34m=\u001b[0m\u001b[0mcopy\u001b[0m\u001b[0;34m,\u001b[0m\u001b[0;34m\u001b[0m\u001b[0;34m\u001b[0m\u001b[0m\n",
      "\u001b[0;32m~/anaconda3/lib/python3.8/site-packages/sklearn/utils/validation.py\u001b[0m in \u001b[0;36minner_f\u001b[0;34m(*args, **kwargs)\u001b[0m\n\u001b[1;32m     70\u001b[0m                           FutureWarning)\n\u001b[1;32m     71\u001b[0m         \u001b[0mkwargs\u001b[0m\u001b[0;34m.\u001b[0m\u001b[0mupdate\u001b[0m\u001b[0;34m(\u001b[0m\u001b[0;34m{\u001b[0m\u001b[0mk\u001b[0m\u001b[0;34m:\u001b[0m \u001b[0marg\u001b[0m \u001b[0;32mfor\u001b[0m \u001b[0mk\u001b[0m\u001b[0;34m,\u001b[0m \u001b[0marg\u001b[0m \u001b[0;32min\u001b[0m \u001b[0mzip\u001b[0m\u001b[0;34m(\u001b[0m\u001b[0msig\u001b[0m\u001b[0;34m.\u001b[0m\u001b[0mparameters\u001b[0m\u001b[0;34m,\u001b[0m \u001b[0margs\u001b[0m\u001b[0;34m)\u001b[0m\u001b[0;34m}\u001b[0m\u001b[0;34m)\u001b[0m\u001b[0;34m\u001b[0m\u001b[0;34m\u001b[0m\u001b[0m\n\u001b[0;32m---> 72\u001b[0;31m         \u001b[0;32mreturn\u001b[0m \u001b[0mf\u001b[0m\u001b[0;34m(\u001b[0m\u001b[0;34m**\u001b[0m\u001b[0mkwargs\u001b[0m\u001b[0;34m)\u001b[0m\u001b[0;34m\u001b[0m\u001b[0;34m\u001b[0m\u001b[0m\n\u001b[0m\u001b[1;32m     73\u001b[0m     \u001b[0;32mreturn\u001b[0m \u001b[0minner_f\u001b[0m\u001b[0;34m\u001b[0m\u001b[0;34m\u001b[0m\u001b[0m\n\u001b[1;32m     74\u001b[0m \u001b[0;34m\u001b[0m\u001b[0m\n",
      "\u001b[0;32m~/anaconda3/lib/python3.8/site-packages/sklearn/utils/validation.py\u001b[0m in \u001b[0;36mcheck_array\u001b[0;34m(array, accept_sparse, accept_large_sparse, dtype, order, copy, force_all_finite, ensure_2d, allow_nd, ensure_min_samples, ensure_min_features, estimator)\u001b[0m\n\u001b[1;32m    596\u001b[0m                     \u001b[0marray\u001b[0m \u001b[0;34m=\u001b[0m \u001b[0marray\u001b[0m\u001b[0;34m.\u001b[0m\u001b[0mastype\u001b[0m\u001b[0;34m(\u001b[0m\u001b[0mdtype\u001b[0m\u001b[0;34m,\u001b[0m \u001b[0mcasting\u001b[0m\u001b[0;34m=\u001b[0m\u001b[0;34m\"unsafe\"\u001b[0m\u001b[0;34m,\u001b[0m \u001b[0mcopy\u001b[0m\u001b[0;34m=\u001b[0m\u001b[0;32mFalse\u001b[0m\u001b[0;34m)\u001b[0m\u001b[0;34m\u001b[0m\u001b[0;34m\u001b[0m\u001b[0m\n\u001b[1;32m    597\u001b[0m                 \u001b[0;32melse\u001b[0m\u001b[0;34m:\u001b[0m\u001b[0;34m\u001b[0m\u001b[0;34m\u001b[0m\u001b[0m\n\u001b[0;32m--> 598\u001b[0;31m                     \u001b[0marray\u001b[0m \u001b[0;34m=\u001b[0m \u001b[0mnp\u001b[0m\u001b[0;34m.\u001b[0m\u001b[0masarray\u001b[0m\u001b[0;34m(\u001b[0m\u001b[0marray\u001b[0m\u001b[0;34m,\u001b[0m \u001b[0morder\u001b[0m\u001b[0;34m=\u001b[0m\u001b[0morder\u001b[0m\u001b[0;34m,\u001b[0m \u001b[0mdtype\u001b[0m\u001b[0;34m=\u001b[0m\u001b[0mdtype\u001b[0m\u001b[0;34m)\u001b[0m\u001b[0;34m\u001b[0m\u001b[0;34m\u001b[0m\u001b[0m\n\u001b[0m\u001b[1;32m    599\u001b[0m             \u001b[0;32mexcept\u001b[0m \u001b[0mComplexWarning\u001b[0m\u001b[0;34m:\u001b[0m\u001b[0;34m\u001b[0m\u001b[0;34m\u001b[0m\u001b[0m\n\u001b[1;32m    600\u001b[0m                 raise ValueError(\"Complex data not supported\\n\"\n",
      "\u001b[0;32m~/anaconda3/lib/python3.8/site-packages/numpy/core/_asarray.py\u001b[0m in \u001b[0;36masarray\u001b[0;34m(a, dtype, order)\u001b[0m\n\u001b[1;32m     81\u001b[0m \u001b[0;34m\u001b[0m\u001b[0m\n\u001b[1;32m     82\u001b[0m     \"\"\"\n\u001b[0;32m---> 83\u001b[0;31m     \u001b[0;32mreturn\u001b[0m \u001b[0marray\u001b[0m\u001b[0;34m(\u001b[0m\u001b[0ma\u001b[0m\u001b[0;34m,\u001b[0m \u001b[0mdtype\u001b[0m\u001b[0;34m,\u001b[0m \u001b[0mcopy\u001b[0m\u001b[0;34m=\u001b[0m\u001b[0;32mFalse\u001b[0m\u001b[0;34m,\u001b[0m \u001b[0morder\u001b[0m\u001b[0;34m=\u001b[0m\u001b[0morder\u001b[0m\u001b[0;34m)\u001b[0m\u001b[0;34m\u001b[0m\u001b[0;34m\u001b[0m\u001b[0m\n\u001b[0m\u001b[1;32m     84\u001b[0m \u001b[0;34m\u001b[0m\u001b[0m\n\u001b[1;32m     85\u001b[0m \u001b[0;34m\u001b[0m\u001b[0m\n",
      "\u001b[0;32m~/anaconda3/lib/python3.8/site-packages/pandas/core/generic.py\u001b[0m in \u001b[0;36m__array__\u001b[0;34m(self, dtype)\u001b[0m\n\u001b[1;32m   1779\u001b[0m \u001b[0;34m\u001b[0m\u001b[0m\n\u001b[1;32m   1780\u001b[0m     \u001b[0;32mdef\u001b[0m \u001b[0m__array__\u001b[0m\u001b[0;34m(\u001b[0m\u001b[0mself\u001b[0m\u001b[0;34m,\u001b[0m \u001b[0mdtype\u001b[0m\u001b[0;34m=\u001b[0m\u001b[0;32mNone\u001b[0m\u001b[0;34m)\u001b[0m \u001b[0;34m->\u001b[0m \u001b[0mnp\u001b[0m\u001b[0;34m.\u001b[0m\u001b[0mndarray\u001b[0m\u001b[0;34m:\u001b[0m\u001b[0;34m\u001b[0m\u001b[0;34m\u001b[0m\u001b[0m\n\u001b[0;32m-> 1781\u001b[0;31m         \u001b[0;32mreturn\u001b[0m \u001b[0mnp\u001b[0m\u001b[0;34m.\u001b[0m\u001b[0masarray\u001b[0m\u001b[0;34m(\u001b[0m\u001b[0mself\u001b[0m\u001b[0;34m.\u001b[0m\u001b[0m_values\u001b[0m\u001b[0;34m,\u001b[0m \u001b[0mdtype\u001b[0m\u001b[0;34m=\u001b[0m\u001b[0mdtype\u001b[0m\u001b[0;34m)\u001b[0m\u001b[0;34m\u001b[0m\u001b[0;34m\u001b[0m\u001b[0m\n\u001b[0m\u001b[1;32m   1782\u001b[0m \u001b[0;34m\u001b[0m\u001b[0m\n\u001b[1;32m   1783\u001b[0m     \u001b[0;32mdef\u001b[0m \u001b[0m__array_wrap__\u001b[0m\u001b[0;34m(\u001b[0m\u001b[0mself\u001b[0m\u001b[0;34m,\u001b[0m \u001b[0mresult\u001b[0m\u001b[0;34m,\u001b[0m \u001b[0mcontext\u001b[0m\u001b[0;34m=\u001b[0m\u001b[0;32mNone\u001b[0m\u001b[0;34m)\u001b[0m\u001b[0;34m:\u001b[0m\u001b[0;34m\u001b[0m\u001b[0;34m\u001b[0m\u001b[0m\n",
      "\u001b[0;32m~/anaconda3/lib/python3.8/site-packages/numpy/core/_asarray.py\u001b[0m in \u001b[0;36masarray\u001b[0;34m(a, dtype, order)\u001b[0m\n\u001b[1;32m     81\u001b[0m \u001b[0;34m\u001b[0m\u001b[0m\n\u001b[1;32m     82\u001b[0m     \"\"\"\n\u001b[0;32m---> 83\u001b[0;31m     \u001b[0;32mreturn\u001b[0m \u001b[0marray\u001b[0m\u001b[0;34m(\u001b[0m\u001b[0ma\u001b[0m\u001b[0;34m,\u001b[0m \u001b[0mdtype\u001b[0m\u001b[0;34m,\u001b[0m \u001b[0mcopy\u001b[0m\u001b[0;34m=\u001b[0m\u001b[0;32mFalse\u001b[0m\u001b[0;34m,\u001b[0m \u001b[0morder\u001b[0m\u001b[0;34m=\u001b[0m\u001b[0morder\u001b[0m\u001b[0;34m)\u001b[0m\u001b[0;34m\u001b[0m\u001b[0;34m\u001b[0m\u001b[0m\n\u001b[0m\u001b[1;32m     84\u001b[0m \u001b[0;34m\u001b[0m\u001b[0m\n\u001b[1;32m     85\u001b[0m \u001b[0;34m\u001b[0m\u001b[0m\n",
      "\u001b[0;31mValueError\u001b[0m: could not convert string to float: '2005-06-03'"
     ]
    }
   ],
   "source": [
    "from sklearn.ensemble import RandomForestClassifier\n",
    "# y7 = one_hot7.pop('y_target')\n",
    "# X7 = one_hot7\n",
    "\n",
    "y = checker7.pop('y_target')\n",
    "X = checker7\n",
    "\n",
    "# y = cb7.pop('y_target')\n",
    "# X = cb7\n",
    "\n",
    "y= now.pop('y_target')\n",
    "x= now\n",
    "\n",
    "X_train7, X_test7, y_train7, y_test7 = train_test_split(now, y, random_state=42)\n",
    "\n",
    "rfc = RandomForestClassifier(n_estimators = 200, max_depth = 10)\n",
    "rfc.fit(X_train7,y_train7)\n",
    "rfc_preds = rfc.predict(X_test7)\n",
    "roc_auc=roc_auc_score(y_test7, rfc.predict_proba(X_test7)[:, -1])\n",
    "\n"
   ]
  },
  {
   "cell_type": "code",
   "execution_count": null,
   "metadata": {},
   "outputs": [],
   "source": [
    " \n",
    "rf_no_scale_disp = plot_roc_curve(rfc, X_test7, y_test7)\n",
    "plt.show()"
   ]
  },
  {
   "cell_type": "code",
   "execution_count": null,
   "metadata": {},
   "outputs": [],
   "source": [
    "one_hot7.Third"
   ]
  },
  {
   "cell_type": "code",
   "execution_count": null,
   "metadata": {},
   "outputs": [],
   "source": [
    "features = ['Camp Start Date - Registration Date'] \n",
    "\n",
    "display = plot_partial_dependence(rfc, X_train7, features)\n",
    "\n",
    "display.figure_.suptitle( 'Partial dependence ' )\n",
    "display.figure_.subplots_adjust(hspace=0.3)"
   ]
  },
  {
   "cell_type": "code",
   "execution_count": null,
   "metadata": {},
   "outputs": [],
   "source": [
    "features = ['Camp Length'] \n",
    "\n",
    "display = plot_partial_dependence(rfc, X_train7, features)\n",
    "\n",
    "display.figure_.suptitle( 'Partial dependence ' )\n",
    "display.figure_.subplots_adjust(hspace=0.3)"
   ]
  },
  {
   "cell_type": "code",
   "execution_count": null,
   "metadata": {},
   "outputs": [],
   "source": [
    "features = ['Camp End Date - Registration Date'] \n",
    "\n",
    "display = plot_partial_dependence(rfc, X_train7, features)\n",
    "\n",
    "display.figure_.suptitle( 'Partial dependence ' )\n",
    "display.figure_.subplots_adjust(hspace=0.3)"
   ]
  },
  {
   "cell_type": "code",
   "execution_count": null,
   "metadata": {},
   "outputs": [],
   "source": [
    "features = ['Third'] \n",
    "\n",
    "display = plot_partial_dependence(rfc, X_train7, features)\n",
    "\n",
    "display.figure_.suptitle( 'Partial dependence ' )\n",
    "display.figure_.subplots_adjust(hspace=0.3)"
   ]
  },
  {
   "cell_type": "code",
   "execution_count": null,
   "metadata": {},
   "outputs": [],
   "source": [
    "from sklearn.svm import SVC\n",
    "from sklearn.metrics import plot_roc_curve\n",
    "\n",
    "# y = checker.pop('y_target')\n",
    "# X = checker\n",
    "\n",
    "y = cb4.pop('y_target')\n",
    "X = cb4\n",
    "\n",
    "X_train4, X_test4, y_train4, y_test4 = train_test_split(X, y, random_state=42)\n",
    "\n",
    "# svc = SVC(random_state=42, probability = True)\n",
    "# svc.fit(X_test4, y_test4)\n",
    "\n",
    "rfc = RandomForestClassifier(n_estimators = 200, max_depth = 10)\n",
    "rfc.fit(X_train4,y_train4)\n",
    "rfc_preds = rfc.predict(X_test4)\n",
    "\n",
    "\n",
    "print(classification_report(y_test4,rfc_preds) ) \n",
    "print(confusion_matrix(y_test4,rfc_preds)) \n",
    "\n",
    "# svc_disp = plot_roc_curve(svc, X_test4, y_test4)\n",
    "# plt.show()\n",
    "# svc_preds4 = svc.predict(X_test4)\n",
    "# svc_proba4 = svc.predict_proba(X_test4)[:,1]\n",
    "\n",
    "# pred4 , preds4 = svc_proba4  >= .5 , svc_proba4  >= .4\n",
    "\n",
    "print(classification_report(y_test4,svc_preds4) )\n",
    "print(confusion_matrix(y_test4,svc_preds4)) \n",
    "\n",
    "print(confusion_matrix(y_test4,svc_proba4)) \n",
    "\n",
    "svc_disp = plot_roc_curve(svc, X_test4, y_test4)\n",
    "plt.show()"
   ]
  },
  {
   "cell_type": "code",
   "execution_count": null,
   "metadata": {},
   "outputs": [],
   "source": [
    "rfc.fit(X_train, y_train)\n",
    "ax = plt.gca()\n",
    "ax.set_title('ROC Curve')\n",
    "rfc_disp = plot_roc_curve(rfc, X_test, y_test, ax=ax, alpha=0.8)\n",
    "svc_disp.plot(ax=ax, alpha=0.8)\n",
    "logmodel_disp.plot(ax=ax, alpha=0.8)\n",
    "plt.show()"
   ]
  },
  {
   "cell_type": "code",
   "execution_count": null,
   "metadata": {},
   "outputs": [],
   "source": [
    "y_trained_sum_of1 = [1 for x in y_train.values if x==1]\n",
    "print(sum(y_trained_sum_of1), len(y_train.values))\n",
    "y_test_sum_of1 = [1 for x in y_test.values if x==1]\n",
    "print(sum(y_test_sum_of1),'y_test', len(y_test.values))"
   ]
  },
  {
   "cell_type": "code",
   "execution_count": null,
   "metadata": {},
   "outputs": [],
   "source": [
    "# try and recombine data frame to examine outputs. "
   ]
  },
  {
   "cell_type": "code",
   "execution_count": null,
   "metadata": {},
   "outputs": [],
   "source": []
  },
  {
   "cell_type": "code",
   "execution_count": null,
   "metadata": {},
   "outputs": [],
   "source": []
  },
  {
   "cell_type": "code",
   "execution_count": null,
   "metadata": {},
   "outputs": [],
   "source": []
  },
  {
   "cell_type": "code",
   "execution_count": null,
   "metadata": {},
   "outputs": [],
   "source": []
  },
  {
   "cell_type": "code",
   "execution_count": null,
   "metadata": {},
   "outputs": [],
   "source": []
  },
  {
   "cell_type": "code",
   "execution_count": null,
   "metadata": {},
   "outputs": [],
   "source": [
    "def cm_to_inch(value):\n",
    "    return value/2.54"
   ]
  },
  {
   "cell_type": "code",
   "execution_count": null,
   "metadata": {},
   "outputs": [],
   "source": [
    "col_names = X_test7.columns \n",
    "importances = rfc.feature_importances_\n",
    "indices = np.argsort(importances)[::-1]\n",
    "Random_Forest = 'Random Forest'\n",
    "plt.bar(range(X_test7.shape[1]), importances[indices], color=\"b\")\n",
    "plt.title(\"{} Feature Importances\".format(Random_Forest))\n",
    "plt.xlabel(\"Feature\")\n",
    "plt.ylabel(\"Feature importance\")\n",
    "plt.xticks(range(X_test.shape[1]), col_names[indices], rotation=45, fontsize=12, ha='right')\n",
    "plt.xlim([-1, X_test7.shape[1]])\n",
    "plt.figure(figsize=(cm_to_inch(15),cm_to_inch(10)))"
   ]
  },
  {
   "cell_type": "code",
   "execution_count": null,
   "metadata": {},
   "outputs": [],
   "source": []
  },
  {
   "cell_type": "code",
   "execution_count": null,
   "metadata": {},
   "outputs": [],
   "source": []
  },
  {
   "cell_type": "code",
   "execution_count": null,
   "metadata": {},
   "outputs": [],
   "source": []
  },
  {
   "cell_type": "code",
   "execution_count": null,
   "metadata": {},
   "outputs": [],
   "source": []
  },
  {
   "cell_type": "code",
   "execution_count": null,
   "metadata": {},
   "outputs": [],
   "source": []
  },
  {
   "cell_type": "code",
   "execution_count": null,
   "metadata": {},
   "outputs": [],
   "source": []
  },
  {
   "cell_type": "code",
   "execution_count": null,
   "metadata": {},
   "outputs": [],
   "source": []
  },
  {
   "cell_type": "code",
   "execution_count": null,
   "metadata": {},
   "outputs": [],
   "source": []
  },
  {
   "cell_type": "code",
   "execution_count": null,
   "metadata": {},
   "outputs": [],
   "source": []
  },
  {
   "cell_type": "code",
   "execution_count": null,
   "metadata": {},
   "outputs": [],
   "source": []
  },
  {
   "cell_type": "code",
   "execution_count": null,
   "metadata": {},
   "outputs": [],
   "source": []
  },
  {
   "cell_type": "code",
   "execution_count": null,
   "metadata": {},
   "outputs": [],
   "source": [
    "one_hotx = df_hot.copy()\n",
    "one_hotx.to_csv('hot_and_ready_to_test.csv',index=False)"
   ]
  },
  {
   "cell_type": "code",
   "execution_count": null,
   "metadata": {},
   "outputs": [],
   "source": [
    "one_hot9 = df_hot.copy()\n",
    "one_hot4 = df_hot.copy()"
   ]
  },
  {
   "cell_type": "code",
   "execution_count": null,
   "metadata": {},
   "outputs": [],
   "source": []
  },
  {
   "cell_type": "code",
   "execution_count": null,
   "metadata": {},
   "outputs": [],
   "source": [
    "t = 3252+1197\n",
    "print(t,t*20)"
   ]
  },
  {
   "cell_type": "code",
   "execution_count": null,
   "metadata": {},
   "outputs": [],
   "source": []
  },
  {
   "cell_type": "code",
   "execution_count": null,
   "metadata": {},
   "outputs": [],
   "source": []
  },
  {
   "cell_type": "code",
   "execution_count": null,
   "metadata": {},
   "outputs": [],
   "source": [
    "# y = cb9.pop('y_target')\n",
    "# x = cb9"
   ]
  },
  {
   "cell_type": "code",
   "execution_count": null,
   "metadata": {},
   "outputs": [],
   "source": [
    "import xgboost as xgb\n",
    "from xgboost import XGBClassifier\n",
    "from sklearn.metrics import mean_squared_error"
   ]
  },
  {
   "cell_type": "code",
   "execution_count": null,
   "metadata": {},
   "outputs": [],
   "source": [
    "y9=one_hot9.pop('y_target')\n",
    "x9=one_hot9"
   ]
  },
  {
   "cell_type": "code",
   "execution_count": null,
   "metadata": {},
   "outputs": [],
   "source": [
    "X_train9, X_test9, y_train9, y_test9 = train_test_split(x9, y9, test_size=0.2, random_state=101) "
   ]
  },
  {
   "cell_type": "code",
   "execution_count": null,
   "metadata": {},
   "outputs": [],
   "source": [
    "train_dmatrix = xgb.DMatrix(data=X_train9,label=y_train9) \n",
    "test_dmatrix = xgb.DMatrix(data=X_test9,label=y_test9)"
   ]
  },
  {
   "cell_type": "code",
   "execution_count": null,
   "metadata": {},
   "outputs": [],
   "source": [
    "params = {\"objective\":'binary:logistic','colsample_bytree': 0.6,'learning_rate': 0.1,\n",
    "       \"min_child_weight\": 5 ,'max_depth': 6, 'alpha': 10, 'eval_metric':'auc', 'subsample':0.8} \n",
    "\n",
    "cv_results = xgb.cv(dtrain=train_dmatrix, params=params, nfold=5,\n",
    "                    num_boost_round=50,early_stopping_rounds=100, metrics='auc', as_pandas=True, seed=123)\n"
   ]
  },
  {
   "cell_type": "code",
   "execution_count": null,
   "metadata": {},
   "outputs": [],
   "source": [
    "#evallist = [(test_dmatrix, 'eval'), (train_dmatrix, 'train')] ,evallist,early_stopping_rounds=50\n",
    "xgb_one = xgb.train(params,train_dmatrix )\n",
    "# AssertionError: Must have at least 1 validation dataset for early stopping. "
   ]
  },
  {
   "cell_type": "code",
   "execution_count": null,
   "metadata": {},
   "outputs": [],
   "source": [
    "ypred = xgb_one.predict(test_dmatrix, ntree_limit =xgb_one.best_ntree_limit )"
   ]
  },
  {
   "cell_type": "code",
   "execution_count": null,
   "metadata": {},
   "outputs": [],
   "source": [
    "xgb.plot_importance(xgb_one, grid='off')"
   ]
  },
  {
   "cell_type": "code",
   "execution_count": null,
   "metadata": {},
   "outputs": [],
   "source": [
    "print(ypred)\n"
   ]
  },
  {
   "cell_type": "code",
   "execution_count": null,
   "metadata": {},
   "outputs": [],
   "source": [
    "xg_reg1 = XGBClassifier(objective ='binary:logistic', colsample_bytree = 0.3, learning_rate = 0.1,\n",
    "                max_depth = 6, alpha = 8, n_estimators = 12, eval_metric = 'auc', label_encoder=False)\n",
    "xg_reg1.fit(X_train9,y_train9) "
   ]
  },
  {
   "cell_type": "code",
   "execution_count": null,
   "metadata": {},
   "outputs": [],
   "source": [
    "xg_reg1_predict = xg_reg1.predict(X_test9) \n",
    "xg_reg1_proba = xg_reg1.predict_proba(X_test9)[:,1]\n",
    "\n",
    "predsx, preds2x = predx >= .5 ,predx >= .7\n",
    "preds_xg1_thresh1, preds2_xg1_thresh2 = xg_reg1_proba >=0.65 , xg_reg1_proba >=0.4\n",
    "\n",
    "xg_reg1_disp = plot_roc_curve(xg_reg1 , X_test9, y_test9)\n",
    "plt.show()\n",
    "\n",
    "\n"
   ]
  },
  {
   "cell_type": "code",
   "execution_count": null,
   "metadata": {},
   "outputs": [],
   "source": [
    "rfc = RandomForestClassifier(n_estimators=10, random_state=42)\n",
    "rfc.fit(X_train, y_train)\n",
    "ax = plt.gca()\n",
    "ax.set_title('ROC Curve')\n",
    "rfc_disp = plot_roc_curve(rfc, X_test, y_test, ax=ax, alpha=0.8)\n",
    "xg_reg1_disp2 = plot_roc_curve(xg_reg1, X_test9, y_test9, ax=ax, alpha=0.8) \n",
    "svc_disp.plot(ax=ax, alpha=0.8)\n",
    "logmodel_disp.plot(ax=ax, alpha=0.8)\n",
    "\n",
    " \n",
    "plt.show()"
   ]
  },
  {
   "cell_type": "code",
   "execution_count": null,
   "metadata": {},
   "outputs": [],
   "source": [
    "print(classification_report(y_test9,preds_xg1_thresh1 ) )\n",
    "print(classification_report(y_test9,preds2_xg1_thresh2 ) )"
   ]
  },
  {
   "cell_type": "code",
   "execution_count": null,
   "metadata": {},
   "outputs": [],
   "source": [
    "print(confusion_matrix(y_test9,preds_xg1_thresh1))  \n",
    "print(confusion_matrix(y_test9,preds2_xg1_thresh2))  "
   ]
  },
  {
   "cell_type": "code",
   "execution_count": null,
   "metadata": {},
   "outputs": [],
   "source": [
    "[[6166 1409]\n",
    " [ 872 2092]]\n",
    "\n",
    "[[6956  619]\n",
    " [1372 1592]]\n"
   ]
  },
  {
   "cell_type": "code",
   "execution_count": null,
   "metadata": {},
   "outputs": [],
   "source": [
    "pint45 = 1409+2092\n",
    "pint35 = 619+1592 \n",
    "print(pint45,pint35)"
   ]
  },
  {
   "cell_type": "code",
   "execution_count": null,
   "metadata": {},
   "outputs": [],
   "source": [
    "\n",
    "for i in ok:\n",
    "    for ii in i :\n",
    "        print(f'this is a thing from i -> {ii} being printed')\n",
    "        \n",
    "        "
   ]
  },
  {
   "cell_type": "code",
   "execution_count": null,
   "metadata": {},
   "outputs": [],
   "source": [
    "# [14350,  2314]\n",
    "# [ 2711,  3209] Log no date\n",
    "\n",
    "# [[13589    71]\n",
    "#  [ 5122    38]]\n",
    "\n",
    "\n",
    "labels = ['Did Attend', 'Did NOT Attend'] # model Names\n",
    "bottoms = [2314, 2711] # bottom part of column\n",
    "tops = [ 3209 ,14350 ] # Top part of column\n",
    "\n",
    "width = 0.35       # the width of the bars: can also be len(x) sequence\n",
    "\n",
    "fig, ax = plt.subplots()\n",
    "\n",
    "ax.bar(labels, bottoms, width, label='Incorrectly predicted')\n",
    "ax.bar(labels, tops, width, bottom=bottoms,\n",
    "       label='Correctly predicted')\n",
    "ax.set_ylabel('Counts')\n",
    "ax.set_title('Initial Results - Random Forest')\n",
    "ax.legend()\n",
    "plt.show()\n"
   ]
  },
  {
   "cell_type": "code",
   "execution_count": null,
   "metadata": {},
   "outputs": [],
   "source": [
    "#best model_standard= ([16646,    18],[ 5911,9] ) "
   ]
  },
  {
   "cell_type": "code",
   "execution_count": null,
   "metadata": {},
   "outputs": [],
   "source": [
    "ok=[[6633,  942],\n",
    " [1326, 1638]]\n",
    "\n",
    "rf = 2269,1545,\n",
    "3651,6633 #1545/3651 RF_no_Holdout\n",
    "\n",
    " #15119,  1545]\n",
    "#[ 2269,  3651]] # FRF_hold_out\n",
    "\n",
    "labels = ['Did Attend', 'Did NOT Attend'] # model Names\n",
    "bottoms = [1545,2269] # bottom part of column\n",
    "tops = [ 3651 ,15119 ] # Top part of column\n",
    "\n",
    "\n",
    "width = 0.35       # the width of the bars: can also be len(x) sequence\n",
    "fig, (ax,ax2) = plt.subplots(1,2)\n",
    "ax.bar(labels, bottoms, width, label='Incorrectly predicted')\n",
    "ax.bar(labels, tops, width, bottom=bottoms,\n",
    "       label='Correctly predicted')\n",
    "ax.set_ylabel('Counts')\n",
    "ax.set_ylim([0,17500])\n",
    "\n",
    "ax.legend()\n",
    "\n",
    "fig.suptitle('Analysis of Model Test Results ')\n",
    "\n",
    "bottoms2 = [2314, 2711] # bottom part of column\n",
    "tops2 = [ 3209 ,14350 ] # Top part of column\n",
    "width = 0.35     \n",
    "ax2.bar(labels, bottoms2, width, label='Incorrectly predicted')\n",
    "ax2.bar(labels, tops2, width, bottom=bottoms2,\n",
    "       label='Correctly predicted')\n",
    "ax2.set_ylim([0,17500])\n",
    "plt.show()\n",
    "for ax in fig.get_axes():\n",
    "    ax.label_outer()"
   ]
  },
  {
   "cell_type": "code",
   "execution_count": null,
   "metadata": {},
   "outputs": [],
   "source": [
    "'''\n",
    "ok=[[6633,  942],\n",
    " [1326, 1638]]\n",
    "\n",
    "labels = ['Did Attend', 'Did NOT Attend'] # model Names\n",
    "bottoms = [942,1326] # bottom part of column\n",
    "tops = [ 1638 ,6633 ] # Top part of column\n",
    "\n",
    "'''\n",
    "\n",
    "\n",
    "boost = 1510,2334 ,3586,15154"
   ]
  },
  {
   "cell_type": "code",
   "execution_count": null,
   "metadata": {},
   "outputs": [],
   "source": [
    "ok=[[6633,  942],\n",
    " [1326, 1638]]\n",
    "\n",
    "labels = ['Were Goin', 'Were NOT Going'] # model Names\n",
    "bottoms = [1326,942] # bottom part of column\n",
    "tops = [ 6633,1638 ] # Top part of column\n",
    "\n",
    "width = 0.35       # the width of the bars: can also be len(x) sequence\n",
    "\n",
    "fig, ax = plt.subplots()\n",
    "\n",
    "\n",
    "ax.bar(labels, bottoms,width,label='Incorrectly predicted')\n",
    "ax.bar(labels, tops, width, label='Correctly predicted',bottom=tops,)\n",
    "\n",
    "ax.set_ylabel('Counts')\n",
    "ax.set_title('Analysis of Model Test Results ')\n",
    "ax.legend()\n",
    "\n",
    "plt.show()"
   ]
  },
  {
   "cell_type": "code",
   "execution_count": null,
   "metadata": {},
   "outputs": [],
   "source": [
    "from datetime import datetime\n",
    "import matplotlib.pyplot as plt\n",
    "\n",
    "jobs = ['Did Attend','Did NOT Attend']\n",
    "\n",
    "# input wait times\n",
    "waittimesin = ['03:20:50','04:45:10']\n",
    "# converting wait times to float\n",
    "waittimes = []\n",
    "for wt in waittimesin:\n",
    "    waittime = datetime.strptime(wt,'%H:%M:%S')\n",
    "    waittime = waittime.hour + waittime.minute/60 + waittime.second/3600\n",
    "    waittimes.append(waittime)\n",
    "\n",
    "# input run times\n",
    "runtimesin = ['00:20:50','01:00:10']\n",
    "# converting run times to float    \n",
    "runtimes = []\n",
    "for rt in runtimesin:\n",
    "    runtime = datetime.strptime(rt,'%H:%M:%S')\n",
    "    runtime = runtime.hour + runtime.minute/60 + runtime.second/3600\n",
    "    runtimes.append(runtime)\n",
    "\n",
    "fig = plt.figure()\n",
    "ax = fig.add_subplot(111)\n",
    "ax.barh(jobs, waittimes, align='center', height=.25, color='b',label='Correctly Predicted')\n",
    "ax.barh(jobs, runtimes, align='center', height=.25, left=waittimes, color='r',label='Incorrectly Predicted')\n",
    "ax.set_yticks(jobs)\n",
    "ax.set_xlabel('Counts')\n",
    "ax.set_title('Feature Importances')\n",
    "ax.grid(True)\n",
    "ax.legend()\n",
    "\n",
    "#plt.savefig('C:\\\\Data\\\\stackedbar.png')\n",
    "plt.show()\n",
    "\n",
    "bottoms = [942,1326] # bottom part of column\n",
    "tops = [ 1638 ,6633 ] "
   ]
  },
  {
   "cell_type": "code",
   "execution_count": null,
   "metadata": {},
   "outputs": [],
   "source": [
    "4800*14.7"
   ]
  },
  {
   "cell_type": "code",
   "execution_count": null,
   "metadata": {},
   "outputs": [],
   "source": []
  },
  {
   "cell_type": "code",
   "execution_count": null,
   "metadata": {},
   "outputs": [],
   "source": [
    "188543/353064"
   ]
  },
  {
   "cell_type": "code",
   "execution_count": null,
   "metadata": {},
   "outputs": [],
   "source": []
  },
  {
   "cell_type": "code",
   "execution_count": null,
   "metadata": {},
   "outputs": [],
   "source": []
  },
  {
   "cell_type": "code",
   "execution_count": null,
   "metadata": {},
   "outputs": [],
   "source": []
  },
  {
   "cell_type": "code",
   "execution_count": null,
   "metadata": {},
   "outputs": [],
   "source": [
    "y = checker4.pop('y_target')\n",
    "x = checker4\n",
    "X_train4, X_test4, y_train4, y_test4 = train_test_split(x, y, test_size=0.2, random_state=101) "
   ]
  },
  {
   "cell_type": "code",
   "execution_count": null,
   "metadata": {},
   "outputs": [],
   "source": []
  },
  {
   "cell_type": "code",
   "execution_count": null,
   "metadata": {},
   "outputs": [],
   "source": [
    "from sklearn.model_selection import train_test_split\n"
   ]
  },
  {
   "cell_type": "code",
   "execution_count": null,
   "metadata": {},
   "outputs": [],
   "source": [
    "xg_reg1 = XGBClassifier(objective ='binary:logistic', colsample_bytree = 0.3, learning_rate = 0.1,\n",
    "                max_depth = 6, alpha = 8, n_estimators = 12, eval_metric = 'auc')"
   ]
  },
  {
   "cell_type": "code",
   "execution_count": null,
   "metadata": {},
   "outputs": [],
   "source": []
  },
  {
   "cell_type": "code",
   "execution_count": null,
   "metadata": {},
   "outputs": [],
   "source": [
    "xg_reg1.fit(X_train4,y_train4)"
   ]
  },
  {
   "cell_type": "code",
   "execution_count": null,
   "metadata": {},
   "outputs": [],
   "source": [
    "tree1_predict = xg_reg1.predict(X_test4) \n",
    "tree1_proba = xg_reg1.predict_proba(X_test4)"
   ]
  },
  {
   "cell_type": "code",
   "execution_count": null,
   "metadata": {},
   "outputs": [],
   "source": [
    "predsx, preds2x = tree1_proba >= .5 ,tree1_proba >= .4\n",
    "print(classification_report(y_test4,tree1_predict ) )\n",
    "print(confusion_matrix(y_test4,tree1_predict)) "
   ]
  },
  {
   "cell_type": "code",
   "execution_count": null,
   "metadata": {},
   "outputs": [],
   "source": [
    "\n",
    "col_names = X_test4.columns \n",
    "importances = xg_reg1.feature_importances_\n",
    "indices = np.argsort(importances)[::-1]\n",
    "title = 'XG Boost Classifier'\n",
    "plt.bar(range(X_test4.shape[1]), importances[indices], color=\"b\")\n",
    "plt.title(\"{} Feature Importances\".format(title))\n",
    "plt.xlabel(\"Feature\")\n",
    "plt.ylabel(\"Feature importance\")\n",
    "plt.xticks(range(X_test4.shape[1]), col_names[indices], rotation=45, fontsize=12, ha='right')\n",
    "plt.xlim([-1, X_test4.shape[1]])\n",
    "plt.figure(figsize=(cm_to_inch(15),cm_to_inch(10)))\n"
   ]
  },
  {
   "cell_type": "code",
   "execution_count": null,
   "metadata": {},
   "outputs": [],
   "source": [
    "xg_reg1_disp = plot_roc_curve(xg_reg1, X_test4, y_test4)\n",
    "rfc = RandomForestClassifier(n_estimators=10, random_state=42)\n",
    "rfc.fit(X_train, y_train)\n",
    "ax = plt.gca()\n",
    "rfc_disp = plot_roc_curve(rfc, X_test, y_test, ax=ax, alpha=0.8)\n",
    "svc_disp.plot(ax=ax, alpha=0.8)\n",
    "logmodel_disp.plot(ax=ax, alpha=0.8)\n",
    "plt.show()"
   ]
  },
  {
   "cell_type": "code",
   "execution_count": null,
   "metadata": {},
   "outputs": [],
   "source": [
    " \n",
    "    \n",
    "    "
   ]
  },
  {
   "cell_type": "code",
   "execution_count": null,
   "metadata": {},
   "outputs": [],
   "source": []
  },
  {
   "cell_type": "code",
   "execution_count": null,
   "metadata": {},
   "outputs": [],
   "source": []
  },
  {
   "cell_type": "code",
   "execution_count": null,
   "metadata": {},
   "outputs": [],
   "source": [
    "params = {\"objective\":'binary:logistic','colsample_bytree': 0.6,'learning_rate': 0.1,\n",
    "       \"min_child_weight\": 5 ,'max_depth': 6, 'alpha': 10, 'eval_metric':'auc', 'subsample':0.8} \n",
    "\n",
    "cv_results = xgb.cv(dtrain=data_dmatrix, params=params, nfold=5,\n",
    "                    num_boost_round=50,early_stopping_rounds=100, metrics='auc', as_pandas=True, seed=123)"
   ]
  },
  {
   "cell_type": "code",
   "execution_count": null,
   "metadata": {},
   "outputs": [],
   "source": []
  },
  {
   "cell_type": "code",
   "execution_count": null,
   "metadata": {},
   "outputs": [],
   "source": [
    " "
   ]
  },
  {
   "cell_type": "code",
   "execution_count": null,
   "metadata": {},
   "outputs": [],
   "source": []
  },
  {
   "cell_type": "code",
   "execution_count": null,
   "metadata": {},
   "outputs": [],
   "source": [
    "xgb_clf = xgb.XGBClassifier()\n",
    "xgb_clf = xgb_clf.fit(X_train, y_train)"
   ]
  },
  {
   "cell_type": "code",
   "execution_count": null,
   "metadata": {},
   "outputs": [],
   "source": [
    "uh = xgb_clf.predict(X_test) \n",
    "pred_proba = xgb_clf.predict_proba(X_test)"
   ]
  },
  {
   "cell_type": "code",
   "execution_count": null,
   "metadata": {},
   "outputs": [],
   "source": [
    "probs = pred_proba[:,1] "
   ]
  },
  {
   "cell_type": "code",
   "execution_count": null,
   "metadata": {},
   "outputs": [],
   "source": [
    "col_names = X_test.columns \n",
    "importances = xgb_clf.feature_importances_\n",
    "indices = np.argsort(importances)[::-1]\n",
    "Random_Forest = 'XG Boost Classifier for xgb_clf'\n",
    "plt.bar(range(X_test.shape[1]), importances[indices], color=\"b\")\n",
    "plt.title(\"{} Feature Importances\".format(Random_Forest))\n",
    "plt.xlabel(\"Feature\")\n",
    "plt.ylabel(\"Feature importance\")\n",
    "plt.xticks(range(X_test.shape[1]), col_names[indices], rotation=45, fontsize=12, ha='right')\n",
    "plt.xlim([-1, X_test.shape[1]])\n",
    "plt.figure(figsize=(cm_to_inch(25),cm_to_inch(20)))"
   ]
  },
  {
   "cell_type": "code",
   "execution_count": null,
   "metadata": {},
   "outputs": [],
   "source": [
    "# plotdf = pd.DataFrame({\"P1\":uh ,\"P2\":probs})\n",
    "# # ax = plotdf.plot.bar(color=[\"SkyBlue\", \"IndianRed\"], rot=0, title= \"COmpare Results\")\n",
    "# # plt.show()\n",
    "\n",
    "# df = plotdf.copy()\n",
    "# df.info()"
   ]
  },
  {
   "cell_type": "code",
   "execution_count": null,
   "metadata": {},
   "outputs": [],
   "source": [
    "df1=df.copy()\n",
    "for i in to_transfer:\n",
    "    df1[i] = X_test[i]\n",
    "print(df1.info())"
   ]
  },
  {
   "cell_type": "code",
   "execution_count": null,
   "metadata": {},
   "outputs": [],
   "source": []
  },
  {
   "cell_type": "code",
   "execution_count": null,
   "metadata": {},
   "outputs": [],
   "source": []
  },
  {
   "cell_type": "code",
   "execution_count": null,
   "metadata": {},
   "outputs": [],
   "source": [
    " # https://stackoverflow.com/questions/57730192/how-to-save-gridsearchcv-xgboost-model"
   ]
  },
  {
   "cell_type": "code",
   "execution_count": null,
   "metadata": {},
   "outputs": [],
   "source": [
    "xg_reg = XGBClassifier(objective ='binary:logistic', colsample_bytree = 0.3, learning_rate = 0.1,\n",
    "                max_depth = 5, alpha = 8, n_estimators = 10, eval_metric = 'auc')"
   ]
  },
  {
   "cell_type": "code",
   "execution_count": null,
   "metadata": {},
   "outputs": [],
   "source": [
    "xg_reg.fit(X_train,y_train)\n",
    "preds = xg_reg.predict(X_test)"
   ]
  },
  {
   "cell_type": "code",
   "execution_count": null,
   "metadata": {},
   "outputs": [],
   "source": [
    "print(xg_reg.predict_proba(X_test)) "
   ]
  },
  {
   "cell_type": "code",
   "execution_count": null,
   "metadata": {},
   "outputs": [],
   "source": [
    "preds"
   ]
  },
  {
   "cell_type": "code",
   "execution_count": null,
   "metadata": {},
   "outputs": [],
   "source": [
    "params = {\"objective\":'binary:logistic','colsample_bytree': 0.6,'learning_rate': 0.1,\n",
    "       \"min_child_weight\": 5 ,'max_depth': 6, 'alpha': 10, 'eval_metric':'auc', 'subsample':0.8} \n",
    "\n",
    "cv_results = xgb.cv(dtrain=data_dmatrix, params=params, nfold=3,\n",
    "                    num_boost_round=50,early_stopping_rounds=100, metrics='auc', as_pandas=True, seed=123)\n"
   ]
  },
  {
   "cell_type": "code",
   "execution_count": null,
   "metadata": {},
   "outputs": [],
   "source": [
    "cv_results[45:]"
   ]
  },
  {
   "cell_type": "code",
   "execution_count": null,
   "metadata": {},
   "outputs": [],
   "source": [
    "xg_reg = xgb.train(params=params, dtrain=data_dmatrix, num_boost_round=10)"
   ]
  },
  {
   "cell_type": "code",
   "execution_count": null,
   "metadata": {},
   "outputs": [],
   "source": [
    "import matplotlib.pyplot as plt\n",
    "plt.rcParams['figure.dpi'] = 200 \n",
    "# xgb.plot_tree(xg_reg,num_trees=0) # plt.rcParams['figure.figsize'] = [50, 10] # plt.show()"
   ]
  },
  {
   "cell_type": "code",
   "execution_count": null,
   "metadata": {
    "scrolled": true
   },
   "outputs": [],
   "source": [
    "xgb.plot_importance(xg_reg )\n",
    "plt.rcParams['figure.figsize'] = [10, 10]\n",
    "plt.show()"
   ]
  },
  {
   "cell_type": "code",
   "execution_count": null,
   "metadata": {},
   "outputs": [],
   "source": [
    "print(checker3.shape)"
   ]
  },
  {
   "cell_type": "code",
   "execution_count": null,
   "metadata": {},
   "outputs": [],
   "source": [
    "col_names = X_test.columns \n",
    "importances = xg_reg.feature_importances_\n",
    "indices = np.argsort(importances)[::-1]\n",
    "Random_Forest = 'XG Boost Classifier for xg_reg'\n",
    "plt.bar(range(X_test.shape[1]), importances[indices], color=\"b\")\n",
    "plt.title(\"{} Feature Importances\".format(Random_Forest))\n",
    "plt.xlabel(\"Feature\")\n",
    "plt.ylabel(\"Feature importance\")\n",
    "plt.xticks(range(X_test.shape[1]), col_names[indices], rotation=45, fontsize=12, ha='right')\n",
    "plt.xlim([-1, X_test.shape[1]])\n",
    "plt.figure(figsize=(cm_to_inch(15),cm_to_inch(10)))"
   ]
  },
  {
   "cell_type": "code",
   "execution_count": null,
   "metadata": {},
   "outputs": [],
   "source": [
    " "
   ]
  },
  {
   "cell_type": "code",
   "execution_count": null,
   "metadata": {},
   "outputs": [],
   "source": []
  },
  {
   "cell_type": "code",
   "execution_count": null,
   "metadata": {},
   "outputs": [],
   "source": []
  },
  {
   "cell_type": "code",
   "execution_count": null,
   "metadata": {},
   "outputs": [],
   "source": []
  },
  {
   "cell_type": "code",
   "execution_count": null,
   "metadata": {},
   "outputs": [],
   "source": []
  },
  {
   "cell_type": "code",
   "execution_count": null,
   "metadata": {},
   "outputs": [],
   "source": []
  },
  {
   "cell_type": "code",
   "execution_count": null,
   "metadata": {},
   "outputs": [],
   "source": [
    "dataset = np.genfromtxt('/home/allen/Galva/capstones/capstone2/src/explore/train_4_model.csv',delimiter=',' ,skip_header=True)"
   ]
  },
  {
   "cell_type": "code",
   "execution_count": null,
   "metadata": {},
   "outputs": [],
   "source": [
    "print(dataset.shape)"
   ]
  },
  {
   "cell_type": "code",
   "execution_count": null,
   "metadata": {},
   "outputs": [],
   "source": [
    "selector = [x for x in range(dataset.shape[1]) if x !=5]\n",
    "selector2 = [x for x in range(dataset.shape[1]) if x ==5]"
   ]
  },
  {
   "cell_type": "code",
   "execution_count": null,
   "metadata": {},
   "outputs": [],
   "source": [
    "y = dataset[:,selector]\n",
    "y2 = dataset[:,selector2]"
   ]
  },
  {
   "cell_type": "code",
   "execution_count": null,
   "metadata": {},
   "outputs": [],
   "source": [
    "y.shape"
   ]
  },
  {
   "cell_type": "code",
   "execution_count": null,
   "metadata": {},
   "outputs": [],
   "source": []
  },
  {
   "cell_type": "code",
   "execution_count": null,
   "metadata": {},
   "outputs": [],
   "source": [
    "x = np.delete(dataset,6,axis=1)"
   ]
  },
  {
   "cell_type": "code",
   "execution_count": null,
   "metadata": {},
   "outputs": [],
   "source": [
    "import tensorflow"
   ]
  },
  {
   "cell_type": "code",
   "execution_count": null,
   "metadata": {},
   "outputs": [],
   "source": [
    "from tensorflow.keras.models import Sequential\n",
    "from tensorflow.keras.layers import Dense"
   ]
  },
  {
   "cell_type": "code",
   "execution_count": null,
   "metadata": {},
   "outputs": [],
   "source": [
    "model = Sequential()\n",
    "model.add(Dense(1,input_dim = 46, activation='sigmoid'))"
   ]
  },
  {
   "cell_type": "code",
   "execution_count": null,
   "metadata": {},
   "outputs": [],
   "source": [
    "model.compile(loss = 'binary_crossentropy',optimizer = 'rmsprop', metrics=['accuracy'])"
   ]
  },
  {
   "cell_type": "code",
   "execution_count": null,
   "metadata": {},
   "outputs": [],
   "source": [
    "gpus = tensorflow.config.experimental.list_physical_devices('GPU')\n",
    "if gpus:\n",
    "    try: \n",
    "        for gpu in gpus:\n",
    "            tensorflow.config.experimental.set_memory_growth(gpu, True)\n",
    "    except RuntimeError as e:\n",
    "        print(e, 'BTW ***********************************************')"
   ]
  },
  {
   "cell_type": "code",
   "execution_count": null,
   "metadata": {},
   "outputs": [],
   "source": [
    "model.fit(x=y,y=y2, epochs=20, verbose=1)"
   ]
  },
  {
   "cell_type": "code",
   "execution_count": null,
   "metadata": {},
   "outputs": [],
   "source": [
    "print(y2[:10])"
   ]
  },
  {
   "cell_type": "code",
   "execution_count": null,
   "metadata": {},
   "outputs": [],
   "source": [
    "predictions2 = model.predict(y)\n",
    "print(predictions2[:10].T)"
   ]
  },
  {
   "cell_type": "code",
   "execution_count": null,
   "metadata": {},
   "outputs": [],
   "source": []
  }
 ],
 "metadata": {
  "kernelspec": {
   "display_name": "Python 3",
   "language": "python",
   "name": "python3"
  },
  "language_info": {
   "codemirror_mode": {
    "name": "ipython",
    "version": 3
   },
   "file_extension": ".py",
   "mimetype": "text/x-python",
   "name": "python",
   "nbconvert_exporter": "python",
   "pygments_lexer": "ipython3",
   "version": "3.8.2"
  }
 },
 "nbformat": 4,
 "nbformat_minor": 4
}
