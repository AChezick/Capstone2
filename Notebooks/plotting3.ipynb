{
 "cells": [
  {
   "cell_type": "code",
   "execution_count": 1,
   "metadata": {},
   "outputs": [],
   "source": [
    "import pandas as pd \n",
    "import numpy as np \n",
    "pd.set_option('display.max_columns', None) \n",
    "import matplotlib.pyplot as plt \n",
    "import seaborn as sns \n",
    "%matplotlib inline\n",
    "plt.rcParams['figure.dpi'] = 200"
   ]
  },
  {
   "cell_type": "code",
   "execution_count": 2,
   "metadata": {},
   "outputs": [],
   "source": [
    "df = pd.read_csv('/home/allen/Galva/capstones/capstone2/src/explore/ready12_24_train.csv')"
   ]
  },
  {
   "cell_type": "code",
   "execution_count": 3,
   "metadata": {},
   "outputs": [],
   "source": [
    "df1 = pd.read_csv('/home/allen/Galva/capstones/capstone2/src/explore/train_4_model.csv')"
   ]
  },
  {
   "cell_type": "code",
   "execution_count": 4,
   "metadata": {},
   "outputs": [
    {
     "data": {
      "text/html": [
       "<div>\n",
       "<style scoped>\n",
       "    .dataframe tbody tr th:only-of-type {\n",
       "        vertical-align: middle;\n",
       "    }\n",
       "\n",
       "    .dataframe tbody tr th {\n",
       "        vertical-align: top;\n",
       "    }\n",
       "\n",
       "    .dataframe thead th {\n",
       "        text-align: right;\n",
       "    }\n",
       "</style>\n",
       "<table border=\"1\" class=\"dataframe\">\n",
       "  <thead>\n",
       "    <tr style=\"text-align: right;\">\n",
       "      <th></th>\n",
       "      <th>Var1</th>\n",
       "      <th>Var2</th>\n",
       "      <th>Var3</th>\n",
       "      <th>Var4</th>\n",
       "      <th>Var5</th>\n",
       "      <th>y_target</th>\n",
       "      <th>delta_first_reg</th>\n",
       "      <th>interaction_regreister_delta</th>\n",
       "      <th>delta_first_start</th>\n",
       "      <th>delta_reg_end</th>\n",
       "      <th>Camp_Length</th>\n",
       "      <th>Second</th>\n",
       "      <th>Third</th>\n",
       "      <th>1036</th>\n",
       "      <th>1216</th>\n",
       "      <th>1217</th>\n",
       "      <th>1352</th>\n",
       "      <th>1704</th>\n",
       "      <th>1729</th>\n",
       "      <th>2517</th>\n",
       "      <th>2662</th>\n",
       "      <th>23384</th>\n",
       "      <th>B</th>\n",
       "      <th>C</th>\n",
       "      <th>D</th>\n",
       "      <th>E</th>\n",
       "      <th>F</th>\n",
       "      <th>G</th>\n",
       "      <th>2100</th>\n",
       "      <th>2.0</th>\n",
       "      <th>3.0</th>\n",
       "      <th>4.0</th>\n",
       "      <th>5.0</th>\n",
       "      <th>6.0</th>\n",
       "      <th>7.0</th>\n",
       "      <th>8.0</th>\n",
       "      <th>9.0</th>\n",
       "      <th>10.0</th>\n",
       "      <th>11.0</th>\n",
       "      <th>12.0</th>\n",
       "      <th>13.0</th>\n",
       "      <th>14.0</th>\n",
       "      <th>9999.0</th>\n",
       "      <th>1</th>\n",
       "      <th>2</th>\n",
       "      <th>3</th>\n",
       "      <th>4</th>\n",
       "    </tr>\n",
       "  </thead>\n",
       "  <tbody>\n",
       "    <tr>\n",
       "      <th>0</th>\n",
       "      <td>0.420086</td>\n",
       "      <td>-0.063285</td>\n",
       "      <td>-0.019631</td>\n",
       "      <td>-0.11236</td>\n",
       "      <td>1.442928</td>\n",
       "      <td>1.0</td>\n",
       "      <td>0.059341</td>\n",
       "      <td>0.257361</td>\n",
       "      <td>0.392104</td>\n",
       "      <td>-0.394391</td>\n",
       "      <td>-0.529413</td>\n",
       "      <td>0</td>\n",
       "      <td>1</td>\n",
       "      <td>0</td>\n",
       "      <td>0</td>\n",
       "      <td>0</td>\n",
       "      <td>0</td>\n",
       "      <td>0</td>\n",
       "      <td>0</td>\n",
       "      <td>0</td>\n",
       "      <td>0</td>\n",
       "      <td>1</td>\n",
       "      <td>0</td>\n",
       "      <td>0</td>\n",
       "      <td>0</td>\n",
       "      <td>0</td>\n",
       "      <td>0</td>\n",
       "      <td>1</td>\n",
       "      <td>1</td>\n",
       "      <td>0</td>\n",
       "      <td>0</td>\n",
       "      <td>0</td>\n",
       "      <td>0</td>\n",
       "      <td>0</td>\n",
       "      <td>0</td>\n",
       "      <td>0</td>\n",
       "      <td>0</td>\n",
       "      <td>0</td>\n",
       "      <td>0</td>\n",
       "      <td>0</td>\n",
       "      <td>0</td>\n",
       "      <td>0</td>\n",
       "      <td>1</td>\n",
       "      <td>0</td>\n",
       "      <td>0</td>\n",
       "      <td>0</td>\n",
       "      <td>0</td>\n",
       "    </tr>\n",
       "    <tr>\n",
       "      <th>1</th>\n",
       "      <td>-0.104391</td>\n",
       "      <td>-0.063285</td>\n",
       "      <td>-0.019631</td>\n",
       "      <td>-0.11236</td>\n",
       "      <td>-0.204613</td>\n",
       "      <td>0.0</td>\n",
       "      <td>0.062659</td>\n",
       "      <td>-0.205094</td>\n",
       "      <td>-0.201865</td>\n",
       "      <td>-0.015115</td>\n",
       "      <td>-0.084562</td>\n",
       "      <td>0</td>\n",
       "      <td>0</td>\n",
       "      <td>0</td>\n",
       "      <td>0</td>\n",
       "      <td>0</td>\n",
       "      <td>0</td>\n",
       "      <td>0</td>\n",
       "      <td>0</td>\n",
       "      <td>0</td>\n",
       "      <td>0</td>\n",
       "      <td>1</td>\n",
       "      <td>0</td>\n",
       "      <td>0</td>\n",
       "      <td>0</td>\n",
       "      <td>0</td>\n",
       "      <td>1</td>\n",
       "      <td>0</td>\n",
       "      <td>1</td>\n",
       "      <td>0</td>\n",
       "      <td>0</td>\n",
       "      <td>0</td>\n",
       "      <td>0</td>\n",
       "      <td>0</td>\n",
       "      <td>0</td>\n",
       "      <td>0</td>\n",
       "      <td>0</td>\n",
       "      <td>0</td>\n",
       "      <td>0</td>\n",
       "      <td>0</td>\n",
       "      <td>0</td>\n",
       "      <td>0</td>\n",
       "      <td>1</td>\n",
       "      <td>0</td>\n",
       "      <td>0</td>\n",
       "      <td>0</td>\n",
       "      <td>0</td>\n",
       "    </tr>\n",
       "    <tr>\n",
       "      <th>2</th>\n",
       "      <td>0.420086</td>\n",
       "      <td>-0.063285</td>\n",
       "      <td>-0.019631</td>\n",
       "      <td>-0.11236</td>\n",
       "      <td>1.442928</td>\n",
       "      <td>0.0</td>\n",
       "      <td>-0.056754</td>\n",
       "      <td>0.456294</td>\n",
       "      <td>0.532254</td>\n",
       "      <td>1.627418</td>\n",
       "      <td>1.984351</td>\n",
       "      <td>0</td>\n",
       "      <td>0</td>\n",
       "      <td>0</td>\n",
       "      <td>0</td>\n",
       "      <td>0</td>\n",
       "      <td>0</td>\n",
       "      <td>0</td>\n",
       "      <td>0</td>\n",
       "      <td>0</td>\n",
       "      <td>0</td>\n",
       "      <td>1</td>\n",
       "      <td>0</td>\n",
       "      <td>0</td>\n",
       "      <td>0</td>\n",
       "      <td>0</td>\n",
       "      <td>1</td>\n",
       "      <td>0</td>\n",
       "      <td>1</td>\n",
       "      <td>0</td>\n",
       "      <td>0</td>\n",
       "      <td>0</td>\n",
       "      <td>0</td>\n",
       "      <td>0</td>\n",
       "      <td>0</td>\n",
       "      <td>0</td>\n",
       "      <td>0</td>\n",
       "      <td>0</td>\n",
       "      <td>0</td>\n",
       "      <td>0</td>\n",
       "      <td>0</td>\n",
       "      <td>0</td>\n",
       "      <td>1</td>\n",
       "      <td>0</td>\n",
       "      <td>0</td>\n",
       "      <td>0</td>\n",
       "      <td>0</td>\n",
       "    </tr>\n",
       "    <tr>\n",
       "      <th>3</th>\n",
       "      <td>-0.104391</td>\n",
       "      <td>-0.063285</td>\n",
       "      <td>-0.019631</td>\n",
       "      <td>-0.11236</td>\n",
       "      <td>-0.204613</td>\n",
       "      <td>0.0</td>\n",
       "      <td>0.155535</td>\n",
       "      <td>-0.429863</td>\n",
       "      <td>-0.398743</td>\n",
       "      <td>-0.439187</td>\n",
       "      <td>-0.684758</td>\n",
       "      <td>0</td>\n",
       "      <td>0</td>\n",
       "      <td>0</td>\n",
       "      <td>0</td>\n",
       "      <td>0</td>\n",
       "      <td>0</td>\n",
       "      <td>0</td>\n",
       "      <td>0</td>\n",
       "      <td>0</td>\n",
       "      <td>0</td>\n",
       "      <td>1</td>\n",
       "      <td>0</td>\n",
       "      <td>0</td>\n",
       "      <td>0</td>\n",
       "      <td>1</td>\n",
       "      <td>0</td>\n",
       "      <td>0</td>\n",
       "      <td>1</td>\n",
       "      <td>0</td>\n",
       "      <td>0</td>\n",
       "      <td>0</td>\n",
       "      <td>0</td>\n",
       "      <td>0</td>\n",
       "      <td>0</td>\n",
       "      <td>0</td>\n",
       "      <td>0</td>\n",
       "      <td>0</td>\n",
       "      <td>0</td>\n",
       "      <td>0</td>\n",
       "      <td>0</td>\n",
       "      <td>0</td>\n",
       "      <td>1</td>\n",
       "      <td>0</td>\n",
       "      <td>0</td>\n",
       "      <td>0</td>\n",
       "      <td>0</td>\n",
       "    </tr>\n",
       "    <tr>\n",
       "      <th>4</th>\n",
       "      <td>-0.104391</td>\n",
       "      <td>-0.063285</td>\n",
       "      <td>-0.019631</td>\n",
       "      <td>-0.11236</td>\n",
       "      <td>-0.204613</td>\n",
       "      <td>0.0</td>\n",
       "      <td>0.371142</td>\n",
       "      <td>-0.083668</td>\n",
       "      <td>0.265302</td>\n",
       "      <td>-0.251043</td>\n",
       "      <td>-0.691819</td>\n",
       "      <td>0</td>\n",
       "      <td>0</td>\n",
       "      <td>0</td>\n",
       "      <td>0</td>\n",
       "      <td>0</td>\n",
       "      <td>0</td>\n",
       "      <td>0</td>\n",
       "      <td>0</td>\n",
       "      <td>0</td>\n",
       "      <td>0</td>\n",
       "      <td>1</td>\n",
       "      <td>0</td>\n",
       "      <td>0</td>\n",
       "      <td>0</td>\n",
       "      <td>1</td>\n",
       "      <td>0</td>\n",
       "      <td>0</td>\n",
       "      <td>1</td>\n",
       "      <td>0</td>\n",
       "      <td>0</td>\n",
       "      <td>0</td>\n",
       "      <td>0</td>\n",
       "      <td>0</td>\n",
       "      <td>0</td>\n",
       "      <td>0</td>\n",
       "      <td>0</td>\n",
       "      <td>0</td>\n",
       "      <td>0</td>\n",
       "      <td>0</td>\n",
       "      <td>0</td>\n",
       "      <td>0</td>\n",
       "      <td>1</td>\n",
       "      <td>0</td>\n",
       "      <td>0</td>\n",
       "      <td>0</td>\n",
       "      <td>0</td>\n",
       "    </tr>\n",
       "  </tbody>\n",
       "</table>\n",
       "</div>"
      ],
      "text/plain": [
       "       Var1      Var2      Var3     Var4      Var5  y_target  delta_first_reg  \\\n",
       "0  0.420086 -0.063285 -0.019631 -0.11236  1.442928       1.0         0.059341   \n",
       "1 -0.104391 -0.063285 -0.019631 -0.11236 -0.204613       0.0         0.062659   \n",
       "2  0.420086 -0.063285 -0.019631 -0.11236  1.442928       0.0        -0.056754   \n",
       "3 -0.104391 -0.063285 -0.019631 -0.11236 -0.204613       0.0         0.155535   \n",
       "4 -0.104391 -0.063285 -0.019631 -0.11236 -0.204613       0.0         0.371142   \n",
       "\n",
       "   interaction_regreister_delta  delta_first_start  delta_reg_end  \\\n",
       "0                      0.257361           0.392104      -0.394391   \n",
       "1                     -0.205094          -0.201865      -0.015115   \n",
       "2                      0.456294           0.532254       1.627418   \n",
       "3                     -0.429863          -0.398743      -0.439187   \n",
       "4                     -0.083668           0.265302      -0.251043   \n",
       "\n",
       "   Camp_Length  Second  Third  1036  1216  1217  1352  1704  1729  2517  2662  \\\n",
       "0    -0.529413       0      1     0     0     0     0     0     0     0     0   \n",
       "1    -0.084562       0      0     0     0     0     0     0     0     0     0   \n",
       "2     1.984351       0      0     0     0     0     0     0     0     0     0   \n",
       "3    -0.684758       0      0     0     0     0     0     0     0     0     0   \n",
       "4    -0.691819       0      0     0     0     0     0     0     0     0     0   \n",
       "\n",
       "   23384  B  C  D  E  F  G  2100  2.0  3.0  4.0  5.0  6.0  7.0  8.0  9.0  \\\n",
       "0      1  0  0  0  0  0  1     1    0    0    0    0    0    0    0    0   \n",
       "1      1  0  0  0  0  1  0     1    0    0    0    0    0    0    0    0   \n",
       "2      1  0  0  0  0  1  0     1    0    0    0    0    0    0    0    0   \n",
       "3      1  0  0  0  1  0  0     1    0    0    0    0    0    0    0    0   \n",
       "4      1  0  0  0  1  0  0     1    0    0    0    0    0    0    0    0   \n",
       "\n",
       "   10.0  11.0  12.0  13.0  14.0  9999.0  1  2  3  4  \n",
       "0     0     0     0     0     0       1  0  0  0  0  \n",
       "1     0     0     0     0     0       1  0  0  0  0  \n",
       "2     0     0     0     0     0       1  0  0  0  0  \n",
       "3     0     0     0     0     0       1  0  0  0  0  \n",
       "4     0     0     0     0     0       1  0  0  0  0  "
      ]
     },
     "execution_count": 4,
     "metadata": {},
     "output_type": "execute_result"
    }
   ],
   "source": [
    "df1.head()"
   ]
  },
  {
   "cell_type": "code",
   "execution_count": 5,
   "metadata": {},
   "outputs": [],
   "source": [
    "df['Attendance'] = df1['y_target']"
   ]
  },
  {
   "cell_type": "code",
   "execution_count": null,
   "metadata": {},
   "outputs": [],
   "source": []
  },
  {
   "cell_type": "code",
   "execution_count": null,
   "metadata": {},
   "outputs": [],
   "source": []
  },
  {
   "cell_type": "code",
   "execution_count": null,
   "metadata": {},
   "outputs": [],
   "source": []
  },
  {
   "cell_type": "code",
   "execution_count": null,
   "metadata": {},
   "outputs": [],
   "source": []
  },
  {
   "cell_type": "code",
   "execution_count": 6,
   "metadata": {},
   "outputs": [
    {
     "name": "stdout",
     "output_type": "stream",
     "text": [
      "30\n"
     ]
    }
   ],
   "source": [
    "vals = df['Var5'].values\n",
    "d_vals = {}\n",
    "for i in vals:\n",
    "    if i not in d_vals:\n",
    "        d_vals[i]=1\n",
    "    else:\n",
    "        d_vals[i]+=1\n",
    "print(len(d_vals))"
   ]
  },
  {
   "cell_type": "code",
   "execution_count": 7,
   "metadata": {},
   "outputs": [
    {
     "data": {
      "text/plain": [
       "{2.0: 1136,\n",
       " 0.0: 69321,\n",
       " 7.0: 204,\n",
       " 5.0: 324,\n",
       " 6.0: 235,\n",
       " 3.0: 925,\n",
       " 1.0: 2161,\n",
       " 4.0: 559,\n",
       " 8.0: 140,\n",
       " 9.0: 57,\n",
       " 10.0: 56,\n",
       " 20.0: 14,\n",
       " 27.0: 3,\n",
       " 18.0: 4,\n",
       " 24.0: 4,\n",
       " 21.0: 3,\n",
       " 26.0: 1,\n",
       " 25.0: 1,\n",
       " 29.0: 4,\n",
       " 16.0: 14,\n",
       " 13.0: 8,\n",
       " 12.0: 12,\n",
       " 17.0: 11,\n",
       " 22.0: 9,\n",
       " 19.0: 5,\n",
       " 11.0: 29,\n",
       " 31.0: 1,\n",
       " 14.0: 21,\n",
       " 15.0: 15,\n",
       " 23.0: 1}"
      ]
     },
     "execution_count": 7,
     "metadata": {},
     "output_type": "execute_result"
    }
   ],
   "source": [
    "d_vals"
   ]
  },
  {
   "cell_type": "code",
   "execution_count": 8,
   "metadata": {},
   "outputs": [
    {
     "data": {
      "text/plain": [
       "(array([2., 1., 1., 1., 1., 1., 1., 1., 1., 1., 1., 1., 1., 1., 1., 1., 1.,\n",
       "        1., 1., 1., 1., 1., 1., 1., 1., 1., 1., 0., 1., 1.]),\n",
       " array([ 0.        ,  1.03333333,  2.06666667,  3.1       ,  4.13333333,\n",
       "         5.16666667,  6.2       ,  7.23333333,  8.26666667,  9.3       ,\n",
       "        10.33333333, 11.36666667, 12.4       , 13.43333333, 14.46666667,\n",
       "        15.5       , 16.53333333, 17.56666667, 18.6       , 19.63333333,\n",
       "        20.66666667, 21.7       , 22.73333333, 23.76666667, 24.8       ,\n",
       "        25.83333333, 26.86666667, 27.9       , 28.93333333, 29.96666667,\n",
       "        31.        ]),\n",
       " <BarContainer object of 30 artists>)"
      ]
     },
     "execution_count": 8,
     "metadata": {},
     "output_type": "execute_result"
    },
    {
     "data": {
      "image/png": "[encoded data removed]",
      "text/plain": [
       "<Figure size 1200x800 with 1 Axes>"
      ]
     },
     "metadata": {
      "needs_background": "light"
     },
     "output_type": "display_data"
    }
   ],
   "source": [
    "plt.hist(d_vals, bins = 30)"
   ]
  },
  {
   "cell_type": "code",
   "execution_count": null,
   "metadata": {},
   "outputs": [],
   "source": []
  },
  {
   "cell_type": "code",
   "execution_count": 9,
   "metadata": {},
   "outputs": [
    {
     "ename": "NameError",
     "evalue": "name 'df2_' is not defined",
     "output_type": "error",
     "traceback": [
      "\u001b[0;31m---------------------------------------------------------------------------\u001b[0m",
      "\u001b[0;31mNameError\u001b[0m                                 Traceback (most recent call last)",
      "\u001b[0;32m<ipython-input-9-44dcc6922d60>\u001b[0m in \u001b[0;36m<module>\u001b[0;34m\u001b[0m\n\u001b[0;32m----> 1\u001b[0;31m \u001b[0mdf2_\u001b[0m\u001b[0;34m[\u001b[0m\u001b[0;34m'Column 9999'\u001b[0m\u001b[0;34m]\u001b[0m\u001b[0;34m=\u001b[0m \u001b[0mdf2_\u001b[0m\u001b[0;34m[\u001b[0m\u001b[0;34m'9999.0'\u001b[0m\u001b[0;34m]\u001b[0m\u001b[0;34m.\u001b[0m\u001b[0mapply\u001b[0m\u001b[0;34m(\u001b[0m\u001b[0;32mlambda\u001b[0m \u001b[0mx\u001b[0m\u001b[0;34m:\u001b[0m \u001b[0;36m1\u001b[0m \u001b[0;32mif\u001b[0m \u001b[0mx\u001b[0m \u001b[0;34m==\u001b[0m\u001b[0;36m1\u001b[0m \u001b[0;32melse\u001b[0m \u001b[0;36m0\u001b[0m\u001b[0;34m)\u001b[0m\u001b[0;34m\u001b[0m\u001b[0;34m\u001b[0m\u001b[0m\n\u001b[0m",
      "\u001b[0;31mNameError\u001b[0m: name 'df2_' is not defined"
     ]
    }
   ],
   "source": [
    "df2_['Column 9999']= df2_['9999.0'].apply(lambda x: 1 if x ==1 else 0)"
   ]
  },
  {
   "cell_type": "code",
   "execution_count": null,
   "metadata": {},
   "outputs": [],
   "source": [
    "df2_['Column 23384']=df2_['23384'].apply(lambda x: 1 if x==1 else 0)"
   ]
  },
  {
   "cell_type": "code",
   "execution_count": null,
   "metadata": {},
   "outputs": [],
   "source": []
  },
  {
   "cell_type": "code",
   "execution_count": null,
   "metadata": {},
   "outputs": [],
   "source": [
    "# Var1={0,300,20} Var5 = {0,35,6}"
   ]
  },
  {
   "cell_type": "code",
   "execution_count": null,
   "metadata": {},
   "outputs": [],
   "source": [
    "Var1={0,300,20}, "
   ]
  },
  {
   "cell_type": "code",
   "execution_count": 10,
   "metadata": {},
   "outputs": [
    {
     "name": "stdout",
     "output_type": "stream",
     "text": [
      "Index(['Patient_ID_x', 'Health_Camp_ID', 'Registration_Date', 'Var1', 'Var2',\n",
      "       'Var3', 'Var4', 'Var5', 'Category1_x', 'Category2', 'Category3',\n",
      "       'Camp_Start_Date2', 'Camp_End_Date2', 'patient_event', 'Unnamed: 0_x',\n",
      "       'Unnamed: 0.1_x', 'Online_Follower_x', 'First_Interaction', 'City_Type',\n",
      "       'Employer_Category', 'Job_Type', 'Event1_or_2_x', 'online_score',\n",
      "       'Category1_y', 'Unnamed: 0_y', 'Unnamed: 0.1_y', 'Patient_ID_y',\n",
      "       'Online_Follower_y', 'Event1_or_2_y', 'y_target', 'Health Score',\n",
      "       'Number_of_stall_visited', 'Last_Stall_Visited_Number', 'Camp_length',\n",
      "       'delta_first_reg', 'interaction_regreister_delta', 'delta_first_start',\n",
      "       'delta_reg_end', 'Camp_Length', 'Attendance', '0 Var5', '1 Var5',\n",
      "       '2 Var5'],\n",
      "      dtype='object')\n"
     ]
    }
   ],
   "source": [
    "df['0 Var5'] =  df['Var5'].apply( lambda x: 1 if x ==0 else 0)\n",
    "df['1 Var5'] =  df['Var5'].apply( lambda x: 1 if x ==1 else 0)\n",
    "df['2 Var5'] =  df['Var5'].apply( lambda x: 1 if x ==2  else 0)\n",
    "print(df.columns)\n",
    "df['3 Var5'] =  df['Var5'].apply( lambda x: 1 if x ==3  else 0)\n",
    "df['4 Var5'] =  df['Var5'].apply( lambda x: 1 if x ==4 else 0)\n",
    "df['5 Var5'] =  df['Var5'].apply( lambda x: 1 if x ==5 else 0)\n",
    "df['6 Var5'] =  df['Var5'].apply( lambda x: 1 if x ==6  else 0)\n",
    "df['7 Var5'] =  df['Var5'].apply( lambda x: 1 if x ==7 else 0)\n",
    "df['8 Var5'] =  df['Var5'].apply( lambda x: 1 if x ==8 else 0)"
   ]
  },
  {
   "cell_type": "code",
   "execution_count": null,
   "metadata": {},
   "outputs": [],
   "source": []
  },
  {
   "cell_type": "code",
   "execution_count": null,
   "metadata": {},
   "outputs": [],
   "source": [
    "print(np.arange(0,320,20))"
   ]
  },
  {
   "cell_type": "code",
   "execution_count": 11,
   "metadata": {},
   "outputs": [],
   "source": [
    "df['0 Var1 '] =  df['Var1'].apply( lambda x: 1 if x == 0 else 0)\n",
    "df['1 '] =  df['Var1'].apply( lambda x: 1 if x == 1 else 0)\n",
    "df['2 '] =  df['Var1'].apply( lambda x: 1 if x ==2 else 0)\n",
    "df['3 '] =  df['Var1'].apply( lambda x: 1 if x ==3 else 0)\n",
    "df['4 '] =  df['Var1'].apply( lambda x: 1 if x == 4 else 0)\n",
    "df['5 '] =  df['Var1'].apply( lambda x: 1 if x ==5  else 0)\n",
    "df['10 to 19 '] =  df['Var1'].apply( lambda x: 1 if x <19 and x>= 10 else 0)\n",
    "df['20 to 39 '] =  df['Var1'].apply( lambda x: 1 if x <39 and x>= 20 else 0)\n",
    "df['40 to 59 '] =  df['Var1'].apply( lambda x: 1 if x <59 and x>= 40 else 0)\n",
    "df['60 to 79 '] =  df['Var1'].apply( lambda x: 1 if x <79 and x>=60 else 0)\n",
    "df['80 to 99 '] =  df['Var1'].apply( lambda x: 1 if x <99 and x>=80 else 0)\n",
    "df['100 to 119 '] =  df['Var1'].apply( lambda x: 1 if x <119 and x>=100 else 0)\n",
    "df['120 to 139 '] =  df['Var1'].apply( lambda x: 1 if x <139 and x>= 120 else 0)\n",
    "df['140 to 159 '] =  df['Var1'].apply( lambda x: 1 if x <159 and x>= 140 else 0)\n",
    "df['180 to 199 '] =  df['Var1'].apply( lambda x: 1 if x <199 and x>=180 else 0)\n",
    "df['200 to 219 '] =  df['Var1'].apply( lambda x: 1 if x <219 and x>=200 else 0)\n",
    "df['220 to 239 '] =  df['Var1'].apply( lambda x: 1 if x <239 and x>=220 else 0)\n",
    "df['240 to 259 '] =  df['Var1'].apply( lambda x: 1 if x <259 and x>= 240 else 0)\n",
    "df['260 to 279 '] =  df['Var1'].apply( lambda x: 1 if x <279 and x>=260else 0)\n",
    "df['280 to 299 '] =  df['Var1'].apply( lambda x: 1 if x <299 and x>= 280 else 0)\n"
   ]
  },
  {
   "cell_type": "code",
   "execution_count": null,
   "metadata": {},
   "outputs": [],
   "source": []
  },
  {
   "cell_type": "code",
   "execution_count": null,
   "metadata": {},
   "outputs": [],
   "source": []
  },
  {
   "cell_type": "code",
   "execution_count": null,
   "metadata": {},
   "outputs": [],
   "source": [
    "o= df[df['y_target']==1]"
   ]
  },
  {
   "cell_type": "code",
   "execution_count": null,
   "metadata": {},
   "outputs": [],
   "source": [
    "o['Patient_ID_x'].nunique"
   ]
  },
  {
   "cell_type": "code",
   "execution_count": null,
   "metadata": {},
   "outputs": [],
   "source": []
  },
  {
   "cell_type": "code",
   "execution_count": null,
   "metadata": {},
   "outputs": [],
   "source": []
  },
  {
   "cell_type": "code",
   "execution_count": null,
   "metadata": {},
   "outputs": [],
   "source": []
  },
  {
   "cell_type": "code",
   "execution_count": 12,
   "metadata": {},
   "outputs": [
    {
     "data": {
      "text/plain": [
       "Index(['Patient_ID_x', 'Health_Camp_ID', 'Registration_Date', 'Var1', 'Var2',\n",
       "       'Var3', 'Var4', 'Var5', 'Category1_x', 'Category2', 'Category3',\n",
       "       'Camp_Start_Date2', 'Camp_End_Date2', 'patient_event', 'Unnamed: 0_x',\n",
       "       'Unnamed: 0.1_x', 'Online_Follower_x', 'First_Interaction', 'City_Type',\n",
       "       'Employer_Category', 'Job_Type', 'Event1_or_2_x', 'online_score',\n",
       "       'Category1_y', 'Unnamed: 0_y', 'Unnamed: 0.1_y', 'Patient_ID_y',\n",
       "       'Online_Follower_y', 'Event1_or_2_y', 'y_target', 'Health Score',\n",
       "       'Number_of_stall_visited', 'Last_Stall_Visited_Number', 'Camp_length',\n",
       "       'delta_first_reg', 'interaction_regreister_delta', 'delta_first_start',\n",
       "       'delta_reg_end', 'Camp_Length', 'Attendance', '0 Var5', '1 Var5',\n",
       "       '2 Var5', '3 Var5', '4 Var5', '5 Var5', '6 Var5', '7 Var5', '8 Var5',\n",
       "       '0 Var1 ', '1 ', '2 ', '3 ', '4 ', '5 ', '10 to 19 ', '20 to 39 ',\n",
       "       '40 to 59 ', '60 to 79 ', '80 to 99 ', '100 to 119 ', '120 to 139 ',\n",
       "       '140 to 159 ', '180 to 199 ', '200 to 219 ', '220 to 239 ',\n",
       "       '240 to 259 ', '260 to 279 ', '280 to 299 '],\n",
       "      dtype='object')"
      ]
     },
     "execution_count": 12,
     "metadata": {},
     "output_type": "execute_result"
    }
   ],
   "source": [
    "df.columns"
   ]
  },
  {
   "cell_type": "code",
   "execution_count": null,
   "metadata": {},
   "outputs": [],
   "source": [
    "'1036',\n",
    "#        '1216', '1217', '1352', '1704', '1729', '2517', '2662',\n",
    "#        '2.0', '3.0', '4.0', '5.0', '6.0', '7.0', '8.0', '9.0', '10.0', '11.0',\n",
    "#        '12.0', '13.0', '14.0', '6 to 11 Var5', '12 to 17 Var5', '18 to 23 Var5'"
   ]
  },
  {
   "cell_type": "code",
   "execution_count": 22,
   "metadata": {},
   "outputs": [
    {
     "name": "stdout",
     "output_type": "stream",
     "text": [
      "[('0 Var5', (50965, 18356)), ('0 Var1 ', (49648, 17797))]\n"
     ]
    }
   ],
   "source": [
    "#  '24 to 29 Var5', '30 to 35 Var5', \n",
    "lst=['0 Var5','0 Var1 ' ]\n",
    "#     #need number of y_target = 1 , y_target = 0 , count = sum(1)\n",
    "def dfgh():\n",
    "    nums = []\n",
    "    for i in lst:\n",
    "        get_0 = df.loc[(df['y_target'] == 0) & (df[i] == 1 ) ] \n",
    "        get_1 = df.loc[ (df['y_target'] == 1) & (df[i] == 1 ) ] \n",
    "        ap = (i,( len(get_0), len(get_1)) )\n",
    "        nums.append(ap)\n",
    "    return nums\n",
    "shows = dfgh() \n",
    "print(shows)"
   ]
  },
  {
   "cell_type": "code",
   "execution_count": 23,
   "metadata": {},
   "outputs": [
    {
     "name": "stdout",
     "output_type": "stream",
     "text": [
      "2\n"
     ]
    }
   ],
   "source": [
    "bars1 = [x[1][1] for x in shows ]  #counts of y_not == 1 for each grouping \n",
    "bars2 = [x[1][0] for x in shows ] \n",
    " \n",
    "print(len(bars1))"
   ]
  },
  {
   "cell_type": "code",
   "execution_count": 24,
   "metadata": {},
   "outputs": [
    {
     "name": "stdout",
     "output_type": "stream",
     "text": [
      "[18356, 17797] [50965, 49648]\n"
     ]
    },
    {
     "data": {
      "image/png": "[encoded data removed]",
      "text/plain": [
       "<Figure size 1200x800 with 1 Axes>"
      ]
     },
     "metadata": {
      "needs_background": "light"
     },
     "output_type": "display_data"
    }
   ],
   "source": [
    "# for each time column make additional columns for below \n",
    "\n",
    "from matplotlib import rc\n",
    "import pandas as pd\n",
    " \n",
    "# y-axis in bold\n",
    "rc('font')\n",
    " \n",
    "# Values of each group\n",
    "bars1 = [x[1][1] for x in shows ]  #counts of y_not == 1 for each grouping \n",
    "bars2 = [x[1][0] for x in shows ] #counts of y_not == 0 for each grouping \n",
    "print(bars1,bars2)\n",
    "# Heights of bars1 + bars2\n",
    "bars = np.add(bars1, bars2).tolist()\n",
    "# ,3,4,5,6,7,8,9,10,11,12,13,14,15,16,17,18,19,20\n",
    "#,10,11,12,13,14,15,16,17,18,19,20,21,22,23,24,25,26,27,28,29,30,31,32,33,34,35,36,37,38,39,40\n",
    "# The position of the bars on the x-axis\n",
    "r = [1,2]  #len(number of grouppings)\n",
    " \n",
    "# Names of group and bar width\n",
    "names = [x[0] for x in shows] # The names for each group \n",
    "barWidth = 1\n",
    " \n",
    "# Create brown bars\n",
    "plt.bar(r, bars1, color= '#dd6101', edgecolor='white', width=barWidth)\n",
    "# Create green bars (middle), on top of the firs ones\n",
    "plt.bar(r, bars2, bottom=bars1, color='#557f2d', edgecolor='white', width=barWidth)\n",
    " \n",
    "# Custom X axis\n",
    "plt.title(label = 'The Zero Value Count for Var1 & Var5 Attendance')\n",
    "plt.xticks(r, names)\n",
    "plt.xlabel(\"Feature\")\n",
    "plt.ylabel(\"Number of Patients\")\n",
    "plt.xticks(rotation=65) \n",
    "plt.legend( ('Did Attend', 'Did NOT Attend')) \n",
    "# Show graphic\n",
    "plt.show()"
   ]
  },
  {
   "cell_type": "code",
   "execution_count": null,
   "metadata": {},
   "outputs": [],
   "source": [
    "# could do column 9999 column 22384 and two others in one plot . ANother set of o/1 plots for the range Var 1 \n",
    "# maybe just put the biggest cols with 9999 and 22384,  ie 0 to 5 , 0 to 19, 0 to 19 Var1"
   ]
  },
  {
   "cell_type": "code",
   "execution_count": null,
   "metadata": {},
   "outputs": [],
   "source": [
    "As the number of days "
   ]
  }
 ],
 "metadata": {
  "kernelspec": {
   "display_name": "Python 3",
   "language": "python",
   "name": "python3"
  },
  "language_info": {
   "codemirror_mode": {
    "name": "ipython",
    "version": 3
   },
   "file_extension": ".py",
   "mimetype": "text/x-python",
   "name": "python",
   "nbconvert_exporter": "python",
   "pygments_lexer": "ipython3",
   "version": "3.8.2"
  }
 },
 "nbformat": 4,
 "nbformat_minor": 4
}
