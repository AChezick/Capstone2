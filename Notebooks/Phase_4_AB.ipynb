{
 "cells": [
  {
   "cell_type": "code",
   "execution_count": 1,
   "metadata": {},
   "outputs": [],
   "source": [
    "import pandas as pd \n",
    "import numpy as np \n",
    "import matplotlib.pyplot as plt \n",
    "import seaborn as sns \n",
    "pd.set_option('display.max_columns', None)\n",
    "%matplotlib inline\n",
    "import matplotlib.pyplot as plt\n",
    "plt.rcParams['figure.dpi'] = 200\n",
    "\n",
    "import statsmodels.api as sm\n"
   ]
  },
  {
   "cell_type": "code",
   "execution_count": 2,
   "metadata": {},
   "outputs": [],
   "source": [
    "pat = pd.read_csv('/home/allen/Galva/capstones/capstone2/data/patient_df.csv')"
   ]
  },
  {
   "cell_type": "code",
   "execution_count": 3,
   "metadata": {},
   "outputs": [
    {
     "data": {
      "text/plain": [
       "Index(['Unnamed: 0', 'Patient_ID', 'Online_Follower', 'LinkedIn_Shared',\n",
       "       'Twitter_Shared', 'Facebook_Shared', 'Income', 'Education_Score', 'Age',\n",
       "       'First_Interaction', 'City_Type', 'Employer_Category', 'Job_Type'],\n",
       "      dtype='object')"
      ]
     },
     "execution_count": 3,
     "metadata": {},
     "output_type": "execute_result"
    }
   ],
   "source": [
    "pat.columns"
   ]
  },
  {
   "cell_type": "code",
   "execution_count": 22,
   "metadata": {},
   "outputs": [],
   "source": []
  },
  {
   "cell_type": "code",
   "execution_count": 57,
   "metadata": {},
   "outputs": [],
   "source": []
  },
  {
   "cell_type": "code",
   "execution_count": 55,
   "metadata": {},
   "outputs": [],
   "source": [
    "xg = pd.read_csv('/home/allen/Galva/capstones/capstone2/src/explore/testing/x2.csv')"
   ]
  },
  {
   "cell_type": "code",
   "execution_count": 56,
   "metadata": {},
   "outputs": [
    {
     "data": {
      "text/plain": [
       "Index(['Var1', 'Var2', 'Var3', 'Var4', 'Var5',\n",
       "       'Camp Start Date - Registration Date',\n",
       "       'Registration Date - First Interaction',\n",
       "       'Camp Start Date - First Interaction',\n",
       "       'Camp End Date - Registration Date', 'Camp Length', 'Second', 'Third',\n",
       "       'A', 'C', 'D', 'E', 'F', 'G', '2100', '2.0', '3.0', '4.0', '5.0', '6.0',\n",
       "       '7.0', '8.0', '9.0', '10.0', '11.0', '12.0', '13.0', '14.0', '9999.0',\n",
       "       '1', '2', '3', '4', '1036', '1216', '1217', '1352', '1704', '1729',\n",
       "       '2517', '2662', '23384', 'prediction', 'Proba', 'y_target'],\n",
       "      dtype='object')"
      ]
     },
     "execution_count": 56,
     "metadata": {},
     "output_type": "execute_result"
    }
   ],
   "source": [
    "xg.columns"
   ]
  },
  {
   "cell_type": "code",
   "execution_count": 2,
   "metadata": {},
   "outputs": [],
   "source": [
    "#sns.heatmap(df_withID.isna())"
   ]
  },
  {
   "cell_type": "code",
   "execution_count": 22,
   "metadata": {},
   "outputs": [],
   "source": [
    "fu = df_withID['Job Type_x'].values"
   ]
  },
  {
   "cell_type": "code",
   "execution_count": 23,
   "metadata": {},
   "outputs": [
    {
     "name": "stdout",
     "output_type": "stream",
     "text": [
      "dict_items([('9999', 60075), ('Others', 2239), ('Technology', 3533), ('Consulting', 2128), ('Software Industry', 2358), ('Manufacturing', 510), ('Education', 1125), ('Health', 446), ('Retail', 535), ('BFSI', 845), ('Transport', 364), ('Broadcasting', 185), ('Telecom', 272), ('Real Estate', 361), ('Food', 302)])\n"
     ]
    }
   ],
   "source": []
  },
  {
   "cell_type": "code",
   "execution_count": 4,
   "metadata": {},
   "outputs": [],
   "source": [
    "df_withID['Tups'] = list(zip(df_withID.City_Type2_x,df_withID.Health_Camp_ID))"
   ]
  },
  {
   "cell_type": "code",
   "execution_count": 5,
   "metadata": {},
   "outputs": [],
   "source": [
    "df_withID['Tups2'] = list(zip(df_withID['Camp Length'].values,df_withID.Health_Camp_ID))"
   ]
  },
  {
   "cell_type": "code",
   "execution_count": 6,
   "metadata": {},
   "outputs": [],
   "source": [
    "d2={}\n",
    "for i in df_withID['Tups2'].values:\n",
    "    key = i[1]\n",
    "    value = i[0]\n",
    "    if key not in d2.keys():\n",
    "        d2[key]=value"
   ]
  },
  {
   "cell_type": "code",
   "execution_count": 7,
   "metadata": {},
   "outputs": [
    {
     "name": "stdout",
     "output_type": "stream",
     "text": [
      "[(2, 1), (3, 5), (4, 4), (5, 5), (7, 1), (8, 3), (12, 2), (13, 2), (15, 1), (17, 2), (18, 1), (39, 1), (48, 1), (58, 1), (59, 1), (73, 1), (74, 1), (177, 1), (185, 2), (189, 2), (190, 1), (205, 1), (392, 1), (751, 1), (771, 2)]\n"
     ]
    }
   ],
   "source": [
    "d2_counts={}\n",
    "for i in d2.values():\n",
    "    if i not in d2_counts:\n",
    "        d2_counts[i]=1\n",
    "    else:\n",
    "        d2_counts[i]+=1\n",
    "print(sorted(d2_counts.items()))"
   ]
  },
  {
   "cell_type": "code",
   "execution_count": null,
   "metadata": {},
   "outputs": [],
   "source": []
  },
  {
   "cell_type": "code",
   "execution_count": null,
   "metadata": {},
   "outputs": [],
   "source": []
  },
  {
   "cell_type": "code",
   "execution_count": 15,
   "metadata": {},
   "outputs": [
    {
     "name": "stdout",
     "output_type": "stream",
     "text": [
      "dict_values([10272, 24660, 20988, 10993, 4121, 2426, 1818]) *******cat2\n",
      "dict_values([33208, 4259, 3312, 5451, 8273, 3441, 4025, 4360, 6139, 2810]) CITY\n",
      "dict_values([60075, 2239, 3533, 2128, 2358, 510, 1125, 446, 535, 845, 364, 185, 272, 361, 302]) JOBs\n"
     ]
    }
   ],
   "source": [
    "cat2={}\n",
    "city={}\n",
    "jobs={}\n",
    "\n",
    "for i in df_withID['City_Type2_x'].values:\n",
    "    if i not in city:\n",
    "        city[i]=1\n",
    "    else:\n",
    "        city[i]+=1\n",
    "\n",
    "for ii in df_withID['Category 2'].values:\n",
    "    if ii not in cat2:\n",
    "        cat2[ii]=1\n",
    "    else:\n",
    "        cat2[ii]+=1\n",
    "for iii in df_withID['Job Type_x'].values:\n",
    "    if iii not in jobs:\n",
    "        jobs[iii]=1\n",
    "    else:\n",
    "        jobs[iii]+=1\n",
    "        \n",
    "print(cat2.values(), '*******cat2')\n",
    "print(city.values(), 'CITY')\n",
    "print(jobs.values(), 'JOBs')"
   ]
  },
  {
   "cell_type": "code",
   "execution_count": 69,
   "metadata": {},
   "outputs": [],
   "source": []
  },
  {
   "cell_type": "code",
   "execution_count": 70,
   "metadata": {},
   "outputs": [],
   "source": []
  },
  {
   "cell_type": "code",
   "execution_count": 71,
   "metadata": {},
   "outputs": [],
   "source": []
  },
  {
   "cell_type": "code",
   "execution_count": null,
   "metadata": {},
   "outputs": [],
   "source": []
  },
  {
   "cell_type": "code",
   "execution_count": 4,
   "metadata": {},
   "outputs": [],
   "source": [
    "#still might need to check on which patients are in dff but missing from the 37633 Unique patient IDs\n",
    "dff = pd.read_csv('/home/allen/Galva/capstones/capstone2/data/model_agent.csv')\n",
    "a = pd.read_csv('/home/allen/Galva/capstones/capstone2/src/explore/temp_csv/thomps2.csv') "
   ]
  },
  {
   "cell_type": "code",
   "execution_count": 5,
   "metadata": {},
   "outputs": [
    {
     "data": {
      "text/plain": [
       "Index(['Unnamed: 0', 'Var1', 'Var2', 'Var3', 'Var4', 'Var5',\n",
       "       'Camp Start Date - Registration Date',\n",
       "       'Registration Date - First Interaction',\n",
       "       'Camp Start Date - First Interaction',\n",
       "       'Camp End Date - Registration Date', 'Camp Length', 'Second', 'Third',\n",
       "       'A', 'C', 'D', 'E', 'F', 'G', '2100', '2.0', '3.0', '4.0', '5.0', '6.0',\n",
       "       '7.0', '8.0', '9.0', '10.0', '11.0', '12.0', '13.0', '14.0', '9999.0',\n",
       "       '1', '2', '3', '4', '1036', '1216', '1217', '1352', '1704', '1729',\n",
       "       '2517', '2662', '23384', 'Patient_ID', 'prediction', 'Proba',\n",
       "       'y_target', 'proba_kNN', 'prediction_kNN', 'proba_sVC',\n",
       "       'prediction_sVC', 'proba_xg', 'prediction_xg', 'Y_count_allModels',\n",
       "       'Y_target_SUM'],\n",
       "      dtype='object')"
      ]
     },
     "execution_count": 5,
     "metadata": {},
     "output_type": "execute_result"
    }
   ],
   "source": [
    "# dff['Prediction_Score'] = dff['prediction_kNN']+dff['prediction_sVC']+dff['prediction_xg']+dff['y_target']\n",
    "# dff['Prediction_Score2'] = dff['Prediction_Score'].astype(str) \n",
    "dff.columns"
   ]
  },
  {
   "cell_type": "code",
   "execution_count": 34,
   "metadata": {},
   "outputs": [
    {
     "data": {
      "text/plain": [
       "'\\nBest way to be specific about success or failure for each test?\\n-Each model predicts 0/1 for each person who is either 0/1 == 4 system states per test\\n-For each person, each tetst == SXK, sXk, Skx, sKX, skX, etc \\n\\n'"
      ]
     },
     "execution_count": 34,
     "metadata": {},
     "output_type": "execute_result"
    }
   ],
   "source": [
    "'''\n",
    "Best way to be specific about success or failure for each test?\n",
    "-Each model predicts 0/1 for each person who is either 0/1 == 4 system states per test\n",
    "-For each person, each tetst == SXK, sXk, Skx, sKX, skX, etc \n",
    "'''"
   ]
  },
  {
   "cell_type": "code",
   "execution_count": 6,
   "metadata": {},
   "outputs": [],
   "source": [
    "dff.describe()\n",
    "dff['Success'] = dff['Y_target_SUM'].apply(lambda x:4 if x == 0 else x) "
   ]
  },
  {
   "cell_type": "markdown",
   "metadata": {},
   "source": [
    "-It seems like I should change the nature of Y_count_allModels and Y-Target_SUM \n",
    "*** Rational would be that I don't Only care about Y-Target I  also care about Model Success\n",
    "\n",
    "-So The update should be :\n",
    "\n",
    "create 'Success_count' \n",
    "\n",
    "\n",
    "%% Can you stack lambda functions? - Like create a series of them\n",
    "\n",
    "%%Note to self and use in interview - realized my model was incomplete in a certain sense | Success was attendance, success for me/models was correct predction.\n"
   ]
  },
  {
   "cell_type": "code",
   "execution_count": 54,
   "metadata": {},
   "outputs": [],
   "source": [
    "# g = sns.relplot(data=dff, x='proba_xg', y='proba_s2',hue= 'y_target', palette=\"deep\", kind='scatter', col=\"prediction_k2\", col_wrap=2)\n",
    "# plt.legend(loc='best')\n",
    "# plt.title('S2 vs XG Probas')"
   ]
  },
  {
   "cell_type": "code",
   "execution_count": 112,
   "metadata": {},
   "outputs": [
    {
     "data": {
      "text/plain": [
       "<AxesSubplot:xlabel='Y_target_SUM', ylabel='proba_sVC'>"
      ]
     },
     "execution_count": 112,
     "metadata": {},
     "output_type": "execute_result"
    },
    {
     "data": {
      "image/png": "[encoded data removed]",
      "text/plain": [
       "<Figure size 1200x800 with 1 Axes>"
      ]
     },
     "metadata": {
      "needs_background": "light"
     },
     "output_type": "display_data"
    }
   ],
   "source": [
    "sns.stripplot(x='Y_target_SUM', y='proba_sVC', hue='y_target', data=dff, jitter=True)"
   ]
  },
  {
   "cell_type": "code",
   "execution_count": 101,
   "metadata": {},
   "outputs": [
    {
     "data": {
      "text/plain": [
       "<Figure size 1200x1200 with 0 Axes>"
      ]
     },
     "execution_count": 101,
     "metadata": {},
     "output_type": "execute_result"
    },
    {
     "data": {
      "image/png": "[encoded data removed]",
      "text/plain": [
       "<Figure size 1144.12x1000 with 1 Axes>"
      ]
     },
     "metadata": {
      "needs_background": "light"
     },
     "output_type": "display_data"
    },
    {
     "data": {
      "text/plain": [
       "<Figure size 1200x1200 with 0 Axes>"
      ]
     },
     "metadata": {},
     "output_type": "display_data"
    }
   ],
   "source": [
    "\n",
    "g1 = sns.relplot(data=dff, x='prediction_xg', y ='proba_xg' ,hue= 'y_target', palette=\"deep\" )\n",
    "# g2 = sns.relplot(data=dff, x='prediction_kNN', y ='proba_kNN' ,hue= 'y_target', palette=\"deep\" )\n",
    "# g3 = sns.relplot(data=dff, x='prediction_xg', y ='proba_xg' ,hue= 'y_target', palette=\"deep\" )\n",
    "plt.legend(loc='best')\n",
    "plt.title('XG Boost Probabilities & Actual Attendance')\n",
    "plt.figure(figsize=(6, 6))\n",
    "#make a 4 plot of these to put into readme"
   ]
  },
  {
   "cell_type": "code",
   "execution_count": 110,
   "metadata": {},
   "outputs": [],
   "source": [
    "# sns.relplot(data=dff,x=['prediction_sVC','prediction_xg' ], y = ['proba_sVC', 'proba_xg'], hue=\"y_target\")\n"
   ]
  },
  {
   "cell_type": "code",
   "execution_count": null,
   "metadata": {},
   "outputs": [],
   "source": [
    "'''\n",
    "Need to append IDs to k2,s2\n",
    "create new col from ids.values\n",
    "\n",
    "*new idea, create a series of functions to\n",
    "make a new dataframe.\n",
    "\n",
    "-rename cols to reflect model type:\n",
    "knn_proba, knn_prediction , sv_ , xg_\n",
    "\n",
    "-want to know:\n",
    "similar among 3\n",
    "difference among 3\n",
    "\n",
    "-visualize the above ? compare heatmaps \n",
    "\n",
    "assign network or cluster based on Location\n",
    "or break the graph below into location\n",
    "\n",
    "assign colors:\n",
    "overlap - incorrect White/Black\n",
    "overlap - correct\n",
    "partial1 ab : Green: light = False, Dark = True\n",
    "partial2 bc : Blue : light = False, Dark = True\n",
    "partial3 ac : Yellow: light = False, Dark = True\n",
    "\n",
    "lambda functions, mapping, \n",
    "\n",
    "Want to know if correct-\n",
    "want to know who it was correct-\n",
    "\n",
    "'''"
   ]
  },
  {
   "cell_type": "code",
   "execution_count": null,
   "metadata": {},
   "outputs": [],
   "source": [
    "#Update 4/27 Outline for compare_model.py functions \n",
    "\n",
    "'''\n",
    "def change_cols(xg,knn,svc): \n",
    "    cols_to_change=[prediction, Proba]\n",
    "    return df \n",
    "    \n",
    "def combine(xg,knn,svc):\n",
    "    add the two to one <4/27 migth indiacte to add \n",
    "                       < either of those 2 and then add the 2_single set to the One\n",
    "    \n",
    "def edit(new_df):\n",
    "    could do a sum across rows for y_predict value ,0,1,2,3\n",
    "    if its a 2 then check for ac,ab,bc\n",
    "    if its a 1 then check for a,b,c \n",
    "    assign letter or number based on 1-6\n",
    "    \n",
    "def graph(new_df):\n",
    "    \n",
    "\n",
    "'''"
   ]
  },
  {
   "cell_type": "code",
   "execution_count": 17,
   "metadata": {},
   "outputs": [],
   "source": [
    "k = k2['prediction'].values\n",
    "s = s2['prediction'].values\n",
    "lst = list(zip(k,s))\n",
    "lstK = list(zip(k,noid))\n",
    "lstS = list(zip(noid,s))"
   ]
  },
  {
   "cell_type": "code",
   "execution_count": 20,
   "metadata": {},
   "outputs": [
    {
     "name": "stdout",
     "output_type": "stream",
     "text": [
      "13469\n",
      "11969\n",
      "11962\n"
     ]
    }
   ],
   "source": [
    "acum_s_k=0\n",
    "acum_b_k=0\n",
    "acum_b_s=0\n",
    "\n",
    "for i in lst:\n",
    "    if i[0] == i[1]:\n",
    "        acum_s_k+=1\n",
    "print(acum_s_k)\n",
    "\n",
    "for i in lstK:\n",
    "    if i[0] == i[1]:\n",
    "        acum_b_k+=1\n",
    "print(acum_b_k)\n",
    "\n",
    "for i in lstS:\n",
    "    if i[0] == i[1]:\n",
    "        acum_b_s+=1\n",
    "print(acum_b_s)\n"
   ]
  },
  {
   "cell_type": "code",
   "execution_count": 3,
   "metadata": {},
   "outputs": [],
   "source": [
    "#sns.stripplot(x='Prediction_Score2', y='proba_k2', hue='y_target', data=dff, jitter=True)\n",
    "from preprocessing import *"
   ]
  },
  {
   "cell_type": "code",
   "execution_count": 4,
   "metadata": {},
   "outputs": [
    {
     "data": {
      "text/plain": [
       "'\\nScale the data\\nremove target, set to =y\\nTrying with first part of thomps samp2\\n'"
      ]
     },
     "execution_count": 4,
     "metadata": {},
     "output_type": "execute_result"
    }
   ],
   "source": [
    "'''\n",
    "Scale the data\n",
    "remove target, set to =y\n",
    "Trying with first part of thomps samp2\n",
    "'''"
   ]
  },
  {
   "cell_type": "code",
   "execution_count": 5,
   "metadata": {},
   "outputs": [
    {
     "name": "stdout",
     "output_type": "stream",
     "text": [
      "   Unnamed: 0  Health_Camp_ID      Var1      Var2      Var3      Var4  \\\n",
      "0           3            6580 -0.108003 -0.073341 -0.016865 -0.116069   \n",
      "1          12            6580  3.762503  0.862919 -0.016865 -0.116069   \n",
      "2          30            6580 -0.108003 -0.073341 -0.016865 -0.116069   \n",
      "3          50            6580  1.504708  0.160724 -0.016865 -0.116069   \n",
      "4          64            6580 -0.108003 -0.073341 -0.016865 -0.116069   \n",
      "\n",
      "       Var5  y_target  Camp Length  BFSI  Broadcasting  Consulting  Education  \\\n",
      "0 -0.225540       0.0          0.0     0             0           0          0   \n",
      "1  5.062624       0.0          0.0     0             0           0          0   \n",
      "2 -0.225540       0.0          0.0     0             0           0          0   \n",
      "3  5.062624       0.0          0.0     0             0           0          0   \n",
      "4 -0.225540       0.0          0.0     0             0           0          0   \n",
      "\n",
      "   Food  Health  Manufacturing  Others  Real Estate  Retail  \\\n",
      "0     0       0              0       0            0       0   \n",
      "1     0       0              0       1            0       0   \n",
      "2     0       0              0       0            0       0   \n",
      "3     0       0              0       0            0       0   \n",
      "4     0       0              0       0            0       0   \n",
      "\n",
      "   Software Industry  Technology  Telecom  Transport  A  C  D  E  F  G  \\\n",
      "0                  0           0        0          0  0  0  0  1  0  0   \n",
      "1                  0           0        0          0  0  0  0  1  0  0   \n",
      "2                  0           0        0          0  0  0  0  1  0  0   \n",
      "3                  0           1        0          0  0  0  0  1  0  0   \n",
      "4                  0           0        0          0  0  0  0  1  0  0   \n",
      "\n",
      "   Second  Third  1  2  3  4  Patient_ID  Camp Start Date - Registration Date  \\\n",
      "0       0      0  0  0  0  0      489652                            -0.139359   \n",
      "1       0      0  0  0  0  0      507246                             0.441277   \n",
      "2       0      0  0  0  0  0      523729                            -0.003877   \n",
      "3       0      0  1  0  0  0      521364                             0.441277   \n",
      "4       0      0  0  0  0  0      494493                            -0.197422   \n",
      "\n",
      "   Registration Date - First Interaction  Camp Start Date - First Interaction  \\\n",
      "0                              -0.601713                            -0.710683   \n",
      "1                              -0.477172                            -0.301325   \n",
      "2                               0.055350                             0.057439   \n",
      "3                               1.378066                             1.685671   \n",
      "4                               0.751065                             0.710571   \n",
      "\n",
      "   Camp End Date - Registration Date  SVC  svc_preds   XG  xg_preds       log  \\\n",
      "0                          -0.139359  0.0   0.147007  0.0  0.000000  0.079390   \n",
      "1                           0.441277  0.0   0.189093  0.0  0.428571  0.292146   \n",
      "2                          -0.003877  0.0   0.146129  0.0  0.142857  0.089092   \n",
      "3                           0.441277  0.0   0.242156  1.0  0.571429  0.328480   \n",
      "4                          -0.197422  0.0   0.144586  0.0  0.428571  0.098607   \n",
      "\n",
      "   log_preds  \n",
      "0        0.0  \n",
      "1        0.0  \n",
      "2        0.0  \n",
      "3        0.0  \n",
      "4        0.0  \n"
     ]
    }
   ],
   "source": [
    "a2 = scale(a)\n",
    "print(a2.head())"
   ]
  },
  {
   "cell_type": "code",
   "execution_count": 6,
   "metadata": {},
   "outputs": [
    {
     "name": "stdout",
     "output_type": "stream",
     "text": [
      "Index(['Var1', 'Var2', 'Var3', 'Var4', 'Var5', 'y_target', 'Camp Length',\n",
      "       'BFSI', 'Broadcasting', 'Consulting', 'Education', 'Food', 'Health',\n",
      "       'Manufacturing', 'Others', 'Real Estate', 'Retail', 'Software Industry',\n",
      "       'Technology', 'Telecom', 'Transport', 'A', 'C', 'D', 'E', 'F', 'G',\n",
      "       'Second', 'Third', '1', '2', '3', '4',\n",
      "       'Camp Start Date - Registration Date',\n",
      "       'Registration Date - First Interaction',\n",
      "       'Camp Start Date - First Interaction',\n",
      "       'Camp End Date - Registration Date'],\n",
      "      dtype='object')\n"
     ]
    }
   ],
   "source": [
    "a_ = a.drop(['Unnamed: 0', 'Health_Camp_ID','SVC', 'svc_preds', 'XG','xg_preds', 'log', 'log_preds', 'Patient_ID'], axis = 1)\n",
    "print(a_.columns) \n",
    "y_target = a_['y_target']"
   ]
  },
  {
   "cell_type": "code",
   "execution_count": null,
   "metadata": {},
   "outputs": [],
   "source": []
  },
  {
   "cell_type": "code",
   "execution_count": null,
   "metadata": {},
   "outputs": [],
   "source": []
  },
  {
   "cell_type": "code",
   "execution_count": 8,
   "metadata": {},
   "outputs": [],
   "source": [
    "from sklearn.cluster import KMeans"
   ]
  },
  {
   "cell_type": "code",
   "execution_count": 29,
   "metadata": {},
   "outputs": [
    {
     "name": "stdout",
     "output_type": "stream",
     "text": [
      "#clust\trss\n",
      "1\t33032\n",
      "2\t26955\n",
      "3\t19657\n",
      "4\t14455\n",
      "5\t9899\n",
      "6\t8575\n",
      "7\t8026\n",
      "8\t7828\n",
      "9\t7555\n",
      "10\t7641\n",
      "11\t4451\n",
      "12\t4405\n",
      "13\t7486\n",
      "14\t7226\n",
      "15\t4212\n",
      "16\t3875\n",
      "17\t3415\n",
      "18\t4075\n",
      "19\t6898\n"
     ]
    }
   ],
   "source": [
    "ncluster_list = range(1,18)\n",
    "\n",
    "def kmean_score(nclust):\n",
    "    \n",
    "    km = KMeans(n_clusters = nclust, \n",
    "                init = 'random', \n",
    "                n_init = 10, \n",
    "                max_iter = 300) \n",
    "                #n_jobs = -1) #look at hyperparameters 'n_jobs' was deprecated in version 0.23 and will be removed in 1.0 (renaming of 0.25).\n",
    "    km.fit(a_)\n",
    "    rss = -km.score(a_)\n",
    "    return rss\n",
    "\n",
    "scores = [kmean_score(i) for i in range(1,18)]\n",
    "print(\"#clust\\trss\")\n",
    "for i, score in enumerate(scores):\n",
    "    print(\"{0}\\t{1:0.0f}\".format(ncluster_list[i],score))"
   ]
  },
  {
   "cell_type": "code",
   "execution_count": 27,
   "metadata": {},
   "outputs": [
    {
     "name": "stdout",
     "output_type": "stream",
     "text": [
      "[[ 1  2]\n",
      " [ 1  4]\n",
      " [ 1  0]\n",
      " [10  2]\n",
      " [10  4]\n",
      " [10  0]]\n"
     ]
    }
   ],
   "source": []
  },
  {
   "cell_type": "code",
   "execution_count": null,
   "metadata": {},
   "outputs": [],
   "source": []
  },
  {
   "cell_type": "code",
   "execution_count": null,
   "metadata": {},
   "outputs": [],
   "source": []
  },
  {
   "cell_type": "code",
   "execution_count": null,
   "metadata": {},
   "outputs": [],
   "source": []
  },
  {
   "cell_type": "code",
   "execution_count": null,
   "metadata": {},
   "outputs": [],
   "source": []
  },
  {
   "cell_type": "code",
   "execution_count": null,
   "metadata": {},
   "outputs": [],
   "source": []
  },
  {
   "cell_type": "code",
   "execution_count": null,
   "metadata": {},
   "outputs": [],
   "source": []
  },
  {
   "cell_type": "code",
   "execution_count": null,
   "metadata": {},
   "outputs": [],
   "source": []
  },
  {
   "cell_type": "code",
   "execution_count": 43,
   "metadata": {},
   "outputs": [],
   "source": [
    "r = np.zeros(50)"
   ]
  },
  {
   "cell_type": "code",
   "execution_count": 46,
   "metadata": {},
   "outputs": [],
   "source": [
    "lst=[1 for x,xx in enumerate(r) if x%2 == 0 ]"
   ]
  },
  {
   "cell_type": "code",
   "execution_count": 5,
   "metadata": {},
   "outputs": [],
   "source": [
    "df3 = dff.head()"
   ]
  },
  {
   "cell_type": "code",
   "execution_count": 7,
   "metadata": {},
   "outputs": [],
   "source": [
    "df3.to_csv('/home/allen/Galva/capstones/capstone2/data/models_for_git_head.csv')"
   ]
  },
  {
   "cell_type": "code",
   "execution_count": 7,
   "metadata": {},
   "outputs": [
    {
     "name": "stdout",
     "output_type": "stream",
     "text": [
      "3101\n",
      "11955\n"
     ]
    }
   ],
   "source": [
    "surprising3= dff[dff['y_target']==1 & (dff['Y_count_allModels']==0)]\n",
    "# Where the Person went to a Camp BUT no model predicted they would\n",
    "print(len(surprising3))\n",
    "\n",
    "surprising3a= dff[dff['y_target']==1 & (dff['Y_count_allModels']!=0)]\n",
    "# Where the Person went to a Camp and some model predicted they would\n",
    "print(len(surprising3a))"
   ]
  },
  {
   "cell_type": "code",
   "execution_count": 8,
   "metadata": {},
   "outputs": [
    {
     "name": "stdout",
     "output_type": "stream",
     "text": [
      "1051\n"
     ]
    }
   ],
   "source": [
    "surprising2= dff[(dff['y_target']==0) & (dff['Y_count_allModels']>=2)]\n",
    "# Where the person did Not go to a Camp But two models thought they would\n",
    "print(len(surprising2))"
   ]
  },
  {
   "cell_type": "code",
   "execution_count": 9,
   "metadata": {},
   "outputs": [
    {
     "name": "stdout",
     "output_type": "stream",
     "text": [
      "['Unnamed: 0', 'Var1', 'Var2', 'Var3', 'Var4', 'Var5', 'Camp Start Date - Registration Date', 'Registration Date - First Interaction', 'Camp Start Date - First Interaction', 'Camp End Date - Registration Date', 'Camp Length', 'Second', 'Third', 'A', 'C', 'D', 'E', 'F', 'G', '2100', '2.0', '3.0', '4.0', '5.0', '6.0', '7.0', '8.0', '9.0', '10.0', '11.0', '12.0', '13.0', '14.0', '9999.0', '1', '2', '3', '4', '1036', '1216', '1217', '1352', '1704', '1729', '2517', '2662', '23384', 'Patient_ID', 'prediction', 'Proba', 'y_target', 'proba_kNN', 'prediction_kNN', 'proba_sVC', 'prediction_sVC', 'proba_xg', 'prediction_xg', 'Y_count_allModels', 'Y_target_SUM', 'Success']\n"
     ]
    }
   ],
   "source": [
    "dff.columns\n",
    "\n",
    "import itertools as it \n",
    "\n",
    "lst = [item for item in dff.columns]\n",
    "print(lst)"
   ]
  },
  {
   "cell_type": "code",
   "execution_count": 10,
   "metadata": {},
   "outputs": [],
   "source": [
    " #  itertools.combinations(iterable, r)\n",
    "itered = it.combinations(lst[1:9] , 6)    "
   ]
  },
  {
   "cell_type": "code",
   "execution_count": 62,
   "metadata": {},
   "outputs": [
    {
     "name": "stdout",
     "output_type": "stream",
     "text": [
      "0.0019880715705765406\n"
     ]
    }
   ],
   "source": [
    "import math\n",
    "from math import factorial\n",
    "\n",
    "print(math.factorial(6) / (math.factorial(9)-math.factorial(6) )  ) "
   ]
  },
  {
   "cell_type": "markdown",
   "metadata": {},
   "source": [
    "# surprising"
   ]
  },
  {
   "cell_type": "code",
   "execution_count": 41,
   "metadata": {},
   "outputs": [
    {
     "data": {
      "text/plain": [
       "\"\\nHo Testing for certain columns to test if significant differences exist\\n\\nsec_ho = dff[dff['y_target'] ==1 ]['Second'].to_numpy()\\nsec_ha = dff[dff['y_target'] ==0 ]['Second'].to_numpy()\\n\\nsec_ho_mean = sec_ho.mean()\\nsec_ha_mean = sec_ha.mean()\\n\\nztest(sec_ho_mean,sec_ha_mean)\\n\""
      ]
     },
     "execution_count": 41,
     "metadata": {},
     "output_type": "execute_result"
    }
   ],
   "source": [
    "'''\n",
    "Ho Testing for certain columns to test if significant differences exist among \n",
    "\n",
    "sec_ho = dff[dff['y_target'] ==1 ]['Second'].to_numpy()\n",
    "sec_ha = dff[dff['y_target'] ==0 ]['Second'].to_numpy()\n",
    "\n",
    "sec_ho_mean = sec_ho.mean()\n",
    "sec_ha_mean = sec_ha.mean()\n",
    "\n",
    "ztest(sec_ho_mean,sec_ha_mean)\n",
    "\n",
    "surprising3= dff[dff['y_target']==1 & (dff['Y_count_allModels']==0)]\n",
    "# Where the Person went to a Camp BUT no model predicted they would\n",
    "print(len(surprising3))\n",
    "\n",
    "surprising3a= dff[dff['y_target']==1 & (dff['Y_count_allModels']!=0)]\n",
    "# Where the Person went to a Camp and some model predicted they would\n",
    "print(len(surprising3a))\n",
    "'''"
   ]
  },
  {
   "cell_type": "code",
   "execution_count": 11,
   "metadata": {},
   "outputs": [],
   "source": [
    "import scipy.stats as stats\n",
    "def ho_testing(ho,ha):\n",
    "    '''\n",
    "    Inputs: x= list of lists   \n",
    "    output: a p_value \n",
    "    ''' \n",
    "    \n",
    "    return stats.ttest_ind(ho,ha,alternative= \"two-sided\",equal_var =False)"
   ]
  },
  {
   "cell_type": "code",
   "execution_count": 20,
   "metadata": {},
   "outputs": [],
   "source": [
    "def manual_ho_testing(ho,ha):\n",
    "    stan_error = sum(ho) - sum(ha)\n",
    "    pp = (stan_error)/(len(ho)+len(ha)) #pool_proba\n",
    "    pool_stan_error = (pp * (1-pp) * (1/( len(ho) +len(ha))**.5 ) )\n",
    "    return f'stand error -> {round(stan_error,2)} , pooled_proba ->{round(pp,2)}, and pool_error {round(pool_stan_error,2)}'\n"
   ]
  },
  {
   "cell_type": "code",
   "execution_count": 16,
   "metadata": {},
   "outputs": [],
   "source": [
    "cols2 = [\n",
    "    'Var1', 'Var2', 'Var3', 'Var4', 'Var5',\n",
    "       'Camp Start Date - Registration Date',\n",
    "       'Registration Date - First Interaction',\n",
    "       'Camp Start Date - First Interaction', 'Success',\n",
    "       'Camp End Date - Registration Date', 'Camp Length', 'Second', 'Third',\n",
    "       'A', 'C', 'D', 'E', 'F', 'G', '2100', '2.0', '3.0', '4.0', '5.0', '6.0',\n",
    "       '7.0', '8.0', '9.0', '10.0', '11.0', '12.0', '13.0', '14.0', '9999.0',\n",
    "       '1', '2', '3', '4', '1036', '1216', '1217', '1352', '1704', '1729',\n",
    "       '2517', '2662'\n",
    "]"
   ]
  },
  {
   "cell_type": "code",
   "execution_count": 21,
   "metadata": {},
   "outputs": [
    {
     "name": "stdout",
     "output_type": "stream",
     "text": [
      "statistic = -2.755 p_val --> 0.006, for COI --> Var1 stand error -> 4757.0 , pooled_proba ->0.32, and pool_error 0.0\n",
      "statistic = -0.815 p_val --> 0.415, for COI --> Var2 stand error -> 1781.0 , pooled_proba ->0.12, and pool_error 0.0\n",
      "statistic = 2.0 p_val --> 0.045, for COI --> Var3 stand error -> 4.0 , pooled_proba ->0.0, and pool_error 0.0\n",
      "statistic = -2.992 p_val --> 0.003, for COI --> Var4 stand error -> 127.0 , pooled_proba ->0.01, and pool_error 0.0\n",
      "statistic = -5.563 p_val --> 0.0, for COI --> Var5 stand error -> 1453.0 , pooled_proba ->0.1, and pool_error 0.0\n",
      "statistic = -3.721 p_val --> 0.0, for COI --> Camp Start Date - Registration Date stand error -> -506471.0 , pooled_proba ->-33.64, and pool_error -9.5\n",
      "statistic = -6.598 p_val --> 0.0, for COI --> Registration Date - First Interaction stand error -> 1336827 , pooled_proba ->88.79, and pool_error -63.53\n",
      "statistic = -11.53 p_val --> 0.0, for COI --> Camp Start Date - First Interaction stand error -> 830356 , pooled_proba ->55.15, and pool_error -24.34\n",
      "statistic = 157.579 p_val --> 0.0, for COI --> Success stand error -> 41507.0 , pooled_proba ->2.76, and pool_error -0.04\n",
      "statistic = 2.487 p_val --> 0.013, for COI --> Camp End Date - Registration Date stand error -> 1547123 , pooled_proba ->102.76, and pool_error -85.22\n",
      "statistic = 6.64 p_val --> 0.0, for COI --> Camp Length stand error -> 2053594 , pooled_proba ->136.4, and pool_error -150.51\n",
      "statistic = -19.287 p_val --> 0.0, for COI --> Second stand error -> 912 , pooled_proba ->0.06, and pool_error 0.0\n",
      "statistic = -15.639 p_val --> 0.0, for COI --> Third stand error -> 572 , pooled_proba ->0.04, and pool_error 0.0\n",
      "statistic = -16.518 p_val --> 0.0, for COI --> A stand error -> 634 , pooled_proba ->0.04, and pool_error 0.0\n",
      "statistic = -5.063 p_val --> 0.0, for COI --> C stand error -> 121 , pooled_proba ->0.01, and pool_error 0.0\n",
      "statistic = -7.16 p_val --> 0.0, for COI --> D stand error -> 278 , pooled_proba ->0.02, and pool_error 0.0\n",
      "statistic = 23.144 p_val --> 0.0, for COI --> E stand error -> 3348 , pooled_proba ->0.22, and pool_error 0.0\n",
      "statistic = 16.61 p_val --> 0.0, for COI --> F stand error -> 3587 , pooled_proba ->0.24, and pool_error 0.0\n",
      "statistic = -15.639 p_val --> 0.0, for COI --> G stand error -> 572 , pooled_proba ->0.04, and pool_error 0.0\n",
      "statistic = 0.836 p_val --> 0.403, for COI --> 2100 stand error -> 8820 , pooled_proba ->0.59, and pool_error 0.0\n",
      "statistic = -1.533 p_val --> 0.125, for COI --> 2.0 stand error -> 76 , pooled_proba ->0.01, and pool_error 0.0\n",
      "statistic = -1.363 p_val --> 0.173, for COI --> 3.0 stand error -> 122 , pooled_proba ->0.01, and pool_error 0.0\n",
      "statistic = -4.161 p_val --> 0.0, for COI --> 4.0 stand error -> 193 , pooled_proba ->0.01, and pool_error 0.0\n",
      "statistic = -3.604 p_val --> 0.0, for COI --> 5.0 stand error -> 347 , pooled_proba ->0.02, and pool_error 0.0\n",
      "statistic = -3.365 p_val --> 0.001, for COI --> 6.0 stand error -> 187 , pooled_proba ->0.01, and pool_error 0.0\n",
      "statistic = 1.093 p_val --> 0.274, for COI --> 7.0 stand error -> 72 , pooled_proba ->0.0, and pool_error 0.0\n",
      "statistic = -0.877 p_val --> 0.38, for COI --> 8.0 stand error -> 43 , pooled_proba ->0.0, and pool_error 0.0\n",
      "statistic = -1.075 p_val --> 0.282, for COI --> 9.0 stand error -> 44 , pooled_proba ->0.0, and pool_error 0.0\n",
      "statistic = -1.442 p_val --> 0.149, for COI --> 10.0 stand error -> 26 , pooled_proba ->0.0, and pool_error 0.0\n",
      "statistic = -0.069 p_val --> 0.945, for COI --> 11.0 stand error -> 22 , pooled_proba ->0.0, and pool_error 0.0\n",
      "statistic = 0.317 p_val --> 0.751, for COI --> 12.0 stand error -> 36 , pooled_proba ->0.0, and pool_error 0.0\n",
      "statistic = -1.619 p_val --> 0.105, for COI --> 13.0 stand error -> 21 , pooled_proba ->0.0, and pool_error 0.0\n",
      "statistic = -0.06 p_val --> 0.952, for COI --> 14.0 stand error -> 39 , pooled_proba ->0.0, and pool_error 0.0\n",
      "statistic = 8.591 p_val --> 0.0, for COI --> 9999.0 stand error -> 7433 , pooled_proba ->0.49, and pool_error 0.0\n",
      "statistic = -2.462 p_val --> 0.014, for COI --> 1 stand error -> 243 , pooled_proba ->0.02, and pool_error 0.0\n",
      "statistic = -4.297 p_val --> 0.0, for COI --> 2 stand error -> 247 , pooled_proba ->0.02, and pool_error 0.0\n",
      "statistic = -1.387 p_val --> 0.166, for COI --> 3 stand error -> 212 , pooled_proba ->0.01, and pool_error 0.0\n",
      "statistic = -2.669 p_val --> 0.008, for COI --> 4 stand error -> 57 , pooled_proba ->0.0, and pool_error 0.0\n",
      "statistic = -0.892 p_val --> 0.373, for COI --> 1036 stand error -> 369 , pooled_proba ->0.02, and pool_error 0.0\n",
      "statistic = -2.619 p_val --> 0.009, for COI --> 1216 stand error -> 424 , pooled_proba ->0.03, and pool_error 0.0\n",
      "statistic = -0.272 p_val --> 0.786, for COI --> 1217 stand error -> 448 , pooled_proba ->0.03, and pool_error 0.0\n",
      "statistic = -1.616 p_val --> 0.106, for COI --> 1352 stand error -> 466 , pooled_proba ->0.03, and pool_error 0.0\n",
      "statistic = -2.874 p_val --> 0.004, for COI --> 1704 stand error -> 564 , pooled_proba ->0.04, and pool_error 0.0\n",
      "statistic = -2.123 p_val --> 0.034, for COI --> 1729 stand error -> 376 , pooled_proba ->0.02, and pool_error 0.0\n",
      "statistic = -3.118 p_val --> 0.002, for COI --> 2517 stand error -> 646 , pooled_proba ->0.04, and pool_error 0.0\n",
      "statistic = -2.417 p_val --> 0.016, for COI --> 2662 stand error -> 891 , pooled_proba ->0.06, and pool_error 0.0\n"
     ]
    }
   ],
   "source": [
    "cols=['Second','Third','9999.0', 'Camp Length']\n",
    "check = []\n",
    "for i in cols2:\n",
    "    ho = surprising3a[i].values\n",
    "    ha = surprising3[i].values\n",
    "    get = ho_testing(ho,ha) \n",
    "    \n",
    "    get1 = round(get[0],3)\n",
    "    get2 = round(get[1],3)\n",
    "    print(f'statistic = {get1} p_val --> {get2}, for COI --> {i}',manual_ho_testing(ho,ha) )\n",
    "    "
   ]
  },
  {
   "cell_type": "code",
   "execution_count": 32,
   "metadata": {},
   "outputs": [
    {
     "data": {
      "text/html": [
       "<div>\n",
       "<style scoped>\n",
       "    .dataframe tbody tr th:only-of-type {\n",
       "        vertical-align: middle;\n",
       "    }\n",
       "\n",
       "    .dataframe tbody tr th {\n",
       "        vertical-align: top;\n",
       "    }\n",
       "\n",
       "    .dataframe thead th {\n",
       "        text-align: right;\n",
       "    }\n",
       "</style>\n",
       "<table border=\"1\" class=\"dataframe\">\n",
       "  <thead>\n",
       "    <tr style=\"text-align: right;\">\n",
       "      <th></th>\n",
       "      <th>Unnamed: 0</th>\n",
       "      <th>Var1</th>\n",
       "      <th>Var2</th>\n",
       "      <th>Var3</th>\n",
       "      <th>Var4</th>\n",
       "      <th>Var5</th>\n",
       "      <th>Camp Start Date - Registration Date</th>\n",
       "      <th>Registration Date - First Interaction</th>\n",
       "      <th>Camp Start Date - First Interaction</th>\n",
       "      <th>Camp End Date - Registration Date</th>\n",
       "      <th>Camp Length</th>\n",
       "      <th>Second</th>\n",
       "      <th>Third</th>\n",
       "      <th>A</th>\n",
       "      <th>C</th>\n",
       "      <th>D</th>\n",
       "      <th>E</th>\n",
       "      <th>F</th>\n",
       "      <th>G</th>\n",
       "      <th>2100</th>\n",
       "      <th>2.0</th>\n",
       "      <th>3.0</th>\n",
       "      <th>4.0</th>\n",
       "      <th>5.0</th>\n",
       "      <th>6.0</th>\n",
       "      <th>7.0</th>\n",
       "      <th>8.0</th>\n",
       "      <th>9.0</th>\n",
       "      <th>10.0</th>\n",
       "      <th>11.0</th>\n",
       "      <th>12.0</th>\n",
       "      <th>13.0</th>\n",
       "      <th>14.0</th>\n",
       "      <th>9999.0</th>\n",
       "      <th>1</th>\n",
       "      <th>2</th>\n",
       "      <th>3</th>\n",
       "      <th>4</th>\n",
       "      <th>1036</th>\n",
       "      <th>1216</th>\n",
       "      <th>1217</th>\n",
       "      <th>1352</th>\n",
       "      <th>1704</th>\n",
       "      <th>1729</th>\n",
       "      <th>2517</th>\n",
       "      <th>2662</th>\n",
       "      <th>23384</th>\n",
       "      <th>Patient_ID</th>\n",
       "      <th>prediction</th>\n",
       "      <th>Proba</th>\n",
       "      <th>y_target</th>\n",
       "      <th>proba_kNN</th>\n",
       "      <th>prediction_kNN</th>\n",
       "      <th>proba_sVC</th>\n",
       "      <th>prediction_sVC</th>\n",
       "      <th>proba_xg</th>\n",
       "      <th>prediction_xg</th>\n",
       "      <th>Y_count_allModels</th>\n",
       "      <th>Y_target_SUM</th>\n",
       "      <th>Success</th>\n",
       "    </tr>\n",
       "  </thead>\n",
       "  <tbody>\n",
       "    <tr>\n",
       "      <th>4</th>\n",
       "      <td>4</td>\n",
       "      <td>0.0</td>\n",
       "      <td>0.0</td>\n",
       "      <td>0.0</td>\n",
       "      <td>0.0</td>\n",
       "      <td>0.0</td>\n",
       "      <td>19.0</td>\n",
       "      <td>11</td>\n",
       "      <td>30</td>\n",
       "      <td>58</td>\n",
       "      <td>39</td>\n",
       "      <td>0</td>\n",
       "      <td>1</td>\n",
       "      <td>0</td>\n",
       "      <td>0</td>\n",
       "      <td>0</td>\n",
       "      <td>0</td>\n",
       "      <td>0</td>\n",
       "      <td>1</td>\n",
       "      <td>1</td>\n",
       "      <td>0</td>\n",
       "      <td>0</td>\n",
       "      <td>0</td>\n",
       "      <td>0</td>\n",
       "      <td>0</td>\n",
       "      <td>0</td>\n",
       "      <td>0</td>\n",
       "      <td>0</td>\n",
       "      <td>0</td>\n",
       "      <td>0</td>\n",
       "      <td>0</td>\n",
       "      <td>0</td>\n",
       "      <td>0</td>\n",
       "      <td>1</td>\n",
       "      <td>0</td>\n",
       "      <td>0</td>\n",
       "      <td>0</td>\n",
       "      <td>0</td>\n",
       "      <td>0</td>\n",
       "      <td>0</td>\n",
       "      <td>0</td>\n",
       "      <td>0</td>\n",
       "      <td>0</td>\n",
       "      <td>0</td>\n",
       "      <td>0</td>\n",
       "      <td>0</td>\n",
       "      <td>1</td>\n",
       "      <td>520795</td>\n",
       "      <td>1.0</td>\n",
       "      <td>0.516371</td>\n",
       "      <td>0.0</td>\n",
       "      <td>0.4</td>\n",
       "      <td>0.0</td>\n",
       "      <td>0.565486</td>\n",
       "      <td>1.0</td>\n",
       "      <td>0.476005</td>\n",
       "      <td>0.0</td>\n",
       "      <td>1.0</td>\n",
       "      <td>1.0</td>\n",
       "      <td>1.0</td>\n",
       "    </tr>\n",
       "    <tr>\n",
       "      <th>7</th>\n",
       "      <td>7</td>\n",
       "      <td>0.0</td>\n",
       "      <td>0.0</td>\n",
       "      <td>0.0</td>\n",
       "      <td>0.0</td>\n",
       "      <td>0.0</td>\n",
       "      <td>42.0</td>\n",
       "      <td>391</td>\n",
       "      <td>433</td>\n",
       "      <td>100</td>\n",
       "      <td>58</td>\n",
       "      <td>0</td>\n",
       "      <td>1</td>\n",
       "      <td>0</td>\n",
       "      <td>0</td>\n",
       "      <td>0</td>\n",
       "      <td>0</td>\n",
       "      <td>0</td>\n",
       "      <td>1</td>\n",
       "      <td>1</td>\n",
       "      <td>0</td>\n",
       "      <td>0</td>\n",
       "      <td>0</td>\n",
       "      <td>0</td>\n",
       "      <td>0</td>\n",
       "      <td>0</td>\n",
       "      <td>0</td>\n",
       "      <td>0</td>\n",
       "      <td>0</td>\n",
       "      <td>0</td>\n",
       "      <td>0</td>\n",
       "      <td>0</td>\n",
       "      <td>0</td>\n",
       "      <td>1</td>\n",
       "      <td>0</td>\n",
       "      <td>0</td>\n",
       "      <td>0</td>\n",
       "      <td>0</td>\n",
       "      <td>0</td>\n",
       "      <td>0</td>\n",
       "      <td>0</td>\n",
       "      <td>0</td>\n",
       "      <td>0</td>\n",
       "      <td>1</td>\n",
       "      <td>0</td>\n",
       "      <td>0</td>\n",
       "      <td>0</td>\n",
       "      <td>519647</td>\n",
       "      <td>1.0</td>\n",
       "      <td>0.503043</td>\n",
       "      <td>0.0</td>\n",
       "      <td>0.5</td>\n",
       "      <td>0.0</td>\n",
       "      <td>0.639841</td>\n",
       "      <td>1.0</td>\n",
       "      <td>0.501662</td>\n",
       "      <td>1.0</td>\n",
       "      <td>2.0</td>\n",
       "      <td>2.0</td>\n",
       "      <td>2.0</td>\n",
       "    </tr>\n",
       "    <tr>\n",
       "      <th>10</th>\n",
       "      <td>10</td>\n",
       "      <td>0.0</td>\n",
       "      <td>0.0</td>\n",
       "      <td>0.0</td>\n",
       "      <td>0.0</td>\n",
       "      <td>0.0</td>\n",
       "      <td>-14.0</td>\n",
       "      <td>508</td>\n",
       "      <td>494</td>\n",
       "      <td>171</td>\n",
       "      <td>185</td>\n",
       "      <td>0</td>\n",
       "      <td>0</td>\n",
       "      <td>0</td>\n",
       "      <td>0</td>\n",
       "      <td>0</td>\n",
       "      <td>0</td>\n",
       "      <td>1</td>\n",
       "      <td>0</td>\n",
       "      <td>1</td>\n",
       "      <td>1</td>\n",
       "      <td>0</td>\n",
       "      <td>0</td>\n",
       "      <td>0</td>\n",
       "      <td>0</td>\n",
       "      <td>0</td>\n",
       "      <td>0</td>\n",
       "      <td>0</td>\n",
       "      <td>0</td>\n",
       "      <td>0</td>\n",
       "      <td>0</td>\n",
       "      <td>0</td>\n",
       "      <td>0</td>\n",
       "      <td>0</td>\n",
       "      <td>0</td>\n",
       "      <td>0</td>\n",
       "      <td>0</td>\n",
       "      <td>0</td>\n",
       "      <td>0</td>\n",
       "      <td>0</td>\n",
       "      <td>0</td>\n",
       "      <td>0</td>\n",
       "      <td>0</td>\n",
       "      <td>0</td>\n",
       "      <td>0</td>\n",
       "      <td>0</td>\n",
       "      <td>0</td>\n",
       "      <td>511518</td>\n",
       "      <td>0.0</td>\n",
       "      <td>0.429973</td>\n",
       "      <td>1.0</td>\n",
       "      <td>0.0</td>\n",
       "      <td>0.0</td>\n",
       "      <td>0.154641</td>\n",
       "      <td>0.0</td>\n",
       "      <td>0.411437</td>\n",
       "      <td>0.0</td>\n",
       "      <td>0.0</td>\n",
       "      <td>1.0</td>\n",
       "      <td>1.0</td>\n",
       "    </tr>\n",
       "    <tr>\n",
       "      <th>18</th>\n",
       "      <td>18</td>\n",
       "      <td>0.0</td>\n",
       "      <td>0.0</td>\n",
       "      <td>0.0</td>\n",
       "      <td>0.0</td>\n",
       "      <td>0.0</td>\n",
       "      <td>-34.0</td>\n",
       "      <td>18</td>\n",
       "      <td>-16</td>\n",
       "      <td>151</td>\n",
       "      <td>185</td>\n",
       "      <td>0</td>\n",
       "      <td>0</td>\n",
       "      <td>0</td>\n",
       "      <td>0</td>\n",
       "      <td>0</td>\n",
       "      <td>0</td>\n",
       "      <td>1</td>\n",
       "      <td>0</td>\n",
       "      <td>1</td>\n",
       "      <td>0</td>\n",
       "      <td>0</td>\n",
       "      <td>1</td>\n",
       "      <td>0</td>\n",
       "      <td>0</td>\n",
       "      <td>0</td>\n",
       "      <td>0</td>\n",
       "      <td>0</td>\n",
       "      <td>0</td>\n",
       "      <td>0</td>\n",
       "      <td>0</td>\n",
       "      <td>0</td>\n",
       "      <td>0</td>\n",
       "      <td>0</td>\n",
       "      <td>0</td>\n",
       "      <td>0</td>\n",
       "      <td>0</td>\n",
       "      <td>0</td>\n",
       "      <td>0</td>\n",
       "      <td>0</td>\n",
       "      <td>0</td>\n",
       "      <td>0</td>\n",
       "      <td>0</td>\n",
       "      <td>1</td>\n",
       "      <td>0</td>\n",
       "      <td>0</td>\n",
       "      <td>0</td>\n",
       "      <td>516873</td>\n",
       "      <td>0.0</td>\n",
       "      <td>0.363606</td>\n",
       "      <td>1.0</td>\n",
       "      <td>0.5</td>\n",
       "      <td>0.0</td>\n",
       "      <td>0.156653</td>\n",
       "      <td>0.0</td>\n",
       "      <td>0.361426</td>\n",
       "      <td>0.0</td>\n",
       "      <td>0.0</td>\n",
       "      <td>1.0</td>\n",
       "      <td>1.0</td>\n",
       "    </tr>\n",
       "    <tr>\n",
       "      <th>25</th>\n",
       "      <td>25</td>\n",
       "      <td>0.0</td>\n",
       "      <td>0.0</td>\n",
       "      <td>0.0</td>\n",
       "      <td>0.0</td>\n",
       "      <td>0.0</td>\n",
       "      <td>-2.0</td>\n",
       "      <td>281</td>\n",
       "      <td>279</td>\n",
       "      <td>3</td>\n",
       "      <td>5</td>\n",
       "      <td>0</td>\n",
       "      <td>0</td>\n",
       "      <td>0</td>\n",
       "      <td>1</td>\n",
       "      <td>0</td>\n",
       "      <td>0</td>\n",
       "      <td>0</td>\n",
       "      <td>0</td>\n",
       "      <td>1</td>\n",
       "      <td>0</td>\n",
       "      <td>0</td>\n",
       "      <td>1</td>\n",
       "      <td>0</td>\n",
       "      <td>0</td>\n",
       "      <td>0</td>\n",
       "      <td>0</td>\n",
       "      <td>0</td>\n",
       "      <td>0</td>\n",
       "      <td>0</td>\n",
       "      <td>0</td>\n",
       "      <td>0</td>\n",
       "      <td>0</td>\n",
       "      <td>0</td>\n",
       "      <td>0</td>\n",
       "      <td>0</td>\n",
       "      <td>0</td>\n",
       "      <td>0</td>\n",
       "      <td>0</td>\n",
       "      <td>0</td>\n",
       "      <td>0</td>\n",
       "      <td>1</td>\n",
       "      <td>0</td>\n",
       "      <td>0</td>\n",
       "      <td>0</td>\n",
       "      <td>0</td>\n",
       "      <td>0</td>\n",
       "      <td>525713</td>\n",
       "      <td>1.0</td>\n",
       "      <td>0.639823</td>\n",
       "      <td>0.0</td>\n",
       "      <td>0.3</td>\n",
       "      <td>0.0</td>\n",
       "      <td>0.198662</td>\n",
       "      <td>0.0</td>\n",
       "      <td>0.594023</td>\n",
       "      <td>1.0</td>\n",
       "      <td>1.0</td>\n",
       "      <td>1.0</td>\n",
       "      <td>1.0</td>\n",
       "    </tr>\n",
       "  </tbody>\n",
       "</table>\n",
       "</div>"
      ],
      "text/plain": [
       "    Unnamed: 0  Var1  Var2  Var3  Var4  Var5  \\\n",
       "4            4   0.0   0.0   0.0   0.0   0.0   \n",
       "7            7   0.0   0.0   0.0   0.0   0.0   \n",
       "10          10   0.0   0.0   0.0   0.0   0.0   \n",
       "18          18   0.0   0.0   0.0   0.0   0.0   \n",
       "25          25   0.0   0.0   0.0   0.0   0.0   \n",
       "\n",
       "    Camp Start Date - Registration Date  \\\n",
       "4                                  19.0   \n",
       "7                                  42.0   \n",
       "10                                -14.0   \n",
       "18                                -34.0   \n",
       "25                                 -2.0   \n",
       "\n",
       "    Registration Date - First Interaction  \\\n",
       "4                                      11   \n",
       "7                                     391   \n",
       "10                                    508   \n",
       "18                                     18   \n",
       "25                                    281   \n",
       "\n",
       "    Camp Start Date - First Interaction  Camp End Date - Registration Date  \\\n",
       "4                                    30                                 58   \n",
       "7                                   433                                100   \n",
       "10                                  494                                171   \n",
       "18                                  -16                                151   \n",
       "25                                  279                                  3   \n",
       "\n",
       "    Camp Length  Second  Third  A  C  D  E  F  G  2100  2.0  3.0  4.0  5.0  \\\n",
       "4            39       0      1  0  0  0  0  0  1     1    0    0    0    0   \n",
       "7            58       0      1  0  0  0  0  0  1     1    0    0    0    0   \n",
       "10          185       0      0  0  0  0  0  1  0     1    1    0    0    0   \n",
       "18          185       0      0  0  0  0  0  1  0     1    0    0    1    0   \n",
       "25            5       0      0  0  1  0  0  0  0     1    0    0    1    0   \n",
       "\n",
       "    6.0  7.0  8.0  9.0  10.0  11.0  12.0  13.0  14.0  9999.0  1  2  3  4  \\\n",
       "4     0    0    0    0     0     0     0     0     0       1  0  0  0  0   \n",
       "7     0    0    0    0     0     0     0     0     0       1  0  0  0  0   \n",
       "10    0    0    0    0     0     0     0     0     0       0  0  0  0  0   \n",
       "18    0    0    0    0     0     0     0     0     0       0  0  0  0  0   \n",
       "25    0    0    0    0     0     0     0     0     0       0  0  0  0  0   \n",
       "\n",
       "    1036  1216  1217  1352  1704  1729  2517  2662  23384  Patient_ID  \\\n",
       "4      0     0     0     0     0     0     0     0      1      520795   \n",
       "7      0     0     0     0     0     1     0     0      0      519647   \n",
       "10     0     0     0     0     0     0     0     0      0      511518   \n",
       "18     0     0     0     0     0     1     0     0      0      516873   \n",
       "25     0     0     0     1     0     0     0     0      0      525713   \n",
       "\n",
       "    prediction     Proba  y_target  proba_kNN  prediction_kNN  proba_sVC  \\\n",
       "4          1.0  0.516371       0.0        0.4             0.0   0.565486   \n",
       "7          1.0  0.503043       0.0        0.5             0.0   0.639841   \n",
       "10         0.0  0.429973       1.0        0.0             0.0   0.154641   \n",
       "18         0.0  0.363606       1.0        0.5             0.0   0.156653   \n",
       "25         1.0  0.639823       0.0        0.3             0.0   0.198662   \n",
       "\n",
       "    prediction_sVC  proba_xg  prediction_xg  Y_count_allModels  Y_target_SUM  \\\n",
       "4              1.0  0.476005            0.0                1.0           1.0   \n",
       "7              1.0  0.501662            1.0                2.0           2.0   \n",
       "10             0.0  0.411437            0.0                0.0           1.0   \n",
       "18             0.0  0.361426            0.0                0.0           1.0   \n",
       "25             0.0  0.594023            1.0                1.0           1.0   \n",
       "\n",
       "    Success  \n",
       "4       1.0  \n",
       "7       2.0  \n",
       "10      1.0  \n",
       "18      1.0  \n",
       "25      1.0  "
      ]
     },
     "execution_count": 32,
     "metadata": {},
     "output_type": "execute_result"
    }
   ],
   "source": [
    "surprising3.head()"
   ]
  },
  {
   "cell_type": "code",
   "execution_count": 33,
   "metadata": {},
   "outputs": [
    {
     "data": {
      "text/plain": [
       "Index(['Unnamed: 0', 'Var1', 'Var2', 'Var3', 'Var4', 'Var5',\n",
       "       'Camp Start Date - Registration Date',\n",
       "       'Registration Date - First Interaction',\n",
       "       'Camp Start Date - First Interaction',\n",
       "       'Camp End Date - Registration Date', 'Camp Length', 'Second', 'Third',\n",
       "       'A', 'C', 'D', 'E', 'F', 'G', '2100', '2.0', '3.0', '4.0', '5.0', '6.0',\n",
       "       '7.0', '8.0', '9.0', '10.0', '11.0', '12.0', '13.0', '14.0', '9999.0',\n",
       "       '1', '2', '3', '4', '1036', '1216', '1217', '1352', '1704', '1729',\n",
       "       '2517', '2662', '23384', 'Patient_ID', 'prediction', 'Proba',\n",
       "       'y_target', 'proba_kNN', 'prediction_kNN', 'proba_sVC',\n",
       "       'prediction_sVC', 'proba_xg', 'prediction_xg', 'Y_count_allModels',\n",
       "       'Y_target_SUM', 'Success'],\n",
       "      dtype='object')"
      ]
     },
     "execution_count": 33,
     "metadata": {},
     "output_type": "execute_result"
    }
   ],
   "source": [
    "surprising3.columns"
   ]
  },
  {
   "cell_type": "code",
   "execution_count": null,
   "metadata": {},
   "outputs": [],
   "source": [
    "Prediction = # I think is XG 1 prediction\n",
    "Prediction_Score = # see above\n",
    "Y_target_SUM = #up to 4\n",
    "Y_count_allModels = # pred from xg+knn+svc up to 3\n",
    "\n",
    "# Wanting Y count among all models\n",
    "# sum (Y Target , all models)\n",
    "#"
   ]
  },
  {
   "cell_type": "code",
   "execution_count": null,
   "metadata": {},
   "outputs": [],
   "source": [
    "'''\n",
    "smaller:\n",
    "[('Second', (0.0005101027299358867, 0.5002035015374943)), ('Third', (0.001746215432479473, 0.5006966388126657)), \n",
    "('9999.0', (0.00036383681552966033, 0.5001451498856789)), ('Camp Length', (0.0008299770004436161, 0.5003311128792225))]\n",
    "\n",
    "\n",
    "'''"
   ]
  },
  {
   "cell_type": "code",
   "execution_count": 17,
   "metadata": {},
   "outputs": [],
   "source": [
    "#surprising3['Pred_Score_all_models'].max()\n",
    "sup3 = surprising3[['y_target', 'Var1', 'Var2', 'Var3', 'Var4', 'Var5',\n",
    "       'Camp Start Date - Registration Date',\n",
    "       'Registration Date - First Interaction',\n",
    "       'Camp Start Date - First Interaction']]"
   ]
  },
  {
   "cell_type": "code",
   "execution_count": 19,
   "metadata": {},
   "outputs": [
    {
     "ename": "ValueError",
     "evalue": "`data` and `annot` must have same shape.",
     "output_type": "error",
     "traceback": [
      "\u001b[0;31m---------------------------------------------------------------------------\u001b[0m",
      "\u001b[0;31mValueError\u001b[0m                                Traceback (most recent call last)",
      "\u001b[0;32m<ipython-input-19-0690a3194213>\u001b[0m in \u001b[0;36m<module>\u001b[0;34m\u001b[0m\n\u001b[0;32m----> 1\u001b[0;31m \u001b[0msns\u001b[0m\u001b[0;34m.\u001b[0m\u001b[0mheatmap\u001b[0m\u001b[0;34m(\u001b[0m\u001b[0msup3\u001b[0m\u001b[0;34m,\u001b[0m \u001b[0mannot\u001b[0m\u001b[0;34m=\u001b[0m\u001b[0;34m'True'\u001b[0m\u001b[0;34m)\u001b[0m\u001b[0;34m\u001b[0m\u001b[0;34m\u001b[0m\u001b[0m\n\u001b[0m",
      "\u001b[0;32m~/anaconda3/lib/python3.8/site-packages/seaborn/_decorators.py\u001b[0m in \u001b[0;36minner_f\u001b[0;34m(*args, **kwargs)\u001b[0m\n\u001b[1;32m     44\u001b[0m             )\n\u001b[1;32m     45\u001b[0m         \u001b[0mkwargs\u001b[0m\u001b[0;34m.\u001b[0m\u001b[0mupdate\u001b[0m\u001b[0;34m(\u001b[0m\u001b[0;34m{\u001b[0m\u001b[0mk\u001b[0m\u001b[0;34m:\u001b[0m \u001b[0marg\u001b[0m \u001b[0;32mfor\u001b[0m \u001b[0mk\u001b[0m\u001b[0;34m,\u001b[0m \u001b[0marg\u001b[0m \u001b[0;32min\u001b[0m \u001b[0mzip\u001b[0m\u001b[0;34m(\u001b[0m\u001b[0msig\u001b[0m\u001b[0;34m.\u001b[0m\u001b[0mparameters\u001b[0m\u001b[0;34m,\u001b[0m \u001b[0margs\u001b[0m\u001b[0;34m)\u001b[0m\u001b[0;34m}\u001b[0m\u001b[0;34m)\u001b[0m\u001b[0;34m\u001b[0m\u001b[0;34m\u001b[0m\u001b[0m\n\u001b[0;32m---> 46\u001b[0;31m         \u001b[0;32mreturn\u001b[0m \u001b[0mf\u001b[0m\u001b[0;34m(\u001b[0m\u001b[0;34m**\u001b[0m\u001b[0mkwargs\u001b[0m\u001b[0;34m)\u001b[0m\u001b[0;34m\u001b[0m\u001b[0;34m\u001b[0m\u001b[0m\n\u001b[0m\u001b[1;32m     47\u001b[0m     \u001b[0;32mreturn\u001b[0m \u001b[0minner_f\u001b[0m\u001b[0;34m\u001b[0m\u001b[0;34m\u001b[0m\u001b[0m\n\u001b[1;32m     48\u001b[0m \u001b[0;34m\u001b[0m\u001b[0m\n",
      "\u001b[0;32m~/anaconda3/lib/python3.8/site-packages/seaborn/matrix.py\u001b[0m in \u001b[0;36mheatmap\u001b[0;34m(data, vmin, vmax, cmap, center, robust, annot, fmt, annot_kws, linewidths, linecolor, cbar, cbar_kws, cbar_ax, square, xticklabels, yticklabels, mask, ax, **kwargs)\u001b[0m\n\u001b[1;32m    533\u001b[0m     \"\"\"\n\u001b[1;32m    534\u001b[0m     \u001b[0;31m# Initialize the plotter object\u001b[0m\u001b[0;34m\u001b[0m\u001b[0;34m\u001b[0m\u001b[0;34m\u001b[0m\u001b[0m\n\u001b[0;32m--> 535\u001b[0;31m     plotter = _HeatMapper(data, vmin, vmax, cmap, center, robust, annot, fmt,\n\u001b[0m\u001b[1;32m    536\u001b[0m                           \u001b[0mannot_kws\u001b[0m\u001b[0;34m,\u001b[0m \u001b[0mcbar\u001b[0m\u001b[0;34m,\u001b[0m \u001b[0mcbar_kws\u001b[0m\u001b[0;34m,\u001b[0m \u001b[0mxticklabels\u001b[0m\u001b[0;34m,\u001b[0m\u001b[0;34m\u001b[0m\u001b[0;34m\u001b[0m\u001b[0m\n\u001b[1;32m    537\u001b[0m                           yticklabels, mask)\n",
      "\u001b[0;32m~/anaconda3/lib/python3.8/site-packages/seaborn/matrix.py\u001b[0m in \u001b[0;36m__init__\u001b[0;34m(self, data, vmin, vmax, cmap, center, robust, annot, fmt, annot_kws, cbar, cbar_kws, xticklabels, yticklabels, mask)\u001b[0m\n\u001b[1;32m    167\u001b[0m                 \u001b[0;32mif\u001b[0m \u001b[0mannot_data\u001b[0m\u001b[0;34m.\u001b[0m\u001b[0mshape\u001b[0m \u001b[0;34m!=\u001b[0m \u001b[0mplot_data\u001b[0m\u001b[0;34m.\u001b[0m\u001b[0mshape\u001b[0m\u001b[0;34m:\u001b[0m\u001b[0;34m\u001b[0m\u001b[0;34m\u001b[0m\u001b[0m\n\u001b[1;32m    168\u001b[0m                     \u001b[0merr\u001b[0m \u001b[0;34m=\u001b[0m \u001b[0;34m\"`data` and `annot` must have same shape.\"\u001b[0m\u001b[0;34m\u001b[0m\u001b[0;34m\u001b[0m\u001b[0m\n\u001b[0;32m--> 169\u001b[0;31m                     \u001b[0;32mraise\u001b[0m \u001b[0mValueError\u001b[0m\u001b[0;34m(\u001b[0m\u001b[0merr\u001b[0m\u001b[0;34m)\u001b[0m\u001b[0;34m\u001b[0m\u001b[0;34m\u001b[0m\u001b[0m\n\u001b[0m\u001b[1;32m    170\u001b[0m             \u001b[0mannot\u001b[0m \u001b[0;34m=\u001b[0m \u001b[0;32mTrue\u001b[0m\u001b[0;34m\u001b[0m\u001b[0;34m\u001b[0m\u001b[0m\n\u001b[1;32m    171\u001b[0m \u001b[0;34m\u001b[0m\u001b[0m\n",
      "\u001b[0;31mValueError\u001b[0m: `data` and `annot` must have same shape."
     ]
    }
   ],
   "source": [
    "sns.heatmap(sup3, annot='True')"
   ]
  },
  {
   "cell_type": "code",
   "execution_count": 32,
   "metadata": {},
   "outputs": [
    {
     "name": "stdout",
     "output_type": "stream",
     "text": [
      "0.12000000000000001 6e-06 2.68326547331031e-07\n"
     ]
    }
   ],
   "source": [
    "se =  0.23 -0.11 \n",
    "pp_ =  0.012 / 2000 \n",
    "pse =  pp_*(1-pp_) * (1/1000 + 1/1000)**.5  \n",
    "print(se,pp_,pse)"
   ]
  },
  {
   "cell_type": "code",
   "execution_count": 29,
   "metadata": {},
   "outputs": [
    {
     "data": {
      "text/plain": [
       "2.0761245674740483"
      ]
     },
     "execution_count": 29,
     "metadata": {},
     "output_type": "execute_result"
    }
   ],
   "source": [
    "0.012/0.00578 "
   ]
  },
  {
   "cell_type": "code",
   "execution_count": null,
   "metadata": {},
   "outputs": [],
   "source": []
  }
 ],
 "metadata": {
  "kernelspec": {
   "display_name": "Python 3",
   "language": "python",
   "name": "python3"
  },
  "language_info": {
   "codemirror_mode": {
    "name": "ipython",
    "version": 3
   },
   "file_extension": ".py",
   "mimetype": "text/x-python",
   "name": "python",
   "nbconvert_exporter": "python",
   "pygments_lexer": "ipython3",
   "version": "3.8.2"
  }
 },
 "nbformat": 4,
 "nbformat_minor": 4
}
