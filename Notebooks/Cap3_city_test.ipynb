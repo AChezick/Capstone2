{
 "cells": [
  {
   "cell_type": "code",
   "execution_count": 1,
   "metadata": {},
   "outputs": [],
   "source": [
    "import pandas as pd \n",
    "import numpy as np \n",
    "import matplotlib.pyplot as plt \n",
    "import seaborn as sns \n",
    "\n",
    "from sklearn.model_selection import train_test_split\n",
    "from sklearn.naive_bayes import GaussianNB\n",
    "from sklearn.metrics import confusion_matrix, plot_roc_curve, accuracy_score\n",
    "\n",
    "pd.set_option('display.max_columns', None) \n",
    "from sklearn.metrics import roc_auc_score\n",
    "from sklearn.model_selection import KFold, train_test_split\n",
    "from sklearn.metrics import accuracy_score, precision_score, recall_score, classification_report"
   ]
  },
  {
   "cell_type": "code",
   "execution_count": 2,
   "metadata": {},
   "outputs": [],
   "source": [
    "from pandas.plotting import scatter_matrix\n",
    "\n",
    "from sklearn.linear_model import LinearRegression, Ridge, Lasso, LogisticRegression\n",
    "from sklearn.model_selection import train_test_split, KFold\n",
    "from sklearn.preprocessing import StandardScaler\n",
    "from sklearn.base import clone\n",
    "\n",
    "%matplotlib inline\n",
    "import matplotlib.pyplot as plt\n",
    "plt.rcParams['figure.dpi'] = 200\n",
    "#from utils import XyScaler\n",
    "#from roc_curve2 import roc_curve"
   ]
  },
  {
   "cell_type": "code",
   "execution_count": 3,
   "metadata": {},
   "outputs": [],
   "source": [
    "df_withID = pd.read_csv('/home/allen/Galva/capstones/capstone2/data/ready12_24_train.csv') "
   ]
  },
  {
   "cell_type": "code",
   "execution_count": 4,
   "metadata": {},
   "outputs": [
    {
     "data": {
      "text/html": [
       "<div>\n",
       "<style scoped>\n",
       "    .dataframe tbody tr th:only-of-type {\n",
       "        vertical-align: middle;\n",
       "    }\n",
       "\n",
       "    .dataframe tbody tr th {\n",
       "        vertical-align: top;\n",
       "    }\n",
       "\n",
       "    .dataframe thead th {\n",
       "        text-align: right;\n",
       "    }\n",
       "</style>\n",
       "<table border=\"1\" class=\"dataframe\">\n",
       "  <thead>\n",
       "    <tr style=\"text-align: right;\">\n",
       "      <th></th>\n",
       "      <th>Health_Camp_ID</th>\n",
       "      <th>Var1</th>\n",
       "      <th>Var2</th>\n",
       "      <th>Var3</th>\n",
       "      <th>Var4</th>\n",
       "      <th>Var5</th>\n",
       "      <th>City_Type2_x</th>\n",
       "      <th>Job Type_x</th>\n",
       "      <th>online_score</th>\n",
       "      <th>y_target</th>\n",
       "      <th>Camp Start Date - Registration Date</th>\n",
       "      <th>Registration Date - First Interaction</th>\n",
       "      <th>Camp Start Date - First Interaction</th>\n",
       "      <th>Camp End Date - Registration Date</th>\n",
       "      <th>Camp Length</th>\n",
       "      <th>Category 1</th>\n",
       "      <th>Category 2</th>\n",
       "      <th>Category 3</th>\n",
       "    </tr>\n",
       "  </thead>\n",
       "  <tbody>\n",
       "    <tr>\n",
       "      <th>0</th>\n",
       "      <td>6578</td>\n",
       "      <td>4.0</td>\n",
       "      <td>0.0</td>\n",
       "      <td>0.0</td>\n",
       "      <td>0.0</td>\n",
       "      <td>2.0</td>\n",
       "      <td>23384</td>\n",
       "      <td>9999</td>\n",
       "      <td>0</td>\n",
       "      <td>1.0</td>\n",
       "      <td>-25.0</td>\n",
       "      <td>278</td>\n",
       "      <td>253</td>\n",
       "      <td>34</td>\n",
       "      <td>59</td>\n",
       "      <td>Third</td>\n",
       "      <td>G</td>\n",
       "      <td>2100</td>\n",
       "    </tr>\n",
       "    <tr>\n",
       "      <th>1</th>\n",
       "      <td>6532</td>\n",
       "      <td>0.0</td>\n",
       "      <td>0.0</td>\n",
       "      <td>0.0</td>\n",
       "      <td>0.0</td>\n",
       "      <td>0.0</td>\n",
       "      <td>23384</td>\n",
       "      <td>9999</td>\n",
       "      <td>0</td>\n",
       "      <td>0.0</td>\n",
       "      <td>-24.0</td>\n",
       "      <td>99</td>\n",
       "      <td>75</td>\n",
       "      <td>161</td>\n",
       "      <td>185</td>\n",
       "      <td>First</td>\n",
       "      <td>F</td>\n",
       "      <td>2100</td>\n",
       "    </tr>\n",
       "    <tr>\n",
       "      <th>2</th>\n",
       "      <td>6543</td>\n",
       "      <td>4.0</td>\n",
       "      <td>0.0</td>\n",
       "      <td>0.0</td>\n",
       "      <td>0.0</td>\n",
       "      <td>2.0</td>\n",
       "      <td>23384</td>\n",
       "      <td>9999</td>\n",
       "      <td>0</td>\n",
       "      <td>0.0</td>\n",
       "      <td>-60.0</td>\n",
       "      <td>355</td>\n",
       "      <td>295</td>\n",
       "      <td>711</td>\n",
       "      <td>771</td>\n",
       "      <td>First</td>\n",
       "      <td>F</td>\n",
       "      <td>2100</td>\n",
       "    </tr>\n",
       "    <tr>\n",
       "      <th>3</th>\n",
       "      <td>6580</td>\n",
       "      <td>0.0</td>\n",
       "      <td>0.0</td>\n",
       "      <td>0.0</td>\n",
       "      <td>0.0</td>\n",
       "      <td>0.0</td>\n",
       "      <td>23384</td>\n",
       "      <td>9999</td>\n",
       "      <td>0</td>\n",
       "      <td>0.0</td>\n",
       "      <td>4.0</td>\n",
       "      <td>12</td>\n",
       "      <td>16</td>\n",
       "      <td>19</td>\n",
       "      <td>15</td>\n",
       "      <td>First</td>\n",
       "      <td>E</td>\n",
       "      <td>2100</td>\n",
       "    </tr>\n",
       "    <tr>\n",
       "      <th>4</th>\n",
       "      <td>6570</td>\n",
       "      <td>0.0</td>\n",
       "      <td>0.0</td>\n",
       "      <td>0.0</td>\n",
       "      <td>0.0</td>\n",
       "      <td>0.0</td>\n",
       "      <td>23384</td>\n",
       "      <td>9999</td>\n",
       "      <td>0</td>\n",
       "      <td>0.0</td>\n",
       "      <td>69.0</td>\n",
       "      <td>146</td>\n",
       "      <td>215</td>\n",
       "      <td>82</td>\n",
       "      <td>13</td>\n",
       "      <td>First</td>\n",
       "      <td>E</td>\n",
       "      <td>2100</td>\n",
       "    </tr>\n",
       "    <tr>\n",
       "      <th>...</th>\n",
       "      <td>...</td>\n",
       "      <td>...</td>\n",
       "      <td>...</td>\n",
       "      <td>...</td>\n",
       "      <td>...</td>\n",
       "      <td>...</td>\n",
       "      <td>...</td>\n",
       "      <td>...</td>\n",
       "      <td>...</td>\n",
       "      <td>...</td>\n",
       "      <td>...</td>\n",
       "      <td>...</td>\n",
       "      <td>...</td>\n",
       "      <td>...</td>\n",
       "      <td>...</td>\n",
       "      <td>...</td>\n",
       "      <td>...</td>\n",
       "      <td>...</td>\n",
       "    </tr>\n",
       "    <tr>\n",
       "      <th>75273</th>\n",
       "      <td>6538</td>\n",
       "      <td>0.0</td>\n",
       "      <td>0.0</td>\n",
       "      <td>0.0</td>\n",
       "      <td>0.0</td>\n",
       "      <td>0.0</td>\n",
       "      <td>23384</td>\n",
       "      <td>9999</td>\n",
       "      <td>0</td>\n",
       "      <td>0.0</td>\n",
       "      <td>-204.0</td>\n",
       "      <td>16</td>\n",
       "      <td>-188</td>\n",
       "      <td>188</td>\n",
       "      <td>392</td>\n",
       "      <td>First</td>\n",
       "      <td>F</td>\n",
       "      <td>2100</td>\n",
       "    </tr>\n",
       "    <tr>\n",
       "      <th>75274</th>\n",
       "      <td>6528</td>\n",
       "      <td>0.0</td>\n",
       "      <td>0.0</td>\n",
       "      <td>0.0</td>\n",
       "      <td>0.0</td>\n",
       "      <td>0.0</td>\n",
       "      <td>1729</td>\n",
       "      <td>9999</td>\n",
       "      <td>0</td>\n",
       "      <td>1.0</td>\n",
       "      <td>-73.0</td>\n",
       "      <td>31</td>\n",
       "      <td>-42</td>\n",
       "      <td>1</td>\n",
       "      <td>74</td>\n",
       "      <td>Third</td>\n",
       "      <td>G</td>\n",
       "      <td>2100</td>\n",
       "    </tr>\n",
       "    <tr>\n",
       "      <th>75275</th>\n",
       "      <td>6529</td>\n",
       "      <td>0.0</td>\n",
       "      <td>0.0</td>\n",
       "      <td>0.0</td>\n",
       "      <td>0.0</td>\n",
       "      <td>0.0</td>\n",
       "      <td>23384</td>\n",
       "      <td>9999</td>\n",
       "      <td>0</td>\n",
       "      <td>1.0</td>\n",
       "      <td>2.0</td>\n",
       "      <td>10</td>\n",
       "      <td>12</td>\n",
       "      <td>6</td>\n",
       "      <td>4</td>\n",
       "      <td>Second</td>\n",
       "      <td>A</td>\n",
       "      <td>2100</td>\n",
       "    </tr>\n",
       "    <tr>\n",
       "      <th>75276</th>\n",
       "      <td>6529</td>\n",
       "      <td>0.0</td>\n",
       "      <td>0.0</td>\n",
       "      <td>0.0</td>\n",
       "      <td>0.0</td>\n",
       "      <td>0.0</td>\n",
       "      <td>23384</td>\n",
       "      <td>9999</td>\n",
       "      <td>0</td>\n",
       "      <td>0.0</td>\n",
       "      <td>27.0</td>\n",
       "      <td>13</td>\n",
       "      <td>40</td>\n",
       "      <td>31</td>\n",
       "      <td>4</td>\n",
       "      <td>Second</td>\n",
       "      <td>A</td>\n",
       "      <td>2100</td>\n",
       "    </tr>\n",
       "    <tr>\n",
       "      <th>75277</th>\n",
       "      <td>6543</td>\n",
       "      <td>0.0</td>\n",
       "      <td>0.0</td>\n",
       "      <td>0.0</td>\n",
       "      <td>0.0</td>\n",
       "      <td>0.0</td>\n",
       "      <td>1704</td>\n",
       "      <td>9999</td>\n",
       "      <td>0</td>\n",
       "      <td>0.0</td>\n",
       "      <td>-259.0</td>\n",
       "      <td>10</td>\n",
       "      <td>-249</td>\n",
       "      <td>512</td>\n",
       "      <td>771</td>\n",
       "      <td>First</td>\n",
       "      <td>F</td>\n",
       "      <td>2100</td>\n",
       "    </tr>\n",
       "  </tbody>\n",
       "</table>\n",
       "<p>75278 rows × 18 columns</p>\n",
       "</div>"
      ],
      "text/plain": [
       "       Health_Camp_ID  Var1  Var2  Var3  Var4  Var5  City_Type2_x Job Type_x  \\\n",
       "0                6578   4.0   0.0   0.0   0.0   2.0         23384       9999   \n",
       "1                6532   0.0   0.0   0.0   0.0   0.0         23384       9999   \n",
       "2                6543   4.0   0.0   0.0   0.0   2.0         23384       9999   \n",
       "3                6580   0.0   0.0   0.0   0.0   0.0         23384       9999   \n",
       "4                6570   0.0   0.0   0.0   0.0   0.0         23384       9999   \n",
       "...               ...   ...   ...   ...   ...   ...           ...        ...   \n",
       "75273            6538   0.0   0.0   0.0   0.0   0.0         23384       9999   \n",
       "75274            6528   0.0   0.0   0.0   0.0   0.0          1729       9999   \n",
       "75275            6529   0.0   0.0   0.0   0.0   0.0         23384       9999   \n",
       "75276            6529   0.0   0.0   0.0   0.0   0.0         23384       9999   \n",
       "75277            6543   0.0   0.0   0.0   0.0   0.0          1704       9999   \n",
       "\n",
       "       online_score  y_target  Camp Start Date - Registration Date  \\\n",
       "0                 0       1.0                                -25.0   \n",
       "1                 0       0.0                                -24.0   \n",
       "2                 0       0.0                                -60.0   \n",
       "3                 0       0.0                                  4.0   \n",
       "4                 0       0.0                                 69.0   \n",
       "...             ...       ...                                  ...   \n",
       "75273             0       0.0                               -204.0   \n",
       "75274             0       1.0                                -73.0   \n",
       "75275             0       1.0                                  2.0   \n",
       "75276             0       0.0                                 27.0   \n",
       "75277             0       0.0                               -259.0   \n",
       "\n",
       "       Registration Date - First Interaction  \\\n",
       "0                                        278   \n",
       "1                                         99   \n",
       "2                                        355   \n",
       "3                                         12   \n",
       "4                                        146   \n",
       "...                                      ...   \n",
       "75273                                     16   \n",
       "75274                                     31   \n",
       "75275                                     10   \n",
       "75276                                     13   \n",
       "75277                                     10   \n",
       "\n",
       "       Camp Start Date - First Interaction  Camp End Date - Registration Date  \\\n",
       "0                                      253                                 34   \n",
       "1                                       75                                161   \n",
       "2                                      295                                711   \n",
       "3                                       16                                 19   \n",
       "4                                      215                                 82   \n",
       "...                                    ...                                ...   \n",
       "75273                                 -188                                188   \n",
       "75274                                  -42                                  1   \n",
       "75275                                   12                                  6   \n",
       "75276                                   40                                 31   \n",
       "75277                                 -249                                512   \n",
       "\n",
       "       Camp Length Category 1 Category 2  Category 3  \n",
       "0               59      Third          G        2100  \n",
       "1              185      First          F        2100  \n",
       "2              771      First          F        2100  \n",
       "3               15      First          E        2100  \n",
       "4               13      First          E        2100  \n",
       "...            ...        ...        ...         ...  \n",
       "75273          392      First          F        2100  \n",
       "75274           74      Third          G        2100  \n",
       "75275            4     Second          A        2100  \n",
       "75276            4     Second          A        2100  \n",
       "75277          771      First          F        2100  \n",
       "\n",
       "[75278 rows x 18 columns]"
      ]
     },
     "execution_count": 4,
     "metadata": {},
     "output_type": "execute_result"
    }
   ],
   "source": [
    "df_withID"
   ]
  },
  {
   "cell_type": "code",
   "execution_count": 5,
   "metadata": {},
   "outputs": [
    {
     "data": {
      "text/plain": [
       "57481"
      ]
     },
     "execution_count": 5,
     "metadata": {},
     "output_type": "execute_result"
    }
   ],
   "source": [
    "c = df_withID[(df_withID['Var1'] ==0) & df_withID['y_target']==0]\n",
    "len(c)"
   ]
  },
  {
   "cell_type": "code",
   "execution_count": 6,
   "metadata": {},
   "outputs": [
    {
     "name": "stdout",
     "output_type": "stream",
     "text": [
      "dict_items([(2100, 74871), (1100, 407)])\n"
     ]
    }
   ],
   "source": [
    "g={}\n",
    "for i in df_withID['Category 3'].values:\n",
    "    if i not in g:\n",
    "        g[i]=1\n",
    "    else:\n",
    "        g[i]+=1\n",
    "print(g.items())"
   ]
  },
  {
   "cell_type": "code",
   "execution_count": 7,
   "metadata": {},
   "outputs": [],
   "source": [
    "from preprocessing import drop_cols , one_hot_encoding , scale\n",
    "data = drop_cols(df_withID) # drop cols\n",
    "\n",
    "df_encode = one_hot_encoding(data, columns = ['City_Type2_x','Job Type_x','Category 2','Category 3','Category 1', 'online_score'])\n",
    "df_encode1 = df_encode.drop(['City_Type2_x','Job Type_x','Category 2','Category 3','Category 1', 'online_score','Health_Camp_ID'],axis=1) \n",
    "df_encode2 = df_encode.drop(['City_Type2_x','Job Type_x','Category 2','Category 3','Category 1', 'online_score','Health_Camp_ID'],axis=1) \n",
    "df_encode3 = df_encode.drop(['City_Type2_x','Job Type_x','Category 2','Category 3','Category 1', 'online_score','Health_Camp_ID'],axis=1) \n",
    "df_encode4 = df_encode.drop(['City_Type2_x','Job Type_x','Category 2','Category 3','Category 1', 'online_score','Health_Camp_ID'],axis=1) \n"
   ]
  },
  {
   "cell_type": "code",
   "execution_count": 8,
   "metadata": {},
   "outputs": [
    {
     "name": "stderr",
     "output_type": "stream",
     "text": [
      "/home/allen/anaconda3/lib/python3.8/site-packages/pandas/core/frame.py:4163: SettingWithCopyWarning: \n",
      "A value is trying to be set on a copy of a slice from a DataFrame\n",
      "\n",
      "See the caveats in the documentation: https://pandas.pydata.org/pandas-docs/stable/user_guide/indexing.html#returning-a-view-versus-a-copy\n",
      "  return super().drop(\n"
     ]
    }
   ],
   "source": [
    "df_encode3.drop([\n",
    "                                        'BFSI',\n",
    "                                'Broadcasting',\n",
    "                                  'Consulting',\n",
    "                                   'Education',\n",
    "                                        'Food',\n",
    "                                      'Health',\n",
    "                               'Manufacturing',\n",
    "                                      'Others',\n",
    "                                      'Retail',\n",
    "                           'Software Industry',\n",
    "                                  'Technology',\n",
    "                                     'Telecom',\n",
    "                                   'Transport'],axis=1,inplace=True)"
   ]
  },
  {
   "cell_type": "code",
   "execution_count": 9,
   "metadata": {},
   "outputs": [],
   "source": [
    "df_encode4 =df_encode3\n",
    "df_encode2 =df_encode3\n",
    "df_encode1 =df_encode3"
   ]
  },
  {
   "cell_type": "code",
   "execution_count": 23,
   "metadata": {},
   "outputs": [
    {
     "name": "stderr",
     "output_type": "stream",
     "text": [
      "<ipython-input-23-4b672258a12f>:1: SettingWithCopyWarning: \n",
      "A value is trying to be set on a copy of a slice from a DataFrame.\n",
      "Try using .loc[row_indexer,col_indexer] = value instead\n",
      "\n",
      "See the caveats in the documentation: https://pandas.pydata.org/pandas-docs/stable/user_guide/indexing.html#returning-a-view-versus-a-copy\n",
      "  df_encode4['y_target'] = df_withID['y_target'].values\n",
      "<ipython-input-23-4b672258a12f>:2: SettingWithCopyWarning: \n",
      "A value is trying to be set on a copy of a slice from a DataFrame.\n",
      "Try using .loc[row_indexer,col_indexer] = value instead\n",
      "\n",
      "See the caveats in the documentation: https://pandas.pydata.org/pandas-docs/stable/user_guide/indexing.html#returning-a-view-versus-a-copy\n",
      "  df_encode1['y_target'] = df_withID['y_target'].values\n",
      "<ipython-input-23-4b672258a12f>:3: SettingWithCopyWarning: \n",
      "A value is trying to be set on a copy of a slice from a DataFrame.\n",
      "Try using .loc[row_indexer,col_indexer] = value instead\n",
      "\n",
      "See the caveats in the documentation: https://pandas.pydata.org/pandas-docs/stable/user_guide/indexing.html#returning-a-view-versus-a-copy\n",
      "  df_encode2['y_target'] = df_withID['y_target'].values\n"
     ]
    }
   ],
   "source": [
    "df_encode4['y_target'] = df_withID['y_target'].values\n",
    "df_encode1['y_target'] = df_withID['y_target'].values\n",
    "df_encode2['y_target'] = df_withID['y_target'].values"
   ]
  },
  {
   "cell_type": "code",
   "execution_count": null,
   "metadata": {},
   "outputs": [],
   "source": []
  },
  {
   "cell_type": "code",
   "execution_count": 24,
   "metadata": {},
   "outputs": [
    {
     "data": {
      "text/html": [
       "<div>\n",
       "<style scoped>\n",
       "    .dataframe tbody tr th:only-of-type {\n",
       "        vertical-align: middle;\n",
       "    }\n",
       "\n",
       "    .dataframe tbody tr th {\n",
       "        vertical-align: top;\n",
       "    }\n",
       "\n",
       "    .dataframe thead th {\n",
       "        text-align: right;\n",
       "    }\n",
       "</style>\n",
       "<table border=\"1\" class=\"dataframe\">\n",
       "  <thead>\n",
       "    <tr style=\"text-align: right;\">\n",
       "      <th></th>\n",
       "      <th>Var1</th>\n",
       "      <th>Var2</th>\n",
       "      <th>Var3</th>\n",
       "      <th>Var4</th>\n",
       "      <th>Var5</th>\n",
       "      <th>Camp Start Date - Registration Date</th>\n",
       "      <th>Registration Date - First Interaction</th>\n",
       "      <th>Camp Start Date - First Interaction</th>\n",
       "      <th>Camp End Date - Registration Date</th>\n",
       "      <th>Camp Length</th>\n",
       "      <th>1036</th>\n",
       "      <th>1216</th>\n",
       "      <th>1217</th>\n",
       "      <th>1352</th>\n",
       "      <th>1704</th>\n",
       "      <th>1729</th>\n",
       "      <th>2517</th>\n",
       "      <th>2662</th>\n",
       "      <th>23384</th>\n",
       "      <th>A</th>\n",
       "      <th>C</th>\n",
       "      <th>D</th>\n",
       "      <th>E</th>\n",
       "      <th>F</th>\n",
       "      <th>G</th>\n",
       "      <th>2100</th>\n",
       "      <th>Second</th>\n",
       "      <th>Third</th>\n",
       "      <th>1</th>\n",
       "      <th>2</th>\n",
       "      <th>3</th>\n",
       "      <th>4</th>\n",
       "      <th>9999</th>\n",
       "      <th>y_target</th>\n",
       "    </tr>\n",
       "  </thead>\n",
       "  <tbody>\n",
       "    <tr>\n",
       "      <th>0</th>\n",
       "      <td>4.0</td>\n",
       "      <td>0.0</td>\n",
       "      <td>0.0</td>\n",
       "      <td>0.0</td>\n",
       "      <td>2.0</td>\n",
       "      <td>-25.0</td>\n",
       "      <td>278</td>\n",
       "      <td>253</td>\n",
       "      <td>34</td>\n",
       "      <td>59</td>\n",
       "      <td>0</td>\n",
       "      <td>0</td>\n",
       "      <td>0</td>\n",
       "      <td>0</td>\n",
       "      <td>0</td>\n",
       "      <td>0</td>\n",
       "      <td>0</td>\n",
       "      <td>0</td>\n",
       "      <td>1</td>\n",
       "      <td>0</td>\n",
       "      <td>0</td>\n",
       "      <td>0</td>\n",
       "      <td>0</td>\n",
       "      <td>0</td>\n",
       "      <td>1</td>\n",
       "      <td>1</td>\n",
       "      <td>0</td>\n",
       "      <td>1</td>\n",
       "      <td>0</td>\n",
       "      <td>0</td>\n",
       "      <td>0</td>\n",
       "      <td>0</td>\n",
       "      <td>1</td>\n",
       "      <td>1.0</td>\n",
       "    </tr>\n",
       "    <tr>\n",
       "      <th>1</th>\n",
       "      <td>0.0</td>\n",
       "      <td>0.0</td>\n",
       "      <td>0.0</td>\n",
       "      <td>0.0</td>\n",
       "      <td>0.0</td>\n",
       "      <td>-24.0</td>\n",
       "      <td>99</td>\n",
       "      <td>75</td>\n",
       "      <td>161</td>\n",
       "      <td>185</td>\n",
       "      <td>0</td>\n",
       "      <td>0</td>\n",
       "      <td>0</td>\n",
       "      <td>0</td>\n",
       "      <td>0</td>\n",
       "      <td>0</td>\n",
       "      <td>0</td>\n",
       "      <td>0</td>\n",
       "      <td>1</td>\n",
       "      <td>0</td>\n",
       "      <td>0</td>\n",
       "      <td>0</td>\n",
       "      <td>0</td>\n",
       "      <td>1</td>\n",
       "      <td>0</td>\n",
       "      <td>1</td>\n",
       "      <td>0</td>\n",
       "      <td>0</td>\n",
       "      <td>0</td>\n",
       "      <td>0</td>\n",
       "      <td>0</td>\n",
       "      <td>0</td>\n",
       "      <td>1</td>\n",
       "      <td>0.0</td>\n",
       "    </tr>\n",
       "    <tr>\n",
       "      <th>2</th>\n",
       "      <td>4.0</td>\n",
       "      <td>0.0</td>\n",
       "      <td>0.0</td>\n",
       "      <td>0.0</td>\n",
       "      <td>2.0</td>\n",
       "      <td>-60.0</td>\n",
       "      <td>355</td>\n",
       "      <td>295</td>\n",
       "      <td>711</td>\n",
       "      <td>771</td>\n",
       "      <td>0</td>\n",
       "      <td>0</td>\n",
       "      <td>0</td>\n",
       "      <td>0</td>\n",
       "      <td>0</td>\n",
       "      <td>0</td>\n",
       "      <td>0</td>\n",
       "      <td>0</td>\n",
       "      <td>1</td>\n",
       "      <td>0</td>\n",
       "      <td>0</td>\n",
       "      <td>0</td>\n",
       "      <td>0</td>\n",
       "      <td>1</td>\n",
       "      <td>0</td>\n",
       "      <td>1</td>\n",
       "      <td>0</td>\n",
       "      <td>0</td>\n",
       "      <td>0</td>\n",
       "      <td>0</td>\n",
       "      <td>0</td>\n",
       "      <td>0</td>\n",
       "      <td>1</td>\n",
       "      <td>0.0</td>\n",
       "    </tr>\n",
       "    <tr>\n",
       "      <th>3</th>\n",
       "      <td>0.0</td>\n",
       "      <td>0.0</td>\n",
       "      <td>0.0</td>\n",
       "      <td>0.0</td>\n",
       "      <td>0.0</td>\n",
       "      <td>4.0</td>\n",
       "      <td>12</td>\n",
       "      <td>16</td>\n",
       "      <td>19</td>\n",
       "      <td>15</td>\n",
       "      <td>0</td>\n",
       "      <td>0</td>\n",
       "      <td>0</td>\n",
       "      <td>0</td>\n",
       "      <td>0</td>\n",
       "      <td>0</td>\n",
       "      <td>0</td>\n",
       "      <td>0</td>\n",
       "      <td>1</td>\n",
       "      <td>0</td>\n",
       "      <td>0</td>\n",
       "      <td>0</td>\n",
       "      <td>1</td>\n",
       "      <td>0</td>\n",
       "      <td>0</td>\n",
       "      <td>1</td>\n",
       "      <td>0</td>\n",
       "      <td>0</td>\n",
       "      <td>0</td>\n",
       "      <td>0</td>\n",
       "      <td>0</td>\n",
       "      <td>0</td>\n",
       "      <td>1</td>\n",
       "      <td>0.0</td>\n",
       "    </tr>\n",
       "    <tr>\n",
       "      <th>4</th>\n",
       "      <td>0.0</td>\n",
       "      <td>0.0</td>\n",
       "      <td>0.0</td>\n",
       "      <td>0.0</td>\n",
       "      <td>0.0</td>\n",
       "      <td>69.0</td>\n",
       "      <td>146</td>\n",
       "      <td>215</td>\n",
       "      <td>82</td>\n",
       "      <td>13</td>\n",
       "      <td>0</td>\n",
       "      <td>0</td>\n",
       "      <td>0</td>\n",
       "      <td>0</td>\n",
       "      <td>0</td>\n",
       "      <td>0</td>\n",
       "      <td>0</td>\n",
       "      <td>0</td>\n",
       "      <td>1</td>\n",
       "      <td>0</td>\n",
       "      <td>0</td>\n",
       "      <td>0</td>\n",
       "      <td>1</td>\n",
       "      <td>0</td>\n",
       "      <td>0</td>\n",
       "      <td>1</td>\n",
       "      <td>0</td>\n",
       "      <td>0</td>\n",
       "      <td>0</td>\n",
       "      <td>0</td>\n",
       "      <td>0</td>\n",
       "      <td>0</td>\n",
       "      <td>1</td>\n",
       "      <td>0.0</td>\n",
       "    </tr>\n",
       "    <tr>\n",
       "      <th>...</th>\n",
       "      <td>...</td>\n",
       "      <td>...</td>\n",
       "      <td>...</td>\n",
       "      <td>...</td>\n",
       "      <td>...</td>\n",
       "      <td>...</td>\n",
       "      <td>...</td>\n",
       "      <td>...</td>\n",
       "      <td>...</td>\n",
       "      <td>...</td>\n",
       "      <td>...</td>\n",
       "      <td>...</td>\n",
       "      <td>...</td>\n",
       "      <td>...</td>\n",
       "      <td>...</td>\n",
       "      <td>...</td>\n",
       "      <td>...</td>\n",
       "      <td>...</td>\n",
       "      <td>...</td>\n",
       "      <td>...</td>\n",
       "      <td>...</td>\n",
       "      <td>...</td>\n",
       "      <td>...</td>\n",
       "      <td>...</td>\n",
       "      <td>...</td>\n",
       "      <td>...</td>\n",
       "      <td>...</td>\n",
       "      <td>...</td>\n",
       "      <td>...</td>\n",
       "      <td>...</td>\n",
       "      <td>...</td>\n",
       "      <td>...</td>\n",
       "      <td>...</td>\n",
       "      <td>...</td>\n",
       "    </tr>\n",
       "    <tr>\n",
       "      <th>75273</th>\n",
       "      <td>0.0</td>\n",
       "      <td>0.0</td>\n",
       "      <td>0.0</td>\n",
       "      <td>0.0</td>\n",
       "      <td>0.0</td>\n",
       "      <td>-204.0</td>\n",
       "      <td>16</td>\n",
       "      <td>-188</td>\n",
       "      <td>188</td>\n",
       "      <td>392</td>\n",
       "      <td>0</td>\n",
       "      <td>0</td>\n",
       "      <td>0</td>\n",
       "      <td>0</td>\n",
       "      <td>0</td>\n",
       "      <td>0</td>\n",
       "      <td>0</td>\n",
       "      <td>0</td>\n",
       "      <td>1</td>\n",
       "      <td>0</td>\n",
       "      <td>0</td>\n",
       "      <td>0</td>\n",
       "      <td>0</td>\n",
       "      <td>1</td>\n",
       "      <td>0</td>\n",
       "      <td>1</td>\n",
       "      <td>0</td>\n",
       "      <td>0</td>\n",
       "      <td>0</td>\n",
       "      <td>0</td>\n",
       "      <td>0</td>\n",
       "      <td>0</td>\n",
       "      <td>1</td>\n",
       "      <td>0.0</td>\n",
       "    </tr>\n",
       "    <tr>\n",
       "      <th>75274</th>\n",
       "      <td>0.0</td>\n",
       "      <td>0.0</td>\n",
       "      <td>0.0</td>\n",
       "      <td>0.0</td>\n",
       "      <td>0.0</td>\n",
       "      <td>-73.0</td>\n",
       "      <td>31</td>\n",
       "      <td>-42</td>\n",
       "      <td>1</td>\n",
       "      <td>74</td>\n",
       "      <td>0</td>\n",
       "      <td>0</td>\n",
       "      <td>0</td>\n",
       "      <td>0</td>\n",
       "      <td>0</td>\n",
       "      <td>1</td>\n",
       "      <td>0</td>\n",
       "      <td>0</td>\n",
       "      <td>0</td>\n",
       "      <td>0</td>\n",
       "      <td>0</td>\n",
       "      <td>0</td>\n",
       "      <td>0</td>\n",
       "      <td>0</td>\n",
       "      <td>1</td>\n",
       "      <td>1</td>\n",
       "      <td>0</td>\n",
       "      <td>1</td>\n",
       "      <td>0</td>\n",
       "      <td>0</td>\n",
       "      <td>0</td>\n",
       "      <td>0</td>\n",
       "      <td>1</td>\n",
       "      <td>1.0</td>\n",
       "    </tr>\n",
       "    <tr>\n",
       "      <th>75275</th>\n",
       "      <td>0.0</td>\n",
       "      <td>0.0</td>\n",
       "      <td>0.0</td>\n",
       "      <td>0.0</td>\n",
       "      <td>0.0</td>\n",
       "      <td>2.0</td>\n",
       "      <td>10</td>\n",
       "      <td>12</td>\n",
       "      <td>6</td>\n",
       "      <td>4</td>\n",
       "      <td>0</td>\n",
       "      <td>0</td>\n",
       "      <td>0</td>\n",
       "      <td>0</td>\n",
       "      <td>0</td>\n",
       "      <td>0</td>\n",
       "      <td>0</td>\n",
       "      <td>0</td>\n",
       "      <td>1</td>\n",
       "      <td>1</td>\n",
       "      <td>0</td>\n",
       "      <td>0</td>\n",
       "      <td>0</td>\n",
       "      <td>0</td>\n",
       "      <td>0</td>\n",
       "      <td>1</td>\n",
       "      <td>1</td>\n",
       "      <td>0</td>\n",
       "      <td>0</td>\n",
       "      <td>0</td>\n",
       "      <td>0</td>\n",
       "      <td>0</td>\n",
       "      <td>1</td>\n",
       "      <td>1.0</td>\n",
       "    </tr>\n",
       "    <tr>\n",
       "      <th>75276</th>\n",
       "      <td>0.0</td>\n",
       "      <td>0.0</td>\n",
       "      <td>0.0</td>\n",
       "      <td>0.0</td>\n",
       "      <td>0.0</td>\n",
       "      <td>27.0</td>\n",
       "      <td>13</td>\n",
       "      <td>40</td>\n",
       "      <td>31</td>\n",
       "      <td>4</td>\n",
       "      <td>0</td>\n",
       "      <td>0</td>\n",
       "      <td>0</td>\n",
       "      <td>0</td>\n",
       "      <td>0</td>\n",
       "      <td>0</td>\n",
       "      <td>0</td>\n",
       "      <td>0</td>\n",
       "      <td>1</td>\n",
       "      <td>1</td>\n",
       "      <td>0</td>\n",
       "      <td>0</td>\n",
       "      <td>0</td>\n",
       "      <td>0</td>\n",
       "      <td>0</td>\n",
       "      <td>1</td>\n",
       "      <td>1</td>\n",
       "      <td>0</td>\n",
       "      <td>0</td>\n",
       "      <td>0</td>\n",
       "      <td>0</td>\n",
       "      <td>0</td>\n",
       "      <td>1</td>\n",
       "      <td>0.0</td>\n",
       "    </tr>\n",
       "    <tr>\n",
       "      <th>75277</th>\n",
       "      <td>0.0</td>\n",
       "      <td>0.0</td>\n",
       "      <td>0.0</td>\n",
       "      <td>0.0</td>\n",
       "      <td>0.0</td>\n",
       "      <td>-259.0</td>\n",
       "      <td>10</td>\n",
       "      <td>-249</td>\n",
       "      <td>512</td>\n",
       "      <td>771</td>\n",
       "      <td>0</td>\n",
       "      <td>0</td>\n",
       "      <td>0</td>\n",
       "      <td>0</td>\n",
       "      <td>1</td>\n",
       "      <td>0</td>\n",
       "      <td>0</td>\n",
       "      <td>0</td>\n",
       "      <td>0</td>\n",
       "      <td>0</td>\n",
       "      <td>0</td>\n",
       "      <td>0</td>\n",
       "      <td>0</td>\n",
       "      <td>1</td>\n",
       "      <td>0</td>\n",
       "      <td>1</td>\n",
       "      <td>0</td>\n",
       "      <td>0</td>\n",
       "      <td>0</td>\n",
       "      <td>0</td>\n",
       "      <td>0</td>\n",
       "      <td>0</td>\n",
       "      <td>1</td>\n",
       "      <td>0.0</td>\n",
       "    </tr>\n",
       "  </tbody>\n",
       "</table>\n",
       "<p>75278 rows × 34 columns</p>\n",
       "</div>"
      ],
      "text/plain": [
       "       Var1  Var2  Var3  Var4  Var5  Camp Start Date - Registration Date  \\\n",
       "0       4.0   0.0   0.0   0.0   2.0                                -25.0   \n",
       "1       0.0   0.0   0.0   0.0   0.0                                -24.0   \n",
       "2       4.0   0.0   0.0   0.0   2.0                                -60.0   \n",
       "3       0.0   0.0   0.0   0.0   0.0                                  4.0   \n",
       "4       0.0   0.0   0.0   0.0   0.0                                 69.0   \n",
       "...     ...   ...   ...   ...   ...                                  ...   \n",
       "75273   0.0   0.0   0.0   0.0   0.0                               -204.0   \n",
       "75274   0.0   0.0   0.0   0.0   0.0                                -73.0   \n",
       "75275   0.0   0.0   0.0   0.0   0.0                                  2.0   \n",
       "75276   0.0   0.0   0.0   0.0   0.0                                 27.0   \n",
       "75277   0.0   0.0   0.0   0.0   0.0                               -259.0   \n",
       "\n",
       "       Registration Date - First Interaction  \\\n",
       "0                                        278   \n",
       "1                                         99   \n",
       "2                                        355   \n",
       "3                                         12   \n",
       "4                                        146   \n",
       "...                                      ...   \n",
       "75273                                     16   \n",
       "75274                                     31   \n",
       "75275                                     10   \n",
       "75276                                     13   \n",
       "75277                                     10   \n",
       "\n",
       "       Camp Start Date - First Interaction  Camp End Date - Registration Date  \\\n",
       "0                                      253                                 34   \n",
       "1                                       75                                161   \n",
       "2                                      295                                711   \n",
       "3                                       16                                 19   \n",
       "4                                      215                                 82   \n",
       "...                                    ...                                ...   \n",
       "75273                                 -188                                188   \n",
       "75274                                  -42                                  1   \n",
       "75275                                   12                                  6   \n",
       "75276                                   40                                 31   \n",
       "75277                                 -249                                512   \n",
       "\n",
       "       Camp Length  1036  1216  1217  1352  1704  1729  2517  2662  23384  A  \\\n",
       "0               59     0     0     0     0     0     0     0     0      1  0   \n",
       "1              185     0     0     0     0     0     0     0     0      1  0   \n",
       "2              771     0     0     0     0     0     0     0     0      1  0   \n",
       "3               15     0     0     0     0     0     0     0     0      1  0   \n",
       "4               13     0     0     0     0     0     0     0     0      1  0   \n",
       "...            ...   ...   ...   ...   ...   ...   ...   ...   ...    ... ..   \n",
       "75273          392     0     0     0     0     0     0     0     0      1  0   \n",
       "75274           74     0     0     0     0     0     1     0     0      0  0   \n",
       "75275            4     0     0     0     0     0     0     0     0      1  1   \n",
       "75276            4     0     0     0     0     0     0     0     0      1  1   \n",
       "75277          771     0     0     0     0     1     0     0     0      0  0   \n",
       "\n",
       "       C  D  E  F  G  2100  Second  Third  1  2  3  4  9999  y_target  \n",
       "0      0  0  0  0  1     1       0      1  0  0  0  0     1       1.0  \n",
       "1      0  0  0  1  0     1       0      0  0  0  0  0     1       0.0  \n",
       "2      0  0  0  1  0     1       0      0  0  0  0  0     1       0.0  \n",
       "3      0  0  1  0  0     1       0      0  0  0  0  0     1       0.0  \n",
       "4      0  0  1  0  0     1       0      0  0  0  0  0     1       0.0  \n",
       "...   .. .. .. .. ..   ...     ...    ... .. .. .. ..   ...       ...  \n",
       "75273  0  0  0  1  0     1       0      0  0  0  0  0     1       0.0  \n",
       "75274  0  0  0  0  1     1       0      1  0  0  0  0     1       1.0  \n",
       "75275  0  0  0  0  0     1       1      0  0  0  0  0     1       1.0  \n",
       "75276  0  0  0  0  0     1       1      0  0  0  0  0     1       0.0  \n",
       "75277  0  0  0  1  0     1       0      0  0  0  0  0     1       0.0  \n",
       "\n",
       "[75278 rows x 34 columns]"
      ]
     },
     "execution_count": 24,
     "metadata": {},
     "output_type": "execute_result"
    }
   ],
   "source": [
    "df_encode4"
   ]
  },
  {
   "cell_type": "code",
   "execution_count": null,
   "metadata": {},
   "outputs": [],
   "source": []
  },
  {
   "cell_type": "code",
   "execution_count": 12,
   "metadata": {},
   "outputs": [],
   "source": [
    "from numpy import argmax "
   ]
  },
  {
   "cell_type": "code",
   "execution_count": 13,
   "metadata": {},
   "outputs": [],
   "source": [
    "import seaborn as sns"
   ]
  },
  {
   "cell_type": "code",
   "execution_count": 14,
   "metadata": {},
   "outputs": [
    {
     "data": {
      "image/png": "[encoded data removed]",
      "text/plain": [
       "<Figure size 1200x800 with 1 Axes>"
      ]
     },
     "metadata": {
      "needs_background": "light"
     },
     "output_type": "display_data"
    },
    {
     "name": "stdout",
     "output_type": "stream",
     "text": [
      "[[12446  1139]\n",
      " [ 2292  2943]]\n"
     ]
    }
   ],
   "source": [
    "from sklearn.ensemble import RandomForestClassifier\n",
    "\n",
    "y = df_encode3.pop('y_target')\n",
    "X = df_encode3\n",
    "X = X.drop('Var3',axis=1)\n",
    "X_train7, X_test7, y_train7, y_test7 = train_test_split(X, y, random_state=42)\n",
    "\n",
    "rfc = RandomForestClassifier(n_estimators = 200, max_depth = 10)\n",
    "rfc.fit(X_train7,y_train7)\n",
    "rfc_preds = rfc.predict(X_test7)\n",
    "roc_auc=roc_auc_score(y_test7, rfc.predict_proba(X_test7)[:, -1])\n",
    "logmodel_disp = plot_roc_curve(rfc, X_test7, y_test7)\n",
    "plt.show()\n",
    "print(confusion_matrix(y_test7,rfc_preds)) "
   ]
  },
  {
   "cell_type": "code",
   "execution_count": 15,
   "metadata": {},
   "outputs": [
    {
     "name": "stdout",
     "output_type": "stream",
     "text": [
      "              precision    recall  f1-score   support\n",
      "\n",
      "         0.0       0.84      0.92      0.88     13585\n",
      "         1.0       0.72      0.56      0.63      5235\n",
      "\n",
      "    accuracy                           0.82     18820\n",
      "   macro avg       0.78      0.74      0.76     18820\n",
      "weighted avg       0.81      0.82      0.81     18820\n",
      "\n"
     ]
    }
   ],
   "source": [
    "print(classification_report(y_test7,rfc_preds))"
   ]
  },
  {
   "cell_type": "code",
   "execution_count": 16,
   "metadata": {},
   "outputs": [],
   "source": [
    "from sklearn.tree import DecisionTreeClassifier"
   ]
  },
  {
   "cell_type": "code",
   "execution_count": 17,
   "metadata": {},
   "outputs": [
    {
     "data": {
      "text/plain": [
       "DecisionTreeClassifier()"
      ]
     },
     "execution_count": 17,
     "metadata": {},
     "output_type": "execute_result"
    }
   ],
   "source": [
    "dtree = DecisionTreeClassifier()\n",
    "dtree.fit(X_train7,y_train7)"
   ]
  },
  {
   "cell_type": "code",
   "execution_count": 18,
   "metadata": {},
   "outputs": [
    {
     "name": "stdout",
     "output_type": "stream",
     "text": [
      "              precision    recall  f1-score   support\n",
      "\n",
      "         0.0       0.83      0.85      0.84     13585\n",
      "         1.0       0.59      0.55      0.57      5235\n",
      "\n",
      "    accuracy                           0.77     18820\n",
      "   macro avg       0.71      0.70      0.70     18820\n",
      "weighted avg       0.76      0.77      0.76     18820\n",
      "\n",
      "[[11570  2015]\n",
      " [ 2380  2855]]\n"
     ]
    }
   ],
   "source": [
    "predictionz = dtree.predict(X_test7)\n",
    "print(classification_report(y_test7,predictionz))\n",
    "print(confusion_matrix(y_test7,predictionz)) "
   ]
  },
  {
   "cell_type": "code",
   "execution_count": null,
   "metadata": {},
   "outputs": [],
   "source": []
  },
  {
   "cell_type": "code",
   "execution_count": 19,
   "metadata": {},
   "outputs": [],
   "source": [
    "from IPython.display import Image"
   ]
  },
  {
   "cell_type": "code",
   "execution_count": 20,
   "metadata": {},
   "outputs": [
    {
     "name": "stdout",
     "output_type": "stream",
     "text": [
      "32\n"
     ]
    }
   ],
   "source": [
    "from six import StringIO \n",
    "from sklearn.tree import export_graphviz\n",
    "import pydot\n",
    "\n",
    "featuresz = list(X_test7.columns[0:])\n",
    "print(len(featuresz))"
   ]
  },
  {
   "cell_type": "code",
   "execution_count": 21,
   "metadata": {},
   "outputs": [],
   "source": [
    "\n",
    "#### DONT RUN THIS CELL ##### \n",
    "# dot_data = StringIO()\n",
    "# export_graphviz(dtree, feature_names=featuresz,out_file = dot_data,filled=True,rounded=True)\n",
    "# graph = pydot.graph_from_dot_data(dot_data.getvalue())\n",
    "# Image(graph[0].create_png())"
   ]
  },
  {
   "cell_type": "code",
   "execution_count": null,
   "metadata": {},
   "outputs": [],
   "source": []
  },
  {
   "cell_type": "code",
   "execution_count": null,
   "metadata": {},
   "outputs": [],
   "source": []
  },
  {
   "cell_type": "code",
   "execution_count": 25,
   "metadata": {},
   "outputs": [
    {
     "name": "stderr",
     "output_type": "stream",
     "text": [
      "/home/allen/anaconda3/lib/python3.8/site-packages/sklearn/linear_model/_logistic.py:762: ConvergenceWarning: lbfgs failed to converge (status=1):\n",
      "STOP: TOTAL NO. of ITERATIONS REACHED LIMIT.\n",
      "\n",
      "Increase the number of iterations (max_iter) or scale the data as shown in:\n",
      "    https://scikit-learn.org/stable/modules/preprocessing.html\n",
      "Please also refer to the documentation for alternative solver options:\n",
      "    https://scikit-learn.org/stable/modules/linear_model.html#logistic-regression\n",
      "  n_iter_i = _check_optimize_result(\n"
     ]
    },
    {
     "data": {
      "text/plain": [
       "LogisticRegression(class_weight={0: 59, 1: 41}, n_jobs=1)"
      ]
     },
     "execution_count": 25,
     "metadata": {},
     "output_type": "execute_result"
    }
   ],
   "source": [
    "ynotx = df_encode1.pop('y_target')\n",
    "train_test_split(ynotx, shuffle=False) \n",
    "X_train,X_test,y_train,y_test = train_test_split(\n",
    "    df_encode1,ynotx,test_size = .3, random_state=101)\n",
    "\n",
    "\n",
    "from sklearn.linear_model import LogisticRegression\n",
    "w = {0:59, 1:41} \n",
    "logmodelx = LogisticRegression(penalty='l2', dual=False, tol=1e-4, C=1.0, \n",
    "        fit_intercept=True, intercept_scaling=1, class_weight=w , random_state=None, \n",
    "        solver='lbfgs', max_iter=100, multi_class='auto', verbose=0, warm_start=False, \n",
    "        n_jobs=1, l1_ratio=None ) \n",
    "logmodelx.fit(X_train, y_train)"
   ]
  },
  {
   "cell_type": "code",
   "execution_count": 26,
   "metadata": {},
   "outputs": [],
   "source": [
    "pure_probaz = logmodelx.predict_proba(X_test)[:,1]\n",
    "predictionsz = logmodelx.predict(X_test)"
   ]
  },
  {
   "cell_type": "code",
   "execution_count": 27,
   "metadata": {},
   "outputs": [
    {
     "name": "stdout",
     "output_type": "stream",
     "text": [
      "              precision    recall  f1-score   support\n",
      "\n",
      "         0.0       0.84      0.85      0.85     16366\n",
      "         1.0       0.60      0.59      0.59      6218\n",
      "\n",
      "    accuracy                           0.78     22584\n",
      "   macro avg       0.72      0.72      0.72     22584\n",
      "weighted avg       0.78      0.78      0.78     22584\n",
      "\n",
      "[[13765  2601]\n",
      " [ 2453  3765]]\n",
      "[[13942  2424]\n",
      " [ 2569  3649]]\n"
     ]
    }
   ],
   "source": [
    "predsz, preds2z = pure_probaz >= .35 ,pure_probaz >= .4\n",
    "from sklearn.metrics import classification_report\n",
    "print(classification_report(y_test,preds2z) ) \n",
    "print(confusion_matrix(y_test,predsz))\n",
    "print(confusion_matrix(y_test,preds2z))"
   ]
  },
  {
   "cell_type": "code",
   "execution_count": null,
   "metadata": {},
   "outputs": [],
   "source": [
    "# for name, coef in zip(preds2z[1:], logmodelx.coef_[0]):\n",
    "#     print(\"{0}: {1:0.4f}\".format(name, coef))"
   ]
  },
  {
   "cell_type": "code",
   "execution_count": null,
   "metadata": {},
   "outputs": [],
   "source": [
    "d={}\n",
    "for i in preds2z:\n",
    "    if i not in d:\n",
    "        d[i]=1\n",
    "    else:\n",
    "        d[i]+=1\n",
    "print(d)"
   ]
  },
  {
   "cell_type": "code",
   "execution_count": null,
   "metadata": {},
   "outputs": [],
   "source": [
    "logmodelx.coef_"
   ]
  },
  {
   "cell_type": "code",
   "execution_count": 28,
   "metadata": {},
   "outputs": [
    {
     "name": "stdout",
     "output_type": "stream",
     "text": [
      "Outcome values : \n",
      " 13942 2424 2569 3649\n"
     ]
    }
   ],
   "source": [
    "tp, fn, fp, tn = confusion_matrix(y_test,preds2z).reshape(-1)\n",
    "print('Outcome values : \\n', tp, fn, fp, tn)"
   ]
  },
  {
   "cell_type": "code",
   "execution_count": null,
   "metadata": {},
   "outputs": [],
   "source": [
    "# so it seems like its 1,4 (the FN,FP)  which are called 'True'\n",
    "# all 'true' are the ones miss classified (ie are wrong). So could create a map / lambda\n",
    "# Lambda would reverse it, i.e. if row is 'True' impute the string'wrong' onto the test set "
   ]
  },
  {
   "cell_type": "code",
   "execution_count": null,
   "metadata": {},
   "outputs": [],
   "source": [
    "+3649 +2424"
   ]
  },
  {
   "cell_type": "code",
   "execution_count": 31,
   "metadata": {},
   "outputs": [
    {
     "name": "stderr",
     "output_type": "stream",
     "text": [
      "<ipython-input-31-4f1f47c192aa>:1: SettingWithCopyWarning: \n",
      "A value is trying to be set on a copy of a slice from a DataFrame.\n",
      "Try using .loc[row_indexer,col_indexer] = value instead\n",
      "\n",
      "See the caveats in the documentation: https://pandas.pydata.org/pandas-docs/stable/user_guide/indexing.html#returning-a-view-versus-a-copy\n",
      "  X_test['Proba'] = pure_probaz\n",
      "<ipython-input-31-4f1f47c192aa>:2: SettingWithCopyWarning: \n",
      "A value is trying to be set on a copy of a slice from a DataFrame.\n",
      "Try using .loc[row_indexer,col_indexer] = value instead\n",
      "\n",
      "See the caveats in the documentation: https://pandas.pydata.org/pandas-docs/stable/user_guide/indexing.html#returning-a-view-versus-a-copy\n",
      "  X_test['Prediction'] = predictionsz\n",
      "<ipython-input-31-4f1f47c192aa>:3: SettingWithCopyWarning: \n",
      "A value is trying to be set on a copy of a slice from a DataFrame.\n",
      "Try using .loc[row_indexer,col_indexer] = value instead\n",
      "\n",
      "See the caveats in the documentation: https://pandas.pydata.org/pandas-docs/stable/user_guide/indexing.html#returning-a-view-versus-a-copy\n",
      "  X_test['y_target'] = y_test\n"
     ]
    }
   ],
   "source": [
    "X_test['Proba'] = pure_probaz\n",
    "X_test['Prediction'] = predictionsz\n",
    "X_test['y_target'] = y_test"
   ]
  },
  {
   "cell_type": "code",
   "execution_count": 32,
   "metadata": {},
   "outputs": [],
   "source": [
    "df_1 = X_test[(X_test['y_target']==1) & (X_test['Prediction']==1)]\n",
    "df_0 = X_test[(X_test['y_target']==0) & (X_test['Prediction']==0)]\n",
    "df_10 = X_test[(X_test['y_target']==1) & (X_test['Prediction']==0)]\n",
    "df_01 = X_test[(X_test['y_target']==0) & (X_test['Prediction']==1)]"
   ]
  },
  {
   "cell_type": "code",
   "execution_count": 33,
   "metadata": {},
   "outputs": [
    {
     "data": {
      "text/html": [
       "<div>\n",
       "<style scoped>\n",
       "    .dataframe tbody tr th:only-of-type {\n",
       "        vertical-align: middle;\n",
       "    }\n",
       "\n",
       "    .dataframe tbody tr th {\n",
       "        vertical-align: top;\n",
       "    }\n",
       "\n",
       "    .dataframe thead th {\n",
       "        text-align: right;\n",
       "    }\n",
       "</style>\n",
       "<table border=\"1\" class=\"dataframe\">\n",
       "  <thead>\n",
       "    <tr style=\"text-align: right;\">\n",
       "      <th></th>\n",
       "      <th>Var1</th>\n",
       "      <th>Var2</th>\n",
       "      <th>Var3</th>\n",
       "      <th>Var4</th>\n",
       "      <th>Var5</th>\n",
       "      <th>Camp Start Date - Registration Date</th>\n",
       "      <th>Registration Date - First Interaction</th>\n",
       "      <th>Camp Start Date - First Interaction</th>\n",
       "      <th>Camp End Date - Registration Date</th>\n",
       "      <th>Camp Length</th>\n",
       "      <th>1036</th>\n",
       "      <th>1216</th>\n",
       "      <th>1217</th>\n",
       "      <th>1352</th>\n",
       "      <th>1704</th>\n",
       "      <th>1729</th>\n",
       "      <th>2517</th>\n",
       "      <th>2662</th>\n",
       "      <th>23384</th>\n",
       "      <th>A</th>\n",
       "      <th>C</th>\n",
       "      <th>D</th>\n",
       "      <th>E</th>\n",
       "      <th>F</th>\n",
       "      <th>G</th>\n",
       "      <th>2100</th>\n",
       "      <th>Second</th>\n",
       "      <th>Third</th>\n",
       "      <th>1</th>\n",
       "      <th>2</th>\n",
       "      <th>3</th>\n",
       "      <th>4</th>\n",
       "      <th>9999</th>\n",
       "      <th>Proba</th>\n",
       "      <th>Prediction</th>\n",
       "      <th>y_target</th>\n",
       "    </tr>\n",
       "  </thead>\n",
       "  <tbody>\n",
       "    <tr>\n",
       "      <th>5473</th>\n",
       "      <td>0.0</td>\n",
       "      <td>0.0</td>\n",
       "      <td>0.0</td>\n",
       "      <td>0.0</td>\n",
       "      <td>0.0</td>\n",
       "      <td>-14.0</td>\n",
       "      <td>508</td>\n",
       "      <td>494</td>\n",
       "      <td>171</td>\n",
       "      <td>185</td>\n",
       "      <td>0</td>\n",
       "      <td>0</td>\n",
       "      <td>0</td>\n",
       "      <td>0</td>\n",
       "      <td>0</td>\n",
       "      <td>0</td>\n",
       "      <td>0</td>\n",
       "      <td>0</td>\n",
       "      <td>0</td>\n",
       "      <td>0</td>\n",
       "      <td>0</td>\n",
       "      <td>0</td>\n",
       "      <td>0</td>\n",
       "      <td>1</td>\n",
       "      <td>0</td>\n",
       "      <td>1</td>\n",
       "      <td>0</td>\n",
       "      <td>0</td>\n",
       "      <td>0</td>\n",
       "      <td>0</td>\n",
       "      <td>0</td>\n",
       "      <td>0</td>\n",
       "      <td>0</td>\n",
       "      <td>0.115535</td>\n",
       "      <td>0.0</td>\n",
       "      <td>1.0</td>\n",
       "    </tr>\n",
       "    <tr>\n",
       "      <th>53150</th>\n",
       "      <td>0.0</td>\n",
       "      <td>0.0</td>\n",
       "      <td>0.0</td>\n",
       "      <td>0.0</td>\n",
       "      <td>0.0</td>\n",
       "      <td>0.0</td>\n",
       "      <td>86</td>\n",
       "      <td>86</td>\n",
       "      <td>3</td>\n",
       "      <td>3</td>\n",
       "      <td>0</td>\n",
       "      <td>0</td>\n",
       "      <td>0</td>\n",
       "      <td>0</td>\n",
       "      <td>0</td>\n",
       "      <td>0</td>\n",
       "      <td>0</td>\n",
       "      <td>0</td>\n",
       "      <td>1</td>\n",
       "      <td>0</td>\n",
       "      <td>0</td>\n",
       "      <td>1</td>\n",
       "      <td>0</td>\n",
       "      <td>0</td>\n",
       "      <td>0</td>\n",
       "      <td>1</td>\n",
       "      <td>1</td>\n",
       "      <td>0</td>\n",
       "      <td>0</td>\n",
       "      <td>0</td>\n",
       "      <td>0</td>\n",
       "      <td>0</td>\n",
       "      <td>1</td>\n",
       "      <td>0.285357</td>\n",
       "      <td>0.0</td>\n",
       "      <td>1.0</td>\n",
       "    </tr>\n",
       "    <tr>\n",
       "      <th>33363</th>\n",
       "      <td>1.0</td>\n",
       "      <td>0.0</td>\n",
       "      <td>0.0</td>\n",
       "      <td>0.0</td>\n",
       "      <td>0.0</td>\n",
       "      <td>-159.0</td>\n",
       "      <td>785</td>\n",
       "      <td>626</td>\n",
       "      <td>46</td>\n",
       "      <td>205</td>\n",
       "      <td>0</td>\n",
       "      <td>0</td>\n",
       "      <td>0</td>\n",
       "      <td>0</td>\n",
       "      <td>0</td>\n",
       "      <td>0</td>\n",
       "      <td>0</td>\n",
       "      <td>0</td>\n",
       "      <td>1</td>\n",
       "      <td>0</td>\n",
       "      <td>0</td>\n",
       "      <td>1</td>\n",
       "      <td>0</td>\n",
       "      <td>0</td>\n",
       "      <td>0</td>\n",
       "      <td>1</td>\n",
       "      <td>1</td>\n",
       "      <td>0</td>\n",
       "      <td>0</td>\n",
       "      <td>0</td>\n",
       "      <td>0</td>\n",
       "      <td>0</td>\n",
       "      <td>1</td>\n",
       "      <td>0.329950</td>\n",
       "      <td>0.0</td>\n",
       "      <td>1.0</td>\n",
       "    </tr>\n",
       "    <tr>\n",
       "      <th>9169</th>\n",
       "      <td>0.0</td>\n",
       "      <td>0.0</td>\n",
       "      <td>0.0</td>\n",
       "      <td>0.0</td>\n",
       "      <td>0.0</td>\n",
       "      <td>-34.0</td>\n",
       "      <td>18</td>\n",
       "      <td>-16</td>\n",
       "      <td>151</td>\n",
       "      <td>185</td>\n",
       "      <td>0</td>\n",
       "      <td>0</td>\n",
       "      <td>0</td>\n",
       "      <td>0</td>\n",
       "      <td>0</td>\n",
       "      <td>1</td>\n",
       "      <td>0</td>\n",
       "      <td>0</td>\n",
       "      <td>0</td>\n",
       "      <td>0</td>\n",
       "      <td>0</td>\n",
       "      <td>0</td>\n",
       "      <td>0</td>\n",
       "      <td>1</td>\n",
       "      <td>0</td>\n",
       "      <td>1</td>\n",
       "      <td>0</td>\n",
       "      <td>0</td>\n",
       "      <td>0</td>\n",
       "      <td>0</td>\n",
       "      <td>0</td>\n",
       "      <td>0</td>\n",
       "      <td>0</td>\n",
       "      <td>0.113467</td>\n",
       "      <td>0.0</td>\n",
       "      <td>1.0</td>\n",
       "    </tr>\n",
       "    <tr>\n",
       "      <th>44103</th>\n",
       "      <td>0.0</td>\n",
       "      <td>0.0</td>\n",
       "      <td>0.0</td>\n",
       "      <td>0.0</td>\n",
       "      <td>0.0</td>\n",
       "      <td>-4.0</td>\n",
       "      <td>321</td>\n",
       "      <td>317</td>\n",
       "      <td>55</td>\n",
       "      <td>59</td>\n",
       "      <td>0</td>\n",
       "      <td>0</td>\n",
       "      <td>0</td>\n",
       "      <td>0</td>\n",
       "      <td>0</td>\n",
       "      <td>0</td>\n",
       "      <td>0</td>\n",
       "      <td>0</td>\n",
       "      <td>1</td>\n",
       "      <td>0</td>\n",
       "      <td>0</td>\n",
       "      <td>0</td>\n",
       "      <td>0</td>\n",
       "      <td>0</td>\n",
       "      <td>1</td>\n",
       "      <td>1</td>\n",
       "      <td>0</td>\n",
       "      <td>1</td>\n",
       "      <td>0</td>\n",
       "      <td>0</td>\n",
       "      <td>0</td>\n",
       "      <td>0</td>\n",
       "      <td>1</td>\n",
       "      <td>0.455607</td>\n",
       "      <td>0.0</td>\n",
       "      <td>1.0</td>\n",
       "    </tr>\n",
       "    <tr>\n",
       "      <th>...</th>\n",
       "      <td>...</td>\n",
       "      <td>...</td>\n",
       "      <td>...</td>\n",
       "      <td>...</td>\n",
       "      <td>...</td>\n",
       "      <td>...</td>\n",
       "      <td>...</td>\n",
       "      <td>...</td>\n",
       "      <td>...</td>\n",
       "      <td>...</td>\n",
       "      <td>...</td>\n",
       "      <td>...</td>\n",
       "      <td>...</td>\n",
       "      <td>...</td>\n",
       "      <td>...</td>\n",
       "      <td>...</td>\n",
       "      <td>...</td>\n",
       "      <td>...</td>\n",
       "      <td>...</td>\n",
       "      <td>...</td>\n",
       "      <td>...</td>\n",
       "      <td>...</td>\n",
       "      <td>...</td>\n",
       "      <td>...</td>\n",
       "      <td>...</td>\n",
       "      <td>...</td>\n",
       "      <td>...</td>\n",
       "      <td>...</td>\n",
       "      <td>...</td>\n",
       "      <td>...</td>\n",
       "      <td>...</td>\n",
       "      <td>...</td>\n",
       "      <td>...</td>\n",
       "      <td>...</td>\n",
       "      <td>...</td>\n",
       "      <td>...</td>\n",
       "    </tr>\n",
       "    <tr>\n",
       "      <th>505</th>\n",
       "      <td>0.0</td>\n",
       "      <td>0.0</td>\n",
       "      <td>0.0</td>\n",
       "      <td>0.0</td>\n",
       "      <td>0.0</td>\n",
       "      <td>-26.0</td>\n",
       "      <td>421</td>\n",
       "      <td>395</td>\n",
       "      <td>163</td>\n",
       "      <td>189</td>\n",
       "      <td>0</td>\n",
       "      <td>0</td>\n",
       "      <td>0</td>\n",
       "      <td>0</td>\n",
       "      <td>1</td>\n",
       "      <td>0</td>\n",
       "      <td>0</td>\n",
       "      <td>0</td>\n",
       "      <td>0</td>\n",
       "      <td>0</td>\n",
       "      <td>0</td>\n",
       "      <td>0</td>\n",
       "      <td>0</td>\n",
       "      <td>1</td>\n",
       "      <td>0</td>\n",
       "      <td>1</td>\n",
       "      <td>0</td>\n",
       "      <td>0</td>\n",
       "      <td>0</td>\n",
       "      <td>0</td>\n",
       "      <td>0</td>\n",
       "      <td>0</td>\n",
       "      <td>1</td>\n",
       "      <td>0.079007</td>\n",
       "      <td>0.0</td>\n",
       "      <td>1.0</td>\n",
       "    </tr>\n",
       "    <tr>\n",
       "      <th>16258</th>\n",
       "      <td>0.0</td>\n",
       "      <td>0.0</td>\n",
       "      <td>0.0</td>\n",
       "      <td>0.0</td>\n",
       "      <td>0.0</td>\n",
       "      <td>5.0</td>\n",
       "      <td>242</td>\n",
       "      <td>247</td>\n",
       "      <td>18</td>\n",
       "      <td>13</td>\n",
       "      <td>0</td>\n",
       "      <td>0</td>\n",
       "      <td>0</td>\n",
       "      <td>0</td>\n",
       "      <td>0</td>\n",
       "      <td>0</td>\n",
       "      <td>0</td>\n",
       "      <td>0</td>\n",
       "      <td>0</td>\n",
       "      <td>0</td>\n",
       "      <td>0</td>\n",
       "      <td>0</td>\n",
       "      <td>1</td>\n",
       "      <td>0</td>\n",
       "      <td>0</td>\n",
       "      <td>1</td>\n",
       "      <td>0</td>\n",
       "      <td>0</td>\n",
       "      <td>0</td>\n",
       "      <td>0</td>\n",
       "      <td>0</td>\n",
       "      <td>0</td>\n",
       "      <td>1</td>\n",
       "      <td>0.060728</td>\n",
       "      <td>0.0</td>\n",
       "      <td>1.0</td>\n",
       "    </tr>\n",
       "    <tr>\n",
       "      <th>8709</th>\n",
       "      <td>2.0</td>\n",
       "      <td>0.0</td>\n",
       "      <td>0.0</td>\n",
       "      <td>0.0</td>\n",
       "      <td>1.0</td>\n",
       "      <td>-2.0</td>\n",
       "      <td>950</td>\n",
       "      <td>948</td>\n",
       "      <td>1</td>\n",
       "      <td>3</td>\n",
       "      <td>0</td>\n",
       "      <td>0</td>\n",
       "      <td>0</td>\n",
       "      <td>0</td>\n",
       "      <td>0</td>\n",
       "      <td>0</td>\n",
       "      <td>0</td>\n",
       "      <td>0</td>\n",
       "      <td>1</td>\n",
       "      <td>0</td>\n",
       "      <td>0</td>\n",
       "      <td>0</td>\n",
       "      <td>1</td>\n",
       "      <td>0</td>\n",
       "      <td>0</td>\n",
       "      <td>1</td>\n",
       "      <td>0</td>\n",
       "      <td>0</td>\n",
       "      <td>0</td>\n",
       "      <td>0</td>\n",
       "      <td>0</td>\n",
       "      <td>0</td>\n",
       "      <td>0</td>\n",
       "      <td>0.063867</td>\n",
       "      <td>0.0</td>\n",
       "      <td>1.0</td>\n",
       "    </tr>\n",
       "    <tr>\n",
       "      <th>44630</th>\n",
       "      <td>0.0</td>\n",
       "      <td>0.0</td>\n",
       "      <td>0.0</td>\n",
       "      <td>0.0</td>\n",
       "      <td>0.0</td>\n",
       "      <td>-38.0</td>\n",
       "      <td>4</td>\n",
       "      <td>-34</td>\n",
       "      <td>21</td>\n",
       "      <td>59</td>\n",
       "      <td>0</td>\n",
       "      <td>0</td>\n",
       "      <td>0</td>\n",
       "      <td>0</td>\n",
       "      <td>0</td>\n",
       "      <td>0</td>\n",
       "      <td>0</td>\n",
       "      <td>0</td>\n",
       "      <td>1</td>\n",
       "      <td>0</td>\n",
       "      <td>0</td>\n",
       "      <td>0</td>\n",
       "      <td>0</td>\n",
       "      <td>0</td>\n",
       "      <td>1</td>\n",
       "      <td>1</td>\n",
       "      <td>0</td>\n",
       "      <td>1</td>\n",
       "      <td>0</td>\n",
       "      <td>0</td>\n",
       "      <td>0</td>\n",
       "      <td>0</td>\n",
       "      <td>1</td>\n",
       "      <td>0.449366</td>\n",
       "      <td>0.0</td>\n",
       "      <td>1.0</td>\n",
       "    </tr>\n",
       "    <tr>\n",
       "      <th>62447</th>\n",
       "      <td>0.0</td>\n",
       "      <td>0.0</td>\n",
       "      <td>0.0</td>\n",
       "      <td>0.0</td>\n",
       "      <td>0.0</td>\n",
       "      <td>-8.0</td>\n",
       "      <td>18</td>\n",
       "      <td>10</td>\n",
       "      <td>51</td>\n",
       "      <td>59</td>\n",
       "      <td>0</td>\n",
       "      <td>0</td>\n",
       "      <td>0</td>\n",
       "      <td>0</td>\n",
       "      <td>0</td>\n",
       "      <td>0</td>\n",
       "      <td>0</td>\n",
       "      <td>0</td>\n",
       "      <td>1</td>\n",
       "      <td>0</td>\n",
       "      <td>0</td>\n",
       "      <td>0</td>\n",
       "      <td>0</td>\n",
       "      <td>0</td>\n",
       "      <td>1</td>\n",
       "      <td>1</td>\n",
       "      <td>0</td>\n",
       "      <td>1</td>\n",
       "      <td>0</td>\n",
       "      <td>0</td>\n",
       "      <td>0</td>\n",
       "      <td>0</td>\n",
       "      <td>1</td>\n",
       "      <td>0.452377</td>\n",
       "      <td>0.0</td>\n",
       "      <td>1.0</td>\n",
       "    </tr>\n",
       "  </tbody>\n",
       "</table>\n",
       "<p>3904 rows × 36 columns</p>\n",
       "</div>"
      ],
      "text/plain": [
       "       Var1  Var2  Var3  Var4  Var5  Camp Start Date - Registration Date  \\\n",
       "5473    0.0   0.0   0.0   0.0   0.0                                -14.0   \n",
       "53150   0.0   0.0   0.0   0.0   0.0                                  0.0   \n",
       "33363   1.0   0.0   0.0   0.0   0.0                               -159.0   \n",
       "9169    0.0   0.0   0.0   0.0   0.0                                -34.0   \n",
       "44103   0.0   0.0   0.0   0.0   0.0                                 -4.0   \n",
       "...     ...   ...   ...   ...   ...                                  ...   \n",
       "505     0.0   0.0   0.0   0.0   0.0                                -26.0   \n",
       "16258   0.0   0.0   0.0   0.0   0.0                                  5.0   \n",
       "8709    2.0   0.0   0.0   0.0   1.0                                 -2.0   \n",
       "44630   0.0   0.0   0.0   0.0   0.0                                -38.0   \n",
       "62447   0.0   0.0   0.0   0.0   0.0                                 -8.0   \n",
       "\n",
       "       Registration Date - First Interaction  \\\n",
       "5473                                     508   \n",
       "53150                                     86   \n",
       "33363                                    785   \n",
       "9169                                      18   \n",
       "44103                                    321   \n",
       "...                                      ...   \n",
       "505                                      421   \n",
       "16258                                    242   \n",
       "8709                                     950   \n",
       "44630                                      4   \n",
       "62447                                     18   \n",
       "\n",
       "       Camp Start Date - First Interaction  Camp End Date - Registration Date  \\\n",
       "5473                                   494                                171   \n",
       "53150                                   86                                  3   \n",
       "33363                                  626                                 46   \n",
       "9169                                   -16                                151   \n",
       "44103                                  317                                 55   \n",
       "...                                    ...                                ...   \n",
       "505                                    395                                163   \n",
       "16258                                  247                                 18   \n",
       "8709                                   948                                  1   \n",
       "44630                                  -34                                 21   \n",
       "62447                                   10                                 51   \n",
       "\n",
       "       Camp Length  1036  1216  1217  1352  1704  1729  2517  2662  23384  A  \\\n",
       "5473           185     0     0     0     0     0     0     0     0      0  0   \n",
       "53150            3     0     0     0     0     0     0     0     0      1  0   \n",
       "33363          205     0     0     0     0     0     0     0     0      1  0   \n",
       "9169           185     0     0     0     0     0     1     0     0      0  0   \n",
       "44103           59     0     0     0     0     0     0     0     0      1  0   \n",
       "...            ...   ...   ...   ...   ...   ...   ...   ...   ...    ... ..   \n",
       "505            189     0     0     0     0     1     0     0     0      0  0   \n",
       "16258           13     0     0     0     0     0     0     0     0      0  0   \n",
       "8709             3     0     0     0     0     0     0     0     0      1  0   \n",
       "44630           59     0     0     0     0     0     0     0     0      1  0   \n",
       "62447           59     0     0     0     0     0     0     0     0      1  0   \n",
       "\n",
       "       C  D  E  F  G  2100  Second  Third  1  2  3  4  9999     Proba  \\\n",
       "5473   0  0  0  1  0     1       0      0  0  0  0  0     0  0.115535   \n",
       "53150  0  1  0  0  0     1       1      0  0  0  0  0     1  0.285357   \n",
       "33363  0  1  0  0  0     1       1      0  0  0  0  0     1  0.329950   \n",
       "9169   0  0  0  1  0     1       0      0  0  0  0  0     0  0.113467   \n",
       "44103  0  0  0  0  1     1       0      1  0  0  0  0     1  0.455607   \n",
       "...   .. .. .. .. ..   ...     ...    ... .. .. .. ..   ...       ...   \n",
       "505    0  0  0  1  0     1       0      0  0  0  0  0     1  0.079007   \n",
       "16258  0  0  1  0  0     1       0      0  0  0  0  0     1  0.060728   \n",
       "8709   0  0  1  0  0     1       0      0  0  0  0  0     0  0.063867   \n",
       "44630  0  0  0  0  1     1       0      1  0  0  0  0     1  0.449366   \n",
       "62447  0  0  0  0  1     1       0      1  0  0  0  0     1  0.452377   \n",
       "\n",
       "       Prediction  y_target  \n",
       "5473          0.0       1.0  \n",
       "53150         0.0       1.0  \n",
       "33363         0.0       1.0  \n",
       "9169          0.0       1.0  \n",
       "44103         0.0       1.0  \n",
       "...           ...       ...  \n",
       "505           0.0       1.0  \n",
       "16258         0.0       1.0  \n",
       "8709          0.0       1.0  \n",
       "44630         0.0       1.0  \n",
       "62447         0.0       1.0  \n",
       "\n",
       "[3904 rows x 36 columns]"
      ]
     },
     "execution_count": 33,
     "metadata": {},
     "output_type": "execute_result"
    }
   ],
   "source": [
    "df_10"
   ]
  },
  {
   "cell_type": "code",
   "execution_count": 34,
   "metadata": {},
   "outputs": [
    {
     "data": {
      "text/html": [
       "<div>\n",
       "<style scoped>\n",
       "    .dataframe tbody tr th:only-of-type {\n",
       "        vertical-align: middle;\n",
       "    }\n",
       "\n",
       "    .dataframe tbody tr th {\n",
       "        vertical-align: top;\n",
       "    }\n",
       "\n",
       "    .dataframe thead th {\n",
       "        text-align: right;\n",
       "    }\n",
       "</style>\n",
       "<table border=\"1\" class=\"dataframe\">\n",
       "  <thead>\n",
       "    <tr style=\"text-align: right;\">\n",
       "      <th></th>\n",
       "      <th>Var1</th>\n",
       "      <th>Var2</th>\n",
       "      <th>Var3</th>\n",
       "      <th>Var4</th>\n",
       "      <th>Var5</th>\n",
       "      <th>Camp Start Date - Registration Date</th>\n",
       "      <th>Registration Date - First Interaction</th>\n",
       "      <th>Camp Start Date - First Interaction</th>\n",
       "      <th>Camp End Date - Registration Date</th>\n",
       "      <th>Camp Length</th>\n",
       "      <th>1036</th>\n",
       "      <th>1216</th>\n",
       "      <th>1217</th>\n",
       "      <th>1352</th>\n",
       "      <th>1704</th>\n",
       "      <th>1729</th>\n",
       "      <th>2517</th>\n",
       "      <th>2662</th>\n",
       "      <th>23384</th>\n",
       "      <th>A</th>\n",
       "      <th>C</th>\n",
       "      <th>D</th>\n",
       "      <th>E</th>\n",
       "      <th>F</th>\n",
       "      <th>G</th>\n",
       "      <th>2100</th>\n",
       "      <th>Second</th>\n",
       "      <th>Third</th>\n",
       "      <th>1</th>\n",
       "      <th>2</th>\n",
       "      <th>3</th>\n",
       "      <th>4</th>\n",
       "      <th>9999</th>\n",
       "      <th>Proba</th>\n",
       "      <th>Prediction</th>\n",
       "      <th>y_target</th>\n",
       "    </tr>\n",
       "  </thead>\n",
       "  <tbody>\n",
       "    <tr>\n",
       "      <th>15214</th>\n",
       "      <td>0.0</td>\n",
       "      <td>0.0</td>\n",
       "      <td>0.0</td>\n",
       "      <td>0.0</td>\n",
       "      <td>0.0</td>\n",
       "      <td>42.0</td>\n",
       "      <td>391</td>\n",
       "      <td>433</td>\n",
       "      <td>100</td>\n",
       "      <td>58</td>\n",
       "      <td>0</td>\n",
       "      <td>0</td>\n",
       "      <td>0</td>\n",
       "      <td>0</td>\n",
       "      <td>0</td>\n",
       "      <td>1</td>\n",
       "      <td>0</td>\n",
       "      <td>0</td>\n",
       "      <td>0</td>\n",
       "      <td>0</td>\n",
       "      <td>0</td>\n",
       "      <td>0</td>\n",
       "      <td>0</td>\n",
       "      <td>0</td>\n",
       "      <td>1</td>\n",
       "      <td>1</td>\n",
       "      <td>0</td>\n",
       "      <td>1</td>\n",
       "      <td>0</td>\n",
       "      <td>0</td>\n",
       "      <td>0</td>\n",
       "      <td>0</td>\n",
       "      <td>1</td>\n",
       "      <td>0.566626</td>\n",
       "      <td>1.0</td>\n",
       "      <td>0.0</td>\n",
       "    </tr>\n",
       "    <tr>\n",
       "      <th>52318</th>\n",
       "      <td>0.0</td>\n",
       "      <td>0.0</td>\n",
       "      <td>0.0</td>\n",
       "      <td>0.0</td>\n",
       "      <td>0.0</td>\n",
       "      <td>-158.0</td>\n",
       "      <td>11</td>\n",
       "      <td>-147</td>\n",
       "      <td>593</td>\n",
       "      <td>751</td>\n",
       "      <td>0</td>\n",
       "      <td>0</td>\n",
       "      <td>0</td>\n",
       "      <td>0</td>\n",
       "      <td>0</td>\n",
       "      <td>0</td>\n",
       "      <td>0</td>\n",
       "      <td>0</td>\n",
       "      <td>1</td>\n",
       "      <td>1</td>\n",
       "      <td>0</td>\n",
       "      <td>0</td>\n",
       "      <td>0</td>\n",
       "      <td>0</td>\n",
       "      <td>0</td>\n",
       "      <td>1</td>\n",
       "      <td>1</td>\n",
       "      <td>0</td>\n",
       "      <td>0</td>\n",
       "      <td>0</td>\n",
       "      <td>0</td>\n",
       "      <td>0</td>\n",
       "      <td>1</td>\n",
       "      <td>0.517611</td>\n",
       "      <td>1.0</td>\n",
       "      <td>0.0</td>\n",
       "    </tr>\n",
       "    <tr>\n",
       "      <th>18632</th>\n",
       "      <td>0.0</td>\n",
       "      <td>0.0</td>\n",
       "      <td>0.0</td>\n",
       "      <td>0.0</td>\n",
       "      <td>0.0</td>\n",
       "      <td>-162.0</td>\n",
       "      <td>820</td>\n",
       "      <td>658</td>\n",
       "      <td>589</td>\n",
       "      <td>751</td>\n",
       "      <td>0</td>\n",
       "      <td>0</td>\n",
       "      <td>0</td>\n",
       "      <td>0</td>\n",
       "      <td>0</td>\n",
       "      <td>1</td>\n",
       "      <td>0</td>\n",
       "      <td>0</td>\n",
       "      <td>0</td>\n",
       "      <td>1</td>\n",
       "      <td>0</td>\n",
       "      <td>0</td>\n",
       "      <td>0</td>\n",
       "      <td>0</td>\n",
       "      <td>0</td>\n",
       "      <td>1</td>\n",
       "      <td>1</td>\n",
       "      <td>0</td>\n",
       "      <td>0</td>\n",
       "      <td>0</td>\n",
       "      <td>0</td>\n",
       "      <td>0</td>\n",
       "      <td>1</td>\n",
       "      <td>0.628642</td>\n",
       "      <td>1.0</td>\n",
       "      <td>0.0</td>\n",
       "    </tr>\n",
       "    <tr>\n",
       "      <th>14428</th>\n",
       "      <td>0.0</td>\n",
       "      <td>0.0</td>\n",
       "      <td>0.0</td>\n",
       "      <td>0.0</td>\n",
       "      <td>0.0</td>\n",
       "      <td>-327.0</td>\n",
       "      <td>0</td>\n",
       "      <td>-327</td>\n",
       "      <td>424</td>\n",
       "      <td>751</td>\n",
       "      <td>0</td>\n",
       "      <td>1</td>\n",
       "      <td>0</td>\n",
       "      <td>0</td>\n",
       "      <td>0</td>\n",
       "      <td>0</td>\n",
       "      <td>0</td>\n",
       "      <td>0</td>\n",
       "      <td>0</td>\n",
       "      <td>1</td>\n",
       "      <td>0</td>\n",
       "      <td>0</td>\n",
       "      <td>0</td>\n",
       "      <td>0</td>\n",
       "      <td>0</td>\n",
       "      <td>1</td>\n",
       "      <td>1</td>\n",
       "      <td>0</td>\n",
       "      <td>0</td>\n",
       "      <td>0</td>\n",
       "      <td>0</td>\n",
       "      <td>0</td>\n",
       "      <td>1</td>\n",
       "      <td>0.600902</td>\n",
       "      <td>1.0</td>\n",
       "      <td>0.0</td>\n",
       "    </tr>\n",
       "    <tr>\n",
       "      <th>27994</th>\n",
       "      <td>0.0</td>\n",
       "      <td>0.0</td>\n",
       "      <td>0.0</td>\n",
       "      <td>0.0</td>\n",
       "      <td>0.0</td>\n",
       "      <td>-22.0</td>\n",
       "      <td>162</td>\n",
       "      <td>140</td>\n",
       "      <td>17</td>\n",
       "      <td>39</td>\n",
       "      <td>0</td>\n",
       "      <td>0</td>\n",
       "      <td>0</td>\n",
       "      <td>0</td>\n",
       "      <td>0</td>\n",
       "      <td>0</td>\n",
       "      <td>0</td>\n",
       "      <td>1</td>\n",
       "      <td>0</td>\n",
       "      <td>0</td>\n",
       "      <td>0</td>\n",
       "      <td>0</td>\n",
       "      <td>0</td>\n",
       "      <td>0</td>\n",
       "      <td>1</td>\n",
       "      <td>1</td>\n",
       "      <td>0</td>\n",
       "      <td>1</td>\n",
       "      <td>0</td>\n",
       "      <td>0</td>\n",
       "      <td>0</td>\n",
       "      <td>0</td>\n",
       "      <td>1</td>\n",
       "      <td>0.525631</td>\n",
       "      <td>1.0</td>\n",
       "      <td>0.0</td>\n",
       "    </tr>\n",
       "    <tr>\n",
       "      <th>...</th>\n",
       "      <td>...</td>\n",
       "      <td>...</td>\n",
       "      <td>...</td>\n",
       "      <td>...</td>\n",
       "      <td>...</td>\n",
       "      <td>...</td>\n",
       "      <td>...</td>\n",
       "      <td>...</td>\n",
       "      <td>...</td>\n",
       "      <td>...</td>\n",
       "      <td>...</td>\n",
       "      <td>...</td>\n",
       "      <td>...</td>\n",
       "      <td>...</td>\n",
       "      <td>...</td>\n",
       "      <td>...</td>\n",
       "      <td>...</td>\n",
       "      <td>...</td>\n",
       "      <td>...</td>\n",
       "      <td>...</td>\n",
       "      <td>...</td>\n",
       "      <td>...</td>\n",
       "      <td>...</td>\n",
       "      <td>...</td>\n",
       "      <td>...</td>\n",
       "      <td>...</td>\n",
       "      <td>...</td>\n",
       "      <td>...</td>\n",
       "      <td>...</td>\n",
       "      <td>...</td>\n",
       "      <td>...</td>\n",
       "      <td>...</td>\n",
       "      <td>...</td>\n",
       "      <td>...</td>\n",
       "      <td>...</td>\n",
       "      <td>...</td>\n",
       "    </tr>\n",
       "    <tr>\n",
       "      <th>63096</th>\n",
       "      <td>0.0</td>\n",
       "      <td>0.0</td>\n",
       "      <td>0.0</td>\n",
       "      <td>0.0</td>\n",
       "      <td>0.0</td>\n",
       "      <td>13.0</td>\n",
       "      <td>597</td>\n",
       "      <td>610</td>\n",
       "      <td>17</td>\n",
       "      <td>4</td>\n",
       "      <td>0</td>\n",
       "      <td>0</td>\n",
       "      <td>1</td>\n",
       "      <td>0</td>\n",
       "      <td>0</td>\n",
       "      <td>0</td>\n",
       "      <td>0</td>\n",
       "      <td>0</td>\n",
       "      <td>0</td>\n",
       "      <td>1</td>\n",
       "      <td>0</td>\n",
       "      <td>0</td>\n",
       "      <td>0</td>\n",
       "      <td>0</td>\n",
       "      <td>0</td>\n",
       "      <td>1</td>\n",
       "      <td>1</td>\n",
       "      <td>0</td>\n",
       "      <td>0</td>\n",
       "      <td>0</td>\n",
       "      <td>0</td>\n",
       "      <td>0</td>\n",
       "      <td>0</td>\n",
       "      <td>0.510489</td>\n",
       "      <td>1.0</td>\n",
       "      <td>0.0</td>\n",
       "    </tr>\n",
       "    <tr>\n",
       "      <th>64716</th>\n",
       "      <td>0.0</td>\n",
       "      <td>0.0</td>\n",
       "      <td>0.0</td>\n",
       "      <td>0.0</td>\n",
       "      <td>0.0</td>\n",
       "      <td>-307.0</td>\n",
       "      <td>632</td>\n",
       "      <td>325</td>\n",
       "      <td>444</td>\n",
       "      <td>751</td>\n",
       "      <td>0</td>\n",
       "      <td>1</td>\n",
       "      <td>0</td>\n",
       "      <td>0</td>\n",
       "      <td>0</td>\n",
       "      <td>0</td>\n",
       "      <td>0</td>\n",
       "      <td>0</td>\n",
       "      <td>0</td>\n",
       "      <td>1</td>\n",
       "      <td>0</td>\n",
       "      <td>0</td>\n",
       "      <td>0</td>\n",
       "      <td>0</td>\n",
       "      <td>0</td>\n",
       "      <td>1</td>\n",
       "      <td>1</td>\n",
       "      <td>0</td>\n",
       "      <td>0</td>\n",
       "      <td>0</td>\n",
       "      <td>0</td>\n",
       "      <td>0</td>\n",
       "      <td>1</td>\n",
       "      <td>0.608477</td>\n",
       "      <td>1.0</td>\n",
       "      <td>0.0</td>\n",
       "    </tr>\n",
       "    <tr>\n",
       "      <th>60866</th>\n",
       "      <td>0.0</td>\n",
       "      <td>0.0</td>\n",
       "      <td>0.0</td>\n",
       "      <td>0.0</td>\n",
       "      <td>0.0</td>\n",
       "      <td>-7.0</td>\n",
       "      <td>242</td>\n",
       "      <td>235</td>\n",
       "      <td>744</td>\n",
       "      <td>751</td>\n",
       "      <td>0</td>\n",
       "      <td>0</td>\n",
       "      <td>0</td>\n",
       "      <td>0</td>\n",
       "      <td>0</td>\n",
       "      <td>1</td>\n",
       "      <td>0</td>\n",
       "      <td>0</td>\n",
       "      <td>0</td>\n",
       "      <td>1</td>\n",
       "      <td>0</td>\n",
       "      <td>0</td>\n",
       "      <td>0</td>\n",
       "      <td>0</td>\n",
       "      <td>0</td>\n",
       "      <td>1</td>\n",
       "      <td>1</td>\n",
       "      <td>0</td>\n",
       "      <td>0</td>\n",
       "      <td>0</td>\n",
       "      <td>0</td>\n",
       "      <td>0</td>\n",
       "      <td>1</td>\n",
       "      <td>0.637516</td>\n",
       "      <td>1.0</td>\n",
       "      <td>0.0</td>\n",
       "    </tr>\n",
       "    <tr>\n",
       "      <th>28316</th>\n",
       "      <td>0.0</td>\n",
       "      <td>0.0</td>\n",
       "      <td>0.0</td>\n",
       "      <td>0.0</td>\n",
       "      <td>0.0</td>\n",
       "      <td>4.0</td>\n",
       "      <td>207</td>\n",
       "      <td>211</td>\n",
       "      <td>8</td>\n",
       "      <td>4</td>\n",
       "      <td>0</td>\n",
       "      <td>0</td>\n",
       "      <td>0</td>\n",
       "      <td>0</td>\n",
       "      <td>1</td>\n",
       "      <td>0</td>\n",
       "      <td>0</td>\n",
       "      <td>0</td>\n",
       "      <td>0</td>\n",
       "      <td>1</td>\n",
       "      <td>0</td>\n",
       "      <td>0</td>\n",
       "      <td>0</td>\n",
       "      <td>0</td>\n",
       "      <td>0</td>\n",
       "      <td>1</td>\n",
       "      <td>1</td>\n",
       "      <td>0</td>\n",
       "      <td>0</td>\n",
       "      <td>0</td>\n",
       "      <td>0</td>\n",
       "      <td>0</td>\n",
       "      <td>0</td>\n",
       "      <td>0.500328</td>\n",
       "      <td>1.0</td>\n",
       "      <td>0.0</td>\n",
       "    </tr>\n",
       "    <tr>\n",
       "      <th>15929</th>\n",
       "      <td>0.0</td>\n",
       "      <td>0.0</td>\n",
       "      <td>0.0</td>\n",
       "      <td>0.0</td>\n",
       "      <td>0.0</td>\n",
       "      <td>-50.0</td>\n",
       "      <td>13</td>\n",
       "      <td>-37</td>\n",
       "      <td>24</td>\n",
       "      <td>74</td>\n",
       "      <td>0</td>\n",
       "      <td>0</td>\n",
       "      <td>0</td>\n",
       "      <td>0</td>\n",
       "      <td>0</td>\n",
       "      <td>0</td>\n",
       "      <td>0</td>\n",
       "      <td>1</td>\n",
       "      <td>0</td>\n",
       "      <td>0</td>\n",
       "      <td>0</td>\n",
       "      <td>0</td>\n",
       "      <td>0</td>\n",
       "      <td>0</td>\n",
       "      <td>1</td>\n",
       "      <td>1</td>\n",
       "      <td>0</td>\n",
       "      <td>1</td>\n",
       "      <td>0</td>\n",
       "      <td>0</td>\n",
       "      <td>0</td>\n",
       "      <td>0</td>\n",
       "      <td>1</td>\n",
       "      <td>0.531783</td>\n",
       "      <td>1.0</td>\n",
       "      <td>0.0</td>\n",
       "    </tr>\n",
       "  </tbody>\n",
       "</table>\n",
       "<p>1123 rows × 36 columns</p>\n",
       "</div>"
      ],
      "text/plain": [
       "       Var1  Var2  Var3  Var4  Var5  Camp Start Date - Registration Date  \\\n",
       "15214   0.0   0.0   0.0   0.0   0.0                                 42.0   \n",
       "52318   0.0   0.0   0.0   0.0   0.0                               -158.0   \n",
       "18632   0.0   0.0   0.0   0.0   0.0                               -162.0   \n",
       "14428   0.0   0.0   0.0   0.0   0.0                               -327.0   \n",
       "27994   0.0   0.0   0.0   0.0   0.0                                -22.0   \n",
       "...     ...   ...   ...   ...   ...                                  ...   \n",
       "63096   0.0   0.0   0.0   0.0   0.0                                 13.0   \n",
       "64716   0.0   0.0   0.0   0.0   0.0                               -307.0   \n",
       "60866   0.0   0.0   0.0   0.0   0.0                                 -7.0   \n",
       "28316   0.0   0.0   0.0   0.0   0.0                                  4.0   \n",
       "15929   0.0   0.0   0.0   0.0   0.0                                -50.0   \n",
       "\n",
       "       Registration Date - First Interaction  \\\n",
       "15214                                    391   \n",
       "52318                                     11   \n",
       "18632                                    820   \n",
       "14428                                      0   \n",
       "27994                                    162   \n",
       "...                                      ...   \n",
       "63096                                    597   \n",
       "64716                                    632   \n",
       "60866                                    242   \n",
       "28316                                    207   \n",
       "15929                                     13   \n",
       "\n",
       "       Camp Start Date - First Interaction  Camp End Date - Registration Date  \\\n",
       "15214                                  433                                100   \n",
       "52318                                 -147                                593   \n",
       "18632                                  658                                589   \n",
       "14428                                 -327                                424   \n",
       "27994                                  140                                 17   \n",
       "...                                    ...                                ...   \n",
       "63096                                  610                                 17   \n",
       "64716                                  325                                444   \n",
       "60866                                  235                                744   \n",
       "28316                                  211                                  8   \n",
       "15929                                  -37                                 24   \n",
       "\n",
       "       Camp Length  1036  1216  1217  1352  1704  1729  2517  2662  23384  A  \\\n",
       "15214           58     0     0     0     0     0     1     0     0      0  0   \n",
       "52318          751     0     0     0     0     0     0     0     0      1  1   \n",
       "18632          751     0     0     0     0     0     1     0     0      0  1   \n",
       "14428          751     0     1     0     0     0     0     0     0      0  1   \n",
       "27994           39     0     0     0     0     0     0     0     1      0  0   \n",
       "...            ...   ...   ...   ...   ...   ...   ...   ...   ...    ... ..   \n",
       "63096            4     0     0     1     0     0     0     0     0      0  1   \n",
       "64716          751     0     1     0     0     0     0     0     0      0  1   \n",
       "60866          751     0     0     0     0     0     1     0     0      0  1   \n",
       "28316            4     0     0     0     0     1     0     0     0      0  1   \n",
       "15929           74     0     0     0     0     0     0     0     1      0  0   \n",
       "\n",
       "       C  D  E  F  G  2100  Second  Third  1  2  3  4  9999     Proba  \\\n",
       "15214  0  0  0  0  1     1       0      1  0  0  0  0     1  0.566626   \n",
       "52318  0  0  0  0  0     1       1      0  0  0  0  0     1  0.517611   \n",
       "18632  0  0  0  0  0     1       1      0  0  0  0  0     1  0.628642   \n",
       "14428  0  0  0  0  0     1       1      0  0  0  0  0     1  0.600902   \n",
       "27994  0  0  0  0  1     1       0      1  0  0  0  0     1  0.525631   \n",
       "...   .. .. .. .. ..   ...     ...    ... .. .. .. ..   ...       ...   \n",
       "63096  0  0  0  0  0     1       1      0  0  0  0  0     0  0.510489   \n",
       "64716  0  0  0  0  0     1       1      0  0  0  0  0     1  0.608477   \n",
       "60866  0  0  0  0  0     1       1      0  0  0  0  0     1  0.637516   \n",
       "28316  0  0  0  0  0     1       1      0  0  0  0  0     0  0.500328   \n",
       "15929  0  0  0  0  1     1       0      1  0  0  0  0     1  0.531783   \n",
       "\n",
       "       Prediction  y_target  \n",
       "15214         1.0       0.0  \n",
       "52318         1.0       0.0  \n",
       "18632         1.0       0.0  \n",
       "14428         1.0       0.0  \n",
       "27994         1.0       0.0  \n",
       "...           ...       ...  \n",
       "63096         1.0       0.0  \n",
       "64716         1.0       0.0  \n",
       "60866         1.0       0.0  \n",
       "28316         1.0       0.0  \n",
       "15929         1.0       0.0  \n",
       "\n",
       "[1123 rows x 36 columns]"
      ]
     },
     "execution_count": 34,
     "metadata": {},
     "output_type": "execute_result"
    }
   ],
   "source": [
    "df_01"
   ]
  },
  {
   "cell_type": "code",
   "execution_count": 35,
   "metadata": {},
   "outputs": [
    {
     "data": {
      "text/plain": [
       "\"\\nchecker[checker['y_target'] ==1]['delta_first_reg'].hist(alpha=.6)\\nchecker[checker['y_target'] ==0]['delta_first_reg'].hist(alpha=.6)\\n\""
      ]
     },
     "execution_count": 35,
     "metadata": {},
     "output_type": "execute_result"
    },
    {
     "data": {
      "image/png": "[encoded data removed]",
      "text/plain": [
       "<Figure size 1200x800 with 1 Axes>"
      ]
     },
     "metadata": {
      "needs_background": "light"
     },
     "output_type": "display_data"
    }
   ],
   "source": [
    "#df_01['Proba'].hist(alpha=.6, bins=30)\n",
    "df_10['Proba'].hist(alpha=.6, bins=30)\n",
    "'''\n",
    "checker[checker['y_target'] ==1]['delta_first_reg'].hist(alpha=.6)\n",
    "checker[checker['y_target'] ==0]['delta_first_reg'].hist(alpha=.6)\n",
    "'''"
   ]
  },
  {
   "cell_type": "code",
   "execution_count": null,
   "metadata": {},
   "outputs": [],
   "source": [
    "df_01.describe()"
   ]
  },
  {
   "cell_type": "code",
   "execution_count": null,
   "metadata": {},
   "outputs": [],
   "source": [
    "df_10.describe()"
   ]
  },
  {
   "cell_type": "code",
   "execution_count": null,
   "metadata": {},
   "outputs": [],
   "source": [
    "frames = [df_01,df_10]\n",
    "frames2 = [df_1,df_0]\n",
    "df_f = pd.concat(frames)\n",
    "df_f2 = pd.concat(frames2)"
   ]
  },
  {
   "cell_type": "code",
   "execution_count": null,
   "metadata": {},
   "outputs": [],
   "source": []
  },
  {
   "cell_type": "code",
   "execution_count": null,
   "metadata": {},
   "outputs": [],
   "source": [
    "df_10_ = df_f.copy()\n",
    "df_10_2 = df_f2.copy()\n",
    "#Making copies to do KNN\n",
    "del df_10_['Prediction']\n",
    "del df_10_['Proba']\n",
    "del df_10_2['Prediction']\n",
    "del df_10_2['Proba']"
   ]
  },
  {
   "cell_type": "code",
   "execution_count": null,
   "metadata": {},
   "outputs": [],
   "source": []
  },
  {
   "cell_type": "code",
   "execution_count": null,
   "metadata": {},
   "outputs": [],
   "source": []
  },
  {
   "cell_type": "code",
   "execution_count": null,
   "metadata": {},
   "outputs": [],
   "source": [
    "# yk = df_encode1.pop('y_target')\n",
    "# Xk = df_encode1 \n",
    "yk = df_10_.pop('y_target')\n",
    "Xk = df_10_\n",
    "\n",
    "X_traink, X_testk, y_traink, y_testk = train_test_split(Xk, yk, random_state=42)"
   ]
  },
  {
   "cell_type": "code",
   "execution_count": null,
   "metadata": {},
   "outputs": [],
   "source": [
    "from sklearn.neighbors import KNeighborsClassifier"
   ]
  },
  {
   "cell_type": "code",
   "execution_count": null,
   "metadata": {},
   "outputs": [],
   "source": [
    "knn = KNeighborsClassifier(n_neighbors=1)"
   ]
  },
  {
   "cell_type": "code",
   "execution_count": null,
   "metadata": {},
   "outputs": [],
   "source": [
    "knn.fit(X_traink,y_traink)"
   ]
  },
  {
   "cell_type": "code",
   "execution_count": null,
   "metadata": {},
   "outputs": [],
   "source": [
    "pred = knn.predict(X_testk)"
   ]
  },
  {
   "cell_type": "code",
   "execution_count": null,
   "metadata": {},
   "outputs": [],
   "source": [
    "print(confusion_matrix(y_testk,pred))\n",
    "print(classification_report(y_testk,pred))"
   ]
  },
  {
   "cell_type": "code",
   "execution_count": null,
   "metadata": {},
   "outputs": [],
   "source": [
    "error_rate = []\n",
    "\n",
    "for i in range(1,30):\n",
    "    knn = KNeighborsClassifier(n_neighbors=i)\n",
    "    knn.fit(X_traink,y_traink)\n",
    "    pred_i = knn.predict(X_testk)\n",
    "    error_rate.append(np.mean(pred_i != y_testk))"
   ]
  },
  {
   "cell_type": "code",
   "execution_count": null,
   "metadata": {},
   "outputs": [],
   "source": [
    "plt.figure(figsize=(10,6))\n",
    "plt.plot(range(1,30), error_rate,color='blue', linestyle='dashed', marker='o',\n",
    "        markerfacecolor='red',markersize=10)\n",
    "plt.title('KNN Error Rate')\n",
    "plt.xlabel('K')\n",
    "plt.ylabel('Error Rate')"
   ]
  },
  {
   "cell_type": "code",
   "execution_count": null,
   "metadata": {},
   "outputs": [],
   "source": [
    "knn = KNeighborsClassifier(n_neighbors=6)\n",
    "knn.fit(X_traink,y_traink)\n",
    "pred = knn.predict(X_testk)\n",
    "print(confusion_matrix(y_testk,pred))\n",
    "print(classification_report(y_testk,pred))"
   ]
  },
  {
   "cell_type": "code",
   "execution_count": null,
   "metadata": {},
   "outputs": [],
   "source": [
    "knn = KNeighborsClassifier(n_neighbors=7)\n",
    "knn.fit(X_traink,y_traink)\n",
    "pred = knn.predict(X_testk)\n",
    "print(confusion_matrix(y_testk,pred))\n",
    "print(classification_report(y_testk,pred))"
   ]
  },
  {
   "cell_type": "code",
   "execution_count": null,
   "metadata": {},
   "outputs": [],
   "source": [
    "knn = KNeighborsClassifier(n_neighbors=5)\n",
    "knn.fit(X_traink,y_traink)\n",
    "pred = knn.predict(X_testk)\n",
    "print(confusion_matrix(y_testk,pred))\n",
    "print(classification_report(y_testk,pred)) "
   ]
  },
  {
   "cell_type": "code",
   "execution_count": null,
   "metadata": {},
   "outputs": [],
   "source": [
    "knn = KNeighborsClassifier(n_neighbors=11)\n",
    "knn.fit(X_traink,y_traink)\n",
    "pred = knn.predict(X_testk)\n",
    "print(confusion_matrix(y_testk,pred))\n",
    "print(classification_report(y_testk,pred)) "
   ]
  },
  {
   "cell_type": "code",
   "execution_count": null,
   "metadata": {},
   "outputs": [],
   "source": [
    "yk = df_10_2.pop('y_target')\n",
    "Xk = df_10_2\n",
    "X_traink, X_testk, y_traink, y_testk = train_test_split(Xk, yk, random_state=42)\n",
    "\n",
    "knn2 = KNeighborsClassifier(n_neighbors=1)\n",
    "knn2.fit(X_traink,y_traink)\n",
    "pred = knn2.predict(X_testk)\n",
    "\n",
    "error_rate = []\n",
    "\n",
    "for i in range(1,30):\n",
    "    knn2 = KNeighborsClassifier(n_neighbors=i)\n",
    "    knn2.fit(X_traink,y_traink)\n",
    "    pred_i = knn2.predict(X_testk)\n",
    "    error_rate.append(np.mean(pred_i != y_testk))\n",
    "    \n",
    "plt.figure(figsize=(10,6))\n",
    "plt.plot(range(1,30), error_rate,color='blue', linestyle='dashed', marker='o',\n",
    "        markerfacecolor='red',markersize=10)\n",
    "plt.title('KNN Error Rate')\n",
    "plt.xlabel('K')\n",
    "plt.ylabel('Error Rate')\n"
   ]
  },
  {
   "cell_type": "code",
   "execution_count": null,
   "metadata": {},
   "outputs": [],
   "source": [
    "knn2 = KNeighborsClassifier(n_neighbors=5)\n",
    "knn2.fit(X_traink,y_traink)\n",
    "pred = knn2.predict(X_testk)\n",
    "print(confusion_matrix(y_testk,pred))\n",
    "print(classification_report(y_testk,pred)) "
   ]
  },
  {
   "cell_type": "code",
   "execution_count": null,
   "metadata": {},
   "outputs": [],
   "source": [
    "knn2 = KNeighborsClassifier(n_neighbors=3)\n",
    "knn2.fit(X_traink,y_traink)\n",
    "pred = knn2.predict(X_testk)\n",
    "print(confusion_matrix(y_testk,pred))\n",
    "print(classification_report(y_testk,pred)) "
   ]
  },
  {
   "cell_type": "code",
   "execution_count": null,
   "metadata": {},
   "outputs": [],
   "source": [
    "knn2 = KNeighborsClassifier(n_neighbors=6)\n",
    "knn2.fit(X_traink,y_traink)\n",
    "pred = knn2.predict(X_testk)\n",
    "print(confusion_matrix(y_testk,pred))\n",
    "print(classification_report(y_testk,pred)) "
   ]
  },
  {
   "cell_type": "code",
   "execution_count": null,
   "metadata": {},
   "outputs": [],
   "source": [
    "knn2 = KNeighborsClassifier(n_neighbors=1)\n",
    "knn2.fit(X_traink,y_traink)\n",
    "pred = knn2.predict(X_testk)\n",
    "print(confusion_matrix(y_testk,pred))\n",
    "print(classification_report(y_testk,pred)) "
   ]
  },
  {
   "cell_type": "code",
   "execution_count": null,
   "metadata": {},
   "outputs": [],
   "source": [
    "# if I am positve 20 and they are negative 40 == 60 (really I am 60 off nd 60 better)\n",
    "# if I am postive 20 and they are positive 40 == -20 (really I am 20 off nd 20 better)\n",
    "# if I am negative 20 and they are negative 40 == 20 (really I am 20 off nd 20 better)\n",
    "# if I am negative 20 and they are positive 40 == -60 (really I am 20 off nd 20 worse)\n",
    "# if I am positive 20 and they are positive 40 == -60 (really I am 20 off nd 20 worse)\n",
    "# # Myerror 40 - their error -20  = 60 people difference = positive value means I did worse like Golf"
   ]
  },
  {
   "cell_type": "code",
   "execution_count": null,
   "metadata": {},
   "outputs": [],
   "source": [
    "/home/allen/Galva/capstones/capstone2/data/data_by_feature"
   ]
  },
  {
   "cell_type": "code",
   "execution_count": 36,
   "metadata": {},
   "outputs": [],
   "source": [
    " \n",
    "results_by_camp1 = pd.read_csv('/home/allen/Galva/capstones/capstone2/data/data_by_feature/results_by_Camp_t1.csv')\n",
    "results_by_camp2 = pd.read_csv('/home/allen/Galva/capstones/capstone2/data/data_by_feature/results_by_Camp_t2.csv')\n",
    "city1_XG1 = pd.read_csv('/home/allen/Galva/capstones/capstone2/data/data_by_feature/XG_CITY_t2_weight1.csv')\n",
    "city2_XG2 = pd.read_csv('/home/allen/Galva/capstones/capstone2/data/data_by_feature/XG_CITY_t2.csv')"
   ]
  },
  {
   "cell_type": "code",
   "execution_count": null,
   "metadata": {},
   "outputs": [],
   "source": []
  },
  {
   "cell_type": "code",
   "execution_count": 37,
   "metadata": {},
   "outputs": [
    {
     "data": {
      "text/html": [
       "<div>\n",
       "<style scoped>\n",
       "    .dataframe tbody tr th:only-of-type {\n",
       "        vertical-align: middle;\n",
       "    }\n",
       "\n",
       "    .dataframe tbody tr th {\n",
       "        vertical-align: top;\n",
       "    }\n",
       "\n",
       "    .dataframe thead th {\n",
       "        text-align: right;\n",
       "    }\n",
       "</style>\n",
       "<table border=\"1\" class=\"dataframe\">\n",
       "  <thead>\n",
       "    <tr style=\"text-align: right;\">\n",
       "      <th></th>\n",
       "      <th>Health_Camp_ID</th>\n",
       "      <th>False Positive</th>\n",
       "      <th>False Negative</th>\n",
       "      <th>y_counts_test</th>\n",
       "      <th>y_counts_train</th>\n",
       "      <th>test_size</th>\n",
       "      <th>train_size</th>\n",
       "    </tr>\n",
       "  </thead>\n",
       "  <tbody>\n",
       "    <tr>\n",
       "      <th>0</th>\n",
       "      <td>6587</td>\n",
       "      <td>710</td>\n",
       "      <td>1380</td>\n",
       "      <td>2115</td>\n",
       "      <td>5050</td>\n",
       "      <td>9963</td>\n",
       "      <td>23245</td>\n",
       "    </tr>\n",
       "    <tr>\n",
       "      <th>1</th>\n",
       "      <td>6587</td>\n",
       "      <td>160</td>\n",
       "      <td>271</td>\n",
       "      <td>433</td>\n",
       "      <td>962</td>\n",
       "      <td>1278</td>\n",
       "      <td>2981</td>\n",
       "    </tr>\n",
       "    <tr>\n",
       "      <th>2</th>\n",
       "      <td>6587</td>\n",
       "      <td>84</td>\n",
       "      <td>194</td>\n",
       "      <td>344</td>\n",
       "      <td>727</td>\n",
       "      <td>994</td>\n",
       "      <td>2318</td>\n",
       "    </tr>\n",
       "    <tr>\n",
       "      <th>3</th>\n",
       "      <td>6587</td>\n",
       "      <td>167</td>\n",
       "      <td>323</td>\n",
       "      <td>514</td>\n",
       "      <td>1182</td>\n",
       "      <td>1636</td>\n",
       "      <td>3815</td>\n",
       "    </tr>\n",
       "    <tr>\n",
       "      <th>4</th>\n",
       "      <td>6587</td>\n",
       "      <td>246</td>\n",
       "      <td>480</td>\n",
       "      <td>759</td>\n",
       "      <td>1682</td>\n",
       "      <td>2482</td>\n",
       "      <td>5791</td>\n",
       "    </tr>\n",
       "    <tr>\n",
       "      <th>5</th>\n",
       "      <td>6586</td>\n",
       "      <td>115</td>\n",
       "      <td>200</td>\n",
       "      <td>319</td>\n",
       "      <td>763</td>\n",
       "      <td>1033</td>\n",
       "      <td>2408</td>\n",
       "    </tr>\n",
       "    <tr>\n",
       "      <th>6</th>\n",
       "      <td>6587</td>\n",
       "      <td>128</td>\n",
       "      <td>258</td>\n",
       "      <td>405</td>\n",
       "      <td>880</td>\n",
       "      <td>1208</td>\n",
       "      <td>2817</td>\n",
       "    </tr>\n",
       "    <tr>\n",
       "      <th>7</th>\n",
       "      <td>6586</td>\n",
       "      <td>177</td>\n",
       "      <td>316</td>\n",
       "      <td>430</td>\n",
       "      <td>996</td>\n",
       "      <td>1308</td>\n",
       "      <td>3052</td>\n",
       "    </tr>\n",
       "    <tr>\n",
       "      <th>8</th>\n",
       "      <td>6587</td>\n",
       "      <td>264</td>\n",
       "      <td>431</td>\n",
       "      <td>594</td>\n",
       "      <td>1448</td>\n",
       "      <td>1842</td>\n",
       "      <td>4297</td>\n",
       "    </tr>\n",
       "    <tr>\n",
       "      <th>9</th>\n",
       "      <td>6587</td>\n",
       "      <td>126</td>\n",
       "      <td>184</td>\n",
       "      <td>272</td>\n",
       "      <td>659</td>\n",
       "      <td>843</td>\n",
       "      <td>1967</td>\n",
       "    </tr>\n",
       "  </tbody>\n",
       "</table>\n",
       "</div>"
      ],
      "text/plain": [
       "   Health_Camp_ID  False Positive  False Negative  y_counts_test  \\\n",
       "0            6587             710            1380           2115   \n",
       "1            6587             160             271            433   \n",
       "2            6587              84             194            344   \n",
       "3            6587             167             323            514   \n",
       "4            6587             246             480            759   \n",
       "5            6586             115             200            319   \n",
       "6            6587             128             258            405   \n",
       "7            6586             177             316            430   \n",
       "8            6587             264             431            594   \n",
       "9            6587             126             184            272   \n",
       "\n",
       "   y_counts_train  test_size  train_size  \n",
       "0            5050       9963       23245  \n",
       "1             962       1278        2981  \n",
       "2             727        994        2318  \n",
       "3            1182       1636        3815  \n",
       "4            1682       2482        5791  \n",
       "5             763       1033        2408  \n",
       "6             880       1208        2817  \n",
       "7             996       1308        3052  \n",
       "8            1448       1842        4297  \n",
       "9             659        843        1967  "
      ]
     },
     "execution_count": 37,
     "metadata": {},
     "output_type": "execute_result"
    }
   ],
   "source": [
    "city1_XG1.head(10)"
   ]
  },
  {
   "cell_type": "code",
   "execution_count": 38,
   "metadata": {},
   "outputs": [
    {
     "data": {
      "text/html": [
       "<div>\n",
       "<style scoped>\n",
       "    .dataframe tbody tr th:only-of-type {\n",
       "        vertical-align: middle;\n",
       "    }\n",
       "\n",
       "    .dataframe tbody tr th {\n",
       "        vertical-align: top;\n",
       "    }\n",
       "\n",
       "    .dataframe thead th {\n",
       "        text-align: right;\n",
       "    }\n",
       "</style>\n",
       "<table border=\"1\" class=\"dataframe\">\n",
       "  <thead>\n",
       "    <tr style=\"text-align: right;\">\n",
       "      <th></th>\n",
       "      <th>Health_Camp_ID</th>\n",
       "      <th>False Positive</th>\n",
       "      <th>False Negative</th>\n",
       "      <th>y_counts_test</th>\n",
       "      <th>y_counts_train</th>\n",
       "      <th>test_size</th>\n",
       "      <th>train_size</th>\n",
       "    </tr>\n",
       "  </thead>\n",
       "  <tbody>\n",
       "    <tr>\n",
       "      <th>0</th>\n",
       "      <td>6587</td>\n",
       "      <td>929</td>\n",
       "      <td>1495</td>\n",
       "      <td>2115</td>\n",
       "      <td>5050</td>\n",
       "      <td>9963</td>\n",
       "      <td>23245</td>\n",
       "    </tr>\n",
       "    <tr>\n",
       "      <th>1</th>\n",
       "      <td>6587</td>\n",
       "      <td>220</td>\n",
       "      <td>312</td>\n",
       "      <td>433</td>\n",
       "      <td>962</td>\n",
       "      <td>1278</td>\n",
       "      <td>2981</td>\n",
       "    </tr>\n",
       "    <tr>\n",
       "      <th>2</th>\n",
       "      <td>6587</td>\n",
       "      <td>149</td>\n",
       "      <td>240</td>\n",
       "      <td>344</td>\n",
       "      <td>727</td>\n",
       "      <td>994</td>\n",
       "      <td>2318</td>\n",
       "    </tr>\n",
       "    <tr>\n",
       "      <th>3</th>\n",
       "      <td>6587</td>\n",
       "      <td>243</td>\n",
       "      <td>354</td>\n",
       "      <td>514</td>\n",
       "      <td>1182</td>\n",
       "      <td>1636</td>\n",
       "      <td>3815</td>\n",
       "    </tr>\n",
       "    <tr>\n",
       "      <th>4</th>\n",
       "      <td>6587</td>\n",
       "      <td>380</td>\n",
       "      <td>531</td>\n",
       "      <td>759</td>\n",
       "      <td>1682</td>\n",
       "      <td>2482</td>\n",
       "      <td>5791</td>\n",
       "    </tr>\n",
       "    <tr>\n",
       "      <th>5</th>\n",
       "      <td>6586</td>\n",
       "      <td>180</td>\n",
       "      <td>234</td>\n",
       "      <td>319</td>\n",
       "      <td>763</td>\n",
       "      <td>1033</td>\n",
       "      <td>2408</td>\n",
       "    </tr>\n",
       "    <tr>\n",
       "      <th>6</th>\n",
       "      <td>6587</td>\n",
       "      <td>186</td>\n",
       "      <td>277</td>\n",
       "      <td>405</td>\n",
       "      <td>880</td>\n",
       "      <td>1208</td>\n",
       "      <td>2817</td>\n",
       "    </tr>\n",
       "    <tr>\n",
       "      <th>7</th>\n",
       "      <td>6586</td>\n",
       "      <td>256</td>\n",
       "      <td>339</td>\n",
       "      <td>430</td>\n",
       "      <td>996</td>\n",
       "      <td>1308</td>\n",
       "      <td>3052</td>\n",
       "    </tr>\n",
       "    <tr>\n",
       "      <th>8</th>\n",
       "      <td>6587</td>\n",
       "      <td>339</td>\n",
       "      <td>461</td>\n",
       "      <td>594</td>\n",
       "      <td>1448</td>\n",
       "      <td>1842</td>\n",
       "      <td>4297</td>\n",
       "    </tr>\n",
       "    <tr>\n",
       "      <th>9</th>\n",
       "      <td>6587</td>\n",
       "      <td>181</td>\n",
       "      <td>207</td>\n",
       "      <td>272</td>\n",
       "      <td>659</td>\n",
       "      <td>843</td>\n",
       "      <td>1967</td>\n",
       "    </tr>\n",
       "  </tbody>\n",
       "</table>\n",
       "</div>"
      ],
      "text/plain": [
       "   Health_Camp_ID  False Positive  False Negative  y_counts_test  \\\n",
       "0            6587             929            1495           2115   \n",
       "1            6587             220             312            433   \n",
       "2            6587             149             240            344   \n",
       "3            6587             243             354            514   \n",
       "4            6587             380             531            759   \n",
       "5            6586             180             234            319   \n",
       "6            6587             186             277            405   \n",
       "7            6586             256             339            430   \n",
       "8            6587             339             461            594   \n",
       "9            6587             181             207            272   \n",
       "\n",
       "   y_counts_train  test_size  train_size  \n",
       "0            5050       9963       23245  \n",
       "1             962       1278        2981  \n",
       "2             727        994        2318  \n",
       "3            1182       1636        3815  \n",
       "4            1682       2482        5791  \n",
       "5             763       1033        2408  \n",
       "6             880       1208        2817  \n",
       "7             996       1308        3052  \n",
       "8            1448       1842        4297  \n",
       "9             659        843        1967  "
      ]
     },
     "execution_count": 38,
     "metadata": {},
     "output_type": "execute_result"
    }
   ],
   "source": [
    "city2_XG2.head(10)"
   ]
  },
  {
   "cell_type": "code",
   "execution_count": 54,
   "metadata": {},
   "outputs": [],
   "source": [
    "def create_cols(dataframe):\n",
    "  \n",
    "    dataframe['Historic Train'] = dataframe['train_size'].apply(lambda x: x *.2)  #20% historic attendance rate\n",
    "    dataframe['Historic Test'] = dataframe['test_size'].apply(lambda x: x *.2) \n",
    "\n",
    "    dataframe['Ratio'] = dataframe['False Negative']/dataframe['False Positive']\n",
    "    dataframe['Train Percent Attends'] = dataframe['y_counts_train']/dataframe['train_size']\n",
    "    dataframe['Test Percent Attends'] = dataframe['y_counts_test']/dataframe['test_size']\n",
    "\n",
    "    dataframe['True Y - Historic Train'] =  dataframe['y_counts_train'] - dataframe['Historic Train'] \n",
    "    dataframe['Their Error'] =  dataframe['y_counts_test'] - dataframe['Historic Test']  \n",
    "                                                   \n",
    "    dataframe['Total Model Error'] = dataframe['False Positive'] + dataframe['False Negative']\n",
    "    dataframe['Total Y'] = dataframe['y_counts_train'] + dataframe['y_counts_test']\n",
    "    tme = dataframe['Total Model Error'].values \n",
    "    ht = dataframe['Their Error'].values\n",
    "\n",
    "    combo = list(zip(tme,ht))\n",
    "    model_minus_historic = []\n",
    "    for i in combo:\n",
    "        if i[1] > 0 and i[0] < 0:\n",
    "            get = i[0] - i[1] + .069 \n",
    "            model_minus_historic.append(get)\n",
    "        else:\n",
    "            get = i[0] - i[1]\n",
    "            model_minus_historic.append(get)\n",
    "    \n",
    "\n",
    "    dataframe['Model - Historic Test'] = model_minus_historic \n",
    "\n",
    "\n",
    "    return dataframe"
   ]
  },
  {
   "cell_type": "code",
   "execution_count": 55,
   "metadata": {},
   "outputs": [],
   "source": [
    "df_camp1 = create_cols(results_by_camp1)\n",
    "df_camp2 = create_cols(results_by_camp2)\n",
    "df_xg_city1 = create_cols(city1_XG1)\n",
    "df_xg_city2 = create_cols(city2_XG2) \n"
   ]
  },
  {
   "cell_type": "code",
   "execution_count": 56,
   "metadata": {},
   "outputs": [],
   "source": [
    "df_xg_city1['test_size'] = df_xg_city1.astype(int)"
   ]
  },
  {
   "cell_type": "code",
   "execution_count": 57,
   "metadata": {},
   "outputs": [
    {
     "data": {
      "text/plain": [
       "2571"
      ]
     },
     "execution_count": 57,
     "metadata": {},
     "output_type": "execute_result"
    }
   ],
   "source": [
    "df_camp1['False Positive'].sum()"
   ]
  },
  {
   "cell_type": "code",
   "execution_count": 58,
   "metadata": {},
   "outputs": [
    {
     "data": {
      "text/plain": [
       "4320"
      ]
     },
     "execution_count": 58,
     "metadata": {},
     "output_type": "execute_result"
    }
   ],
   "source": [
    "df_camp1['False Negative'].sum()"
   ]
  },
  {
   "cell_type": "code",
   "execution_count": 59,
   "metadata": {},
   "outputs": [],
   "source": [
    "#  [[5201   29] TN/FN\n",
    "#  [1317   95]] TP/FP\n",
    "    \n",
    "# [[4111 1119]  TN/FN\n",
    "#  [ 257 1155]] TP/FP\n"
   ]
  },
  {
   "cell_type": "code",
   "execution_count": 60,
   "metadata": {},
   "outputs": [
    {
     "ename": "NameError",
     "evalue": "name 'results_by_city2' is not defined",
     "output_type": "error",
     "traceback": [
      "\u001b[0;31m---------------------------------------------------------------------------\u001b[0m",
      "\u001b[0;31mNameError\u001b[0m                                 Traceback (most recent call last)",
      "\u001b[0;32m<ipython-input-60-745b74322874>\u001b[0m in \u001b[0;36m<module>\u001b[0;34m\u001b[0m\n\u001b[0;32m----> 1\u001b[0;31m \u001b[0mresults_by_city2\u001b[0m\u001b[0;34m[\u001b[0m\u001b[0;34m'Actual Attendnce'\u001b[0m\u001b[0;34m]\u001b[0m \u001b[0;34m=\u001b[0m  \u001b[0mresults_by_city2\u001b[0m\u001b[0;34m[\u001b[0m\u001b[0;34m'Y Count'\u001b[0m\u001b[0;34m]\u001b[0m \u001b[0;34m/\u001b[0m \u001b[0mresults_by_city2\u001b[0m\u001b[0;34m[\u001b[0m\u001b[0;34m'Test Size'\u001b[0m\u001b[0;34m]\u001b[0m\u001b[0;34m\u001b[0m\u001b[0;34m\u001b[0m\u001b[0m\n\u001b[0m",
      "\u001b[0;31mNameError\u001b[0m: name 'results_by_city2' is not defined"
     ]
    }
   ],
   "source": [
    "results_by_city2['Actual Attendnce'] =  results_by_city2['Y Count'] / results_by_city2['Test Size']"
   ]
  },
  {
   "cell_type": "code",
   "execution_count": 95,
   "metadata": {},
   "outputs": [],
   "source": [
    "df_ = pd.read_csv('/home/allen/Galva/capstones/capstone2/data/ready12_24_train.csv') \n",
    "df_['Tups'] = list(zip(df_withID.City_Type2_x,df_withID.Health_Camp_ID))\n",
    "df_['Tups2'] = list(zip(df_withID['Camp Length'].values,df_withID.Health_Camp_ID))"
   ]
  },
  {
   "cell_type": "code",
   "execution_count": null,
   "metadata": {},
   "outputs": [],
   "source": []
  },
  {
   "cell_type": "code",
   "execution_count": null,
   "metadata": {},
   "outputs": [],
   "source": []
  },
  {
   "cell_type": "code",
   "execution_count": null,
   "metadata": {},
   "outputs": [],
   "source": []
  },
  {
   "cell_type": "code",
   "execution_count": 96,
   "metadata": {},
   "outputs": [],
   "source": [
    "d2={}\n",
    "for i in df_['Tups2'].values:\n",
    "    key = i[1]\n",
    "    value = i[0]\n",
    "    if key not in d2.keys():\n",
    "        d2[key]=value"
   ]
  },
  {
   "cell_type": "code",
   "execution_count": 97,
   "metadata": {},
   "outputs": [
    {
     "data": {
      "text/plain": [
       "Index(['Health_Camp_ID', 'Var1', 'Var2', 'Var3', 'Var4', 'Var5',\n",
       "       'City_Type2_x', 'Job Type_x', 'online_score', 'y_target',\n",
       "       'Camp Start Date - Registration Date',\n",
       "       'Registration Date - First Interaction',\n",
       "       'Camp Start Date - First Interaction',\n",
       "       'Camp End Date - Registration Date', 'Camp Length', 'Category 1',\n",
       "       'Category 2', 'Category 3', 'Tups', 'Tups2'],\n",
       "      dtype='object')"
      ]
     },
     "execution_count": 97,
     "metadata": {},
     "output_type": "execute_result"
    }
   ],
   "source": [
    "df_.columns"
   ]
  },
  {
   "cell_type": "code",
   "execution_count": 98,
   "metadata": {},
   "outputs": [],
   "source": [
    "df_camp2['City'] = df_camp2['Health_Camp_ID'].map(d)\n",
    "df_camp2['Camp Length '] = df_camp2['Health_Camp_ID'].map(d2)\n"
   ]
  },
  {
   "cell_type": "code",
   "execution_count": 111,
   "metadata": {},
   "outputs": [
    {
     "data": {
      "text/plain": [
       "Text(0.5, 1.0, 'Test Size, Attendance Rate By Camp Location')"
      ]
     },
     "execution_count": 111,
     "metadata": {},
     "output_type": "execute_result"
    },
    {
     "data": {
      "image/png": "[encoded data removed]",
      "text/plain": [
       "<Figure size 1239.19x1000 with 1 Axes>"
      ]
     },
     "metadata": {
      "needs_background": "light"
     },
     "output_type": "display_data"
    }
   ],
   "source": [
    "g= sns.relplot(x='Test Percent Attends', y='y_counts_test', hue= 'City', size='Camp Length ', data=df_camp2,palette=\"deep\", kind='scatter')\n",
    "#plt.legend(loc='best')\n",
    "plt.title('Test Size, Attendance Rate By Camp Location')"
   ]
  },
  {
   "cell_type": "code",
   "execution_count": null,
   "metadata": {},
   "outputs": [],
   "source": [
    "checkerxx = checker.copy()"
   ]
  },
  {
   "cell_type": "code",
   "execution_count": null,
   "metadata": {
    "scrolled": true
   },
   "outputs": [],
   "source": [
    "df_encode2.drop([\n",
    "                                        'BFSI',\n",
    "                                'Broadcasting',\n",
    "                                  'Consulting',\n",
    "                                   'Education',\n",
    "                                        'Food',\n",
    "                                      'Health',\n",
    "                               'Manufacturing',\n",
    "                                      'Others',\n",
    "                                      'Retail',\n",
    "                           'Software Industry',\n",
    "                                  'Technology',\n",
    "                                     'Telecom',\n",
    "                                   'Transport'],axis=1,inplace=True)"
   ]
  },
  {
   "cell_type": "code",
   "execution_count": null,
   "metadata": {},
   "outputs": [],
   "source": [
    "checker = checker.copy()\n",
    "# checker = checker.drop(['Var4','11.0', '12.0', '13.0', '14.0','1217', '1352',\n",
    "#        '1704', '1729', '2517', '2662','7.0','4.0','6.0','3.0'],axis=1)\n",
    "checker1 = checker.copy() \n",
    "\n",
    "checker3 = checker.copy() \n",
    "checker4 = checker.copy() \n",
    "checker5 = checker.copy() \n",
    "checker7 = checker.copy()  \n",
    "checker8 = checker.copy() \n",
    "checker9 = checker.copy() \n",
    "checker10 = checker.copy() \n",
    "checker11 = checker.copy()  \n",
    "\n",
    "# checker_base = checker.copy() \n",
    "# trump= [ 'delta_first_reg',\n",
    "#        'interaction_regreister_delta', 'delta_first_start', 'delta_reg_end',\n",
    "#        'Camp_Length', 'Second', 'Third', '1036', '1216', '23384', 'B', 'C',\n",
    "#        'D', 'E', 'F', 'G', '2100', '2.0', '5.0', '8.0', '9.0', '10.0',\n",
    "#        '9999.0', '1', '2', '3', '4']\n",
    "# checker_base   = checker.drop(trump, axis=1)\n",
    "# cb1 = checker_base.copy() \n",
    "# cb2 = checker_base.copy()\n",
    "# cb3 = checker_base.copy() \n",
    "# cb4 = checker_base.copy() \n",
    "# cb5 = checker_base.copy()  \n",
    "# cb7 = checker_base.copy()  \n",
    "# cb9 = checker_base.copy()  \n",
    "# cb10 = checker_base.copy()  \n",
    "# cb11 = checker_base.copy()  \n",
    "# cb12 = checker_base.copy()  \n",
    "# cb20 = checker_base.copy()  "
   ]
  },
  {
   "cell_type": "code",
   "execution_count": null,
   "metadata": {},
   "outputs": [],
   "source": [
    "y_to_test = df_encode2.pop('y_target') "
   ]
  },
  {
   "cell_type": "code",
   "execution_count": null,
   "metadata": {},
   "outputs": [],
   "source": [
    "ynotx = y_to_test \n",
    "train_test_split(ynotx, shuffle=False) \n",
    "\n",
    "X_train,X_test,y_train,y_test = train_test_split(\n",
    "    df_encode2,ynotx,test_size = .2, random_state=101)\n",
    "\n",
    "\n",
    "from sklearn.linear_model import LogisticRegression\n",
    "w = {0:60, 1:40} \n",
    "logmodelx = LogisticRegression(penalty='l2', dual=False, tol=1e-4, C=1.0, \n",
    "        fit_intercept=True, intercept_scaling=1, class_weight=w , random_state=None, \n",
    "        solver='lbfgs', max_iter=100, multi_class='auto', verbose=0, warm_start=False, \n",
    "        n_jobs=1, l1_ratio=None ) \n",
    "logmodelx.fit(X_train, y_train)"
   ]
  },
  {
   "cell_type": "code",
   "execution_count": null,
   "metadata": {},
   "outputs": [],
   "source": [
    "pure_probx= logmodelx.predict_proba(X_test)[:,1]\n",
    "predsx = logmodelx.predict(X_test)"
   ]
  },
  {
   "cell_type": "code",
   "execution_count": null,
   "metadata": {},
   "outputs": [],
   "source": []
  },
  {
   "cell_type": "code",
   "execution_count": null,
   "metadata": {},
   "outputs": [],
   "source": [
    "print(pure_probx)"
   ]
  },
  {
   "cell_type": "code",
   "execution_count": null,
   "metadata": {},
   "outputs": [],
   "source": [
    "predsx  <= .35\n",
    "\n",
    "for name, proba in zip(predsx[1:], pure_probx):\n",
    "    print(\"{0}: {1:0.4f}\".format(name, proba))"
   ]
  },
  {
   "cell_type": "code",
   "execution_count": null,
   "metadata": {},
   "outputs": [],
   "source": [
    "print(len(predsx), len(X_train), len(X_test))\n",
    "X_train_len = len(X_train)\n",
    "X_test_len = len(X_test)\n",
    "print(X_train_len - X_test_len)"
   ]
  },
  {
   "cell_type": "code",
   "execution_count": null,
   "metadata": {},
   "outputs": [],
   "source": [
    "from sklearn.metrics import classification_report\n",
    "print(classification_report(y_test,predsx) ) "
   ]
  },
  {
   "cell_type": "code",
   "execution_count": null,
   "metadata": {},
   "outputs": [],
   "source": [
    "print(confusion_matrix(y_test,predsx)) "
   ]
  },
  {
   "cell_type": "code",
   "execution_count": null,
   "metadata": {},
   "outputs": [],
   "source": [
    "print(classification_report(y_test,predsx) ) "
   ]
  },
  {
   "cell_type": "code",
   "execution_count": null,
   "metadata": {},
   "outputs": [],
   "source": [
    "to_try = confusion_matrix(y_test,predsx)\n",
    "print(to_try) "
   ]
  },
  {
   "cell_type": "code",
   "execution_count": null,
   "metadata": {
    "scrolled": true
   },
   "outputs": [],
   "source": [
    "(.7+ .36) / (.8 * .94)"
   ]
  },
  {
   "cell_type": "code",
   "execution_count": null,
   "metadata": {},
   "outputs": [],
   "source": [
    "checker5"
   ]
  },
  {
   "cell_type": "code",
   "execution_count": null,
   "metadata": {},
   "outputs": [],
   "source": [
    "checker1.columns"
   ]
  },
  {
   "cell_type": "code",
   "execution_count": null,
   "metadata": {},
   "outputs": [],
   "source": [
    "ynot1 = checker1.pop('y_target')\n",
    " \n",
    "\n",
    "train_test_split(ynot1, shuffle=False) \n",
    "X_train,X_test,y_train,y_test = train_test_split(\n",
    "    checker1,ynot1,test_size = .2, random_state=101)"
   ]
  },
  {
   "cell_type": "code",
   "execution_count": null,
   "metadata": {},
   "outputs": [],
   "source": [
    "from sklearn.linear_model import LogisticRegression\n",
    "weights = {0:1.0, 1:10.0}\n",
    "logmodel = LogisticRegression(penalty='l2', dual=False, tol=1e-4, C=1.0, \n",
    "        fit_intercept=True, intercept_scaling=1, class_weight=weights, random_state=None, \n",
    "        solver='lbfgs', max_iter=100, multi_class='auto', verbose=0, warm_start=False, \n",
    "        n_jobs=-1, l1_ratio=None ) \n",
    "logmodel.fit(X_train, y_train)"
   ]
  },
  {
   "cell_type": "code",
   "execution_count": null,
   "metadata": {},
   "outputs": [],
   "source": [
    "pure_probaz = logmodel.predict_proba(X_test)[:,1]\n",
    "predictionsz = logmodel.predict(X_test)"
   ]
  },
  {
   "cell_type": "code",
   "execution_count": null,
   "metadata": {},
   "outputs": [],
   "source": [
    "pure_probaz  \n",
    "#predictionsz"
   ]
  },
  {
   "cell_type": "code",
   "execution_count": null,
   "metadata": {},
   "outputs": [],
   "source": [
    "roc_auc_logmodel = roc_auc_score(y_test, logmodel.fit(X_train, y_train).predict_proba(X_test)[:, -1]) \n",
    "print(roc_auc_logmodel)"
   ]
  },
  {
   "cell_type": "code",
   "execution_count": null,
   "metadata": {},
   "outputs": [],
   "source": [
    "logmodel_disp = plot_roc_curve(logmodel, X_test, y_test)\n",
    "plt.show()"
   ]
  },
  {
   "cell_type": "code",
   "execution_count": null,
   "metadata": {},
   "outputs": [],
   "source": [
    "predsz, preds2z = pure_probaz >= .35 ,pure_probaz >= .5\n",
    "from sklearn.metrics import classification_report\n",
    "print(classification_report(y_test,preds2z) ) \n",
    "# for name, coef in zip(preds2z[1:], logmodel.coef_[0]):\n",
    "#     print(\"{0}: {1:0.4f}\".format(name, coef))"
   ]
  },
  {
   "cell_type": "code",
   "execution_count": null,
   "metadata": {},
   "outputs": [],
   "source": []
  },
  {
   "cell_type": "code",
   "execution_count": null,
   "metadata": {},
   "outputs": [],
   "source": [
    "from sklearn.metrics import classification_report\n",
    "print(classification_report(y_test,preds2z) ) "
   ]
  },
  {
   "cell_type": "code",
   "execution_count": null,
   "metadata": {},
   "outputs": [],
   "source": [
    "print(classification_report(y_test,predsz) )"
   ]
  },
  {
   "cell_type": "code",
   "execution_count": null,
   "metadata": {},
   "outputs": [],
   "source": [
    "print(confusion_matrix(y_test,preds2z))  "
   ]
  },
  {
   "cell_type": "code",
   "execution_count": null,
   "metadata": {},
   "outputs": [],
   "source": [
    "print(confusion_matrix(y_test,predsz)) "
   ]
  },
  {
   "cell_type": "code",
   "execution_count": null,
   "metadata": {},
   "outputs": [],
   "source": [
    "from sklearn.inspection import partial_dependence\n",
    "from sklearn.inspection import plot_partial_dependence\n"
   ]
  },
  {
   "cell_type": "code",
   "execution_count": null,
   "metadata": {},
   "outputs": [],
   "source": [
    "features = ['Var1'] \n",
    "'''#, \n",
    ", 'delta_first_reg',\n",
    "       'interaction_regreister_delta', 'delta_first_start', 'delta_reg_end',\n",
    "       'Camp_Length', 'Second', 'Third', '1036', '1216', '1217', '1352',\n",
    "       '1704', '1729', '2517', '2662', '23384', 'B', 'C', 'D', 'E', 'F', 'G',\n",
    "       '2100', '2.0', '3.0', '4.0', '5.0', '6.0', '7.0', '8.0', '9.0', '10.0',\n",
    "       '11.0', '12.0', '13.0', '14.0', '9999.0', '1', '2', '3', '4'\n",
    "'''\n",
    "\n",
    "display = plot_partial_dependence(logmodel, X_train, features)\n",
    "\n",
    "display.figure_.suptitle( 'Partial dependence ' )\n",
    "display.figure_.subplots_adjust(hspace=0.3)"
   ]
  },
  {
   "cell_type": "code",
   "execution_count": null,
   "metadata": {},
   "outputs": [],
   "source": [
    "features = ['Camp_Length' ] \n",
    "'''#, \n",
    ", 'delta_first_reg',\n",
    "       'interaction_regreister_delta', 'delta_first_start', 'delta_reg_end',\n",
    "       'Camp_Length', 'Second', 'Third', '1036', '1216', '1217', '1352',\n",
    "       '1704', '1729', '2517', '2662', '23384', 'B', 'C', 'D', 'E', 'F', 'G',\n",
    "       '2100', '2.0', '3.0', '4.0', '5.0', '6.0', '7.0', '8.0', '9.0', '10.0',\n",
    "       '11.0', '12.0', '13.0', '14.0', '9999.0', '1', '2', '3', '4'\n",
    "'''\n",
    "\n",
    "display = plot_partial_dependence(logmodel, X_train, features)\n",
    "\n",
    "display.figure_.suptitle( 'Partial dependence ' )\n",
    "display.figure_.subplots_adjust(hspace=0.4)"
   ]
  },
  {
   "cell_type": "code",
   "execution_count": null,
   "metadata": {},
   "outputs": [],
   "source": [
    "this will break "
   ]
  },
  {
   "cell_type": "code",
   "execution_count": null,
   "metadata": {},
   "outputs": [],
   "source": [
    "features = ['Camp Start Date - Registration Date'] \n",
    "\n",
    "'''#, 'Var3', 'Var4', 'Var5'\n",
    ", , 'delta_first_start', 'delta_reg_end',\n",
    "       'Camp_Length', 'Second', 'Third', '1036', '1216', '1217', '1352',\n",
    "       '1704', '1729', '2517', '2662', '23384', 'B', 'C', 'D', 'E', 'F', 'G',\n",
    "       '2100', '2.0', '3.0', '4.0', '5.0', '6.0', '7.0', '8.0', '9.0', '10.0',\n",
    "       '11.0', '12.0', '13.0', '14.0', '9999.0', '1', '2', '3', '4'\n",
    "'''\n",
    "\n",
    "display = plot_partial_dependence(logmodel, X_test, features)\n",
    "\n",
    "display.figure_.suptitle( 'Partial dependence ' )\n",
    "display.figure_.subplots_adjust(hspace=0.3)"
   ]
  },
  {
   "cell_type": "code",
   "execution_count": null,
   "metadata": {},
   "outputs": [],
   "source": [
    "features = [\n",
    "       'Registration Date - First Interaction',\n",
    "     ] \n",
    "display = plot_partial_dependence(logmodel, X_test, features)\n",
    "\n",
    "display.figure_.suptitle( 'Partial dependence ' )\n",
    "display.figure_.subplots_adjust(hspace=0.3)\n"
   ]
  },
  {
   "cell_type": "code",
   "execution_count": null,
   "metadata": {},
   "outputs": [],
   "source": [
    "features = [\n",
    "        'Camp Start Date - First Interaction',\n",
    "     ] \n",
    "display = plot_partial_dependence(logmodel, X_test, features)\n",
    "\n",
    "display.figure_.suptitle( 'Partial dependence ' )\n",
    "display.figure_.subplots_adjust(hspace=0.3)"
   ]
  },
  {
   "cell_type": "code",
   "execution_count": null,
   "metadata": {},
   "outputs": [],
   "source": [
    "features = [\n",
    "        'Camp End Date - Registration Date',\n",
    "     ] \n",
    "display = plot_partial_dependence(logmodel, X_test, features)\n",
    "\n",
    "display.figure_.suptitle( 'Partial dependence ' )\n",
    "display.figure_.subplots_adjust(hspace=0.3)"
   ]
  },
  {
   "cell_type": "code",
   "execution_count": null,
   "metadata": {},
   "outputs": [],
   "source": [
    "features = [\n",
    "       'Camp Length',\n",
    "     ] \n",
    "display = plot_partial_dependence(logmodel, X_test, features)\n",
    "\n",
    "display.figure_.suptitle( 'Partial dependence ' )\n",
    "display.figure_.subplots_adjust(hspace=0.3)"
   ]
  },
  {
   "cell_type": "code",
   "execution_count": null,
   "metadata": {},
   "outputs": [],
   "source": []
  },
  {
   "cell_type": "code",
   "execution_count": null,
   "metadata": {},
   "outputs": [],
   "source": [
    "y1 = checker10.pop('y_target') "
   ]
  },
  {
   "cell_type": "code",
   "execution_count": null,
   "metadata": {},
   "outputs": [],
   "source": [
    "kfold = KFold(n_splits=5)\n",
    "\n",
    "accuracies = []\n",
    "precisions = []\n",
    "recalls = []\n",
    "\n",
    "X_train, X_test, y_train, y_test = train_test_split(checker10, y1)\n",
    "\n",
    "for train_index, test_index in kfold.split(X_train):\n",
    "    model = LogisticRegression(solver=\"lbfgs\")\n",
    "    model.fit(X_train.iloc[train_index], y1.iloc[train_index])\n",
    "    y_predict = model.predict(X_train.iloc[test_index])\n",
    "    y_true = y1.iloc[test_index]\n",
    "    accuracies.append(accuracy_score(y_true, y_predict))\n",
    "    precisions.append(precision_score(y_true, y_predict))\n",
    "    recalls.append(recall_score(y_true, y_predict))\n",
    "\n",
    "print(\"Accuracy:\", np.average(accuracies))\n",
    "print(\"Precision:\", np.average(precisions))\n",
    "print(\"Recall:\", np.average(recalls))"
   ]
  },
  {
   "cell_type": "code",
   "execution_count": null,
   "metadata": {},
   "outputs": [],
   "source": [
    "\n",
    "#ynot1 = cb12.pop('y_target')"
   ]
  },
  {
   "cell_type": "code",
   "execution_count": null,
   "metadata": {},
   "outputs": [],
   "source": [
    "from sklearn.ensemble import RandomForestClassifier\n",
    "\n",
    "y = df_encode1.pop('y_target')\n",
    "X = df_encode1 \n",
    "\n",
    "# y = cb7.pop('y_target')\n",
    "# X = cb7\n",
    "\n",
    "X_train7, X_test7, y_train7, y_test7 = train_test_split(X, y, random_state=42)\n",
    "\n",
    "rfc = RandomForestClassifier(n_estimators = 200, max_depth = 10)\n",
    "rfc.fit(X_train7,y_train7)\n",
    "rfc_preds = rfc.predict(X_test7)\n",
    "roc_auc=roc_auc_score(y_test7, rfc.predict_proba(X_test7)[:, -1])\n",
    "logmodel_disp = plot_roc_curve(rfc, X_test7, y_test7)\n",
    "plt.show()\n"
   ]
  },
  {
   "cell_type": "code",
   "execution_count": null,
   "metadata": {},
   "outputs": [],
   "source": [
    "from sklearn.ensemble import RandomForestClassifier\n",
    "\n",
    "y = df_encode1.pop('y_target')\n",
    "X = df_encode1 \n",
    "\n",
    "# y = cb7.pop('y_target')\n",
    "# X = cb7\n",
    "\n",
    "X_train7, X_test7, y_train7, y_test7 = train_test_split(X, y, random_state=42)\n",
    "\n",
    "rfc = RandomForestClassifier(n_estimators = 200, max_depth = 10)\n",
    "rfc.fit(X_train7,y_train7)\n",
    "rfc_preds = rfc.predict(X_test7)\n",
    "roc_auc=roc_auc_score(y_test7, rfc.predict_proba(X_test7)[:, -1])\n",
    "logmodel_disp = plot_roc_curve(rfc, X_test7, y_test7)\n",
    "plt.show()\n",
    "print(confusion_matrix(y_test7,rfc_preds)) "
   ]
  },
  {
   "cell_type": "code",
   "execution_count": null,
   "metadata": {},
   "outputs": [],
   "source": [
    "print(roc_auc)"
   ]
  },
  {
   "cell_type": "code",
   "execution_count": null,
   "metadata": {},
   "outputs": [],
   "source": [
    "#plot_partial_dependence(rfc, features=[5, 6, 7,8], feature_names=X_test7.columns, X=X_test7, grid_resolution=10)"
   ]
  },
  {
   "cell_type": "code",
   "execution_count": null,
   "metadata": {},
   "outputs": [],
   "source": [
    "#plot_partial_dependence(rfc, features=[5, 6,  ], feature_names=X_test7.columns, X=X_test7, grid_resolution=10)"
   ]
  },
  {
   "cell_type": "code",
   "execution_count": null,
   "metadata": {},
   "outputs": [],
   "source": [
    "#plot_partial_dependence(rfc, features=[ 7,8], feature_names=X_test7.columns, X=X_test7, grid_resolution=10)"
   ]
  },
  {
   "cell_type": "code",
   "execution_count": null,
   "metadata": {},
   "outputs": [],
   "source": [
    "#plot_partial_dependence(rfc, features=[9,10], feature_names=X_test7.columns, X=X_test7, grid_resolution=10)"
   ]
  },
  {
   "cell_type": "code",
   "execution_count": null,
   "metadata": {},
   "outputs": [],
   "source": [
    "16 print "
   ]
  },
  {
   "cell_type": "code",
   "execution_count": null,
   "metadata": {},
   "outputs": [],
   "source": [
    "from sklearn.svm import SVC\n",
    "from sklearn.metrics import plot_roc_curve\n",
    "\n",
    "# y = checker4.pop('y_target')\n",
    "# X = checker4\n",
    "\n",
    "# y = cb4.pop('y_target')\n",
    "# X = cb4\n",
    "\n",
    "X_train, X_test, y_train, y_test = train_test_split(X, y, random_state=42)\n",
    "\n",
    "svc = SVC(random_state=42, probability = True)\n",
    "svc.fit(X_test, y_test)\n",
    "\n",
    "rfc = RandomForestClassifier(n_estimators = 200, max_depth = 10)\n",
    "rfc.fit(X_train,y_train)\n",
    "rfc_preds = rfc.predict(X_test)\n",
    "\n",
    "\n",
    "print(classification_report(y_test,rfc_preds) ) \n",
    "print(confusion_matrix(y_test,rfc_preds)) \n",
    "\n",
    "svc_disp = plot_roc_curve(svc, X_test, y_test)\n",
    "plt.show()\n",
    "svc_preds = svc.predict(X_test)\n",
    "svc_proba = svc.predict_proba(X_test)[:,1]\n",
    "\n",
    "predsx , preds2x = svc_proba  >= .5 , svc_proba  >= .4\n",
    "\n",
    "print(classification_report(y_test,svc_preds) )\n",
    "print(confusion_matrix(y_test,svc_preds)) \n",
    "svc_disp = plot_roc_curve(svc, X_test, y_test)\n",
    "plt.show()"
   ]
  },
  {
   "cell_type": "code",
   "execution_count": null,
   "metadata": {},
   "outputs": [],
   "source": [
    "rfc.fit(X_train, y_train)\n",
    "ax = plt.gca()\n",
    "ax.set_title('ROC Curve')\n",
    "rfc_disp = plot_roc_curve(rfc, X_test, y_test, ax=ax, alpha=0.8)\n",
    "svc_disp.plot(ax=ax, alpha=0.8)\n",
    "logmodel_disp.plot(ax=ax, alpha=0.8)\n",
    "plt.show()"
   ]
  },
  {
   "cell_type": "code",
   "execution_count": null,
   "metadata": {},
   "outputs": [],
   "source": [
    "y_trained_sum_of1 = [1 for x in y_train.values if x==1]\n",
    "print(sum(y_trained_sum_of1), len(y_train.values))\n",
    "y_test_sum_of1 = [1 for x in y_test.values if x==1]\n",
    "print(sum(y_test_sum_of1),'y_test', len(y_test.values))"
   ]
  },
  {
   "cell_type": "code",
   "execution_count": null,
   "metadata": {},
   "outputs": [],
   "source": [
    "# try and recombine data frame to examine outputs. "
   ]
  },
  {
   "cell_type": "code",
   "execution_count": null,
   "metadata": {},
   "outputs": [],
   "source": [
    "checker8.columns"
   ]
  },
  {
   "cell_type": "code",
   "execution_count": null,
   "metadata": {},
   "outputs": [],
   "source": [
    "188543.2 - 117688\n"
   ]
  },
  {
   "cell_type": "code",
   "execution_count": null,
   "metadata": {},
   "outputs": [],
   "source": [
    "checker7.info()"
   ]
  },
  {
   "cell_type": "code",
   "execution_count": null,
   "metadata": {},
   "outputs": [],
   "source": [
    "20552/102000"
   ]
  },
  {
   "cell_type": "code",
   "execution_count": null,
   "metadata": {},
   "outputs": [],
   "source": [
    "14711*20  * .2"
   ]
  },
  {
   "cell_type": "code",
   "execution_count": null,
   "metadata": {},
   "outputs": [],
   "source": [
    "def cm_to_inch(value):\n",
    "    return value/2.54"
   ]
  },
  {
   "cell_type": "code",
   "execution_count": null,
   "metadata": {},
   "outputs": [],
   "source": [
    "importances = rfc.feature_importances_ [:5]\n",
    "indices = np.argsort(importances)[::-1]\n",
    "print(len(importances),len(indices))\n",
    "print(importances,indices)"
   ]
  },
  {
   "cell_type": "code",
   "execution_count": null,
   "metadata": {},
   "outputs": [],
   "source": [
    "col_names = X_test.columns \n",
    "importances = rfc.feature_importances_  \n",
    "indices = np.argsort(importances)[::-1]\n",
    "Random_Forest = 'Random Forest'\n",
    "plt.bar(range(X_test.shape[1]), importances[indices], color=\"b\")\n",
    "plt.title(\"{} Feature Importances\".format(Random_Forest))\n",
    "plt.xlabel(\"Feature\")\n",
    "plt.ylabel(\"Feature importance\")\n",
    "plt.xticks(range(X_test.shape[1]), col_names[indices], rotation=45, fontsize=12, ha='right')\n",
    "plt.xlim([-1, X_test.shape[1]])\n",
    "plt.figure(figsize=(cm_to_inch(15),cm_to_inch(10)))"
   ]
  },
  {
   "cell_type": "code",
   "execution_count": null,
   "metadata": {},
   "outputs": [],
   "source": [
    "print(sum(importances))"
   ]
  },
  {
   "cell_type": "code",
   "execution_count": null,
   "metadata": {},
   "outputs": [],
   "source": []
  },
  {
   "cell_type": "code",
   "execution_count": null,
   "metadata": {},
   "outputs": [],
   "source": []
  },
  {
   "cell_type": "code",
   "execution_count": null,
   "metadata": {},
   "outputs": [],
   "source": []
  },
  {
   "cell_type": "code",
   "execution_count": null,
   "metadata": {},
   "outputs": [],
   "source": []
  },
  {
   "cell_type": "code",
   "execution_count": null,
   "metadata": {},
   "outputs": [],
   "source": []
  },
  {
   "cell_type": "code",
   "execution_count": null,
   "metadata": {},
   "outputs": [],
   "source": []
  },
  {
   "cell_type": "code",
   "execution_count": null,
   "metadata": {},
   "outputs": [],
   "source": []
  },
  {
   "cell_type": "code",
   "execution_count": null,
   "metadata": {},
   "outputs": [],
   "source": []
  },
  {
   "cell_type": "code",
   "execution_count": null,
   "metadata": {},
   "outputs": [],
   "source": []
  },
  {
   "cell_type": "code",
   "execution_count": null,
   "metadata": {},
   "outputs": [],
   "source": []
  },
  {
   "cell_type": "code",
   "execution_count": null,
   "metadata": {},
   "outputs": [],
   "source": []
  },
  {
   "cell_type": "code",
   "execution_count": null,
   "metadata": {},
   "outputs": [],
   "source": []
  },
  {
   "cell_type": "code",
   "execution_count": null,
   "metadata": {},
   "outputs": [],
   "source": []
  },
  {
   "cell_type": "code",
   "execution_count": null,
   "metadata": {},
   "outputs": [],
   "source": []
  },
  {
   "cell_type": "code",
   "execution_count": null,
   "metadata": {},
   "outputs": [],
   "source": []
  },
  {
   "cell_type": "code",
   "execution_count": null,
   "metadata": {},
   "outputs": [],
   "source": []
  },
  {
   "cell_type": "code",
   "execution_count": null,
   "metadata": {},
   "outputs": [],
   "source": []
  },
  {
   "cell_type": "code",
   "execution_count": null,
   "metadata": {},
   "outputs": [],
   "source": [
    "import xgboost as xgb\n",
    "from xgboost import XGBClassifier\n",
    "from sklearn.metrics import mean_squared_error"
   ]
  },
  {
   "cell_type": "code",
   "execution_count": null,
   "metadata": {},
   "outputs": [],
   "source": [
    "y9 = df_encode2.pop('y_target')\n",
    "x9 = df_encode2"
   ]
  },
  {
   "cell_type": "code",
   "execution_count": null,
   "metadata": {},
   "outputs": [],
   "source": [
    "X_train9, X_test9, y_train9, y_test9 = train_test_split(x9, y9, test_size=0.2, random_state=101) "
   ]
  },
  {
   "cell_type": "code",
   "execution_count": null,
   "metadata": {},
   "outputs": [],
   "source": [
    "train_dmatrix = xgb.DMatrix(data=X_train9,label=y_train9) \n",
    "test_dmatrix = xgb.DMatrix(data=X_test9,label=y_test9)"
   ]
  },
  {
   "cell_type": "code",
   "execution_count": null,
   "metadata": {},
   "outputs": [],
   "source": [
    "params = {\"objective\":'binary:logistic','colsample_bytree': 0.6,'learning_rate': 0.1,\n",
    "       \"min_child_weight\": 5 ,'max_depth': 6, 'alpha': 10, 'eval_metric':'auc', 'subsample':0.8} \n",
    "\n",
    "cv_results = xgb.cv(dtrain=train_dmatrix, params=params, nfold=5,\n",
    "                    num_boost_round=50,early_stopping_rounds=100, metrics='auc', as_pandas=True, seed=123)\n"
   ]
  },
  {
   "cell_type": "code",
   "execution_count": null,
   "metadata": {},
   "outputs": [],
   "source": [
    "#evallist = [(test_dmatrix, 'eval'), (train_dmatrix, 'train')] ,evallist,early_stopping_rounds=50\n",
    "xgb_one = xgb.train(params,train_dmatrix )\n",
    "# AssertionError: Must have at least 1 validation dataset for early stopping. "
   ]
  },
  {
   "cell_type": "code",
   "execution_count": null,
   "metadata": {},
   "outputs": [],
   "source": [
    "ypred = xgb_one.predict(test_dmatrix, ntree_limit =xgb_one.best_ntree_limit )"
   ]
  },
  {
   "cell_type": "code",
   "execution_count": null,
   "metadata": {},
   "outputs": [],
   "source": []
  },
  {
   "cell_type": "code",
   "execution_count": null,
   "metadata": {},
   "outputs": [],
   "source": [
    "col_names = X_test9.columns \n",
    "importances = xgb_one.feature_importances_  \n",
    "indices = np.argsort(importances)[::-1]\n",
    "Random_Forest = 'XGBClassifier'\n",
    "plt.bar(range(X_test9.shape[1]), importances[indices], color=\"b\")\n",
    "plt.title(\"{} Feature Importances\".format(Random_Forest))\n",
    "plt.xlabel(\"Feature\")\n",
    "plt.ylabel(\"Feature importance\")\n",
    "plt.xticks(range(X_test.shape[1]), col_names[indices], rotation=45, fontsize=12, ha='right')\n",
    "plt.xlim([-1, X_test.shape[1]])\n",
    "plt.figure(figsize=(cm_to_inch(15),cm_to_inch(10)))"
   ]
  },
  {
   "cell_type": "code",
   "execution_count": null,
   "metadata": {},
   "outputs": [],
   "source": [
    "from xgboost import XGBRegressor\n",
    "from pdpbox import pdp\n",
    " #,'interaction_regreister_delta', \n",
    "#            'delta_first_start', 'delta_reg_end',\n",
    "#            'Camp_Length', \n",
    "# my_model = XGBRegressor()\n",
    "# my_model.fit(X_train9, y_train9)\n",
    "# feature = ['Second', 'Third']\n",
    "# p = pdp.pdp_isolate(my_model, X_train9, X_train9.columns, feature)\n",
    "# pdp.pdp_plot(p, feature)"
   ]
  },
  {
   "cell_type": "code",
   "execution_count": null,
   "metadata": {},
   "outputs": [],
   "source": []
  },
  {
   "cell_type": "code",
   "execution_count": null,
   "metadata": {},
   "outputs": [],
   "source": []
  },
  {
   "cell_type": "code",
   "execution_count": null,
   "metadata": {},
   "outputs": [],
   "source": []
  },
  {
   "cell_type": "code",
   "execution_count": null,
   "metadata": {},
   "outputs": [],
   "source": []
  },
  {
   "cell_type": "code",
   "execution_count": null,
   "metadata": {},
   "outputs": [],
   "source": []
  },
  {
   "cell_type": "code",
   "execution_count": null,
   "metadata": {},
   "outputs": [],
   "source": []
  },
  {
   "cell_type": "code",
   "execution_count": null,
   "metadata": {},
   "outputs": [],
   "source": [
    "print(ypred)\n",
    "#print(confusion_matrix(y_test9,ypred  ))  "
   ]
  },
  {
   "cell_type": "code",
   "execution_count": null,
   "metadata": {},
   "outputs": [],
   "source": [
    "xg_reg1 = XGBClassifier(objective ='binary:logistic', colsample_bytree = 0.3, learning_rate = 0.1,\n",
    "                max_depth = 6, alpha = 8, n_estimators = 12, eval_metric = 'auc', label_encoder=False)\n",
    "xg_reg1.fit(X_train9,y_train9) "
   ]
  },
  {
   "cell_type": "code",
   "execution_count": null,
   "metadata": {},
   "outputs": [],
   "source": [
    "xg_reg1_predict = xg_reg1.predict(X_test9) \n",
    "xg_reg1_proba = xg_reg1.predict_proba(X_test9)[:,1]\n",
    "\n",
    "preds_xg1_thresh1, preds2_xg1_thresh2 = xg_reg1_proba >=0.65 , xg_reg1_proba >=0.4\n",
    "\n",
    "xg_reg1_disp = plot_roc_curve(xg_reg1 , X_test9, y_test9)\n",
    "plt.show()\n",
    "\n",
    "\n"
   ]
  },
  {
   "cell_type": "code",
   "execution_count": null,
   "metadata": {},
   "outputs": [],
   "source": [
    "rfc = RandomForestClassifier(n_estimators=10, random_state=42)\n",
    "rfc.fit(X_train, y_train)\n",
    "ax = plt.gca()\n",
    "ax.set_title('ROC Curve')\n",
    "rfc_disp = plot_roc_curve(rfc, X_test, y_test, ax=ax, alpha=0.8)\n",
    "xg_reg1_disp2 = plot_roc_curve(xg_reg1, X_test9, y_test9, ax=ax, alpha=0.8) \n",
    "svc_disp.plot(ax=ax, alpha=0.8)\n",
    "logmodel_disp.plot(ax=ax, alpha=0.8)\n",
    "\n",
    " \n",
    "plt.show()"
   ]
  },
  {
   "cell_type": "code",
   "execution_count": null,
   "metadata": {},
   "outputs": [],
   "source": [
    "print(classification_report(y_test9,preds_xg1_thresh1 ) )\n",
    "print(classification_report(y_test9,preds2_xg1_thresh2 ) )"
   ]
  },
  {
   "cell_type": "code",
   "execution_count": null,
   "metadata": {},
   "outputs": [],
   "source": [
    "print(confusion_matrix(y_test9,preds_xg1_thresh1))  \n",
    "print(confusion_matrix(y_test9,preds2_xg1_thresh2))  "
   ]
  },
  {
   "cell_type": "code",
   "execution_count": null,
   "metadata": {},
   "outputs": [],
   "source": [
    "[[6166 1409]\n",
    " [ 872 2092]]\n",
    "\n",
    "[[6956  619]\n",
    " [1372 1592]]\n"
   ]
  },
  {
   "cell_type": "code",
   "execution_count": null,
   "metadata": {},
   "outputs": [],
   "source": [
    "pint45 = 1409+2092\n",
    "pint35 = 619+1592 \n",
    "print(pint45,pint35)"
   ]
  },
  {
   "cell_type": "code",
   "execution_count": null,
   "metadata": {},
   "outputs": [],
   "source": [
    "\n",
    "for i in ok:\n",
    "    for ii in i :\n",
    "        print(f'this is a thing from i -> {ii} being printed')\n",
    "        \n",
    "        "
   ]
  },
  {
   "cell_type": "code",
   "execution_count": null,
   "metadata": {},
   "outputs": [],
   "source": [
    "ok=[[6633,  942],\n",
    " [1326, 1638]]\n",
    "\n",
    "labels = ['Did Attend', 'Did NOT Attend'] # model Names\n",
    "bottoms = [942,1326] # bottom part of column\n",
    "tops = [ 1638 ,6633 ] # Top part of column\n",
    "\n",
    "# men_std = [2, 3, 4, 1, 2] # currently not plotting std\n",
    "# women_std = [3, 5, 2, 3, 3] # currently no plotting std\n",
    "\n",
    "width = 0.35       # the width of the bars: can also be len(x) sequence\n",
    "\n",
    "fig, ax = plt.subplots()\n",
    "\n",
    "ax.barh(labels,bottoms, width, label='Incorrectly predicted')\n",
    "ax.barh(labels, tops, width, bottom=bottoms,\n",
    "       label='Correctly predicted')\n",
    "\n",
    "ax.set_ylabel('Counts')\n",
    "ax.set_title('Analysis of Model Test Results ')\n",
    "ax.legend()\n",
    "\n",
    "plt.show()\n"
   ]
  },
  {
   "cell_type": "code",
   "execution_count": null,
   "metadata": {},
   "outputs": [],
   "source": [
    "# thought for above - should I plot 4 columns - one for each model -  showing the FP and FN split ? "
   ]
  },
  {
   "cell_type": "code",
   "execution_count": null,
   "metadata": {},
   "outputs": [],
   "source": [
    "ok=[[6633,  942],\n",
    " [1326, 1638]]\n",
    "\n",
    "labels = ['Did Attend', 'Did NOT Attend'] # model Names\n",
    "bottoms = [1326,942] # bottom part of column\n",
    "tops = [ 6633,1638 ] # Top part of column\n",
    "\n",
    "width = 0.15       # the width of the bars: can also be len(x) sequence\n",
    "\n",
    "fig, ax = plt.subplots()\n",
    "\n",
    "\n",
    "ax.bar(labels, bottoms,width,label='Incorrectly predicted')\n",
    "ax.bar(labels, tops, width, label='Correctly predicted',bottom=tops,)\n",
    "\n",
    "ax.set_ylabel('Counts')\n",
    "ax.set_title('Analysis of Model Test Results ')\n",
    "ax.legend()\n",
    "\n",
    "plt.show()"
   ]
  },
  {
   "cell_type": "code",
   "execution_count": null,
   "metadata": {},
   "outputs": [],
   "source": []
  },
  {
   "cell_type": "code",
   "execution_count": null,
   "metadata": {},
   "outputs": [],
   "source": []
  },
  {
   "cell_type": "code",
   "execution_count": null,
   "metadata": {},
   "outputs": [],
   "source": [
    "from sklearn.model_selection import train_test_split\n"
   ]
  },
  {
   "cell_type": "code",
   "execution_count": null,
   "metadata": {},
   "outputs": [],
   "source": [
    "xg_reg1 = XGBClassifier(objective ='binary:logistic', colsample_bytree = 0.3, learning_rate = 0.1,\n",
    "                max_depth = 6, alpha = 8, n_estimators = 12, eval_metric = 'auc')"
   ]
  },
  {
   "cell_type": "code",
   "execution_count": null,
   "metadata": {},
   "outputs": [],
   "source": []
  },
  {
   "cell_type": "code",
   "execution_count": null,
   "metadata": {},
   "outputs": [],
   "source": [
    "xg_reg1.fit(X_train,y_train)"
   ]
  },
  {
   "cell_type": "code",
   "execution_count": null,
   "metadata": {},
   "outputs": [],
   "source": [
    "tree1_predict = xg_reg1.predict(X_test) \n",
    "tree1_proba = xg_reg1.predict_proba(X_test)"
   ]
  },
  {
   "cell_type": "code",
   "execution_count": null,
   "metadata": {},
   "outputs": [],
   "source": [
    "\n",
    "col_names = X_test.columns \n",
    "importances = xg_reg1.feature_importances_\n",
    "indices = np.argsort(importances)[::-1]\n",
    "title = 'XG Boost Classifier'\n",
    "plt.bar(range(X_test.shape[1]), importances[indices], color=\"b\")\n",
    "plt.title(\"{} Feature Importances\".format(title))\n",
    "plt.xlabel(\"Feature\")\n",
    "plt.ylabel(\"Feature importance\")\n",
    "plt.xticks(range(X_test.shape[1]), col_names[indices], rotation=45, fontsize=12, ha='right')\n",
    "plt.xlim([-1, X_test.shape[1]])\n",
    "plt.figure(figsize=(cm_to_inch(15),cm_to_inch(10)))\n"
   ]
  },
  {
   "cell_type": "code",
   "execution_count": null,
   "metadata": {},
   "outputs": [],
   "source": [
    "xg_reg1_disp = plot_roc_curve(xg_reg1, X_test, y_test)\n",
    "rfc = RandomForestClassifier(n_estimators=10, random_state=42)\n",
    "rfc.fit(X_train, y_train)\n",
    "ax = plt.gca()\n",
    "rfc_disp = plot_roc_curve(rfc, X_test, y_test, ax=ax, alpha=0.8)\n",
    "svc_disp.plot(ax=ax, alpha=0.8)\n",
    "logmodel_disp.plot(ax=ax, alpha=0.8)\n",
    "plt.show()"
   ]
  },
  {
   "cell_type": "code",
   "execution_count": null,
   "metadata": {},
   "outputs": [],
   "source": [
    " \n",
    "    \n",
    "    "
   ]
  },
  {
   "cell_type": "code",
   "execution_count": null,
   "metadata": {},
   "outputs": [],
   "source": []
  },
  {
   "cell_type": "code",
   "execution_count": null,
   "metadata": {},
   "outputs": [],
   "source": []
  },
  {
   "cell_type": "code",
   "execution_count": null,
   "metadata": {},
   "outputs": [],
   "source": [
    "params = {\"objective\":'binary:logistic','colsample_bytree': 0.6,'learning_rate': 0.1,\n",
    "       \"min_child_weight\": 5 ,'max_depth': 6, 'alpha': 10, 'eval_metric':'auc', 'subsample':0.8} \n",
    "\n",
    "cv_results = xgb.cv(dtrain=data_dmatrix, params=params, nfold=5,\n",
    "                    num_boost_round=50,early_stopping_rounds=100, metrics='auc', as_pandas=True, seed=123)"
   ]
  },
  {
   "cell_type": "code",
   "execution_count": null,
   "metadata": {},
   "outputs": [],
   "source": []
  },
  {
   "cell_type": "code",
   "execution_count": null,
   "metadata": {},
   "outputs": [],
   "source": []
  },
  {
   "cell_type": "code",
   "execution_count": null,
   "metadata": {},
   "outputs": [],
   "source": []
  },
  {
   "cell_type": "code",
   "execution_count": null,
   "metadata": {},
   "outputs": [],
   "source": [
    "xgb_clf = xgb.XGBClassifier()\n",
    "xgb_clf = xgb_clf.fit(X_train, y_train)"
   ]
  },
  {
   "cell_type": "code",
   "execution_count": null,
   "metadata": {},
   "outputs": [],
   "source": [
    "uh = xgb_clf.predict(X_test) \n",
    "pred_proba = xgb_clf.predict_proba(X_test)"
   ]
  },
  {
   "cell_type": "code",
   "execution_count": null,
   "metadata": {},
   "outputs": [],
   "source": [
    "probs = pred_proba[:,1] "
   ]
  },
  {
   "cell_type": "code",
   "execution_count": null,
   "metadata": {},
   "outputs": [],
   "source": [
    "col_names = X_test.columns \n",
    "importances = xgb_clf.feature_importances_\n",
    "indices = np.argsort(importances)[::-1]\n",
    "Random_Forest = 'XG Boost Classifier for xgb_clf'\n",
    "plt.bar(range(X_test.shape[1]), importances[indices], color=\"b\")\n",
    "plt.title(\"{} Feature Importances\".format(Random_Forest))\n",
    "plt.xlabel(\"Feature\")\n",
    "plt.ylabel(\"Feature importance\")\n",
    "plt.xticks(range(X_test.shape[1]), col_names[indices], rotation=45, fontsize=12, ha='right')\n",
    "plt.xlim([-1, X_test.shape[1]])\n",
    "plt.figure(figsize=(cm_to_inch(25),cm_to_inch(20)))"
   ]
  },
  {
   "cell_type": "code",
   "execution_count": null,
   "metadata": {},
   "outputs": [],
   "source": [
    "# plotdf = pd.DataFrame({\"P1\":uh ,\"P2\":probs})\n",
    "# # ax = plotdf.plot.bar(color=[\"SkyBlue\", \"IndianRed\"], rot=0, title= \"COmpare Results\")\n",
    "# # plt.show()\n",
    "\n",
    "# df = plotdf.copy()\n",
    "# df.info()"
   ]
  },
  {
   "cell_type": "code",
   "execution_count": null,
   "metadata": {},
   "outputs": [],
   "source": [
    "df1=df.copy()\n",
    "for i in to_transfer:\n",
    "    df1[i] = X_test[i]\n",
    "print(df1.info())"
   ]
  },
  {
   "cell_type": "code",
   "execution_count": null,
   "metadata": {},
   "outputs": [],
   "source": [
    " # https://stackoverflow.com/questions/57730192/how-to-save-gridsearchcv-xgboost-model"
   ]
  },
  {
   "cell_type": "code",
   "execution_count": null,
   "metadata": {},
   "outputs": [],
   "source": [
    "y5 =checker5.pop('y_target')\n",
    "X5= checker5"
   ]
  },
  {
   "cell_type": "code",
   "execution_count": null,
   "metadata": {},
   "outputs": [],
   "source": []
  },
  {
   "cell_type": "code",
   "execution_count": null,
   "metadata": {},
   "outputs": [],
   "source": [
    "xg_reg = XGBClassifier(objective ='binary:logistic', colsample_bytree = 0.3, learning_rate = 0.1,\n",
    "                max_depth = 5, alpha = 8, n_estimators = 10, eval_metric = 'auc')"
   ]
  },
  {
   "cell_type": "code",
   "execution_count": null,
   "metadata": {},
   "outputs": [],
   "source": [
    "xg_reg.fit(X_train,y_train)\n",
    "preds = xg_reg.predict(X_test)"
   ]
  },
  {
   "cell_type": "code",
   "execution_count": null,
   "metadata": {},
   "outputs": [],
   "source": [
    "print(xg_reg.predict_proba(X_test)) "
   ]
  },
  {
   "cell_type": "code",
   "execution_count": null,
   "metadata": {},
   "outputs": [],
   "source": [
    "preds"
   ]
  },
  {
   "cell_type": "code",
   "execution_count": null,
   "metadata": {},
   "outputs": [],
   "source": [
    "params = {\"objective\":'binary:logistic','colsample_bytree': 0.6,'learning_rate': 0.1,\n",
    "       \"min_child_weight\": 5 ,'max_depth': 6, 'alpha': 10, 'eval_metric':'auc', 'subsample':0.8} \n",
    "\n",
    "cv_results = xgb.cv(dtrain=data_dmatrix, params=params, nfold=3,\n",
    "                    num_boost_round=50,early_stopping_rounds=100, metrics='auc', as_pandas=True, seed=123)\n"
   ]
  },
  {
   "cell_type": "code",
   "execution_count": null,
   "metadata": {},
   "outputs": [],
   "source": [
    "cv_results[45:]"
   ]
  },
  {
   "cell_type": "code",
   "execution_count": null,
   "metadata": {},
   "outputs": [],
   "source": [
    "xg_reg = xgb.train(params=params, dtrain=data_dmatrix, num_boost_round=10)"
   ]
  },
  {
   "cell_type": "code",
   "execution_count": null,
   "metadata": {},
   "outputs": [],
   "source": [
    "import matplotlib.pyplot as plt\n",
    "plt.rcParams['figure.dpi'] = 200 \n",
    "# xgb.plot_tree(xg_reg,num_trees=0) # plt.rcParams['figure.figsize'] = [50, 10] # plt.show()"
   ]
  },
  {
   "cell_type": "code",
   "execution_count": null,
   "metadata": {
    "scrolled": true
   },
   "outputs": [],
   "source": [
    "xgb.plot_importance(xg_reg )\n",
    "plt.rcParams['figure.figsize'] = [10, 10]\n",
    "plt.show()"
   ]
  },
  {
   "cell_type": "code",
   "execution_count": null,
   "metadata": {},
   "outputs": [],
   "source": [
    "print(checker3.shape)"
   ]
  },
  {
   "cell_type": "code",
   "execution_count": null,
   "metadata": {},
   "outputs": [],
   "source": [
    "col_names = X_test.columns \n",
    "importances = xg_reg.feature_importances_\n",
    "indices = np.argsort(importances)[::-1]\n",
    "Random_Forest = 'XG Boost Classifier for xg_reg'\n",
    "plt.bar(range(X_test.shape[1]), importances[indices], color=\"b\")\n",
    "plt.title(\"{} Feature Importances\".format(Random_Forest))\n",
    "plt.xlabel(\"Feature\")\n",
    "plt.ylabel(\"Feature importance\")\n",
    "plt.xticks(range(X_test.shape[1]), col_names[indices], rotation=45, fontsize=12, ha='right')\n",
    "plt.xlim([-1, X_test.shape[1]])\n",
    "plt.figure(figsize=(cm_to_inch(15),cm_to_inch(10)))"
   ]
  },
  {
   "cell_type": "code",
   "execution_count": null,
   "metadata": {},
   "outputs": [],
   "source": [
    " "
   ]
  },
  {
   "cell_type": "code",
   "execution_count": null,
   "metadata": {},
   "outputs": [],
   "source": []
  },
  {
   "cell_type": "code",
   "execution_count": null,
   "metadata": {},
   "outputs": [],
   "source": []
  },
  {
   "cell_type": "code",
   "execution_count": null,
   "metadata": {},
   "outputs": [],
   "source": []
  },
  {
   "cell_type": "code",
   "execution_count": null,
   "metadata": {},
   "outputs": [],
   "source": []
  },
  {
   "cell_type": "code",
   "execution_count": null,
   "metadata": {},
   "outputs": [],
   "source": []
  },
  {
   "cell_type": "code",
   "execution_count": null,
   "metadata": {},
   "outputs": [],
   "source": [
    "dataset = np.genfromtxt('/home/allen/Galva/capstones/capstone2/src/explore/train_4_model.csv',delimiter=',' ,skip_header=True)"
   ]
  },
  {
   "cell_type": "code",
   "execution_count": null,
   "metadata": {},
   "outputs": [],
   "source": [
    "print(dataset.shape)"
   ]
  },
  {
   "cell_type": "code",
   "execution_count": null,
   "metadata": {},
   "outputs": [],
   "source": [
    "selector = [x for x in range(dataset.shape[1]) if x !=5]\n",
    "selector2 = [x for x in range(dataset.shape[1]) if x ==5]"
   ]
  },
  {
   "cell_type": "code",
   "execution_count": null,
   "metadata": {},
   "outputs": [],
   "source": [
    "y = dataset[:,selector]\n",
    "y2 = dataset[:,selector2]"
   ]
  },
  {
   "cell_type": "code",
   "execution_count": null,
   "metadata": {},
   "outputs": [],
   "source": [
    "y.shape"
   ]
  },
  {
   "cell_type": "code",
   "execution_count": null,
   "metadata": {},
   "outputs": [],
   "source": []
  },
  {
   "cell_type": "code",
   "execution_count": null,
   "metadata": {},
   "outputs": [],
   "source": [
    "x = np.delete(dataset,6,axis=1)"
   ]
  },
  {
   "cell_type": "code",
   "execution_count": null,
   "metadata": {},
   "outputs": [],
   "source": [
    "import tensorflow"
   ]
  },
  {
   "cell_type": "code",
   "execution_count": null,
   "metadata": {},
   "outputs": [],
   "source": [
    "from tensorflow.keras.models import Sequential\n",
    "from tensorflow.keras.layers import Dense"
   ]
  },
  {
   "cell_type": "code",
   "execution_count": null,
   "metadata": {},
   "outputs": [],
   "source": [
    "model = Sequential()\n",
    "model.add(Dense(1,input_dim = 46, activation='sigmoid'))"
   ]
  },
  {
   "cell_type": "code",
   "execution_count": null,
   "metadata": {},
   "outputs": [],
   "source": [
    "model.compile(loss = 'binary_crossentropy',optimizer = 'rmsprop', metrics=['accuracy'])"
   ]
  },
  {
   "cell_type": "code",
   "execution_count": null,
   "metadata": {},
   "outputs": [],
   "source": [
    "gpus = tensorflow.config.experimental.list_physical_devices('GPU')\n",
    "if gpus:\n",
    "    try: \n",
    "        for gpu in gpus:\n",
    "            tensorflow.config.experimental.set_memory_growth(gpu, True)\n",
    "    except RuntimeError as e:\n",
    "        print(e, 'BTW ***********************************************')"
   ]
  },
  {
   "cell_type": "code",
   "execution_count": null,
   "metadata": {},
   "outputs": [],
   "source": [
    "model.fit(x=y,y=y2, epochs=20, verbose=1)"
   ]
  },
  {
   "cell_type": "code",
   "execution_count": null,
   "metadata": {},
   "outputs": [],
   "source": [
    "print(y2[:10])"
   ]
  },
  {
   "cell_type": "code",
   "execution_count": null,
   "metadata": {},
   "outputs": [],
   "source": [
    "predictions2 = model.predict(y)\n",
    "print(predictions2[:10].T)"
   ]
  },
  {
   "cell_type": "code",
   "execution_count": null,
   "metadata": {},
   "outputs": [],
   "source": []
  }
 ],
 "metadata": {
  "kernelspec": {
   "display_name": "Python 3",
   "language": "python",
   "name": "python3"
  },
  "language_info": {
   "codemirror_mode": {
    "name": "ipython",
    "version": 3
   },
   "file_extension": ".py",
   "mimetype": "text/x-python",
   "name": "python",
   "nbconvert_exporter": "python",
   "pygments_lexer": "ipython3",
   "version": "3.8.2"
  }
 },
 "nbformat": 4,
 "nbformat_minor": 4
}
