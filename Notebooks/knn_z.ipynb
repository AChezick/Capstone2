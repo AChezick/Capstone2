{
 "cells": [
  {
   "cell_type": "markdown",
   "metadata": {},
   "source": [
    "# k-Nearest-Neighbors\n",
    "\n"
   ]
  },
  {
   "cell_type": "markdown",
   "metadata": {},
   "source": [
    "## Agenda\n",
    "\n",
    " * Talk about models\n",
    " * Talk about SKlearn\n",
    " * Describe KNN\n",
    " * Describe KNN for regression vs. classification\n",
    " * Describe KNN hyperparameters\n",
    " * Distance metrics\n",
    " * Curse of Dimensionality\n",
    " "
   ]
  },
  {
   "cell_type": "code",
   "execution_count": 1,
   "metadata": {},
   "outputs": [
    {
     "name": "stdout",
     "output_type": "stream",
     "text": [
      "Index(['test1df1', 'test1df2', 'test1df3', 'test1df4', 'test1df5'], dtype='object')\n"
     ]
    }
   ],
   "source": [
    "from matplotlib.colors import ListedColormap\n",
    "from sklearn import neighbors, datasets\n",
    "from sklearn.preprocessing import StandardScaler\n",
    "from sklearn.pipeline import make_pipeline\n",
    "from sklearn.model_selection import train_test_split\n",
    "\n",
    "from sklearn.metrics import mean_squared_error\n",
    "from sklearn.neighbors import KNeighborsRegressor, KNeighborsClassifier\n",
    "\n",
    "import numpy as np\n",
    "import pandas as pd\n",
    "import matplotlib.pyplot as plt\n",
    "\n",
    "#knn_plotting.py  import plot_distances\n",
    "plt.rcParams['figure.dpi'] = 200 \n",
    "train_set = pd.read_csv('/home/allen/Galva/capstones/capstone2/data/train_1.csv')\n",
    "test_set = pd.read_csv('/home/allen/Galva/capstones/capstone2/data/test_df1.csv') \n",
    "\n",
    "train1 = train_set.drop(['Unnamed: 0.1.1','Unnamed: 0', 'Unnamed: 0.1', 'Registration_Date','Employer_Category','Patient_ID','First_Interaction', 'Health_Camp_ID','Income',\n",
    "'Education_Score','Age', 'City_Type', 'Job_Type', 'Education_Score2',\n",
    "'Education_Scorez',],axis=1) \n",
    "\n",
    "test_set = test_set.drop(['Unnamed: 0.1.1','Unnamed: 0', 'Unnamed: 0.1','Registration_Date','Employer_Category','Patient_ID','First_Interaction', 'Health_Camp_ID','Income',\n",
    "'Education_Score','Age', 'City_Type', 'Job_Type', 'Education_Score2',\n",
    "'Education_Scorez',],axis=1) \n",
    "train2,test2 = train1.drop(['Unnamed: 0.1.1.1', 'Online_Follower', 'LinkedIn_Shared',\n",
    "       'Twitter_Shared', 'Facebook_Shared', '2', '3', '4', '5', '6', '7', '8',\n",
    "       '9', '10', '11', '12', '13', '14', '9999', 'B', 'C', 'D', 'E', 'F', 'G',\n",
    "       'H', 'I', 'Z', 'Edu1', 'Edu2'],axis=1),test_set.drop(['Unnamed: 0.1.1.1', 'Online_Follower', 'LinkedIn_Shared',\n",
    "       'Twitter_Shared', 'Facebook_Shared', '2', '3', '4', '5', '6', '7', '8',\n",
    "       '9', '10', '11', '12', '13', '14', '9999', 'B', 'C', 'D', 'E', 'F', 'G',\n",
    "       'H', 'I', 'Z', 'Edu1', 'Edu2'],axis=1)\n",
    "y1, y2 = train2.pop('Event1_or_2') , test2.pop('Event1_or_2')\n",
    "print(test2.columns) "
   ]
  },
  {
   "cell_type": "markdown",
   "metadata": {},
   "source": [
    "## What is a model?"
   ]
  },
  {
   "cell_type": "markdown",
   "metadata": {},
   "source": [
    "- A machine learning model can be a mathematical representation of a real-world process. To generate a machine learning model you will need to provide training data to a machine learning algorithm to learn from.\n",
    "\n",
    "\n",
    "- A statistical model is a mathematical model that embodies a set of statistical assumptions concerning the generation of sample data (and similar data from a larger population). A statistical model represents, often in considerably idealized form, the data-generating process.   \n",
    "\n",
    "\n",
    "- A statistical model is usually specified as a mathematical relationship between one or more random variables and other non-random variables. As such, a statistical model is \"a formal representation of a theory\" (Herman Adèr quoting Kenneth Bollen).    \n",
    "\n",
    "\n",
    "- A model may help to explain a system and to study the effects of different components, and to make predictions about behaviour."
   ]
  },
  {
   "cell_type": "code",
   "execution_count": null,
   "metadata": {},
   "outputs": [],
   "source": []
  },
  {
   "cell_type": "markdown",
   "metadata": {},
   "source": [
    "<img src=\"images/intro_slide.png\" />\n"
   ]
  },
  {
   "cell_type": "code",
   "execution_count": 2,
   "metadata": {},
   "outputs": [],
   "source": [
    "from matplotlib.colors import ListedColormap\n",
    "from sklearn import neighbors, datasets\n",
    "from sklearn.preprocessing import StandardScaler\n",
    "from sklearn.pipeline import make_pipeline\n",
    "from sklearn.model_selection import train_test_split\n",
    "\n",
    "from sklearn.metrics import mean_squared_error\n",
    "from sklearn.neighbors import KNeighborsRegressor, KNeighborsClassifier\n",
    "\n",
    "import numpy as np\n",
    "import pandas as pd\n",
    "import matplotlib.pyplot as plt\n",
    "\n",
    "# from knn_plotting import plot_distances\n",
    "\n",
    "# plt.style.use('ggplot')"
   ]
  },
  {
   "cell_type": "code",
   "execution_count": null,
   "metadata": {},
   "outputs": [],
   "source": []
  },
  {
   "cell_type": "markdown",
   "metadata": {},
   "source": [
    "## Before we talk about KNN \n",
    "Lets review what data looks like and some standard practices."
   ]
  },
  {
   "cell_type": "code",
   "execution_count": null,
   "metadata": {},
   "outputs": [],
   "source": []
  },
  {
   "cell_type": "code",
   "execution_count": null,
   "metadata": {},
   "outputs": [],
   "source": []
  },
  {
   "cell_type": "markdown",
   "metadata": {},
   "source": [
    "For this example we will be trying to predict the field (variable) `mpg` called the target using the other fields (variables / features).  \n",
    "By standard you will see them referenced in code as: \n",
    "```\n",
    "y => Traget variable   \n",
    "X => Features   \n",
    "```\n",
    "\n",
    "Note that `y` is lower case and `X` is capitalized."
   ]
  },
  {
   "cell_type": "code",
   "execution_count": null,
   "metadata": {},
   "outputs": [],
   "source": []
  },
  {
   "cell_type": "markdown",
   "metadata": {},
   "source": [
    "### Sklearn and OOP (again, and again, and again)\n",
    "     \n",
    "Sklearn follows a very nice OOP layout which makes using it very easy once we learn the basics.  This easy interface makes modeling easy.  Its the understanding of what is going on behind the code and not just your ability to use the code that makes you a data scientist.\n",
    "\n"
   ]
  },
  {
   "cell_type": "code",
   "execution_count": 3,
   "metadata": {},
   "outputs": [],
   "source": [
    "class ModelClass:\n",
    "\n",
    "    def __init__(self, *arg, **kwargs):\n",
    "        '''\n",
    "        Establishes hyperparameters\n",
    "        '''\n",
    "        pass\n",
    "    \n",
    "    def fit(self, X, y): \n",
    "        '''\n",
    "        X = training data features\n",
    "        y = training data labels\n",
    "        \n",
    "        Takes in training data; stores whatever\n",
    "        information is need to make future predictions\n",
    "        '''\n",
    "        pass\n",
    "    \n",
    "    def predict(self, x):  \n",
    "        '''\n",
    "        x = new data point (features, only)\n",
    "        \n",
    "        Returns label prediction for x\n",
    "        '''\n",
    "        pass\n",
    "    \n",
    "    def predict_proba(self, x):  \n",
    "        '''\n",
    "        x = new data point (features, only)\n",
    "        \n",
    "        If classification model: returns probabilty\n",
    "        of x belonging to each class\n",
    "        '''\n",
    "        pass"
   ]
  },
  {
   "cell_type": "markdown",
   "metadata": {},
   "source": [
    "Lets make a mean Regressor model to practice this interface.  "
   ]
  },
  {
   "cell_type": "code",
   "execution_count": 4,
   "metadata": {},
   "outputs": [],
   "source": [
    "class Mean_Regressor():\n",
    "    \n",
    "    def __init__(self, *arg, **kwargs):    #no hyperparameters\n",
    "        pass\n",
    "    \n",
    "    def fit(self, X, y): \n",
    "        self.mean_prediction = y.mean()\n",
    "        return self\n",
    "    \n",
    "    def predict(self, x):  \n",
    "        return self.mean_prediction"
   ]
  },
  {
   "cell_type": "markdown",
   "metadata": {},
   "source": [
    "We will use the Boston housing dataset.  We will use the 3 columns 'Crime_Rate', 'Avg_Rooms', 'Pct_built_b4_1940'."
   ]
  },
  {
   "cell_type": "code",
   "execution_count": 5,
   "metadata": {},
   "outputs": [],
   "source": [
    "\n",
    "X = train2\n",
    "y = y1"
   ]
  },
  {
   "cell_type": "code",
   "execution_count": 6,
   "metadata": {},
   "outputs": [
    {
     "data": {
      "text/html": [
       "<div>\n",
       "<style scoped>\n",
       "    .dataframe tbody tr th:only-of-type {\n",
       "        vertical-align: middle;\n",
       "    }\n",
       "\n",
       "    .dataframe tbody tr th {\n",
       "        vertical-align: top;\n",
       "    }\n",
       "\n",
       "    .dataframe thead th {\n",
       "        text-align: right;\n",
       "    }\n",
       "</style>\n",
       "<table border=\"1\" class=\"dataframe\">\n",
       "  <thead>\n",
       "    <tr style=\"text-align: right;\">\n",
       "      <th></th>\n",
       "      <th>train1_1</th>\n",
       "      <th>train1_2</th>\n",
       "      <th>train1_3</th>\n",
       "      <th>train1_4</th>\n",
       "      <th>train1_5</th>\n",
       "    </tr>\n",
       "  </thead>\n",
       "  <tbody>\n",
       "    <tr>\n",
       "      <th>0</th>\n",
       "      <td>0.420086</td>\n",
       "      <td>-0.063285</td>\n",
       "      <td>-0.019631</td>\n",
       "      <td>-0.11236</td>\n",
       "      <td>1.442928</td>\n",
       "    </tr>\n",
       "    <tr>\n",
       "      <th>1</th>\n",
       "      <td>5.795981</td>\n",
       "      <td>1.263127</td>\n",
       "      <td>-0.019631</td>\n",
       "      <td>-0.11236</td>\n",
       "      <td>5.561781</td>\n",
       "    </tr>\n",
       "    <tr>\n",
       "      <th>2</th>\n",
       "      <td>-0.104391</td>\n",
       "      <td>-0.063285</td>\n",
       "      <td>-0.019631</td>\n",
       "      <td>-0.11236</td>\n",
       "      <td>-0.204613</td>\n",
       "    </tr>\n",
       "    <tr>\n",
       "      <th>3</th>\n",
       "      <td>-0.104391</td>\n",
       "      <td>-0.063285</td>\n",
       "      <td>-0.019631</td>\n",
       "      <td>-0.11236</td>\n",
       "      <td>-0.204613</td>\n",
       "    </tr>\n",
       "    <tr>\n",
       "      <th>4</th>\n",
       "      <td>1.862400</td>\n",
       "      <td>0.201998</td>\n",
       "      <td>-0.019631</td>\n",
       "      <td>-0.11236</td>\n",
       "      <td>5.561781</td>\n",
       "    </tr>\n",
       "  </tbody>\n",
       "</table>\n",
       "</div>"
      ],
      "text/plain": [
       "   train1_1  train1_2  train1_3  train1_4  train1_5\n",
       "0  0.420086 -0.063285 -0.019631  -0.11236  1.442928\n",
       "1  5.795981  1.263127 -0.019631  -0.11236  5.561781\n",
       "2 -0.104391 -0.063285 -0.019631  -0.11236 -0.204613\n",
       "3 -0.104391 -0.063285 -0.019631  -0.11236 -0.204613\n",
       "4  1.862400  0.201998 -0.019631  -0.11236  5.561781"
      ]
     },
     "execution_count": 6,
     "metadata": {},
     "output_type": "execute_result"
    }
   ],
   "source": [
    "#X = features\n",
    "X.head()"
   ]
  },
  {
   "cell_type": "code",
   "execution_count": 7,
   "metadata": {},
   "outputs": [],
   "source": [
    "model = Mean_Regressor()"
   ]
  },
  {
   "cell_type": "code",
   "execution_count": 8,
   "metadata": {},
   "outputs": [
    {
     "data": {
      "text/plain": [
       "<__main__.Mean_Regressor at 0x7faa2711d280>"
      ]
     },
     "execution_count": 8,
     "metadata": {},
     "output_type": "execute_result"
    }
   ],
   "source": [
    "model.fit(X, y)"
   ]
  },
  {
   "cell_type": "code",
   "execution_count": 9,
   "metadata": {},
   "outputs": [],
   "source": [
    "#Let's say we have a new town with these features:\n",
    "'''\n",
    "Crime_Rate            0.09\n",
    "Avg_Rooms             6.41\n",
    "Pct_built_b4_1940    84.10\n",
    "'''\n",
    "\n",
    "new_town = np.array([.09, 6.41, 84.10])"
   ]
  },
  {
   "cell_type": "code",
   "execution_count": 10,
   "metadata": {},
   "outputs": [
    {
     "data": {
      "text/plain": [
       "0.6014373389303648"
      ]
     },
     "execution_count": 10,
     "metadata": {},
     "output_type": "execute_result"
    }
   ],
   "source": [
    "model.predict(test2)"
   ]
  },
  {
   "cell_type": "code",
   "execution_count": 11,
   "metadata": {},
   "outputs": [
    {
     "data": {
      "text/html": [
       "<div>\n",
       "<style scoped>\n",
       "    .dataframe tbody tr th:only-of-type {\n",
       "        vertical-align: middle;\n",
       "    }\n",
       "\n",
       "    .dataframe tbody tr th {\n",
       "        vertical-align: top;\n",
       "    }\n",
       "\n",
       "    .dataframe thead th {\n",
       "        text-align: right;\n",
       "    }\n",
       "</style>\n",
       "<table border=\"1\" class=\"dataframe\">\n",
       "  <thead>\n",
       "    <tr style=\"text-align: right;\">\n",
       "      <th></th>\n",
       "      <th>test1df1</th>\n",
       "      <th>test1df2</th>\n",
       "      <th>test1df3</th>\n",
       "      <th>test1df4</th>\n",
       "      <th>test1df5</th>\n",
       "    </tr>\n",
       "  </thead>\n",
       "  <tbody>\n",
       "    <tr>\n",
       "      <th>0</th>\n",
       "      <td>0.021786</td>\n",
       "      <td>-0.063572</td>\n",
       "      <td>-0.023827</td>\n",
       "      <td>-0.155661</td>\n",
       "      <td>1.328418</td>\n",
       "    </tr>\n",
       "    <tr>\n",
       "      <th>1</th>\n",
       "      <td>-0.098714</td>\n",
       "      <td>-0.063572</td>\n",
       "      <td>-0.023827</td>\n",
       "      <td>-0.155661</td>\n",
       "      <td>-0.196889</td>\n",
       "    </tr>\n",
       "    <tr>\n",
       "      <th>2</th>\n",
       "      <td>-0.098714</td>\n",
       "      <td>-0.063572</td>\n",
       "      <td>-0.023827</td>\n",
       "      <td>-0.155661</td>\n",
       "      <td>-0.196889</td>\n",
       "    </tr>\n",
       "    <tr>\n",
       "      <th>3</th>\n",
       "      <td>-0.098714</td>\n",
       "      <td>-0.063572</td>\n",
       "      <td>-0.023827</td>\n",
       "      <td>-0.155661</td>\n",
       "      <td>-0.196889</td>\n",
       "    </tr>\n",
       "    <tr>\n",
       "      <th>4</th>\n",
       "      <td>-0.098714</td>\n",
       "      <td>-0.063572</td>\n",
       "      <td>-0.023827</td>\n",
       "      <td>-0.155661</td>\n",
       "      <td>-0.196889</td>\n",
       "    </tr>\n",
       "    <tr>\n",
       "      <th>...</th>\n",
       "      <td>...</td>\n",
       "      <td>...</td>\n",
       "      <td>...</td>\n",
       "      <td>...</td>\n",
       "      <td>...</td>\n",
       "    </tr>\n",
       "    <tr>\n",
       "      <th>35244</th>\n",
       "      <td>1.347295</td>\n",
       "      <td>0.438356</td>\n",
       "      <td>-0.023827</td>\n",
       "      <td>-0.155661</td>\n",
       "      <td>4.379033</td>\n",
       "    </tr>\n",
       "    <tr>\n",
       "      <th>35245</th>\n",
       "      <td>-0.098714</td>\n",
       "      <td>-0.063572</td>\n",
       "      <td>-0.023827</td>\n",
       "      <td>-0.155661</td>\n",
       "      <td>-0.196889</td>\n",
       "    </tr>\n",
       "    <tr>\n",
       "      <th>35246</th>\n",
       "      <td>-0.098714</td>\n",
       "      <td>-0.063572</td>\n",
       "      <td>-0.023827</td>\n",
       "      <td>-0.155661</td>\n",
       "      <td>-0.196889</td>\n",
       "    </tr>\n",
       "    <tr>\n",
       "      <th>35247</th>\n",
       "      <td>-0.098714</td>\n",
       "      <td>-0.063572</td>\n",
       "      <td>-0.023827</td>\n",
       "      <td>-0.155661</td>\n",
       "      <td>-0.196889</td>\n",
       "    </tr>\n",
       "    <tr>\n",
       "      <th>35248</th>\n",
       "      <td>0.383289</td>\n",
       "      <td>0.689320</td>\n",
       "      <td>-0.023827</td>\n",
       "      <td>7.284206</td>\n",
       "      <td>2.853725</td>\n",
       "    </tr>\n",
       "  </tbody>\n",
       "</table>\n",
       "<p>35249 rows × 5 columns</p>\n",
       "</div>"
      ],
      "text/plain": [
       "       test1df1  test1df2  test1df3  test1df4  test1df5\n",
       "0      0.021786 -0.063572 -0.023827 -0.155661  1.328418\n",
       "1     -0.098714 -0.063572 -0.023827 -0.155661 -0.196889\n",
       "2     -0.098714 -0.063572 -0.023827 -0.155661 -0.196889\n",
       "3     -0.098714 -0.063572 -0.023827 -0.155661 -0.196889\n",
       "4     -0.098714 -0.063572 -0.023827 -0.155661 -0.196889\n",
       "...         ...       ...       ...       ...       ...\n",
       "35244  1.347295  0.438356 -0.023827 -0.155661  4.379033\n",
       "35245 -0.098714 -0.063572 -0.023827 -0.155661 -0.196889\n",
       "35246 -0.098714 -0.063572 -0.023827 -0.155661 -0.196889\n",
       "35247 -0.098714 -0.063572 -0.023827 -0.155661 -0.196889\n",
       "35248  0.383289  0.689320 -0.023827  7.284206  2.853725\n",
       "\n",
       "[35249 rows x 5 columns]"
      ]
     },
     "execution_count": 11,
     "metadata": {},
     "output_type": "execute_result"
    }
   ],
   "source": [
    "test2"
   ]
  },
  {
   "cell_type": "code",
   "execution_count": null,
   "metadata": {},
   "outputs": [],
   "source": []
  },
  {
   "cell_type": "code",
   "execution_count": null,
   "metadata": {},
   "outputs": [],
   "source": []
  },
  {
   "cell_type": "code",
   "execution_count": null,
   "metadata": {},
   "outputs": [],
   "source": []
  },
  {
   "cell_type": "markdown",
   "metadata": {},
   "source": [
    "## kNN (k Nearest Neighbors)\n",
    "\n",
    "Over the next weeks we'll talk about a number of machine learning models. The kNN model is a non-parametric supervised-learning model used for classification or regression. It is not the most practical, but it's a great example to get us started.\n",
    "\n",
    "**Discussion:** What do all those words mean?"
   ]
  },
  {
   "cell_type": "markdown",
   "metadata": {},
   "source": [
    "Today we'll mostly focus on regression, however we will start with classification as for an introduction "
   ]
  },
  {
   "cell_type": "code",
   "execution_count": 12,
   "metadata": {},
   "outputs": [
    {
     "data": {
      "image/png": "[encoded data removed]",
      "text/plain": [
       "<Figure size 1200x800 with 1 Axes>"
      ]
     },
     "metadata": {
      "needs_background": "light"
     },
     "output_type": "display_data"
    }
   ],
   "source": [
    "import scipy as sp\n",
    "\n",
    "np.random.seed(7)  #7\n",
    "\n",
    "horse_weight = np.random.rand(100) * 1500.0 + 400.0  + 50      # lbs\n",
    "horse_height = horse_weight/370 + np.random.normal(0, 0.5, horse_weight.shape) + 2.5  # ft\n",
    "\n",
    "dog_weight = np.random.rand(40) * 500.0 + 10.0      # lbs\n",
    "dog_height = dog_weight/300 + np.random.normal(0, 0.3, dog_weight.shape) + 0.5  # ft\n",
    "\n",
    "plt.plot(horse_weight, horse_height, 'ro', label='Horse')\n",
    "plt.plot(dog_weight, dog_height, 'bo', label='Dog')\n",
    "plt.scatter(200,2, marker='X', c='black', s=140)\n",
    "plt.title(\"Horse vs Dog\")\n",
    "plt.xlabel(\"Weight (lbs)\")\n",
    "plt.ylabel(\"Height (ft)\")\n",
    "plt.legend()\n",
    "plt.show()"
   ]
  },
  {
   "cell_type": "code",
   "execution_count": 13,
   "metadata": {},
   "outputs": [
    {
     "data": {
      "image/png": "[encoded data removed]",
      "text/plain": [
       "<Figure size 1200x800 with 1 Axes>"
      ]
     },
     "metadata": {
      "needs_background": "light"
     },
     "output_type": "display_data"
    }
   ],
   "source": [
    "import scipy as sp\n",
    "\n",
    "np.random.seed(7)  #7\n",
    "\n",
    "horse_weight = np.random.rand(100) * 1500.0 + 400.0  + 50      # lbs\n",
    "horse_height = horse_weight/370 + np.random.normal(0, 0.5, horse_weight.shape) + 2.5  # ft\n",
    "\n",
    "dog_weight = np.random.rand(40) * 500.0 + 10.0      # lbs\n",
    "dog_height = dog_weight/300 + np.random.normal(0, 0.3, dog_weight.shape) + 0.5  # ft\n",
    "\n",
    "\n",
    "plt.plot(horse_weight, horse_height, 'ro', label='Horse')\n",
    "plt.plot(dog_weight, dog_height, 'bo', label='Dog')\n",
    "plt.scatter(600, 3, marker='X', c='black', s=110)\n",
    "plt.title(\"Horse vs Dog\")\n",
    "plt.xlabel(\"Weight (lbs)\")\n",
    "plt.ylabel(\"Height (ft)\")\n",
    "plt.legend()\n",
    "plt.show()"
   ]
  },
  {
   "cell_type": "markdown",
   "metadata": {},
   "source": [
    "Is anyone concerned about the 500 pound dogs we are seeing?"
   ]
  },
  {
   "cell_type": "markdown",
   "metadata": {},
   "source": [
    "## Looking at regression\n",
    "\n"
   ]
  },
  {
   "cell_type": "code",
   "execution_count": 15,
   "metadata": {},
   "outputs": [],
   "source": [
    "# cars = pd.read_csv('data/cars_multivariate.csv', na_values=['?'])\n",
    "# cars = cars[cars.horsepower.notnull()]"
   ]
  },
  {
   "cell_type": "code",
   "execution_count": null,
   "metadata": {},
   "outputs": [],
   "source": [
    "fig, ax = plt.subplots(figsize=(8, 6))\n",
    "im =ax.scatter(cars.horsepower, cars.weight, c=cars.mpg)\n",
    "ax.set_xlabel('Horse Power')\n",
    "ax.set_ylabel('Weight')\n",
    "ax.set_title('Car Weight vs Horse Power')\n",
    "fig.colorbar(im, ax=ax)"
   ]
  },
  {
   "cell_type": "code",
   "execution_count": null,
   "metadata": {},
   "outputs": [],
   "source": [
    "section = cars[(cars.horsepower > 75) & (cars.horsepower < 100)]"
   ]
  },
  {
   "cell_type": "code",
   "execution_count": null,
   "metadata": {},
   "outputs": [],
   "source": [
    "fig, ax = plt.subplots(figsize=(8, 6))\n",
    "im =ax.scatter(section.horsepower, section.weight, c=section.mpg)\n",
    "ax.set_xlabel('Horse Power')\n",
    "ax.set_ylabel('Weight')\n",
    "ax.set_title('Car Weight vs Horse Power')\n",
    "fig.colorbar(im, ax=ax)"
   ]
  },
  {
   "cell_type": "code",
   "execution_count": null,
   "metadata": {},
   "outputs": [],
   "source": [
    "fig, ax = plt.subplots(figsize=(8, 6))\n",
    "im =ax.scatter(section.horsepower, section.weight, c=section.mpg)\n",
    "ax.scatter([82],[2250],s=[170], marker='x')\n",
    "ax.set_xlabel('Horse Power')\n",
    "ax.set_ylabel('Weight')\n",
    "ax.set_title('Car Weight vs Horse Power')\n",
    "fig.colorbar(im, ax=ax)"
   ]
  },
  {
   "cell_type": "markdown",
   "metadata": {},
   "source": [
    "What should we be looking at?  "
   ]
  },
  {
   "cell_type": "code",
   "execution_count": null,
   "metadata": {},
   "outputs": [],
   "source": [
    "sub = section[(section.horsepower > 79) & (section.horsepower < 86 ) & (section.weight < 2550) & (section.weight > 2000)]"
   ]
  },
  {
   "cell_type": "code",
   "execution_count": null,
   "metadata": {},
   "outputs": [],
   "source": [
    "x = sub.horsepower.values\n",
    "y = sub.weight.values\n",
    "\n",
    "fig, ax = plt.subplots(figsize=(8, 6))\n",
    "ax.scatter(sub.horsepower, sub.weight)\n",
    "ax.scatter([82],[2250],s=[170], marker='x')\n",
    "ax.set_xlabel('Horse Power')\n",
    "ax.set_ylabel('Weight')\n",
    "ax.set_title('Car Weight vs Horse Power')\n",
    "\n",
    "\n",
    "for i, txt in enumerate(sub.mpg):\n",
    "    ax.annotate(str(txt), (x[i], y[i]), fontsize=12)\n"
   ]
  },
  {
   "cell_type": "markdown",
   "metadata": {},
   "source": [
    "### Making a prediction?\n",
    "\n",
    "\n",
    "\n",
    "\n",
    "<img src=\"images/regression_knn.png\" width=500 align=\"left\"/>\n",
    "\n",
    "Let the k nearest points have distances $$d_1, d_2,..., d_k$$\n",
    "\n",
    "Let the k nearest points have targets $$t_1, t_2,..., t_k$$\n",
    "\n",
    "Predict the mean value of the targets."
   ]
  },
  {
   "cell_type": "code",
   "execution_count": null,
   "metadata": {},
   "outputs": [],
   "source": []
  },
  {
   "cell_type": "code",
   "execution_count": null,
   "metadata": {},
   "outputs": [],
   "source": []
  },
  {
   "cell_type": "code",
   "execution_count": null,
   "metadata": {},
   "outputs": [],
   "source": []
  },
  {
   "cell_type": "markdown",
   "metadata": {},
   "source": [
    "# KNN Regression the algorithm    \n",
    "   \n",
    "      \n",
    "         \n",
    "### What are the steps?\n",
    "\n",
    "Training algorithm:   \n",
    "\n",
    " - Store all the data… that’s all.   \n",
    " \n",
    "Prediction algorithm (predict the value of a new point $x$):   \n",
    "\n",
    " - Calculate the distance from $x$ to all points in your dataset.\n",
    " - Sort the points in your dataset by increasing distance from $x$.\n",
    " - Get the average of the target of the $k$ closest points.   \n",
    "    \n",
    "       \n",
    "         \n",
    "         "
   ]
  },
  {
   "cell_type": "markdown",
   "metadata": {},
   "source": [
    "## Distance Metrics\n",
    "\n",
    "So far we've used euclidean distance for a metric; there are other choices.\n",
    "\n",
    "### Manhattan Distance\n",
    "City blocks, L1\n",
    "\n",
    "*Manhattan* distance is the distance as measured along axes at right angles:\n",
    "\n",
    "$$\\sum_i |a_i - b_i|$$\n",
    "\n",
    "\n",
    "### Euclidean Distance\n",
    "\n",
    "Straight line, L2\n",
    "\n",
    "*Euclidean* distance is the distance metric you're most familiar with:\n",
    "\n",
    "$$ d(\\mathbf{a}, \\mathbf{b}) = ||\\mathbf{a} - \\mathbf{b}|| \\ = \\sqrt{\\sum (a_i - b_i)^2} $$\n",
    "\n",
    "\n",
    "\n",
    "#### sklearn default is [Minkowski](https://en.wikipedia.org/wiki/Minkowski_distance) (with p=2 which is really just euclidean, p=1 is manhattan)    \n",
    "    \n",
    "        \n",
    "        \n",
    "             "
   ]
  },
  {
   "cell_type": "markdown",
   "metadata": {},
   "source": [
    "## What will happen as we change $K$"
   ]
  },
  {
   "cell_type": "markdown",
   "metadata": {},
   "source": [
    "### Looking at predicting MPG given Horsepower"
   ]
  },
  {
   "cell_type": "code",
   "execution_count": 16,
   "metadata": {},
   "outputs": [
    {
     "data": {
      "text/plain": [
       "0        1\n",
       "1        1\n",
       "2        1\n",
       "3        0\n",
       "4        0\n",
       "        ..\n",
       "35244    1\n",
       "35245    0\n",
       "35246    1\n",
       "35247    0\n",
       "35248    1\n",
       "Name: Event1_or_2, Length: 35249, dtype: int64"
      ]
     },
     "execution_count": 16,
     "metadata": {},
     "output_type": "execute_result"
    }
   ],
   "source": [
    "y2"
   ]
  },
  {
   "cell_type": "code",
   "execution_count": 17,
   "metadata": {},
   "outputs": [
    {
     "data": {
      "text/plain": [
       "<matplotlib.collections.PathCollection at 0x7faa27151c70>"
      ]
     },
     "execution_count": 17,
     "metadata": {},
     "output_type": "execute_result"
    },
    {
     "data": {
      "image/png": "[encoded data removed]",
      "text/plain": [
       "<Figure size 1600x1200 with 1 Axes>"
      ]
     },
     "metadata": {
      "needs_background": "light"
     },
     "output_type": "display_data"
    }
   ],
   "source": [
    "X = test2.test1df3.values\n",
    "y = y2.values  \n",
    "\n",
    "fig, ax = plt.subplots(figsize=(8, 6))\n",
    "ax.scatter(X,y)"
   ]
  },
  {
   "cell_type": "code",
   "execution_count": 18,
   "metadata": {},
   "outputs": [
    {
     "data": {
      "image/png": "[encoded data removed]",
      "text/plain": [
       "<Figure size 2800x2800 with 8 Axes>"
      ]
     },
     "metadata": {
      "needs_background": "light"
     },
     "output_type": "display_data"
    }
   ],
   "source": [
    "fig, axs = plt.subplots(4, 2, figsize=(14, 14))\n",
    "x_tick = np.linspace(50, 225, 150)\n",
    "k_num = [1, 3, 5, 10, 15, 20, 100, 392]\n",
    "\n",
    "for k, ax in zip(k_num,axs.flatten()):\n",
    "    model = KNeighborsRegressor(k)\n",
    "    model.fit(X.reshape(-1,1),y.reshape(-1,1))\n",
    "    ax.scatter(X,y,c='blue')\n",
    "    ax.plot(x_tick, model.predict(x_tick.reshape(-1,1)), linewidth=4)\n",
    "\n",
    "fig.tight_layout()\n",
    "    \n"
   ]
  },
  {
   "cell_type": "markdown",
   "metadata": {},
   "source": [
    "In the start with a low $k$ the model fits closely to a given point meaning we can be **overfit**.\n",
    "\n",
    "As $k$ is increased more points are included for the mean calculation so a more general result is given which can lead to a **underfit** model"
   ]
  },
  {
   "cell_type": "code",
   "execution_count": null,
   "metadata": {},
   "outputs": [],
   "source": []
  },
  {
   "cell_type": "markdown",
   "metadata": {},
   "source": [
    "# Choosing k\n",
    "\n",
    "How do we figure out the best value for k?\n",
    "\n",
    "In general, a good starting point for k is $\\sqrt{n}$\n",
    "\n",
    "Let's investigate for various values."
   ]
  },
  {
   "cell_type": "markdown",
   "metadata": {},
   "source": [
    "## First we need a way to see how well our prediction does\n",
    "\n",
    "### Ideas?\n",
    "\n",
    "For our example of we choose k = 5 and found the prediction was 34.24 mpg and the actual was 32 mpg "
   ]
  },
  {
   "cell_type": "markdown",
   "metadata": {},
   "source": [
    "# How well did we do?"
   ]
  },
  {
   "cell_type": "markdown",
   "metadata": {},
   "source": [
    "How can we measure the error? The typical choice is to use mean squared error. The error for a given data point is the difference between the observed value and the predicted value\n",
    "$$\n",
    "MSE := \\frac{1}{n} \\sum_{i=1}^n (\\hat{y_i} - y_i)^2\n",
    "$$"
   ]
  },
  {
   "cell_type": "markdown",
   "metadata": {},
   "source": [
    "## R-Squared\n",
    "\n",
    "Mean squared error is a good error metric, however the result you are looking for is dependent on the data set. For a more general result there is a scaled version called $R^2$. \n",
    "\\begin{align}\n",
    "    R^2 &:= 1 - \\frac{SS_{res}}{SS_{tot}} \\\\\n",
    "    &= 1 - \\frac{\\sum_{i=1}^n (\\hat{y_i} - y_i)^2}{\\sum_{i=1}^n (y_i - \\bar{y})^2}\n",
    "\\end{align}    \n",
    "\n",
    "Where $SS_{res}$ is the sum of the squared residuals and $SS_{tot}$ is the total sum of squares. $R^2$ can be interpreted as the fraction of the variance in the data that is explained by the model.\n",
    "\n",
    "$R^2$ will be between 0 and 1. 0 means that your model explains none of the variance in the data, while 1 means your model explains all of the variance in the data. The higher $R^2$, the better!"
   ]
  },
  {
   "cell_type": "markdown",
   "metadata": {},
   "source": [
    "## Choosing k"
   ]
  },
  {
   "cell_type": "code",
   "execution_count": 19,
   "metadata": {},
   "outputs": [],
   "source": [
    "def predict_sample(X, y,k,seed):\n",
    "    clf = make_pipeline(  neighbors.KNeighborsRegressor(n_neighbors=k, weights='uniform'))\n",
    "    clf.fit(train2, y1)\n",
    "    \n",
    "    return mean_squared_error(clf.predict(test2), y2)"
   ]
  },
  {
   "cell_type": "code",
   "execution_count": 20,
   "metadata": {},
   "outputs": [],
   "source": [
    "X = test2[['test1df3', 'test1df4']].values\n",
    "y = y2"
   ]
  },
  {
   "cell_type": "code",
   "execution_count": 21,
   "metadata": {},
   "outputs": [
    {
     "ename": "KeyboardInterrupt",
     "evalue": "",
     "output_type": "error",
     "traceback": [
      "\u001b[0;31m------------------------------------------------------------------------\u001b[0m",
      "\u001b[0;31mKeyboardInterrupt\u001b[0m                      Traceback (most recent call last)",
      "\u001b[0;32m<ipython-input-21-fefd392ce034>\u001b[0m in \u001b[0;36m<module>\u001b[0;34m\u001b[0m\n\u001b[1;32m      5\u001b[0m     \u001b[0mkresults\u001b[0m \u001b[0;34m=\u001b[0m \u001b[0;34m[\u001b[0m\u001b[0;34m]\u001b[0m\u001b[0;34m\u001b[0m\u001b[0;34m\u001b[0m\u001b[0m\n\u001b[1;32m      6\u001b[0m     \u001b[0;32mfor\u001b[0m \u001b[0mseed\u001b[0m \u001b[0;32min\u001b[0m \u001b[0mrange\u001b[0m\u001b[0;34m(\u001b[0m\u001b[0;36m100\u001b[0m\u001b[0;34m)\u001b[0m\u001b[0;34m:\u001b[0m\u001b[0;34m\u001b[0m\u001b[0;34m\u001b[0m\u001b[0m\n\u001b[0;32m----> 7\u001b[0;31m         \u001b[0mkresults\u001b[0m\u001b[0;34m.\u001b[0m\u001b[0mappend\u001b[0m\u001b[0;34m(\u001b[0m\u001b[0mpredict_sample\u001b[0m\u001b[0;34m(\u001b[0m\u001b[0mX\u001b[0m\u001b[0;34m,\u001b[0m \u001b[0my\u001b[0m\u001b[0;34m,\u001b[0m \u001b[0mk\u001b[0m\u001b[0;34m,\u001b[0m \u001b[0mseed\u001b[0m\u001b[0;34m)\u001b[0m\u001b[0;34m)\u001b[0m\u001b[0;34m\u001b[0m\u001b[0;34m\u001b[0m\u001b[0m\n\u001b[0m\u001b[1;32m      8\u001b[0m     \u001b[0mresults\u001b[0m\u001b[0;34m.\u001b[0m\u001b[0mappend\u001b[0m\u001b[0;34m(\u001b[0m\u001b[0mkresults\u001b[0m\u001b[0;34m)\u001b[0m\u001b[0;34m\u001b[0m\u001b[0;34m\u001b[0m\u001b[0m\n\u001b[1;32m      9\u001b[0m \u001b[0mresults\u001b[0m \u001b[0;34m=\u001b[0m \u001b[0mpd\u001b[0m\u001b[0;34m.\u001b[0m\u001b[0mDataFrame\u001b[0m\u001b[0;34m(\u001b[0m\u001b[0mresults\u001b[0m\u001b[0;34m)\u001b[0m\u001b[0;34m\u001b[0m\u001b[0;34m\u001b[0m\u001b[0m\n",
      "\u001b[0;32m<ipython-input-19-ad5834ff8692>\u001b[0m in \u001b[0;36mpredict_sample\u001b[0;34m(X, y, k, seed)\u001b[0m\n\u001b[1;32m      1\u001b[0m \u001b[0;32mdef\u001b[0m \u001b[0mpredict_sample\u001b[0m\u001b[0;34m(\u001b[0m\u001b[0mX\u001b[0m\u001b[0;34m,\u001b[0m \u001b[0my\u001b[0m\u001b[0;34m,\u001b[0m\u001b[0mk\u001b[0m\u001b[0;34m,\u001b[0m\u001b[0mseed\u001b[0m\u001b[0;34m)\u001b[0m\u001b[0;34m:\u001b[0m\u001b[0;34m\u001b[0m\u001b[0;34m\u001b[0m\u001b[0m\n\u001b[1;32m      2\u001b[0m     \u001b[0mclf\u001b[0m \u001b[0;34m=\u001b[0m \u001b[0mmake_pipeline\u001b[0m\u001b[0;34m(\u001b[0m  \u001b[0mneighbors\u001b[0m\u001b[0;34m.\u001b[0m\u001b[0mKNeighborsRegressor\u001b[0m\u001b[0;34m(\u001b[0m\u001b[0mn_neighbors\u001b[0m\u001b[0;34m=\u001b[0m\u001b[0mk\u001b[0m\u001b[0;34m,\u001b[0m \u001b[0mweights\u001b[0m\u001b[0;34m=\u001b[0m\u001b[0;34m'uniform'\u001b[0m\u001b[0;34m)\u001b[0m\u001b[0;34m)\u001b[0m\u001b[0;34m\u001b[0m\u001b[0;34m\u001b[0m\u001b[0m\n\u001b[0;32m----> 3\u001b[0;31m     \u001b[0mclf\u001b[0m\u001b[0;34m.\u001b[0m\u001b[0mfit\u001b[0m\u001b[0;34m(\u001b[0m\u001b[0mtrain2\u001b[0m\u001b[0;34m,\u001b[0m \u001b[0my1\u001b[0m\u001b[0;34m)\u001b[0m\u001b[0;34m\u001b[0m\u001b[0;34m\u001b[0m\u001b[0m\n\u001b[0m\u001b[1;32m      4\u001b[0m \u001b[0;34m\u001b[0m\u001b[0m\n\u001b[1;32m      5\u001b[0m     \u001b[0;32mreturn\u001b[0m \u001b[0mmean_squared_error\u001b[0m\u001b[0;34m(\u001b[0m\u001b[0mclf\u001b[0m\u001b[0;34m.\u001b[0m\u001b[0mpredict\u001b[0m\u001b[0;34m(\u001b[0m\u001b[0mtest2\u001b[0m\u001b[0;34m)\u001b[0m\u001b[0;34m,\u001b[0m \u001b[0my2\u001b[0m\u001b[0;34m)\u001b[0m\u001b[0;34m\u001b[0m\u001b[0;34m\u001b[0m\u001b[0m\n",
      "\u001b[0;32m~/anaconda3/lib/python3.8/site-packages/sklearn/pipeline.py\u001b[0m in \u001b[0;36mfit\u001b[0;34m(self, X, y, **fit_params)\u001b[0m\n\u001b[1;32m    333\u001b[0m             \u001b[0;32mif\u001b[0m \u001b[0mself\u001b[0m\u001b[0;34m.\u001b[0m\u001b[0m_final_estimator\u001b[0m \u001b[0;34m!=\u001b[0m \u001b[0;34m'passthrough'\u001b[0m\u001b[0;34m:\u001b[0m\u001b[0;34m\u001b[0m\u001b[0;34m\u001b[0m\u001b[0m\n\u001b[1;32m    334\u001b[0m                 \u001b[0mfit_params_last_step\u001b[0m \u001b[0;34m=\u001b[0m \u001b[0mfit_params_steps\u001b[0m\u001b[0;34m[\u001b[0m\u001b[0mself\u001b[0m\u001b[0;34m.\u001b[0m\u001b[0msteps\u001b[0m\u001b[0;34m[\u001b[0m\u001b[0;34m-\u001b[0m\u001b[0;36m1\u001b[0m\u001b[0;34m]\u001b[0m\u001b[0;34m[\u001b[0m\u001b[0;36m0\u001b[0m\u001b[0;34m]\u001b[0m\u001b[0;34m]\u001b[0m\u001b[0;34m\u001b[0m\u001b[0;34m\u001b[0m\u001b[0m\n\u001b[0;32m--> 335\u001b[0;31m                 \u001b[0mself\u001b[0m\u001b[0;34m.\u001b[0m\u001b[0m_final_estimator\u001b[0m\u001b[0;34m.\u001b[0m\u001b[0mfit\u001b[0m\u001b[0;34m(\u001b[0m\u001b[0mXt\u001b[0m\u001b[0;34m,\u001b[0m \u001b[0my\u001b[0m\u001b[0;34m,\u001b[0m \u001b[0;34m**\u001b[0m\u001b[0mfit_params_last_step\u001b[0m\u001b[0;34m)\u001b[0m\u001b[0;34m\u001b[0m\u001b[0;34m\u001b[0m\u001b[0m\n\u001b[0m\u001b[1;32m    336\u001b[0m \u001b[0;34m\u001b[0m\u001b[0m\n\u001b[1;32m    337\u001b[0m         \u001b[0;32mreturn\u001b[0m \u001b[0mself\u001b[0m\u001b[0;34m\u001b[0m\u001b[0;34m\u001b[0m\u001b[0m\n",
      "\u001b[0;32m~/anaconda3/lib/python3.8/site-packages/sklearn/neighbors/_base.py\u001b[0m in \u001b[0;36mfit\u001b[0;34m(self, X, y)\u001b[0m\n\u001b[1;32m   1108\u001b[0m                                        multi_output=True)\n\u001b[1;32m   1109\u001b[0m         \u001b[0mself\u001b[0m\u001b[0;34m.\u001b[0m\u001b[0m_y\u001b[0m \u001b[0;34m=\u001b[0m \u001b[0my\u001b[0m\u001b[0;34m\u001b[0m\u001b[0;34m\u001b[0m\u001b[0m\n\u001b[0;32m-> 1110\u001b[0;31m         \u001b[0;32mreturn\u001b[0m \u001b[0mself\u001b[0m\u001b[0;34m.\u001b[0m\u001b[0m_fit\u001b[0m\u001b[0;34m(\u001b[0m\u001b[0mX\u001b[0m\u001b[0;34m)\u001b[0m\u001b[0;34m\u001b[0m\u001b[0;34m\u001b[0m\u001b[0m\n\u001b[0m\u001b[1;32m   1111\u001b[0m \u001b[0;34m\u001b[0m\u001b[0m\n\u001b[1;32m   1112\u001b[0m     \u001b[0;32mdef\u001b[0m \u001b[0m_more_tags\u001b[0m\u001b[0;34m(\u001b[0m\u001b[0mself\u001b[0m\u001b[0;34m)\u001b[0m\u001b[0;34m:\u001b[0m\u001b[0;34m\u001b[0m\u001b[0;34m\u001b[0m\u001b[0m\n",
      "\u001b[0;32m~/anaconda3/lib/python3.8/site-packages/sklearn/neighbors/_base.py\u001b[0m in \u001b[0;36m_fit\u001b[0;34m(self, X)\u001b[0m\n\u001b[1;32m    454\u001b[0m                                   **self.effective_metric_params_)\n\u001b[1;32m    455\u001b[0m         \u001b[0;32melif\u001b[0m \u001b[0mself\u001b[0m\u001b[0;34m.\u001b[0m\u001b[0m_fit_method\u001b[0m \u001b[0;34m==\u001b[0m \u001b[0;34m'kd_tree'\u001b[0m\u001b[0;34m:\u001b[0m\u001b[0;34m\u001b[0m\u001b[0;34m\u001b[0m\u001b[0m\n\u001b[0;32m--> 456\u001b[0;31m             self._tree = KDTree(X, self.leaf_size,\n\u001b[0m\u001b[1;32m    457\u001b[0m                                 \u001b[0mmetric\u001b[0m\u001b[0;34m=\u001b[0m\u001b[0mself\u001b[0m\u001b[0;34m.\u001b[0m\u001b[0meffective_metric_\u001b[0m\u001b[0;34m,\u001b[0m\u001b[0;34m\u001b[0m\u001b[0;34m\u001b[0m\u001b[0m\n\u001b[1;32m    458\u001b[0m                                 **self.effective_metric_params_)\n",
      "\u001b[0;31mKeyboardInterrupt\u001b[0m: "
     ]
    }
   ],
   "source": [
    "max_k = 10\n",
    "step = 1\n",
    "results = []\n",
    "for k in range(1, max_k, step):\n",
    "    kresults = []\n",
    "    for seed in range(100):\n",
    "        kresults.append(predict_sample(X, y, k, seed))\n",
    "    results.append(kresults)\n",
    "results = pd.DataFrame(results)\n",
    "fig, ax = plt.subplots(figsize=(12, 8))\n",
    "\n",
    "data = np.array(results.T)\n",
    "ax.boxplot(data, labels=range(1, max_k, step))\n",
    "ax.set_xlabel(\"k\")\n",
    "ax.set_ylabel(\"MSE\")\n",
    "ax.set_title(\"MSE of kNN on Cars for Various k\")\n",
    "plt.show()"
   ]
  },
  {
   "cell_type": "code",
   "execution_count": null,
   "metadata": {},
   "outputs": [],
   "source": []
  },
  {
   "cell_type": "code",
   "execution_count": null,
   "metadata": {},
   "outputs": [],
   "source": []
  },
  {
   "cell_type": "markdown",
   "metadata": {},
   "source": [
    "## Scaling Data \n",
    "\n",
    "When dealing with models that measure distance it is important to scale the data so that it is in the same format.  All the plots we have looked at so far have been automatically scaled by matplotlib but lets look at a example to highlight the importance.\n",
    "\n",
    "Below we are looking a the score on a exam given the amount of classes attended by the student and the hours they studied.\n"
   ]
  },
  {
   "cell_type": "code",
   "execution_count": null,
   "metadata": {},
   "outputs": [],
   "source": [
    "x = [.1, .2, .65, .75, .9]\n",
    "y = [3, 2, 16, 17, 19]\n",
    "c = [.2, .3, .7, .8, .7] \n",
    "x_1 = .8\n",
    "y_1 = 8.5\n",
    "fig, ax = plt.subplots(figsize=(8, 6))\n",
    "ax.scatter(x, y)\n",
    "ax.scatter([x_1],[y_1],s=[170], marker='x')\n",
    "ax.set_xlabel('% Class Attended')\n",
    "ax.set_ylabel('Hours Study')\n",
    "ax.set_title('Score on Exam')\n",
    "\n",
    "\n",
    "for i, txt in enumerate(c):\n",
    "    ax.annotate(str(txt), (x[i], y[i]), fontsize=12)\n",
    "    "
   ]
  },
  {
   "cell_type": "code",
   "execution_count": null,
   "metadata": {},
   "outputs": [],
   "source": [
    "fig, ax = plt.subplots()\n",
    "plot_distances(ax, x, y, c, x_1, y_1)"
   ]
  },
  {
   "cell_type": "markdown",
   "metadata": {},
   "source": [
    "Are these the values you expected? Why not?  \n",
    "   \n",
    "## Looking at the data on the proper scale"
   ]
  },
  {
   "cell_type": "code",
   "execution_count": null,
   "metadata": {},
   "outputs": [],
   "source": [
    "fig, ax = plt.subplots(figsize=(8, 6))\n",
    "ax.scatter(x, y)\n",
    "ax.set_xlim([0,20])\n",
    "ax.set_ylim([0,20])\n",
    "ax.scatter([x_1],[y_1],s=[170], marker='x')\n",
    "ax.set_xlabel('% Class Attended')\n",
    "ax.set_ylabel('Hours Study')\n",
    "ax.set_title('Score on Exam')\n",
    "\n",
    "\n",
    "for i, txt in enumerate(c):\n",
    "    ax.annotate(str(txt), (x[i], y[i]), fontsize=12)\n",
    "    \n"
   ]
  },
  {
   "cell_type": "markdown",
   "metadata": {},
   "source": [
    "There are several functions we can use built into SKLearn to scale the data to avoid this issue.   \n",
    "     \n",
    "The [Standard Scaler](https://scikit-learn.org/stable/modules/generated/sklearn.preprocessing.StandardScaler.html) which uses the formula of:\n",
    "$$\n",
    "z_i = \\frac{x_i-\\mu}{s}\n",
    "$$\n",
    "and [MinMaxScaler](https://scikit-learn.org/stable/modules/generated/sklearn.preprocessing.MinMaxScaler.html). with formula:\n",
    "$$\n",
    "z_i = \\frac{x_i - min(x)} {max(x) - min(x)}\n",
    "$$"
   ]
  },
  {
   "cell_type": "markdown",
   "metadata": {},
   "source": [
    "# These are SKlearn transformers \n",
    "\n",
    "What does the layout of a transformer look like?"
   ]
  },
  {
   "cell_type": "code",
   "execution_count": null,
   "metadata": {},
   "outputs": [],
   "source": [
    "class MyStandardScaler():\n",
    "\n",
    "    def __init__(self):\n",
    "        pass\n",
    "\n",
    "    def fit(self, X, y=None):\n",
    "        self._var = X.values.var(axis=0)\n",
    "        self._mean = X.values.mean(axis=0)\n",
    "        return self\n",
    "\n",
    "    def transform(self, X):\n",
    "        X -= self._mean\n",
    "        X /= self._var\n",
    "        return X\n",
    "\n",
    "    def fit_transform(self, X):\n",
    "        self.fit(X)\n",
    "        return self.transform(X)"
   ]
  },
  {
   "cell_type": "code",
   "execution_count": null,
   "metadata": {},
   "outputs": [],
   "source": [
    "scaler = MyStandardScaler()"
   ]
  },
  {
   "cell_type": "code",
   "execution_count": null,
   "metadata": {},
   "outputs": [],
   "source": [
    "cars[['displacement','horsepower']].head()"
   ]
  },
  {
   "cell_type": "code",
   "execution_count": null,
   "metadata": {},
   "outputs": [],
   "source": [
    "scaler.fit(cars[['displacement','horsepower']])"
   ]
  },
  {
   "cell_type": "code",
   "execution_count": null,
   "metadata": {},
   "outputs": [],
   "source": [
    "scaler.transform(cars[['displacement','horsepower']])"
   ]
  },
  {
   "cell_type": "code",
   "execution_count": null,
   "metadata": {},
   "outputs": [],
   "source": []
  },
  {
   "cell_type": "markdown",
   "metadata": {},
   "source": [
    "# Curse of Dimensionality\n",
    "\n",
    "### Perspective 1: Sample Density\n",
    "\n",
    "Sampling density is proportional to $$N^\\frac{1}{p}$$\n",
    "\n",
    "where N is the number of samples and p is the number of dimensions.\n",
    "\n",
    "Let's consider a data set with 100 samples that all have only one feature/predictor. But, you feel that one feature doesn't tell you enough to properly predict anything, so you set out to collect new data. The new data will have ten features/predictors for each sample. How many samples do we need to have an equally dense sample as our original dataset?\n",
    "\n",
    "#### Original Sample\n",
    "\n",
    "$$\\begin{align}\n",
    "          density & = N^\\frac{1}{p} \\\\\n",
    "          & = 100^\\frac{1}{1} \\\\\n",
    "          & = 100 \n",
    "\\end{align}$$\n",
    "\n",
    "#### New Sample\n",
    "\n",
    "$$\\begin{align}\n",
    "          N & = density^ p \\\\\n",
    "          &= 100^{10} \\\\\n",
    "          &= 100,000,000,000,000,000,000\n",
    "\\end{align}$$\n",
    "\n",
    "No big, just one hundred quadrillion samples...\n",
    "\n",
    "### Perspective 2: Loss of Locality\n",
    "\n",
    "As we increase dimensionality, we lose the concept of locality and things get infinitely far apart. More precisely, samples that are similar no longer look similar and \"closeness\" becomes more arbitrary than meaningful. \n",
    "\n",
    "For example, in Euclidean distance we must be close in ***all*** dimensions to be considered close. If points are close in 2 of 3 dimensions, but far in the 3rd dimension then all points will be far apart.\n",
    "\n"
   ]
  },
  {
   "cell_type": "code",
   "execution_count": null,
   "metadata": {},
   "outputs": [],
   "source": []
  },
  {
   "cell_type": "markdown",
   "metadata": {},
   "source": [
    "# Back to Classification"
   ]
  },
  {
   "cell_type": "code",
   "execution_count": null,
   "metadata": {},
   "outputs": [],
   "source": [
    "#Load in iris dataset\n",
    "iris = datasets.load_iris()\n",
    "X = iris[\"data\"]\n",
    "y = iris[\"target\"]\n",
    "\n",
    "#Reduce the data down to 2 classes and 2 predictor variables\n",
    "X = X[y != 0, :2] \n",
    "\n",
    "#Add some noise so data points aren't exactly duplicated\n",
    "X = X + np.random.normal(0, .05, size = X.shape)\n",
    "\n",
    "#Change Sepal Length from cm to mm to cause scaling issues\n",
    "X[:,0] = X[:,0] * 10\n",
    "y = y[y != 0] - 1"
   ]
  },
  {
   "cell_type": "code",
   "execution_count": null,
   "metadata": {},
   "outputs": [],
   "source": [
    "def plot_flower_data(ax, X, y):\n",
    "    ax.scatter(X[y == 0,0], X[y == 0,1], c = \"orange\", label = \"versicolor\")\n",
    "    ax.scatter(X[y == 1, 0], X[y == 1, 1], color = \"black\", label = \"virginica\")\n",
    "    ax.set_xlabel(\"Sepal Length (mm)\")\n",
    "    ax.set_ylabel(\"Sepal Width (cm)\")\n",
    "    ax.legend()\n"
   ]
  },
  {
   "cell_type": "code",
   "execution_count": null,
   "metadata": {},
   "outputs": [],
   "source": [
    "fig, ax = plt.subplots(figsize=(8, 6))\n",
    "plot_flower_data(ax, X, y)"
   ]
  },
  {
   "cell_type": "markdown",
   "metadata": {},
   "source": [
    "What do we predict for different values of k?"
   ]
  },
  {
   "cell_type": "code",
   "execution_count": null,
   "metadata": {},
   "outputs": [],
   "source": [
    "def plot_mult_decision_boundary(ax, X, y, k, scaled=True, \n",
    "                                title='Title', xlabel='xlabel', \n",
    "                                ylabel='ylabel', hard_class = True):\n",
    "    \n",
    "    \"\"\"Plot the decision boundary of a kNN classifier.\n",
    "    \n",
    "    Builds and fits a sklearn kNN classifier internally.\n",
    "\n",
    "    X must contain only 2 continuous features.\n",
    "\n",
    "    Function modeled on sci-kit learn example.\n",
    "\n",
    "    Parameters\n",
    "    ----------\n",
    "    ax: Matplotlib axes object\n",
    "        The plot to draw the data and boundary on\n",
    "        \n",
    "    X: numpy array\n",
    "        Training data\n",
    "    \n",
    "    y: numpy array\n",
    "        Target labels\n",
    "    \n",
    "    k: int\n",
    "        The number of neighbors that get a vote.\n",
    "        \n",
    "    scaled: boolean, optional (default=True)\n",
    "        If true scales the features, else uses features in original units\n",
    "    \n",
    "    title: string, optional (default = 'Title')\n",
    "        A string for the title of the plot\n",
    "    \n",
    "    xlabel: string, optional (default = 'xlabel')\n",
    "        A string for the label on the x-axis of the plot\n",
    "    \n",
    "    ylabel: string, optional (default = 'ylabel')\n",
    "        A string for the label on the y-axis of the plot\n",
    "    \n",
    "    hard_class: boolean, optional (default = True)\n",
    "        Use hard (deterministic) boundaries vs. soft (probabilistic) boundaries\n",
    "    \n",
    "\n",
    "    Returns\n",
    "    -------\n",
    "    None\n",
    "    \"\"\"\n",
    "    x_mesh_step_size = 0.1\n",
    "    y_mesh_step_size = 0.01\n",
    "    \n",
    "    #Hard code in colors for classes, one class in red, one in blue\n",
    "    bg_colors = np.array([np.array([255, 150, 150])/255, np.array([150, 150, 255])/255])\n",
    "    cmap_light = ListedColormap(bg_colors)\n",
    "    cmap_bold = ListedColormap(['#FF0000', '#0000FF'])\n",
    "    \n",
    "    #Build a kNN classifier\n",
    "    clf = neighbors.KNeighborsClassifier(n_neighbors=k, weights='uniform')\n",
    "    \n",
    "    if scaled:\n",
    "        #Build pipeline to scale features\n",
    "        clf = make_pipeline(StandardScaler(), clf)\n",
    "        clf.fit(X, y)\n",
    "    else:\n",
    "        clf.fit(X, y)\n",
    "\n",
    "    # Plot the decision boundary. For that, we will assign a color to each\n",
    "    # point in the mesh [x_min, m_max]x[y_min, y_max].\n",
    "    x_min, x_max = 45, 85\n",
    "    y_min, y_max = 2, 4\n",
    "    \n",
    "    xx, yy = np.meshgrid(np.arange(x_min, x_max, x_mesh_step_size),\n",
    "                         np.arange(y_min, y_max, y_mesh_step_size))\n",
    "    if hard_class:\n",
    "        dec_boundary = clf.predict(np.c_[xx.ravel(), yy.ravel()]).reshape(xx.shape)\n",
    "        ax.pcolormesh(xx, yy, dec_boundary, cmap=cmap_light)\n",
    "        ax.scatter(X[:, 0], X[:, 1], c=y, cmap=cmap_bold)\n",
    "    else:\n",
    "        dec_boundary = clf.predict_proba(np.c_[xx.ravel(), yy.ravel()])\n",
    "        colors = dec_boundary.dot(bg_colors)\n",
    "        ax.scatter(X[:, 0], X[:, 1], c=y, cmap=cmap_bold)\n",
    "        ax.imshow(colors.reshape(200, 400, 3), origin = \"lower\", aspect = \"auto\", extent = (x_min, x_max, y_min, y_max))\n",
    "\n",
    "    ax.set_title(title + \", k={0}, scaled={1}\".format(k, scaled))\n",
    "    ax.set_xlabel(xlabel)\n",
    "    ax.set_ylabel(ylabel)\n",
    "    ax.set_xlim((x_min, x_max))\n",
    "    ax.set_ylim((y_min, y_max))"
   ]
  },
  {
   "cell_type": "code",
   "execution_count": null,
   "metadata": {},
   "outputs": [],
   "source": [
    "some_ks = [1, 3, 5, 10, 25, 75]\n",
    "\n",
    "title=\"Iris Decision Boundary\"\n",
    "xlabel=\"Sepal Length (mm)\"\n",
    "ylabel=\"Sepal Width (cm)\"\n",
    "\n",
    "# Building my plot, 3 rows x 2 columns\n",
    "fig, axs = plt.subplots(3, 2, figsize=(14, 14))\n",
    " \n",
    "# Loop through the possible ks, put each decision boundary a separate axes\n",
    "for k, ax in zip(some_ks, axs.flatten()):\n",
    "    plot_mult_decision_boundary(ax, X, y, k=k, title = title, xlabel = xlabel, ylabel = ylabel)\n",
    "\n",
    "# Keep things from overlapping\n",
    "plt.tight_layout()\n",
    "plt.show()"
   ]
  },
  {
   "cell_type": "code",
   "execution_count": null,
   "metadata": {},
   "outputs": [],
   "source": []
  },
  {
   "cell_type": "markdown",
   "metadata": {},
   "source": [
    "# Weighted Voting\n",
    "\n",
    "Let the k nearest points have distances $$d_1, d_2,..., d_k$$\n",
    "\n",
    "The ith point votes with weight of $$\\frac{1}{d_i}$$"
   ]
  },
  {
   "cell_type": "markdown",
   "metadata": {},
   "source": [
    "### Soft kNN\n",
    "\n",
    "But a good classifier will return probabilities, not just classes. With kNN we use the number of neighbors of each class as the probability."
   ]
  },
  {
   "cell_type": "code",
   "execution_count": null,
   "metadata": {},
   "outputs": [],
   "source": [
    "# Building my plot, 3 rows x 2 columns\n",
    "fig, axs = plt.subplots(3, 2, figsize=(14, 14))\n",
    "#ax.imshow()\n",
    "# Loop through the possible ks, put each decision boundary a separate axes\n",
    "for k, ax in zip(some_ks, axs.flatten()):\n",
    "    plot_mult_decision_boundary(ax, X, y, k=k, title = title, xlabel = xlabel, ylabel = ylabel, hard_class = False)\n",
    "\n",
    "# Keep things from overlapping\n",
    "plt.tight_layout()\n",
    "plt.show()"
   ]
  },
  {
   "cell_type": "markdown",
   "metadata": {},
   "source": [
    "## Bias-Variance\n",
    "\n",
    "What is bias and variance?\n",
    "\n",
    "Class discussion: How does changing k affect each? Why?"
   ]
  },
  {
   "cell_type": "code",
   "execution_count": null,
   "metadata": {},
   "outputs": [],
   "source": [
    "# Create samples from a multivariate normal distribution\n",
    "# which approximates the input data\n",
    "def gen_similar_samples(X, y, n_samples = 4, sample_size = 50):\n",
    "    Xs = []\n",
    "    ys = []\n",
    "    for _ in range(n_samples):\n",
    "        Xdata = np.zeros_like(X)\n",
    "        ydata = np.zeros_like(y)\n",
    "        for i, value in enumerate(np.unique(y)):\n",
    "            Xdata[i*sample_size:(i+1)*sample_size] = np.random.multivariate_normal(X[y == value].mean(axis = 0), \n",
    "                                                                                   np.cov(X[y == value].T), \n",
    "                                                                                   sample_size)\n",
    "            ydata[i*sample_size:(i+1)*sample_size] = value\n",
    "        Xs.append(Xdata)\n",
    "        ys.append(ydata)\n",
    "    \n",
    "    return list(zip(Xs, ys))"
   ]
  },
  {
   "cell_type": "code",
   "execution_count": null,
   "metadata": {},
   "outputs": [],
   "source": [
    "fig, axs = plt.subplots(2, 2, figsize=(14, 10))\n",
    "test_data = gen_similar_samples(X, y)\n",
    "for sample, ax in zip(test_data, axs.flatten()):\n",
    "    X_sample = sample[0]\n",
    "    y_sample = sample[1]\n",
    "    plot_mult_decision_boundary(ax, X_sample, y_sample, k=1, title=title, xlabel=xlabel, ylabel=ylabel)\n",
    "\n",
    "plt.tight_layout()\n",
    "# Offset the figure title to make it look nice\n",
    "plt.subplots_adjust(top=0.9)\n",
    "# Set a title for the entire figure\n",
    "plt.suptitle('Low Bias, High Variance', fontsize=20, weight='bold')\n",
    "plt.show()"
   ]
  },
  {
   "cell_type": "code",
   "execution_count": null,
   "metadata": {},
   "outputs": [],
   "source": [
    "fig, axs = plt.subplots(2, 2, figsize=(14, 10))\n",
    "\n",
    "for sample, ax in zip(test_data, axs.flatten()):\n",
    "    X = sample[0]\n",
    "    y = sample[1]\n",
    "    plot_mult_decision_boundary(ax, X, y, k=50, title=title, xlabel=xlabel, ylabel=ylabel)\n",
    "    \n",
    "plt.tight_layout()\n",
    "plt.subplots_adjust(top=0.9)\n",
    "plt.suptitle('High Bias, Low Variance', fontsize=20, weight='bold')\n",
    "plt.show()"
   ]
  },
  {
   "cell_type": "markdown",
   "metadata": {},
   "source": [
    "## Scaling Could Be Important\n",
    "\n",
    "What is going on in these plots?"
   ]
  },
  {
   "cell_type": "code",
   "execution_count": null,
   "metadata": {},
   "outputs": [],
   "source": [
    "fig, axs = plt.subplots(1, 2, figsize=(14, 4))\n",
    "                        \n",
    "plot_mult_decision_boundary(axs[0], X, y, k=1, title=title, xlabel=xlabel, ylabel=ylabel)\n",
    "plot_mult_decision_boundary(axs[1], X, y, k=1, scaled=False, title=title, xlabel=xlabel, ylabel=ylabel)\n",
    "\n",
    "plt.tight_layout()\n",
    "plt.show()"
   ]
  },
  {
   "cell_type": "markdown",
   "metadata": {},
   "source": [
    "The general rule is that if changing the units before building the model will change the predictions, scale the data first."
   ]
  },
  {
   "cell_type": "markdown",
   "metadata": {},
   "source": [
    "## Pros and Cons of kNN\n",
    "\n",
    "**Class discussion:** what do you think they are? Why?"
   ]
  }
 ],
 "metadata": {
  "anaconda-cloud": {},
  "kernelspec": {
   "display_name": "Python 3",
   "language": "python",
   "name": "python3"
  },
  "language_info": {
   "codemirror_mode": {
    "name": "ipython",
    "version": 3
   },
   "file_extension": ".py",
   "mimetype": "text/x-python",
   "name": "python",
   "nbconvert_exporter": "python",
   "pygments_lexer": "ipython3",
   "version": "3.8.2"
  }
 },
 "nbformat": 4,
 "nbformat_minor": 1
}
