{
 "cells": [
  {
   "cell_type": "code",
   "execution_count": 1,
   "metadata": {},
   "outputs": [],
   "source": [
    "import pandas as pd \n",
    "import numpy as np \n",
    "pd.set_option('display.max_columns', None) \n",
    "import matplotlib.pyplot as plt \n",
    "import seaborn as sns \n",
    "%matplotlib inline\n",
    "plt.rcParams['figure.dpi'] = 200"
   ]
  },
  {
   "cell_type": "code",
   "execution_count": 2,
   "metadata": {},
   "outputs": [],
   "source": [
    "df_ = pd.read_csv('/home/allen/Galva/capstones/capstone2/src/explore/ready12_24_train.csv')"
   ]
  },
  {
   "cell_type": "code",
   "execution_count": 3,
   "metadata": {},
   "outputs": [],
   "source": [
    "df2 = pd.read_csv('/home/allen/Galva/capstones/capstone2/src/explore/train_4_model.csv')"
   ]
  },
  {
   "cell_type": "code",
   "execution_count": 4,
   "metadata": {},
   "outputs": [
    {
     "data": {
      "text/plain": [
       "Index(['Var1', 'Var2', 'Var3', 'Var4', 'Var5', 'y_target', 'delta_first_reg',\n",
       "       'interaction_regreister_delta', 'delta_first_start', 'delta_reg_end',\n",
       "       'Camp_Length', 'Second', 'Third', '1036', '1216', '1217', '1352',\n",
       "       '1704', '1729', '2517', '2662', '23384', 'B', 'C', 'D', 'E', 'F', 'G',\n",
       "       '2100', '2.0', '3.0', '4.0', '5.0', '6.0', '7.0', '8.0', '9.0', '10.0',\n",
       "       '11.0', '12.0', '13.0', '14.0', '9999.0', '1', '2', '3', '4'],\n",
       "      dtype='object')"
      ]
     },
     "execution_count": 4,
     "metadata": {},
     "output_type": "execute_result"
    }
   ],
   "source": [
    "df2.columns"
   ]
  },
  {
   "cell_type": "code",
   "execution_count": 5,
   "metadata": {},
   "outputs": [],
   "source": [
    "df2_ = df2.drop(['delta_first_reg','interaction_regreister_delta', 'delta_first_start', 'delta_reg_end',\n",
    "       'Camp_Length', 'Second', 'B', 'C', 'D', 'E', 'F', 'G', '1', '2', '3', '4'], axis=1)"
   ]
  },
  {
   "cell_type": "code",
   "execution_count": null,
   "metadata": {},
   "outputs": [],
   "source": []
  },
  {
   "cell_type": "code",
   "execution_count": 6,
   "metadata": {},
   "outputs": [
    {
     "data": {
      "text/html": [
       "<div>\n",
       "<style scoped>\n",
       "    .dataframe tbody tr th:only-of-type {\n",
       "        vertical-align: middle;\n",
       "    }\n",
       "\n",
       "    .dataframe tbody tr th {\n",
       "        vertical-align: top;\n",
       "    }\n",
       "\n",
       "    .dataframe thead th {\n",
       "        text-align: right;\n",
       "    }\n",
       "</style>\n",
       "<table border=\"1\" class=\"dataframe\">\n",
       "  <thead>\n",
       "    <tr style=\"text-align: right;\">\n",
       "      <th></th>\n",
       "      <th>Var1</th>\n",
       "      <th>Var2</th>\n",
       "      <th>Var3</th>\n",
       "      <th>Var4</th>\n",
       "      <th>Var5</th>\n",
       "      <th>y_target</th>\n",
       "      <th>Third</th>\n",
       "      <th>1036</th>\n",
       "      <th>1216</th>\n",
       "      <th>1217</th>\n",
       "      <th>1352</th>\n",
       "      <th>1704</th>\n",
       "      <th>1729</th>\n",
       "      <th>2517</th>\n",
       "      <th>2662</th>\n",
       "      <th>23384</th>\n",
       "      <th>2100</th>\n",
       "      <th>2.0</th>\n",
       "      <th>3.0</th>\n",
       "      <th>4.0</th>\n",
       "      <th>5.0</th>\n",
       "      <th>6.0</th>\n",
       "      <th>7.0</th>\n",
       "      <th>8.0</th>\n",
       "      <th>9.0</th>\n",
       "      <th>10.0</th>\n",
       "      <th>11.0</th>\n",
       "      <th>12.0</th>\n",
       "      <th>13.0</th>\n",
       "      <th>14.0</th>\n",
       "      <th>9999.0</th>\n",
       "    </tr>\n",
       "  </thead>\n",
       "  <tbody>\n",
       "    <tr>\n",
       "      <th>0</th>\n",
       "      <td>0.420086</td>\n",
       "      <td>-0.063285</td>\n",
       "      <td>-0.019631</td>\n",
       "      <td>-0.11236</td>\n",
       "      <td>1.442928</td>\n",
       "      <td>1.0</td>\n",
       "      <td>1</td>\n",
       "      <td>0</td>\n",
       "      <td>0</td>\n",
       "      <td>0</td>\n",
       "      <td>0</td>\n",
       "      <td>0</td>\n",
       "      <td>0</td>\n",
       "      <td>0</td>\n",
       "      <td>0</td>\n",
       "      <td>1</td>\n",
       "      <td>1</td>\n",
       "      <td>0</td>\n",
       "      <td>0</td>\n",
       "      <td>0</td>\n",
       "      <td>0</td>\n",
       "      <td>0</td>\n",
       "      <td>0</td>\n",
       "      <td>0</td>\n",
       "      <td>0</td>\n",
       "      <td>0</td>\n",
       "      <td>0</td>\n",
       "      <td>0</td>\n",
       "      <td>0</td>\n",
       "      <td>0</td>\n",
       "      <td>1</td>\n",
       "    </tr>\n",
       "    <tr>\n",
       "      <th>1</th>\n",
       "      <td>-0.104391</td>\n",
       "      <td>-0.063285</td>\n",
       "      <td>-0.019631</td>\n",
       "      <td>-0.11236</td>\n",
       "      <td>-0.204613</td>\n",
       "      <td>0.0</td>\n",
       "      <td>0</td>\n",
       "      <td>0</td>\n",
       "      <td>0</td>\n",
       "      <td>0</td>\n",
       "      <td>0</td>\n",
       "      <td>0</td>\n",
       "      <td>0</td>\n",
       "      <td>0</td>\n",
       "      <td>0</td>\n",
       "      <td>1</td>\n",
       "      <td>1</td>\n",
       "      <td>0</td>\n",
       "      <td>0</td>\n",
       "      <td>0</td>\n",
       "      <td>0</td>\n",
       "      <td>0</td>\n",
       "      <td>0</td>\n",
       "      <td>0</td>\n",
       "      <td>0</td>\n",
       "      <td>0</td>\n",
       "      <td>0</td>\n",
       "      <td>0</td>\n",
       "      <td>0</td>\n",
       "      <td>0</td>\n",
       "      <td>1</td>\n",
       "    </tr>\n",
       "    <tr>\n",
       "      <th>2</th>\n",
       "      <td>0.420086</td>\n",
       "      <td>-0.063285</td>\n",
       "      <td>-0.019631</td>\n",
       "      <td>-0.11236</td>\n",
       "      <td>1.442928</td>\n",
       "      <td>0.0</td>\n",
       "      <td>0</td>\n",
       "      <td>0</td>\n",
       "      <td>0</td>\n",
       "      <td>0</td>\n",
       "      <td>0</td>\n",
       "      <td>0</td>\n",
       "      <td>0</td>\n",
       "      <td>0</td>\n",
       "      <td>0</td>\n",
       "      <td>1</td>\n",
       "      <td>1</td>\n",
       "      <td>0</td>\n",
       "      <td>0</td>\n",
       "      <td>0</td>\n",
       "      <td>0</td>\n",
       "      <td>0</td>\n",
       "      <td>0</td>\n",
       "      <td>0</td>\n",
       "      <td>0</td>\n",
       "      <td>0</td>\n",
       "      <td>0</td>\n",
       "      <td>0</td>\n",
       "      <td>0</td>\n",
       "      <td>0</td>\n",
       "      <td>1</td>\n",
       "    </tr>\n",
       "    <tr>\n",
       "      <th>3</th>\n",
       "      <td>-0.104391</td>\n",
       "      <td>-0.063285</td>\n",
       "      <td>-0.019631</td>\n",
       "      <td>-0.11236</td>\n",
       "      <td>-0.204613</td>\n",
       "      <td>0.0</td>\n",
       "      <td>0</td>\n",
       "      <td>0</td>\n",
       "      <td>0</td>\n",
       "      <td>0</td>\n",
       "      <td>0</td>\n",
       "      <td>0</td>\n",
       "      <td>0</td>\n",
       "      <td>0</td>\n",
       "      <td>0</td>\n",
       "      <td>1</td>\n",
       "      <td>1</td>\n",
       "      <td>0</td>\n",
       "      <td>0</td>\n",
       "      <td>0</td>\n",
       "      <td>0</td>\n",
       "      <td>0</td>\n",
       "      <td>0</td>\n",
       "      <td>0</td>\n",
       "      <td>0</td>\n",
       "      <td>0</td>\n",
       "      <td>0</td>\n",
       "      <td>0</td>\n",
       "      <td>0</td>\n",
       "      <td>0</td>\n",
       "      <td>1</td>\n",
       "    </tr>\n",
       "    <tr>\n",
       "      <th>4</th>\n",
       "      <td>-0.104391</td>\n",
       "      <td>-0.063285</td>\n",
       "      <td>-0.019631</td>\n",
       "      <td>-0.11236</td>\n",
       "      <td>-0.204613</td>\n",
       "      <td>0.0</td>\n",
       "      <td>0</td>\n",
       "      <td>0</td>\n",
       "      <td>0</td>\n",
       "      <td>0</td>\n",
       "      <td>0</td>\n",
       "      <td>0</td>\n",
       "      <td>0</td>\n",
       "      <td>0</td>\n",
       "      <td>0</td>\n",
       "      <td>1</td>\n",
       "      <td>1</td>\n",
       "      <td>0</td>\n",
       "      <td>0</td>\n",
       "      <td>0</td>\n",
       "      <td>0</td>\n",
       "      <td>0</td>\n",
       "      <td>0</td>\n",
       "      <td>0</td>\n",
       "      <td>0</td>\n",
       "      <td>0</td>\n",
       "      <td>0</td>\n",
       "      <td>0</td>\n",
       "      <td>0</td>\n",
       "      <td>0</td>\n",
       "      <td>1</td>\n",
       "    </tr>\n",
       "    <tr>\n",
       "      <th>...</th>\n",
       "      <td>...</td>\n",
       "      <td>...</td>\n",
       "      <td>...</td>\n",
       "      <td>...</td>\n",
       "      <td>...</td>\n",
       "      <td>...</td>\n",
       "      <td>...</td>\n",
       "      <td>...</td>\n",
       "      <td>...</td>\n",
       "      <td>...</td>\n",
       "      <td>...</td>\n",
       "      <td>...</td>\n",
       "      <td>...</td>\n",
       "      <td>...</td>\n",
       "      <td>...</td>\n",
       "      <td>...</td>\n",
       "      <td>...</td>\n",
       "      <td>...</td>\n",
       "      <td>...</td>\n",
       "      <td>...</td>\n",
       "      <td>...</td>\n",
       "      <td>...</td>\n",
       "      <td>...</td>\n",
       "      <td>...</td>\n",
       "      <td>...</td>\n",
       "      <td>...</td>\n",
       "      <td>...</td>\n",
       "      <td>...</td>\n",
       "      <td>...</td>\n",
       "      <td>...</td>\n",
       "      <td>...</td>\n",
       "    </tr>\n",
       "    <tr>\n",
       "      <th>75273</th>\n",
       "      <td>-0.104391</td>\n",
       "      <td>-0.063285</td>\n",
       "      <td>-0.019631</td>\n",
       "      <td>-0.11236</td>\n",
       "      <td>-0.204613</td>\n",
       "      <td>0.0</td>\n",
       "      <td>0</td>\n",
       "      <td>0</td>\n",
       "      <td>0</td>\n",
       "      <td>0</td>\n",
       "      <td>0</td>\n",
       "      <td>0</td>\n",
       "      <td>0</td>\n",
       "      <td>0</td>\n",
       "      <td>0</td>\n",
       "      <td>1</td>\n",
       "      <td>1</td>\n",
       "      <td>0</td>\n",
       "      <td>0</td>\n",
       "      <td>0</td>\n",
       "      <td>0</td>\n",
       "      <td>0</td>\n",
       "      <td>0</td>\n",
       "      <td>0</td>\n",
       "      <td>0</td>\n",
       "      <td>0</td>\n",
       "      <td>0</td>\n",
       "      <td>0</td>\n",
       "      <td>0</td>\n",
       "      <td>0</td>\n",
       "      <td>1</td>\n",
       "    </tr>\n",
       "    <tr>\n",
       "      <th>75274</th>\n",
       "      <td>-0.104391</td>\n",
       "      <td>-0.063285</td>\n",
       "      <td>-0.019631</td>\n",
       "      <td>-0.11236</td>\n",
       "      <td>-0.204613</td>\n",
       "      <td>1.0</td>\n",
       "      <td>1</td>\n",
       "      <td>0</td>\n",
       "      <td>0</td>\n",
       "      <td>0</td>\n",
       "      <td>0</td>\n",
       "      <td>0</td>\n",
       "      <td>1</td>\n",
       "      <td>0</td>\n",
       "      <td>0</td>\n",
       "      <td>0</td>\n",
       "      <td>1</td>\n",
       "      <td>0</td>\n",
       "      <td>0</td>\n",
       "      <td>0</td>\n",
       "      <td>0</td>\n",
       "      <td>0</td>\n",
       "      <td>0</td>\n",
       "      <td>0</td>\n",
       "      <td>0</td>\n",
       "      <td>0</td>\n",
       "      <td>0</td>\n",
       "      <td>0</td>\n",
       "      <td>0</td>\n",
       "      <td>0</td>\n",
       "      <td>1</td>\n",
       "    </tr>\n",
       "    <tr>\n",
       "      <th>75275</th>\n",
       "      <td>-0.104391</td>\n",
       "      <td>-0.063285</td>\n",
       "      <td>-0.019631</td>\n",
       "      <td>-0.11236</td>\n",
       "      <td>-0.204613</td>\n",
       "      <td>1.0</td>\n",
       "      <td>0</td>\n",
       "      <td>0</td>\n",
       "      <td>0</td>\n",
       "      <td>0</td>\n",
       "      <td>0</td>\n",
       "      <td>0</td>\n",
       "      <td>0</td>\n",
       "      <td>0</td>\n",
       "      <td>0</td>\n",
       "      <td>1</td>\n",
       "      <td>1</td>\n",
       "      <td>0</td>\n",
       "      <td>0</td>\n",
       "      <td>0</td>\n",
       "      <td>0</td>\n",
       "      <td>0</td>\n",
       "      <td>0</td>\n",
       "      <td>0</td>\n",
       "      <td>0</td>\n",
       "      <td>0</td>\n",
       "      <td>0</td>\n",
       "      <td>0</td>\n",
       "      <td>0</td>\n",
       "      <td>0</td>\n",
       "      <td>1</td>\n",
       "    </tr>\n",
       "    <tr>\n",
       "      <th>75276</th>\n",
       "      <td>-0.104391</td>\n",
       "      <td>-0.063285</td>\n",
       "      <td>-0.019631</td>\n",
       "      <td>-0.11236</td>\n",
       "      <td>-0.204613</td>\n",
       "      <td>0.0</td>\n",
       "      <td>0</td>\n",
       "      <td>0</td>\n",
       "      <td>0</td>\n",
       "      <td>0</td>\n",
       "      <td>0</td>\n",
       "      <td>0</td>\n",
       "      <td>0</td>\n",
       "      <td>0</td>\n",
       "      <td>0</td>\n",
       "      <td>1</td>\n",
       "      <td>1</td>\n",
       "      <td>0</td>\n",
       "      <td>0</td>\n",
       "      <td>0</td>\n",
       "      <td>0</td>\n",
       "      <td>0</td>\n",
       "      <td>0</td>\n",
       "      <td>0</td>\n",
       "      <td>0</td>\n",
       "      <td>0</td>\n",
       "      <td>0</td>\n",
       "      <td>0</td>\n",
       "      <td>0</td>\n",
       "      <td>0</td>\n",
       "      <td>1</td>\n",
       "    </tr>\n",
       "    <tr>\n",
       "      <th>75277</th>\n",
       "      <td>-0.104391</td>\n",
       "      <td>-0.063285</td>\n",
       "      <td>-0.019631</td>\n",
       "      <td>-0.11236</td>\n",
       "      <td>-0.204613</td>\n",
       "      <td>0.0</td>\n",
       "      <td>0</td>\n",
       "      <td>0</td>\n",
       "      <td>0</td>\n",
       "      <td>0</td>\n",
       "      <td>0</td>\n",
       "      <td>1</td>\n",
       "      <td>0</td>\n",
       "      <td>0</td>\n",
       "      <td>0</td>\n",
       "      <td>0</td>\n",
       "      <td>1</td>\n",
       "      <td>0</td>\n",
       "      <td>0</td>\n",
       "      <td>0</td>\n",
       "      <td>0</td>\n",
       "      <td>0</td>\n",
       "      <td>0</td>\n",
       "      <td>0</td>\n",
       "      <td>0</td>\n",
       "      <td>0</td>\n",
       "      <td>0</td>\n",
       "      <td>0</td>\n",
       "      <td>0</td>\n",
       "      <td>0</td>\n",
       "      <td>1</td>\n",
       "    </tr>\n",
       "  </tbody>\n",
       "</table>\n",
       "<p>75278 rows × 31 columns</p>\n",
       "</div>"
      ],
      "text/plain": [
       "           Var1      Var2      Var3     Var4      Var5  y_target  Third  1036  \\\n",
       "0      0.420086 -0.063285 -0.019631 -0.11236  1.442928       1.0      1     0   \n",
       "1     -0.104391 -0.063285 -0.019631 -0.11236 -0.204613       0.0      0     0   \n",
       "2      0.420086 -0.063285 -0.019631 -0.11236  1.442928       0.0      0     0   \n",
       "3     -0.104391 -0.063285 -0.019631 -0.11236 -0.204613       0.0      0     0   \n",
       "4     -0.104391 -0.063285 -0.019631 -0.11236 -0.204613       0.0      0     0   \n",
       "...         ...       ...       ...      ...       ...       ...    ...   ...   \n",
       "75273 -0.104391 -0.063285 -0.019631 -0.11236 -0.204613       0.0      0     0   \n",
       "75274 -0.104391 -0.063285 -0.019631 -0.11236 -0.204613       1.0      1     0   \n",
       "75275 -0.104391 -0.063285 -0.019631 -0.11236 -0.204613       1.0      0     0   \n",
       "75276 -0.104391 -0.063285 -0.019631 -0.11236 -0.204613       0.0      0     0   \n",
       "75277 -0.104391 -0.063285 -0.019631 -0.11236 -0.204613       0.0      0     0   \n",
       "\n",
       "       1216  1217  1352  1704  1729  2517  2662  23384  2100  2.0  3.0  4.0  \\\n",
       "0         0     0     0     0     0     0     0      1     1    0    0    0   \n",
       "1         0     0     0     0     0     0     0      1     1    0    0    0   \n",
       "2         0     0     0     0     0     0     0      1     1    0    0    0   \n",
       "3         0     0     0     0     0     0     0      1     1    0    0    0   \n",
       "4         0     0     0     0     0     0     0      1     1    0    0    0   \n",
       "...     ...   ...   ...   ...   ...   ...   ...    ...   ...  ...  ...  ...   \n",
       "75273     0     0     0     0     0     0     0      1     1    0    0    0   \n",
       "75274     0     0     0     0     1     0     0      0     1    0    0    0   \n",
       "75275     0     0     0     0     0     0     0      1     1    0    0    0   \n",
       "75276     0     0     0     0     0     0     0      1     1    0    0    0   \n",
       "75277     0     0     0     1     0     0     0      0     1    0    0    0   \n",
       "\n",
       "       5.0  6.0  7.0  8.0  9.0  10.0  11.0  12.0  13.0  14.0  9999.0  \n",
       "0        0    0    0    0    0     0     0     0     0     0       1  \n",
       "1        0    0    0    0    0     0     0     0     0     0       1  \n",
       "2        0    0    0    0    0     0     0     0     0     0       1  \n",
       "3        0    0    0    0    0     0     0     0     0     0       1  \n",
       "4        0    0    0    0    0     0     0     0     0     0       1  \n",
       "...    ...  ...  ...  ...  ...   ...   ...   ...   ...   ...     ...  \n",
       "75273    0    0    0    0    0     0     0     0     0     0       1  \n",
       "75274    0    0    0    0    0     0     0     0     0     0       1  \n",
       "75275    0    0    0    0    0     0     0     0     0     0       1  \n",
       "75276    0    0    0    0    0     0     0     0     0     0       1  \n",
       "75277    0    0    0    0    0     0     0     0     0     0       1  \n",
       "\n",
       "[75278 rows x 31 columns]"
      ]
     },
     "execution_count": 6,
     "metadata": {},
     "output_type": "execute_result"
    }
   ],
   "source": [
    "df2_"
   ]
  },
  {
   "cell_type": "code",
   "execution_count": null,
   "metadata": {},
   "outputs": [],
   "source": []
  },
  {
   "cell_type": "code",
   "execution_count": null,
   "metadata": {},
   "outputs": [],
   "source": []
  },
  {
   "cell_type": "code",
   "execution_count": 25,
   "metadata": {},
   "outputs": [
    {
     "name": "stdout",
     "output_type": "stream",
     "text": [
      "30\n"
     ]
    }
   ],
   "source": [
    "vals = df2_['Var5'].values\n",
    "d_vals = {}\n",
    "for i in vals:\n",
    "    if i not in d_vals:\n",
    "        d_vals[i]=1\n",
    "    else:\n",
    "        d_vals[i]+=1\n",
    "print(len(d_vals))"
   ]
  },
  {
   "cell_type": "code",
   "execution_count": 8,
   "metadata": {},
   "outputs": [],
   "source": [
    "# Var1={0,300,20}, 9999.0, 23384,Var5 = {0,35,6}"
   ]
  },
  {
   "cell_type": "code",
   "execution_count": 26,
   "metadata": {},
   "outputs": [
    {
     "data": {
      "text/plain": [
       "(array([2., 1., 1., 1., 1., 1., 1., 1., 1., 1., 1., 1., 1., 1., 1., 1., 1.,\n",
       "        1., 1., 1., 1., 1., 1., 1., 1., 1., 1., 0., 1., 1.]),\n",
       " array([-0.20461305,  0.64661648,  1.49784601,  2.34907555,  3.20030508,\n",
       "         4.05153461,  4.90276414,  5.75399367,  6.60522321,  7.45645274,\n",
       "         8.30768227,  9.1589118 , 10.01014133, 10.86137087, 11.7126004 ,\n",
       "        12.56382993, 13.41505946, 14.26628899, 15.11751852, 15.96874806,\n",
       "        16.81997759, 17.67120712, 18.52243665, 19.37366618, 20.22489572,\n",
       "        21.07612525, 21.92735478, 22.77858431, 23.62981384, 24.48104337,\n",
       "        25.33227291]),\n",
       " <BarContainer object of 30 artists>)"
      ]
     },
     "execution_count": 26,
     "metadata": {},
     "output_type": "execute_result"
    },
    {
     "data": {
      "image/png": "[encoded data removed]",
      "text/plain": [
       "<Figure size 1200x800 with 1 Axes>"
      ]
     },
     "metadata": {
      "needs_background": "light"
     },
     "output_type": "display_data"
    }
   ],
   "source": [
    "plt.hist(d_vals, bins = 30)"
   ]
  },
  {
   "cell_type": "code",
   "execution_count": null,
   "metadata": {},
   "outputs": [],
   "source": []
  },
  {
   "cell_type": "code",
   "execution_count": 10,
   "metadata": {},
   "outputs": [],
   "source": [
    "df2_['Column 9999']= df2_['9999.0'].apply(lambda x: 1 if x ==1 else 0)"
   ]
  },
  {
   "cell_type": "code",
   "execution_count": 11,
   "metadata": {},
   "outputs": [],
   "source": [
    "df2_['Column 23384']=df2_['23384'].apply(lambda x: 1 if x==1 else 0)"
   ]
  },
  {
   "cell_type": "code",
   "execution_count": null,
   "metadata": {},
   "outputs": [],
   "source": []
  },
  {
   "cell_type": "code",
   "execution_count": 12,
   "metadata": {},
   "outputs": [],
   "source": [
    "# Var1={0,300,20} Var5 = {0,35,6}"
   ]
  },
  {
   "cell_type": "code",
   "execution_count": 13,
   "metadata": {},
   "outputs": [],
   "source": [
    "Var1={0,300,20}, "
   ]
  },
  {
   "cell_type": "code",
   "execution_count": 14,
   "metadata": {},
   "outputs": [
    {
     "name": "stdout",
     "output_type": "stream",
     "text": [
      "Index(['Var1', 'Var2', 'Var3', 'Var4', 'Var5', 'y_target', 'Third', '1036',\n",
      "       '1216', '1217', '1352', '1704', '1729', '2517', '2662', '23384', '2100',\n",
      "       '2.0', '3.0', '4.0', '5.0', '6.0', '7.0', '8.0', '9.0', '10.0', '11.0',\n",
      "       '12.0', '13.0', '14.0', '9999.0', 'Column 9999', 'Column 23384',\n",
      "       '0 to 5 Var5', '6 to 11 Var5'],\n",
      "      dtype='object')\n"
     ]
    }
   ],
   "source": [
    "df2_['0 to 5 Var5'] =  df2_['Var5'].apply( lambda x: 1 if x <5 and x>= 0 else 0)\n",
    "df2_['6 to 11 Var5'] =  df2_['Var5'].apply( lambda x: 1 if x <11 and x>= 6 else 0)\n",
    "print(df2_.columns)\n",
    "df2_['12 to 17 Var5'] =  df2_['Var5'].apply( lambda x: 1 if x <17 and x>= 12 else 0)\n",
    "df2_['18 to 23 Var5'] =  df2_['Var5'].apply( lambda x: 1 if x <23 and x>=17 else 0)\n",
    "df2_['24 to 29 Var5'] =  df2_['Var5'].apply( lambda x: 1 if x <29 and x>=23 else 0)\n",
    "df2_['30 to 35 Var5'] =  df2_['Var5'].apply( lambda x: 1 if x <35 and x>=30 else 0)"
   ]
  },
  {
   "cell_type": "code",
   "execution_count": null,
   "metadata": {},
   "outputs": [],
   "source": []
  },
  {
   "cell_type": "code",
   "execution_count": 15,
   "metadata": {},
   "outputs": [
    {
     "name": "stdout",
     "output_type": "stream",
     "text": [
      "[  0  20  40  60  80 100 120 140 160 180 200 220 240 260 280 300]\n"
     ]
    }
   ],
   "source": [
    "print(np.arange(0,320,20))"
   ]
  },
  {
   "cell_type": "code",
   "execution_count": 16,
   "metadata": {},
   "outputs": [
    {
     "name": "stdout",
     "output_type": "stream",
     "text": [
      "Index(['Var1', 'Var2', 'Var3', 'Var4', 'Var5', 'y_target', 'Third', '1036',\n",
      "       '1216', '1217', '1352', '1704', '1729', '2517', '2662', '23384', '2100',\n",
      "       '2.0', '3.0', '4.0', '5.0', '6.0', '7.0', '8.0', '9.0', '10.0', '11.0',\n",
      "       '12.0', '13.0', '14.0', '9999.0', 'Column 9999', 'Column 23384',\n",
      "       '0 to 5 Var5', '6 to 11 Var5', '12 to 17 Var5', '18 to 23 Var5',\n",
      "       '24 to 29 Var5', '30 to 35 Var5', '0 to 9 Var1', '10 to 19 Var1',\n",
      "       '20 to 39 Var1', '40 to 59 Var1', '60 to 79 Var1', '80 to 99 Var1',\n",
      "       '100 to 119 Var1', '120 to 139 Var1', '140 to 159 Var1'],\n",
      "      dtype='object')\n"
     ]
    }
   ],
   "source": [
    "df2_['0 to 9 Var1'] =  df2_['Var1'].apply( lambda x: 1 if x <9 and x>= 0 else 0)\n",
    "df2_['10 to 19 Var1'] =  df2_['Var1'].apply( lambda x: 1 if x <19 and x>= 10 else 0)\n",
    "df2_['20 to 39 Var1'] =  df2_['Var1'].apply( lambda x: 1 if x <39 and x>= 20 else 0)\n",
    "df2_['40 to 59 Var1'] =  df2_['Var1'].apply( lambda x: 1 if x <59 and x>= 40 else 0)\n",
    "df2_['60 to 79 Var1'] =  df2_['Var1'].apply( lambda x: 1 if x <79 and x>=60 else 0)\n",
    "df2_['80 to 99 Var1'] =  df2_['Var1'].apply( lambda x: 1 if x <99 and x>=80 else 0)\n",
    "df2_['100 to 119 Var1'] =  df2_['Var1'].apply( lambda x: 1 if x <119 and x>=100 else 0)\n",
    "df2_['120 to 139 Var1'] =  df2_['Var1'].apply( lambda x: 1 if x <139 and x>= 120 else 0)\n",
    "df2_['140 to 159 Var1'] =  df2_['Var1'].apply( lambda x: 1 if x <159 and x>= 140 else 0)\n",
    "print(df2_.columns)\n",
    "df2_['160 to 179 Var1'] =  df2_['Var1'].apply( lambda x: 1 if x <179 and x>= 160 else 0)\n",
    "df2_['180 to 199 Var1'] =  df2_['Var1'].apply( lambda x: 1 if x <199 and x>=180 else 0)\n",
    "df2_['200 to 219 Var1'] =  df2_['Var1'].apply( lambda x: 1 if x <219 and x>=200 else 0)\n",
    "df2_['220 to 239 Var1'] =  df2_['Var1'].apply( lambda x: 1 if x <239 and x>=220 else 0)\n",
    "df2_['240 to 259 Var1'] =  df2_['Var1'].apply( lambda x: 1 if x <259 and x>= 240 else 0)\n",
    "df2_['260 to 279 Var1'] =  df2_['Var1'].apply( lambda x: 1 if x <279 and x>=260else 0)\n",
    "df2_['280 to 299 Var1'] =  df2_['Var1'].apply( lambda x: 1 if x <299 and x>= 280 else 0)\n"
   ]
  },
  {
   "cell_type": "code",
   "execution_count": null,
   "metadata": {},
   "outputs": [],
   "source": []
  },
  {
   "cell_type": "code",
   "execution_count": null,
   "metadata": {},
   "outputs": [],
   "source": []
  },
  {
   "cell_type": "code",
   "execution_count": null,
   "metadata": {},
   "outputs": [],
   "source": []
  },
  {
   "cell_type": "code",
   "execution_count": null,
   "metadata": {},
   "outputs": [],
   "source": []
  },
  {
   "cell_type": "code",
   "execution_count": null,
   "metadata": {},
   "outputs": [],
   "source": []
  },
  {
   "cell_type": "code",
   "execution_count": null,
   "metadata": {},
   "outputs": [],
   "source": []
  },
  {
   "cell_type": "code",
   "execution_count": null,
   "metadata": {},
   "outputs": [],
   "source": []
  },
  {
   "cell_type": "code",
   "execution_count": 17,
   "metadata": {},
   "outputs": [
    {
     "data": {
      "text/plain": [
       "Index(['Var1', 'Var2', 'Var3', 'Var4', 'Var5', 'y_target', 'Third', '1036',\n",
       "       '1216', '1217', '1352', '1704', '1729', '2517', '2662', '23384', '2100',\n",
       "       '2.0', '3.0', '4.0', '5.0', '6.0', '7.0', '8.0', '9.0', '10.0', '11.0',\n",
       "       '12.0', '13.0', '14.0', '9999.0', 'Column 9999', 'Column 23384',\n",
       "       '0 to 5 Var5', '6 to 11 Var5', '12 to 17 Var5', '18 to 23 Var5',\n",
       "       '24 to 29 Var5', '30 to 35 Var5', '0 to 9 Var1', '10 to 19 Var1',\n",
       "       '20 to 39 Var1', '40 to 59 Var1', '60 to 79 Var1', '80 to 99 Var1',\n",
       "       '100 to 119 Var1', '120 to 139 Var1', '140 to 159 Var1',\n",
       "       '160 to 179 Var1', '180 to 199 Var1', '200 to 219 Var1',\n",
       "       '220 to 239 Var1', '240 to 259 Var1', '260 to 279 Var1',\n",
       "       '280 to 299 Var1'],\n",
       "      dtype='object')"
      ]
     },
     "execution_count": 17,
     "metadata": {},
     "output_type": "execute_result"
    }
   ],
   "source": [
    "df2_.columns"
   ]
  },
  {
   "cell_type": "code",
   "execution_count": 18,
   "metadata": {},
   "outputs": [
    {
     "ename": "IndentationError",
     "evalue": "unexpected indent (<ipython-input-18-f5c32f38a999>, line 2)",
     "output_type": "error",
     "traceback": [
      "\u001b[0;36m  File \u001b[0;32m\"<ipython-input-18-f5c32f38a999>\"\u001b[0;36m, line \u001b[0;32m2\u001b[0m\n\u001b[0;31m    '1216', '1217', '1352', '1704', '1729', '2517', '2662',\u001b[0m\n\u001b[0m    ^\u001b[0m\n\u001b[0;31mIndentationError\u001b[0m\u001b[0;31m:\u001b[0m unexpected indent\n"
     ]
    }
   ],
   "source": [
    "# '1036',\n",
    "       '1216', '1217', '1352', '1704', '1729', '2517', '2662',\n",
    "       '2.0', '3.0', '4.0', '5.0', '6.0', '7.0', '8.0', '9.0', '10.0', '11.0',\n",
    "       '12.0', '13.0', '14.0', '6 to 11 Var5', '12 to 17 Var5', '18 to 23 Var5'"
   ]
  },
  {
   "cell_type": "code",
   "execution_count": 22,
   "metadata": {},
   "outputs": [
    {
     "name": "stdout",
     "output_type": "stream",
     "text": [
      "[('0 to 9 Var1', (5018, 2655)), ('0 to 5 Var5', (3449, 1891)), ('6 to 11 Var5', (163, 139)), ('12 to 17 Var5', (34, 29)), ('18 to 23 Var5', (4, 18)), ('24 to 29 Var5', (0, 5))]\n"
     ]
    }
   ],
   "source": [
    "#  '24 to 29 Var5', '30 to 35 Var5', \n",
    "lst=[ '0 to 9 Var1','0 to 5 Var5', '6 to 11 Var5', '12 to 17 Var5', '18 to 23 Var5',\n",
    "       '24 to 29 Var5']\n",
    "    #need number of y_target = 1 , y_target = 0 , count = sum(1)\n",
    "def dfgh():\n",
    "    nums = []\n",
    "    for i in lst:\n",
    "        get_0 = df2_.loc[(df2_['y_target'] == 0) & (df2_[i] == 1 ) ] \n",
    "        get_1 = df2_.loc[ (df2_['y_target'] == 1) & (df2_[i] == 1 ) ] \n",
    "        ap = (i,( len(get_0), len(get_1)) )\n",
    "        nums.append(ap)\n",
    "    return nums\n",
    "shows = dfgh() \n",
    "print(shows)"
   ]
  },
  {
   "cell_type": "code",
   "execution_count": 23,
   "metadata": {},
   "outputs": [
    {
     "name": "stdout",
     "output_type": "stream",
     "text": [
      "6\n"
     ]
    }
   ],
   "source": [
    "bars1 = [x[1][1] for x in shows ]  #counts of y_not == 1 for each grouping \n",
    "bars2 = [x[1][0] for x in shows ] \n",
    " \n",
    "print(len(bars1))"
   ]
  },
  {
   "cell_type": "code",
   "execution_count": 24,
   "metadata": {},
   "outputs": [
    {
     "data": {
      "image/png": "[encoded data removed]",
      "text/plain": [
       "<Figure size 1200x800 with 1 Axes>"
      ]
     },
     "metadata": {
      "needs_background": "light"
     },
     "output_type": "display_data"
    }
   ],
   "source": [
    "# for each time column make additional columns for below \n",
    "\n",
    "from matplotlib import rc\n",
    "import pandas as pd\n",
    " \n",
    "# y-axis in bold\n",
    "rc('font', weight='bold')\n",
    " \n",
    "# Values of each group\n",
    "bars1 = [x[1][1] for x in shows ]  #counts of y_not == 1 for each grouping \n",
    "bars2 = [x[1][0] for x in shows ] #counts of y_not == 0 for each grouping \n",
    " \n",
    "# Heights of bars1 + bars2\n",
    "bars = np.add(bars1, bars2).tolist()\n",
    "#,14,15,16,17,18,19,20,21,22,23,24,25,26,27,28,29,30,31,32,33,34,35,36,37,38,39,40\n",
    "# The position of the bars on the x-axis\n",
    "r = [1,2,3,4,5,6]  #len(number of grouppings)\n",
    " \n",
    "# Names of group and bar width\n",
    "names = [x[0] for x in shows] # The names for each group \n",
    "barWidth = 1\n",
    " \n",
    "# Create brown bars\n",
    "plt.bar(r, bars1, color= '#dd6101', edgecolor='white', width=barWidth)\n",
    "# Create green bars (middle), on top of the firs ones\n",
    "plt.bar(r, bars2, bottom=bars1, color='#557f2d', edgecolor='white', width=barWidth)\n",
    " \n",
    "# Custom X axis\n",
    "plt.title(label = 'Freq Dist of Attends')\n",
    "plt.xticks(r, names, fontweight='bold')\n",
    "plt.xlabel(\"Feature\")\n",
    "plt.xticks(rotation=85) \n",
    "# Show graphic\n",
    "plt.show()"
   ]
  },
  {
   "cell_type": "code",
   "execution_count": null,
   "metadata": {},
   "outputs": [],
   "source": [
    "# could do column 9999 column 22384 and two others in one plot . ANother set of o/1 plots for the range Var 1 \n",
    "# maybe just put the biggest cols with 9999 and 22384,  ie 0 to 5 , 0 to 19, 0 to 19 Var1"
   ]
  },
  {
   "cell_type": "code",
   "execution_count": null,
   "metadata": {},
   "outputs": [],
   "source": [
    "As the number of days "
   ]
  }
 ],
 "metadata": {
  "kernelspec": {
   "display_name": "Python 3",
   "language": "python",
   "name": "python3"
  },
  "language_info": {
   "codemirror_mode": {
    "name": "ipython",
    "version": 3
   },
   "file_extension": ".py",
   "mimetype": "text/x-python",
   "name": "python",
   "nbconvert_exporter": "python",
   "pygments_lexer": "ipython3",
   "version": "3.8.2"
  }
 },
 "nbformat": 4,
 "nbformat_minor": 4
}
