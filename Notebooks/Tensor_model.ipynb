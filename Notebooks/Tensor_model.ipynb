{
 "cells": [
  {
   "cell_type": "code",
   "execution_count": 1,
   "metadata": {},
   "outputs": [],
   "source": [
    "import tensorflow\n",
    "from tensorflow.keras.models import Sequential\n",
    "from tensorflow.keras.layers import Dense\n",
    "import numpy as np\n",
    "import pandas as pd \n",
    "pd.set_option('display.max_columns', None) \n",
    "import matplotlib.pyplot as plt \n",
    "%matplotlib inline\n",
    "plt.rcParams['figure.dpi'] = 200"
   ]
  },
  {
   "cell_type": "code",
   "execution_count": 10,
   "metadata": {},
   "outputs": [],
   "source": [
    "dataset = np.genfromtxt('/home/allen/Galva/capstones/capstone2/data/hot_drop_21.csv',delimiter=',' ,skip_header=True)"
   ]
  },
  {
   "cell_type": "code",
   "execution_count": 15,
   "metadata": {},
   "outputs": [],
   "source": [
    "df = pd.read_csv('/home/allen/Galva/capstones/capstone2/data/hot_drop_21.csv') \n",
    "df = df.drop(['Unnamed: 0', 'Health_Camp_ID'], axis=1 )"
   ]
  },
  {
   "cell_type": "code",
   "execution_count": 16,
   "metadata": {},
   "outputs": [
    {
     "data": {
      "text/plain": [
       "Index(['Var1', 'Var2', 'Var3', 'Var4', 'Var5', 'y_target',\n",
       "       'Camp Start Date - Registration Date',\n",
       "       'Registration Date - First Interaction',\n",
       "       'Camp Start Date - First Interaction',\n",
       "       'Camp End Date - Registration Date', 'Camp Length', '1036', '1216',\n",
       "       '1217', '1352', '1704', '1729', '2517', '2662', '23384', 'Second',\n",
       "       'Third', 'C', 'D', 'E', 'F', 'G', '2100', 'BFSI', 'Broadcasting',\n",
       "       'Consulting', 'Education', 'Food', 'Health', 'Manufacturing', 'Others',\n",
       "       'Real Estate', 'Retail', 'Software Industry', 'Technology', 'Telecom',\n",
       "       '1', '2', '3', '4'],\n",
       "      dtype='object')"
      ]
     },
     "execution_count": 16,
     "metadata": {},
     "output_type": "execute_result"
    }
   ],
   "source": [
    "df.columns"
   ]
  },
  {
   "cell_type": "code",
   "execution_count": null,
   "metadata": {},
   "outputs": [],
   "source": []
  },
  {
   "cell_type": "code",
   "execution_count": null,
   "metadata": {},
   "outputs": [],
   "source": []
  },
  {
   "cell_type": "code",
   "execution_count": 8,
   "metadata": {},
   "outputs": [],
   "source": [
    "gpus = tensorflow.config.experimental.list_physical_devices('GPU')\n",
    "if gpus:\n",
    "    try: \n",
    "        for gpu in gpus:\n",
    "            tensorflow.config.experimental.set_memory_growth(gpu, True)\n",
    "    except RuntimeError as e:\n",
    "        print(e, 'BTW ***********************************************')"
   ]
  },
  {
   "cell_type": "code",
   "execution_count": 25,
   "metadata": {},
   "outputs": [
    {
     "name": "stdout",
     "output_type": "stream",
     "text": [
      "(75278, 46)\n"
     ]
    }
   ],
   "source": [
    "nod =['F', 'G', '2100', '2.0', '3.0', '4.0', '5.0', '6.0', '7.0', '8.0']\n",
    "selector = [x for x in range(dataset.shape[1]) if x !=6]\n",
    "selector2 = [x for x in range(dataset.shape[1]) if x ==6]\n",
    "\n",
    "X = dataset[:,selector]\n",
    "Y = dataset[:,selector2]\n",
    "print(X.shape)"
   ]
  },
  {
   "cell_type": "code",
   "execution_count": 33,
   "metadata": {},
   "outputs": [
    {
     "data": {
      "text/plain": [
       "[0,\n",
       " 1,\n",
       " 2,\n",
       " 3,\n",
       " 4,\n",
       " 5,\n",
       " 7,\n",
       " 8,\n",
       " 9,\n",
       " 10,\n",
       " 11,\n",
       " 12,\n",
       " 13,\n",
       " 14,\n",
       " 15,\n",
       " 16,\n",
       " 17,\n",
       " 18,\n",
       " 19,\n",
       " 20,\n",
       " 21,\n",
       " 22,\n",
       " 23,\n",
       " 24,\n",
       " 25,\n",
       " 26,\n",
       " 27,\n",
       " 28,\n",
       " 29,\n",
       " 30,\n",
       " 31,\n",
       " 32,\n",
       " 33,\n",
       " 34,\n",
       " 35,\n",
       " 36,\n",
       " 37,\n",
       " 38,\n",
       " 39,\n",
       " 40,\n",
       " 41,\n",
       " 42,\n",
       " 43,\n",
       " 44,\n",
       " 45,\n",
       " 46]"
      ]
     },
     "execution_count": 33,
     "metadata": {},
     "output_type": "execute_result"
    }
   ],
   "source": [
    "selector\n"
   ]
  },
  {
   "cell_type": "code",
   "execution_count": 26,
   "metadata": {},
   "outputs": [],
   "source": [
    "model = Sequential()\n",
    "model.add(Dense(1,input_dim = 46, activation='sigmoid'))"
   ]
  },
  {
   "cell_type": "code",
   "execution_count": 27,
   "metadata": {},
   "outputs": [],
   "source": [
    "model.compile(loss = 'binary_crossentropy',optimizer = 'rmsprop', metrics=['accuracy'])"
   ]
  },
  {
   "cell_type": "code",
   "execution_count": 47,
   "metadata": {},
   "outputs": [
    {
     "name": "stdout",
     "output_type": "stream",
     "text": [
      "Epoch 1/20\n",
      "2353/2353 [==============================] - 3s 1ms/step - loss: -114.9050 - accuracy: 0.0000e+00\n",
      "Epoch 2/20\n",
      "2353/2353 [==============================] - 3s 1ms/step - loss: -439.8349 - accuracy: 0.0000e+00\n",
      "Epoch 3/20\n",
      "2353/2353 [==============================] - 3s 1ms/step - loss: -902.4988 - accuracy: 0.0000e+00\n",
      "Epoch 4/20\n",
      "2353/2353 [==============================] - 3s 1ms/step - loss: -1486.0989 - accuracy: 0.0000e+00\n",
      "Epoch 5/20\n",
      "2353/2353 [==============================] - 3s 1ms/step - loss: -2206.3289 - accuracy: 0.0000e+00\n",
      "Epoch 6/20\n",
      "2353/2353 [==============================] - 3s 1ms/step - loss: -3021.5916 - accuracy: 0.0000e+00\n",
      "Epoch 7/20\n",
      "2353/2353 [==============================] - 3s 1ms/step - loss: -4021.9104 - accuracy: 0.0000e+00\n",
      "Epoch 8/20\n",
      "2353/2353 [==============================] - 3s 1ms/step - loss: -5104.3384 - accuracy: 0.0000e+00\n",
      "Epoch 9/20\n",
      "2353/2353 [==============================] - 3s 1ms/step - loss: -6367.0903 - accuracy: 0.0000e+00\n",
      "Epoch 10/20\n",
      "2353/2353 [==============================] - 3s 1ms/step - loss: -7639.8652 - accuracy: 0.0000e+00\n",
      "Epoch 11/20\n",
      "2353/2353 [==============================] - 3s 1ms/step - loss: -9118.5186 - accuracy: 0.0000e+00\n",
      "Epoch 12/20\n",
      "2353/2353 [==============================] - 3s 1ms/step - loss: -10695.2783 - accuracy: 0.0000e+00\n",
      "Epoch 13/20\n",
      "2353/2353 [==============================] - 3s 1ms/step - loss: -12300.0840 - accuracy: 0.0000e+00\n",
      "Epoch 14/20\n",
      "2353/2353 [==============================] - 3s 1ms/step - loss: -14261.3779 - accuracy: 0.0000e+00\n",
      "Epoch 15/20\n",
      "2353/2353 [==============================] - 3s 1ms/step - loss: -16215.3252 - accuracy: 0.0000e+00\n",
      "Epoch 16/20\n",
      "2353/2353 [==============================] - 3s 1ms/step - loss: -18222.0020 - accuracy: 0.0000e+00\n",
      "Epoch 17/20\n",
      "2353/2353 [==============================] - 3s 1ms/step - loss: -20473.9102 - accuracy: 0.0000e+00\n",
      "Epoch 18/20\n",
      "2353/2353 [==============================] - 3s 1ms/step - loss: -22758.8828 - accuracy: 0.0000e+00\n",
      "Epoch 19/20\n",
      "2353/2353 [==============================] - 3s 1ms/step - loss: -25187.9062 - accuracy: 0.0000e+00\n",
      "Epoch 20/20\n",
      "2353/2353 [==============================] - 3s 1ms/step - loss: -27790.2031 - accuracy: 0.0000e+00\n"
     ]
    },
    {
     "data": {
      "text/plain": [
       "<tensorflow.python.keras.callbacks.History at 0x7f92c539eb50>"
      ]
     },
     "execution_count": 47,
     "metadata": {},
     "output_type": "execute_result"
    }
   ],
   "source": [
    "model.fit(x=X,y=Y, epochs=20, verbose=1)"
   ]
  },
  {
   "cell_type": "code",
   "execution_count": 48,
   "metadata": {},
   "outputs": [
    {
     "name": "stdout",
     "output_type": "stream",
     "text": [
      "[[ 1.44292798]\n",
      " [-0.20461305]\n",
      " [ 1.44292798]\n",
      " [-0.20461305]\n",
      " [-0.20461305]\n",
      " [-0.20461305]\n",
      " [ 1.44292798]\n",
      " [-0.20461305]\n",
      " [-0.20461305]\n",
      " [-0.20461305]]\n"
     ]
    }
   ],
   "source": [
    "ahman = Y[:10]\n",
    "print(ahman)"
   ]
  },
  {
   "cell_type": "code",
   "execution_count": 49,
   "metadata": {},
   "outputs": [
    {
     "name": "stdout",
     "output_type": "stream",
     "text": [
      "[[1. 0. 1. 0. 0. 0. 1. 0. 0. 0.]]\n"
     ]
    }
   ],
   "source": [
    "predictions2 = model.predict(X)\n",
    "aham2 = predictions2[:10].T\n",
    "print(aham2)"
   ]
  },
  {
   "cell_type": "code",
   "execution_count": 24,
   "metadata": {},
   "outputs": [],
   "source": [
    "l1 = list(zip(ahman,aham2))"
   ]
  },
  {
   "cell_type": "code",
   "execution_count": 25,
   "metadata": {},
   "outputs": [
    {
     "name": "stdout",
     "output_type": "stream",
     "text": [
      "[(array([1.]), array([0.6268141 , 0.0584547 , 0.15777604, 0.06365197, 0.06494627,\n",
      "       0.05760565, 0.08386043, 0.55422604, 0.06647481, 0.05686584],\n",
      "      dtype=float32))]\n"
     ]
    }
   ],
   "source": [
    "print(l1)"
   ]
  },
  {
   "cell_type": "markdown",
   "metadata": {},
   "source": [
    "# Next Model "
   ]
  },
  {
   "cell_type": "code",
   "execution_count": 34,
   "metadata": {},
   "outputs": [],
   "source": [
    "import numpy as np\n",
    "import pandas as pd\n",
    "dataset = pd.read_csv('/home/allen/Galva/capstones/capstone2/data/hot_drop_21.csv') "
   ]
  },
  {
   "cell_type": "code",
   "execution_count": 35,
   "metadata": {},
   "outputs": [
    {
     "data": {
      "text/plain": [
       "Index(['Unnamed: 0', 'Health_Camp_ID', 'Var1', 'Var2', 'Var3', 'Var4', 'Var5',\n",
       "       'y_target', 'Camp Start Date - Registration Date',\n",
       "       'Registration Date - First Interaction',\n",
       "       'Camp Start Date - First Interaction',\n",
       "       'Camp End Date - Registration Date', 'Camp Length', '1036', '1216',\n",
       "       '1217', '1352', '1704', '1729', '2517', '2662', '23384', 'Second',\n",
       "       'Third', 'C', 'D', 'E', 'F', 'G', '2100', 'BFSI', 'Broadcasting',\n",
       "       'Consulting', 'Education', 'Food', 'Health', 'Manufacturing', 'Others',\n",
       "       'Real Estate', 'Retail', 'Software Industry', 'Technology', 'Telecom',\n",
       "       '1', '2', '3', '4'],\n",
       "      dtype='object')"
      ]
     },
     "execution_count": 35,
     "metadata": {},
     "output_type": "execute_result"
    }
   ],
   "source": [
    "dataset.columns"
   ]
  },
  {
   "cell_type": "code",
   "execution_count": 36,
   "metadata": {},
   "outputs": [],
   "source": [
    "colz=[ 'Unnamed: 0', 'Health_Camp_ID'] \n",
    "dataset2 = dataset.drop(colz, axis=1)"
   ]
  },
  {
   "cell_type": "code",
   "execution_count": 37,
   "metadata": {},
   "outputs": [],
   "source": [
    "from sklearn.model_selection import train_test_split "
   ]
  },
  {
   "cell_type": "code",
   "execution_count": 38,
   "metadata": {},
   "outputs": [],
   "source": [
    "y = dataset2.pop('y_target')\n",
    "X = dataset2 \n",
    "X_train, X_test, y_train, y_test = train_test_split(X, y, test_size=0.3, random_state= 42)"
   ]
  },
  {
   "cell_type": "code",
   "execution_count": 50,
   "metadata": {},
   "outputs": [],
   "source": [
    "from tensorflow import keras\n",
    "from tensorflow.keras import layers\n",
    "def build_model(train_data, metrics=[\"accuracy\"]):\n",
    "\n",
    "    model = keras.Sequential([\n",
    "\n",
    "        keras.layers.Dense(\n",
    "        units=46,\n",
    "        activation='relu',\n",
    "        input_shape=(train_data.shape[-1],)\n",
    "        ),\n",
    "\n",
    "        keras.layers.BatchNormalization(),\n",
    "        keras.layers.Dropout(0.25),\n",
    "        keras.layers.Dense(units=1, activation='sigmoid'),\n",
    "\n",
    "    ])\n",
    "\n",
    "    model.compile(\n",
    "        optimizer=keras.optimizers.Adam(lr=0.01),\n",
    "        loss=keras.losses.BinaryCrossentropy(),\n",
    "        metrics=metrics\n",
    "\n",
    "    )\n",
    "\n",
    "    return model"
   ]
  },
  {
   "cell_type": "code",
   "execution_count": null,
   "metadata": {},
   "outputs": [],
   "source": []
  },
  {
   "cell_type": "code",
   "execution_count": 51,
   "metadata": {},
   "outputs": [],
   "source": [
    "BATCH_SIZE = 2048\n",
    "\n",
    "model = build_model(X_train)\n",
    "\n",
    "history = model.fit(\n",
    "    X_train,\n",
    "    y_train,\n",
    "    batch_size=BATCH_SIZE,\n",
    "    epochs=80,\n",
    "    validation_split=0.3,\n",
    "    shuffle=True,\n",
    "    verbose=0)"
   ]
  },
  {
   "cell_type": "code",
   "execution_count": 52,
   "metadata": {},
   "outputs": [
    {
     "name": "stdout",
     "output_type": "stream",
     "text": [
      "12/12 [==============================] - 0s 983us/step - loss: 0.4454 - accuracy: 0.7988\n"
     ]
    },
    {
     "data": {
      "text/plain": [
       "[0.4453785717487335, 0.7987955808639526]"
      ]
     },
     "execution_count": 52,
     "metadata": {},
     "output_type": "execute_result"
    }
   ],
   "source": [
    "model.evaluate(X_test, y_test, batch_size=BATCH_SIZE)"
   ]
  },
  {
   "cell_type": "code",
   "execution_count": 53,
   "metadata": {},
   "outputs": [],
   "source": [
    "def awesome_model_predict(features):\n",
    "\n",
    "    return np.full((features.shape[0], ), 0)\n",
    "\n",
    "y_pred = awesome_model_predict(X_test)"
   ]
  },
  {
   "cell_type": "code",
   "execution_count": 54,
   "metadata": {},
   "outputs": [
    {
     "name": "stdout",
     "output_type": "stream",
     "text": [
      "22584\n"
     ]
    }
   ],
   "source": [
    "from sklearn.metrics import accuracy_score\n",
    "\n",
    "accuracy_score(y_pred, y_test)\n",
    "print(len(y_test))"
   ]
  },
  {
   "cell_type": "code",
   "execution_count": 55,
   "metadata": {},
   "outputs": [],
   "source": [
    "METRICS = [\n",
    "      keras.metrics.TruePositives(name='tp'),\n",
    "      keras.metrics.FalsePositives(name='fp'),\n",
    "      keras.metrics.TrueNegatives(name='tn'),\n",
    "      keras.metrics.FalseNegatives(name='fn'),\n",
    "      keras.metrics.BinaryAccuracy(name='accuracy'),\n",
    "      keras.metrics.Precision(name='precision'),\n",
    "      keras.metrics.Recall(name='recall'),\n",
    "      keras.metrics.AUC(name='auc')]"
   ]
  },
  {
   "cell_type": "code",
   "execution_count": 56,
   "metadata": {},
   "outputs": [],
   "source": [
    "var2 =keras.metrics.TruePositives(name='tp')"
   ]
  },
  {
   "cell_type": "code",
   "execution_count": 57,
   "metadata": {},
   "outputs": [
    {
     "name": "stdout",
     "output_type": "stream",
     "text": [
      "<class 'tensorflow.python.keras.metrics.TruePositives'>\n"
     ]
    }
   ],
   "source": [
    "print(type(var2))"
   ]
  },
  {
   "cell_type": "code",
   "execution_count": null,
   "metadata": {},
   "outputs": [],
   "source": []
  }
 ],
 "metadata": {
  "kernelspec": {
   "display_name": "Python 3",
   "language": "python",
   "name": "python3"
  },
  "language_info": {
   "codemirror_mode": {
    "name": "ipython",
    "version": 3
   },
   "file_extension": ".py",
   "mimetype": "text/x-python",
   "name": "python",
   "nbconvert_exporter": "python",
   "pygments_lexer": "ipython3",
   "version": "3.8.5"
  }
 },
 "nbformat": 4,
 "nbformat_minor": 4
}
